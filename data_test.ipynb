{
 "cells": [
  {
   "cell_type": "markdown",
   "metadata": {},
   "source": [
    "# Data Testing For Obj Detection"
   ]
  },
  {
   "cell_type": "code",
   "execution_count": 2,
   "metadata": {
    "collapsed": true
   },
   "outputs": [],
   "source": [
    "# my tool box for pytorch\n",
    "from p3self.matchbox import *\n",
    "from constant import *\n",
    "from utils import *"
   ]
  },
  {
   "cell_type": "code",
   "execution_count": 3,
   "metadata": {},
   "outputs": [
    {
     "name": "stdout",
     "output_type": "stream",
     "text": [
      "    5000\r\n"
     ]
    }
   ],
   "source": [
    "%ls {IMG}|wc -l"
   ]
  },
  {
   "cell_type": "code",
   "execution_count": 4,
   "metadata": {},
   "outputs": [
    {
     "data": {
      "text/plain": [
       "0"
      ]
     },
     "execution_count": 4,
     "metadata": {},
     "output_type": "execute_result"
    }
   ],
   "source": [
    "%matplotlib inline\n",
    "from matplotlib import pyplot as plt\n",
    "import matplotlib.patches as patches\n",
    "import matplotlib.text as text\n",
    "import numpy as np\n",
    "import pandas as pd\n",
    "import json\n",
    "from glob import glob\n",
    "from PIL import Image\n",
    "import os\n",
    "\n",
    "os.system(\"mkdir -p /data/bbsample\")"
   ]
  },
  {
   "cell_type": "code",
   "execution_count": 6,
   "metadata": {},
   "outputs": [],
   "source": [
    "imgdf=pd.DataFrame(jsdict[\"images\"])\n",
    "ann_df=pd.DataFrame(jsdict[\"annotations\"])\n",
    "urls = glob(IMG+\"/*\")\n",
    "rdimg = np.random.choice(urls)\n",
    "def get_id(url):\n",
    "    return int(url.split(\"/\")[-1].split(\".\")[0])"
   ]
  },
  {
   "cell_type": "code",
   "execution_count": 10,
   "metadata": {},
   "outputs": [
    {
     "name": "stdout",
     "output_type": "stream",
     "text": [
      "total data rows 36781\n"
     ]
    },
    {
     "data": {
      "text/html": [
       "<div>\n",
       "<style scoped>\n",
       "    .dataframe tbody tr th:only-of-type {\n",
       "        vertical-align: middle;\n",
       "    }\n",
       "\n",
       "    .dataframe tbody tr th {\n",
       "        vertical-align: top;\n",
       "    }\n",
       "\n",
       "    .dataframe thead th {\n",
       "        text-align: right;\n",
       "    }\n",
       "</style>\n",
       "<table border=\"1\" class=\"dataframe\">\n",
       "  <thead>\n",
       "    <tr style=\"text-align: right;\">\n",
       "      <th></th>\n",
       "      <th>bbox</th>\n",
       "      <th>category_id</th>\n",
       "      <th>image_id</th>\n",
       "      <th>id</th>\n",
       "      <th>file_name</th>\n",
       "      <th>height</th>\n",
       "      <th>width</th>\n",
       "      <th>cate_id_oh</th>\n",
       "    </tr>\n",
       "  </thead>\n",
       "  <tbody>\n",
       "    <tr>\n",
       "      <th>0</th>\n",
       "      <td>[434.0, 38.54, 21.59, 61.31]</td>\n",
       "      <td>44</td>\n",
       "      <td>84241</td>\n",
       "      <td>84241</td>\n",
       "      <td>000000084241.jpg</td>\n",
       "      <td>396</td>\n",
       "      <td>640</td>\n",
       "      <td>39</td>\n",
       "    </tr>\n",
       "    <tr>\n",
       "      <th>1</th>\n",
       "      <td>[253.62, 369.16, 12.12, 35.55]</td>\n",
       "      <td>1</td>\n",
       "      <td>93717</td>\n",
       "      <td>93717</td>\n",
       "      <td>000000093717.jpg</td>\n",
       "      <td>427</td>\n",
       "      <td>640</td>\n",
       "      <td>0</td>\n",
       "    </tr>\n",
       "    <tr>\n",
       "      <th>2</th>\n",
       "      <td>[375.0, 126.69, 122.75, 125.0]</td>\n",
       "      <td>67</td>\n",
       "      <td>435081</td>\n",
       "      <td>435081</td>\n",
       "      <td>000000435081.jpg</td>\n",
       "      <td>500</td>\n",
       "      <td>500</td>\n",
       "      <td>60</td>\n",
       "    </tr>\n",
       "    <tr>\n",
       "      <th>3</th>\n",
       "      <td>[383.88, 147.23, 116.12, 85.56]</td>\n",
       "      <td>63</td>\n",
       "      <td>468501</td>\n",
       "      <td>468501</td>\n",
       "      <td>000000468501.jpg</td>\n",
       "      <td>375</td>\n",
       "      <td>500</td>\n",
       "      <td>57</td>\n",
       "    </tr>\n",
       "    <tr>\n",
       "      <th>4</th>\n",
       "      <td>[259.95, 189.77, 239.19, 143.23]</td>\n",
       "      <td>63</td>\n",
       "      <td>293804</td>\n",
       "      <td>293804</td>\n",
       "      <td>000000293804.jpg</td>\n",
       "      <td>333</td>\n",
       "      <td>500</td>\n",
       "      <td>57</td>\n",
       "    </tr>\n",
       "  </tbody>\n",
       "</table>\n",
       "</div>"
      ],
      "text/plain": [
       "                               bbox  category_id  image_id      id  \\\n",
       "0      [434.0, 38.54, 21.59, 61.31]           44     84241   84241   \n",
       "1    [253.62, 369.16, 12.12, 35.55]            1     93717   93717   \n",
       "2    [375.0, 126.69, 122.75, 125.0]           67    435081  435081   \n",
       "3   [383.88, 147.23, 116.12, 85.56]           63    468501  468501   \n",
       "4  [259.95, 189.77, 239.19, 143.23]           63    293804  293804   \n",
       "\n",
       "          file_name  height  width  cate_id_oh  \n",
       "0  000000084241.jpg     396    640          39  \n",
       "1  000000093717.jpg     427    640           0  \n",
       "2  000000435081.jpg     500    500          60  \n",
       "3  000000468501.jpg     375    500          57  \n",
       "4  000000293804.jpg     333    500          57  "
      ]
     },
     "execution_count": 10,
     "metadata": {},
     "output_type": "execute_result"
    }
   ],
   "source": [
    "def df_data(imgdf,ann_df,shuffle=True):\n",
    "    \"\"\"\n",
    "    imgdf:\n",
    "    A dataframe about images, fields: \"id\",\"file_name\",\"height\",\"width\"\n",
    "    ann_df:\n",
    "    A dataframe about annotation, fields: \"image_id\",\"category_id\",\"bbox\",\n",
    "    The field \"bbox\" is a list of 4 values: x,y,height, width of the bounding box\n",
    "    \"\"\"\n",
    "    data_df=pd.merge(ann_df[[\"bbox\",\"category_id\",\"image_id\"]],\n",
    "                     imgdf[[\"id\",\"file_name\",\"height\",\"width\"]],\n",
    "                     left_on=\"image_id\",right_on=\"id\")\n",
    "    \n",
    "    data_df[\"cate_id_oh\"] = data_df[\"category_id\"].apply(lambda x:idx2id[x])\n",
    "    if shuffle:\n",
    "        data_df = data_df.sample(frac=1).reset_index(drop=True)\n",
    "    print(\"total data rows\",len(data_df))\n",
    "    return data_df\n",
    "\n",
    "data_df = df_data(imgdf,ann_df)\n",
    "data_df.head()"
   ]
  },
  {
   "cell_type": "code",
   "execution_count": 11,
   "metadata": {
    "collapsed": true
   },
   "outputs": [],
   "source": [
    "bbox_array = np.array(data_df.bbox.tolist())\n",
    "wh_array = data_df[[\"width\",\"height\"]].as_matrix()\n",
    "\n",
    "def re_calibrate(bbox_array,wh_array):\n",
    "    \"\"\"return the resized bbox array\"\"\"\n",
    "    bb_resized = (bbox_array/np.concatenate([wh_array,wh_array],axis=-1)) *SIZE\n",
    "    \n",
    "    true_bb = bb_resized/SCALE\n",
    "    # switch xy as left top conner to center point\n",
    "    true_bb[...,:2]=true_bb[...,:2]+true_bb[...,2:]/2\n",
    "    # Labels' Anchor positions on the grid map\n",
    "    grid_bbxy = np.floor(true_bb[...,:2])\n",
    "    return bb_resized,true_bb,grid_bbxy\n",
    "\n",
    "def find_best_anchors(true_bbwh):\n",
    "    iou_score = []\n",
    "    for b in range(BOX):\n",
    "        wh_anc = np.tile(ANC_ARR[b],[true_bbwh.shape[0],1])\n",
    "        true_area = true_bbwh.prod(axis=-1)\n",
    "        anc_area = wh_anc.prod(axis=-1)\n",
    "    \n",
    "        inter_area = np.min([wh_anc,true_bbwh],axis=0).prod(axis=-1)\n",
    "    \n",
    "        union_area = true_area + anc_area - inter_area\n",
    "        iou_score.append(inter_area/union_area)\n",
    "    best_anchor_idx = np.array(iou_score).T.argmax(axis=-1)\n",
    "    return best_anchor_idx\n",
    "\n",
    "bb_resized,true_bb,grid_bbxy = re_calibrate(bbox_array,wh_array)\n",
    "true_bbxy,true_bbwh = true_bb[...,:2],true_bb[...,2:]\n",
    "best_anchor_idx = find_best_anchors(true_bbwh)"
   ]
  },
  {
   "cell_type": "code",
   "execution_count": 32,
   "metadata": {},
   "outputs": [],
   "source": [
    "min_lbl = SCALE * 0.001\n",
    "\n",
    "data_df[\"true_bb_x\"],data_df[\"true_bb_y\"],data_df[\"true_bb_w\"],data_df[\"true_bb_h\"]=true_bb[:,0],true_bb[:,1],true_bb[:,2],true_bb[:,3]\n",
    "data_df[\"true_grid_x\"],data_df[\"true_grid_y\"]=grid_bbxy[:,0],grid_bbxy[:,1]\n",
    "\n",
    "# data_df[\"true_bb_x\"]=data_df[\"true_bb_x\"]-data_df[\"true_grid_x\"]\n",
    "# data_df[\"true_bb_y\"]=data_df[\"true_bb_y\"]-data_df[\"true_grid_y\"]\n",
    "\n",
    "data_df[\"best_anchor\"]=best_anchor_idx\n",
    "data_df_ = data_df[data_df[\"true_bb_w\"]>min_lbl]\n",
    "data_df_ = data_df_[data_df_[\"true_bb_h\"]>min_lbl]\n"
   ]
  },
  {
   "cell_type": "code",
   "execution_count": 34,
   "metadata": {},
   "outputs": [],
   "source": [
    "a=np.random.rand(2,3,4,5)\n",
    "a[0,1,2]=np.ones(5)"
   ]
  },
  {
   "cell_type": "code",
   "execution_count": 27,
   "metadata": {},
   "outputs": [],
   "source": [
    "from torch.utils.data import dataset\n",
    "\n",
    "from constant import *\n",
    "import numpy as np\n",
    "\n",
    "from PIL import Image\n",
    "from torchvision import transforms\n",
    "\n",
    "class Data_Multi(dataset.Dataset):\n",
    "    def __init__(self,data_df,testing=False,*args,**kwargs):\n",
    "        \"\"\"\n",
    "        Object detection data generatorcd \n",
    "        \"\"\"\n",
    "        super(Data_Multi,self).__init__()\n",
    "        \n",
    "        for k,v in kwargs.items():\n",
    "            setattr(self,k,v)\n",
    "        self.data_df = data_df\n",
    "        self.img_ids = list(set(list(data_df[\"image_id\"])))\n",
    "        self.testing=testing\n",
    "        self.anc = np.tile(ANC_ARR[np.newaxis,np.newaxis,:,:],[FEAT_W,FEAT_H,1,1])\n",
    "        \n",
    "    def __len__(self):\n",
    "        return len(self.ids)\n",
    "        \n",
    "    def __getitem__(self,idx):\n",
    "        img=Image.open(self.id2url(self.image_ids[idx])).convert(\"RGB\")\n",
    "\n",
    "        sample = self.transform(img)\n",
    "        \n",
    "        original = self.trans_origin(img)\n",
    "        \n",
    "        img_df = self.data_df[self.data_df.image_id == self.image_ids[idx]].head(50)\n",
    "        \n",
    "        b_xywh = img_df[[\"true_bb_x\",\"true_bb_y\",\"true_bb_w\",\"true_bb_h\"]].as_matrix()\n",
    "        posi = img_df[[\"true_grid_x\",\"true_grid_y\",\"best_anchor\"]].as_matrix()\n",
    "        t_xywh = self.b2t_xy(b_xywh)\n",
    "        t_xywh = self.b2t_wh(t_xywh)\n",
    "        \n",
    "        N = t_xywh.shape[0]\n",
    "        \n",
    "        t_box = np.zeros((N,FEAT_W,FEAT_H,BOX,4))\n",
    "        \n",
    "        for i_lbl in xrange(N):\n",
    "            t_box[i_lbl,posi[i_lbl,0],posi[i_lbl,1],posi[i_lbl,2]] = t_xywh[i_lbl]\n",
    "            \n",
    "        true_lbl,mask,vec_loc,t_xy,t_wh = self.true_label(self.true_adj_expand(self.true_adj[idx]),\n",
    "                                                          self.vec_loc[idx])\n",
    "        if self.testing:\n",
    "            slicing = vec_loc[...,0],vec_loc[...,1],vec_loc[...,2]\n",
    "            print(\"b\",true_lbl[vec_loc[...,0],\n",
    "                               vec_loc[...,1],\n",
    "                               vec_loc[...,2],:5],\n",
    "                  \"\\ttxy\",t_xy[slicing],\"\\ttwh\",t_wh[slicing])\n",
    "        return sample,true_lbl,original,mask,vec_loc,t_xy,t_wh\n",
    "    \n",
    "    def get_id(self,url):\n",
    "        return int(url.split(\"/\")[-1].split(\".\")[0])\n",
    "    \n",
    "    def id2url(self,image_id):\n",
    "        return IMG+self.data_df[self.data_df==image_id][\"filename\"][0]\n",
    "    \n",
    "    def true_label(self,true_adj,vec_loc):\n",
    "        \"\"\"\n",
    "        Create true label for training\n",
    "        \"\"\"\n",
    "        mask = self.mask_from_loca(vec_loc)\n",
    "        true_adj_t = self.b2t_wh(self.b2t_xy(true_adj.copy()))\n",
    "        true_adj *= np.tile(mask[:,:,:,np.newaxis],[1,1,1,true_adj.shape[-1]])\n",
    "        \n",
    "        true_adj_t *= np.tile(mask[:,:,:,np.newaxis],[1,1,1,true_adj_t.shape[-1]])\n",
    "        t_xy,t_wh = true_adj_t[...,:2],true_adj_t[...,2:4]\n",
    "        \n",
    "        return true_adj,mask,vec_loc,t_xy,t_wh\n",
    "    \n",
    "    def b2t_xy(self,x):\n",
    "        x[...,:2] = x[...,:2]-np.floor(x[...,:2])\n",
    "        return x\n",
    "    \n",
    "    def b2t_wh(self,x):\n",
    "        x[...,2:4] = np.clip(x[...,2:4],1e-2,12.999)\n",
    "        x[...,2:4] = x[...,2:4]/self.anc\n",
    "        x[...,2:4] = np.log(x[...,2:4])\n",
    "        return x    \n",
    "    \n",
    "    def true_adj_expand(self,true_adj):\n",
    "        return  np.tile(true_adj[np.newaxis,np.newaxis,np.newaxis,:],[FEAT_W,FEAT_H,BOX,1])\n",
    "    \n",
    "    def mask_from_loca(self,vec_loc):\n",
    "        \"\"\"\n",
    "        return mask tensor [batch_size,grid_w,grid_h,box] according to grid location\n",
    "        \"\"\"\n",
    "        mask=np.eye(BOX)[vec_loc[:,2:]]\n",
    "        mask_w=np.eye(FEAT_W)[vec_loc[:,:1]].reshape(FEAT_H,1,1)\n",
    "        mask_h=np.eye(FEAT_H)[vec_loc[:,1:2]].reshape((1,FEAT_H,1))\n",
    "        \n",
    "        mask = np.tile(mask,[FEAT_W,FEAT_H,1])\n",
    "        mask *= np.tile(mask_w,[1,FEAT_H,BOX])\n",
    "        mask *= np.tile(mask_h,[FEAT_W,1,BOX])\n",
    "        return mask"
   ]
  },
  {
   "cell_type": "code",
   "execution_count": null,
   "metadata": {
    "collapsed": true
   },
   "outputs": [],
   "source": []
  }
 ],
 "metadata": {
  "kernelspec": {
   "display_name": "Python 3",
   "language": "python",
   "name": "python3"
  },
  "language_info": {
   "codemirror_mode": {
    "name": "ipython",
    "version": 3
   },
   "file_extension": ".py",
   "mimetype": "text/x-python",
   "name": "python",
   "nbconvert_exporter": "python",
   "pygments_lexer": "ipython3",
   "version": "3.6.1"
  }
 },
 "nbformat": 4,
 "nbformat_minor": 2
}
