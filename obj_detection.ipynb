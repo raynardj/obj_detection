{
 "cells": [
  {
   "cell_type": "markdown",
   "metadata": {},
   "source": [
    "# Object Detection"
   ]
  },
  {
   "cell_type": "markdown",
   "metadata": {},
   "source": [
    "## First let's look at the dataset\n",
    "\n",
    "## And try to visualize the bounding box"
   ]
  },
  {
   "cell_type": "code",
   "execution_count": 1,
   "metadata": {
    "collapsed": true
   },
   "outputs": [],
   "source": [
    "# my tool box for pytorch\n",
    "from p3self.matchbox import *"
   ]
  },
  {
   "cell_type": "code",
   "execution_count": 2,
   "metadata": {},
   "outputs": [
    {
     "name": "stdout",
     "output_type": "stream",
     "text": [
      "118287\r\n"
     ]
    }
   ],
   "source": [
    "# HOME = \"/Users/zhangxiaochen/\"\n",
    "# DATA = \"/data/coco/\"\n",
    "# IMG = DATA+\"val2017/\"\n",
    "# ANN = DATA+\"annotations/instances_val2017.json\"\n",
    "\n",
    "HOME = \"/home/zhangxiaochen/\"\n",
    "DATA = \"/terminus/coco/\"\n",
    "IMG = DATA+\"train2017/\"\n",
    "ANN = DATA+\"annotations/instances_train2017.json\"\n",
    "\n",
    "\n",
    "\n",
    "%ls {IMG}|wc -l"
   ]
  },
  {
   "cell_type": "code",
   "execution_count": 3,
   "metadata": {},
   "outputs": [
    {
     "data": {
      "text/plain": [
       "0"
      ]
     },
     "execution_count": 3,
     "metadata": {},
     "output_type": "execute_result"
    }
   ],
   "source": [
    "%matplotlib inline\n",
    "from matplotlib import pyplot as plt\n",
    "import matplotlib.patches as patches\n",
    "import matplotlib.text as text\n",
    "import numpy as np\n",
    "import pandas as pd\n",
    "import json\n",
    "from glob import glob\n",
    "from PIL import Image\n",
    "import os\n",
    "\n",
    "os.system(\"mkdir -p /data/bbsample\")"
   ]
  },
  {
   "cell_type": "code",
   "execution_count": 4,
   "metadata": {},
   "outputs": [
    {
     "data": {
      "text/plain": [
       "dict_keys(['info', 'licenses', 'images', 'annotations', 'categories'])"
      ]
     },
     "execution_count": 4,
     "metadata": {},
     "output_type": "execute_result"
    }
   ],
   "source": [
    "jsfile = open(ANN).read()\n",
    "\n",
    "jsdict = json.loads(jsfile)\n",
    "\n",
    "jsdict.keys()"
   ]
  },
  {
   "cell_type": "markdown",
   "metadata": {},
   "source": [
    "#### Image table, with image url , image id, yup , that's all we need now"
   ]
  },
  {
   "cell_type": "code",
   "execution_count": 5,
   "metadata": {},
   "outputs": [
    {
     "data": {
      "text/html": [
       "<div>\n",
       "<style scoped>\n",
       "    .dataframe tbody tr th:only-of-type {\n",
       "        vertical-align: middle;\n",
       "    }\n",
       "\n",
       "    .dataframe tbody tr th {\n",
       "        vertical-align: top;\n",
       "    }\n",
       "\n",
       "    .dataframe thead th {\n",
       "        text-align: right;\n",
       "    }\n",
       "</style>\n",
       "<table border=\"1\" class=\"dataframe\">\n",
       "  <thead>\n",
       "    <tr style=\"text-align: right;\">\n",
       "      <th></th>\n",
       "      <th>coco_url</th>\n",
       "      <th>date_captured</th>\n",
       "      <th>file_name</th>\n",
       "      <th>flickr_url</th>\n",
       "      <th>height</th>\n",
       "      <th>id</th>\n",
       "      <th>license</th>\n",
       "      <th>width</th>\n",
       "    </tr>\n",
       "  </thead>\n",
       "  <tbody>\n",
       "    <tr>\n",
       "      <th>0</th>\n",
       "      <td>http://images.cocodataset.org/train2017/000000...</td>\n",
       "      <td>2013-11-14 11:18:45</td>\n",
       "      <td>000000391895.jpg</td>\n",
       "      <td>http://farm9.staticflickr.com/8186/8119368305_...</td>\n",
       "      <td>360</td>\n",
       "      <td>391895</td>\n",
       "      <td>3</td>\n",
       "      <td>640</td>\n",
       "    </tr>\n",
       "    <tr>\n",
       "      <th>1</th>\n",
       "      <td>http://images.cocodataset.org/train2017/000000...</td>\n",
       "      <td>2013-11-14 11:38:44</td>\n",
       "      <td>000000522418.jpg</td>\n",
       "      <td>http://farm1.staticflickr.com/1/127244861_ab0c...</td>\n",
       "      <td>480</td>\n",
       "      <td>522418</td>\n",
       "      <td>4</td>\n",
       "      <td>640</td>\n",
       "    </tr>\n",
       "    <tr>\n",
       "      <th>2</th>\n",
       "      <td>http://images.cocodataset.org/train2017/000000...</td>\n",
       "      <td>2013-11-14 12:36:29</td>\n",
       "      <td>000000184613.jpg</td>\n",
       "      <td>http://farm3.staticflickr.com/2169/2118578392_...</td>\n",
       "      <td>336</td>\n",
       "      <td>184613</td>\n",
       "      <td>3</td>\n",
       "      <td>500</td>\n",
       "    </tr>\n",
       "    <tr>\n",
       "      <th>3</th>\n",
       "      <td>http://images.cocodataset.org/train2017/000000...</td>\n",
       "      <td>2013-11-14 13:02:53</td>\n",
       "      <td>000000318219.jpg</td>\n",
       "      <td>http://farm5.staticflickr.com/4125/5094763076_...</td>\n",
       "      <td>640</td>\n",
       "      <td>318219</td>\n",
       "      <td>3</td>\n",
       "      <td>556</td>\n",
       "    </tr>\n",
       "    <tr>\n",
       "      <th>4</th>\n",
       "      <td>http://images.cocodataset.org/train2017/000000...</td>\n",
       "      <td>2013-11-14 16:03:19</td>\n",
       "      <td>000000554625.jpg</td>\n",
       "      <td>http://farm5.staticflickr.com/4086/5094162993_...</td>\n",
       "      <td>640</td>\n",
       "      <td>554625</td>\n",
       "      <td>3</td>\n",
       "      <td>426</td>\n",
       "    </tr>\n",
       "  </tbody>\n",
       "</table>\n",
       "</div>"
      ],
      "text/plain": [
       "                                            coco_url        date_captured  \\\n",
       "0  http://images.cocodataset.org/train2017/000000...  2013-11-14 11:18:45   \n",
       "1  http://images.cocodataset.org/train2017/000000...  2013-11-14 11:38:44   \n",
       "2  http://images.cocodataset.org/train2017/000000...  2013-11-14 12:36:29   \n",
       "3  http://images.cocodataset.org/train2017/000000...  2013-11-14 13:02:53   \n",
       "4  http://images.cocodataset.org/train2017/000000...  2013-11-14 16:03:19   \n",
       "\n",
       "          file_name                                         flickr_url  \\\n",
       "0  000000391895.jpg  http://farm9.staticflickr.com/8186/8119368305_...   \n",
       "1  000000522418.jpg  http://farm1.staticflickr.com/1/127244861_ab0c...   \n",
       "2  000000184613.jpg  http://farm3.staticflickr.com/2169/2118578392_...   \n",
       "3  000000318219.jpg  http://farm5.staticflickr.com/4125/5094763076_...   \n",
       "4  000000554625.jpg  http://farm5.staticflickr.com/4086/5094162993_...   \n",
       "\n",
       "   height      id  license  width  \n",
       "0     360  391895        3    640  \n",
       "1     480  522418        4    640  \n",
       "2     336  184613        3    500  \n",
       "3     640  318219        3    556  \n",
       "4     640  554625        3    426  "
      ]
     },
     "execution_count": 5,
     "metadata": {},
     "output_type": "execute_result"
    }
   ],
   "source": [
    "imgdf=pd.DataFrame(jsdict[\"images\"])\n",
    "imgdf.head()"
   ]
  },
  {
   "cell_type": "markdown",
   "metadata": {},
   "source": [
    "#### An annotation table, in this case, we use \"bbox\""
   ]
  },
  {
   "cell_type": "code",
   "execution_count": 6,
   "metadata": {},
   "outputs": [
    {
     "data": {
      "text/html": [
       "<div>\n",
       "<style scoped>\n",
       "    .dataframe tbody tr th:only-of-type {\n",
       "        vertical-align: middle;\n",
       "    }\n",
       "\n",
       "    .dataframe tbody tr th {\n",
       "        vertical-align: top;\n",
       "    }\n",
       "\n",
       "    .dataframe thead th {\n",
       "        text-align: right;\n",
       "    }\n",
       "</style>\n",
       "<table border=\"1\" class=\"dataframe\">\n",
       "  <thead>\n",
       "    <tr style=\"text-align: right;\">\n",
       "      <th></th>\n",
       "      <th>area</th>\n",
       "      <th>bbox</th>\n",
       "      <th>category_id</th>\n",
       "      <th>id</th>\n",
       "      <th>image_id</th>\n",
       "      <th>iscrowd</th>\n",
       "      <th>segmentation</th>\n",
       "    </tr>\n",
       "  </thead>\n",
       "  <tbody>\n",
       "    <tr>\n",
       "      <th>0</th>\n",
       "      <td>2765.14865</td>\n",
       "      <td>[199.84, 200.46, 77.71, 70.88]</td>\n",
       "      <td>58</td>\n",
       "      <td>156</td>\n",
       "      <td>558840</td>\n",
       "      <td>0</td>\n",
       "      <td>[[239.97, 260.24, 222.04, 270.49, 199.84, 253....</td>\n",
       "    </tr>\n",
       "    <tr>\n",
       "      <th>1</th>\n",
       "      <td>1545.42130</td>\n",
       "      <td>[234.22, 317.11, 149.39, 38.55]</td>\n",
       "      <td>58</td>\n",
       "      <td>509</td>\n",
       "      <td>200365</td>\n",
       "      <td>0</td>\n",
       "      <td>[[247.71, 354.7, 253.49, 346.99, 276.63, 337.3...</td>\n",
       "    </tr>\n",
       "    <tr>\n",
       "      <th>2</th>\n",
       "      <td>5607.66135</td>\n",
       "      <td>[239.48, 347.87, 160.0, 57.81]</td>\n",
       "      <td>58</td>\n",
       "      <td>603</td>\n",
       "      <td>200365</td>\n",
       "      <td>0</td>\n",
       "      <td>[[274.58, 405.68, 298.32, 405.68, 302.45, 402....</td>\n",
       "    </tr>\n",
       "    <tr>\n",
       "      <th>3</th>\n",
       "      <td>0.00000</td>\n",
       "      <td>[296.65, 388.33, 1.03, 0.0]</td>\n",
       "      <td>58</td>\n",
       "      <td>918</td>\n",
       "      <td>200365</td>\n",
       "      <td>0</td>\n",
       "      <td>[[296.65, 388.33, 296.65, 388.33, 297.68, 388....</td>\n",
       "    </tr>\n",
       "    <tr>\n",
       "      <th>4</th>\n",
       "      <td>800.41325</td>\n",
       "      <td>[251.87, 333.42, 125.94, 22.71]</td>\n",
       "      <td>58</td>\n",
       "      <td>1072</td>\n",
       "      <td>200365</td>\n",
       "      <td>0</td>\n",
       "      <td>[[251.87, 356.13, 260.13, 343.74, 300.39, 335....</td>\n",
       "    </tr>\n",
       "  </tbody>\n",
       "</table>\n",
       "</div>"
      ],
      "text/plain": [
       "         area                             bbox  category_id    id  image_id  \\\n",
       "0  2765.14865   [199.84, 200.46, 77.71, 70.88]           58   156    558840   \n",
       "1  1545.42130  [234.22, 317.11, 149.39, 38.55]           58   509    200365   \n",
       "2  5607.66135   [239.48, 347.87, 160.0, 57.81]           58   603    200365   \n",
       "3     0.00000      [296.65, 388.33, 1.03, 0.0]           58   918    200365   \n",
       "4   800.41325  [251.87, 333.42, 125.94, 22.71]           58  1072    200365   \n",
       "\n",
       "   iscrowd                                       segmentation  \n",
       "0        0  [[239.97, 260.24, 222.04, 270.49, 199.84, 253....  \n",
       "1        0  [[247.71, 354.7, 253.49, 346.99, 276.63, 337.3...  \n",
       "2        0  [[274.58, 405.68, 298.32, 405.68, 302.45, 402....  \n",
       "3        0  [[296.65, 388.33, 296.65, 388.33, 297.68, 388....  \n",
       "4        0  [[251.87, 356.13, 260.13, 343.74, 300.39, 335....  "
      ]
     },
     "execution_count": 6,
     "metadata": {},
     "output_type": "execute_result"
    }
   ],
   "source": [
    "ann_df=pd.DataFrame(jsdict[\"annotations\"])\n",
    "ann_df.head()"
   ]
  },
  {
   "cell_type": "markdown",
   "metadata": {},
   "source": [
    "#### A category table"
   ]
  },
  {
   "cell_type": "code",
   "execution_count": 7,
   "metadata": {
    "collapsed": true
   },
   "outputs": [],
   "source": [
    "cat_df = pd.DataFrame(jsdict[\"categories\"])\n",
    "idx2name = dict(zip(cat_df[\"id\"],cat_df[\"name\"]))\n",
    "id2idx = dict(enumerate(cat_df[\"id\"]))\n",
    "idx2id = dict((v,k) for k,v in enumerate(cat_df[\"id\"]))"
   ]
  },
  {
   "cell_type": "code",
   "execution_count": 8,
   "metadata": {},
   "outputs": [
    {
     "data": {
      "text/plain": [
       "80"
      ]
     },
     "execution_count": 8,
     "metadata": {},
     "output_type": "execute_result"
    }
   ],
   "source": [
    "len(idx2name)"
   ]
  },
  {
   "cell_type": "code",
   "execution_count": 9,
   "metadata": {
    "collapsed": true
   },
   "outputs": [],
   "source": [
    "urls = glob(IMG+\"/*\")"
   ]
  },
  {
   "cell_type": "code",
   "execution_count": 10,
   "metadata": {},
   "outputs": [
    {
     "data": {
      "text/plain": [
       "['/terminus/coco/train2017/000000184383.jpg',\n",
       " '/terminus/coco/train2017/000000038938.jpg',\n",
       " '/terminus/coco/train2017/000000029019.jpg',\n",
       " '/terminus/coco/train2017/000000256529.jpg',\n",
       " '/terminus/coco/train2017/000000427301.jpg']"
      ]
     },
     "execution_count": 10,
     "metadata": {},
     "output_type": "execute_result"
    }
   ],
   "source": [
    "urls[:5]"
   ]
  },
  {
   "cell_type": "markdown",
   "metadata": {},
   "source": [
    "#### Get the image id from image url"
   ]
  },
  {
   "cell_type": "code",
   "execution_count": 11,
   "metadata": {
    "collapsed": true
   },
   "outputs": [],
   "source": [
    "rdimg = np.random.choice(urls)\n",
    "def get_id(url):\n",
    "    return int(url.split(\"/\")[-1].split(\".\")[0])"
   ]
  },
  {
   "cell_type": "markdown",
   "metadata": {},
   "source": [
    "#### Get the bounding box data from annotation"
   ]
  },
  {
   "cell_type": "code",
   "execution_count": 12,
   "metadata": {
    "collapsed": true
   },
   "outputs": [],
   "source": [
    "def get_bb(rdimg):\n",
    "    match = ann_df[ann_df[\"image_id\"]==get_id(rdimg)][[\"bbox\",\"category_id\"]]\n",
    "    return list(match[\"bbox\"]),list(match[\"category_id\"])"
   ]
  },
  {
   "cell_type": "code",
   "execution_count": 13,
   "metadata": {},
   "outputs": [
    {
     "data": {
      "text/plain": [
       "([[23.6, 201.12, 197.75, 198.88], [164.02, 35.12, 221.23, 360.15]], [70, 1])"
      ]
     },
     "execution_count": 13,
     "metadata": {},
     "output_type": "execute_result"
    }
   ],
   "source": [
    "get_bb(rdimg)"
   ]
  },
  {
   "cell_type": "markdown",
   "metadata": {},
   "source": [
    "#### Picture boxes by loops into the picture"
   ]
  },
  {
   "cell_type": "code",
   "execution_count": 14,
   "metadata": {},
   "outputs": [
    {
     "data": {
      "image/png": "[encoded data removed]",
      "text/plain": [
       "<matplotlib.figure.Figure at 0x7f5b7e30f9e8>"
      ]
     },
     "metadata": {},
     "output_type": "display_data"
    }
   ],
   "source": [
    "fig,ax = plt.subplots(1)\n",
    "ax.imshow(Image.open(rdimg))\n",
    "bbs,cids = get_bb(rdimg)\n",
    "for i in range(len(bbs)):\n",
    "    bb=bbs[i]\n",
    "    # format of the bb: x, y, width, height\n",
    "    rect = patches.Rectangle((bb[0],bb[1]),bb[2],bb[3],linewidth=1,edgecolor='r',facecolor='none')\n",
    "\n",
    "    ax.add_patch(rect)\n",
    "    # format of bb \n",
    "    ax.text(bb[0],bb[1],idx2name[cids[i]],dict({\"color\":\"#ff0000\"}))"
   ]
  },
  {
   "cell_type": "code",
   "execution_count": 15,
   "metadata": {
    "collapsed": true
   },
   "outputs": [],
   "source": [
    "fig.savefig(\"bbtest.png\")"
   ]
  },
  {
   "cell_type": "markdown",
   "metadata": {},
   "source": [
    "## You Only Look Once"
   ]
  },
  {
   "cell_type": "markdown",
   "metadata": {},
   "source": [
    "### Introduction\n",
    "\n",
    "From the paper [You Only Look Once: Unified, Real-Time Object Detection](http://arxiv.org/abs/1506.02640)\n",
    "\n",
    "We divid the image to the grid boxes of size $S*S$\n",
    "\n",
    "In each grid cell, we predict $B$ bounding boxes \n",
    "\n",
    "Each $B$ we have 5 predictions $x, y, w, h$ and confidence, \n",
    "\n",
    "$x,y$ relative to the grid box.$w, h$ relative to the entire picture.\n",
    "\n",
    "Each grid cell, we predict class probability $Pr(Class_{i}|Object)$.\n",
    "\n",
    "Then **class specified** confidence scores, when at test time we shall calculate, are:\n",
    "\n",
    "$Pr(Class_{i}|Object)*Pr(Object)* IOU^{truth}_{pred}=Pr(Class_{i})* IOU^{truth}_{pred}$\n",
    "\n",
    "IOU: **Intersection Over Union**\n",
    "\n",
    "So the prediction are encoded in a tensor of size $S*S*(B*5+C)$"
   ]
  },
  {
   "cell_type": "markdown",
   "metadata": {},
   "source": [
    "### YOLO style with anchor box"
   ]
  },
  {
   "cell_type": "code",
   "execution_count": 16,
   "metadata": {},
   "outputs": [
    {
     "data": {
      "text/plain": [
       "array([[ 10,  13],\n",
       "       [ 16,  30],\n",
       "       [ 33,  23],\n",
       "       [ 30,  61],\n",
       "       [ 62,  45],\n",
       "       [ 59, 119],\n",
       "       [116,  90],\n",
       "       [156, 198],\n",
       "       [373, 326]])"
      ]
     },
     "execution_count": 16,
     "metadata": {},
     "output_type": "execute_result"
    }
   ],
   "source": [
    "anc_cluster = np.array([[10,13],[16,30],[33,23],[30,61],[62,45],[59,119],[116,90],[156,198],[373,326]])\n",
    "anc_cluster"
   ]
  },
  {
   "cell_type": "markdown",
   "metadata": {},
   "source": [
    "#### Get resized bb"
   ]
  },
  {
   "cell_type": "code",
   "execution_count": 17,
   "metadata": {
    "collapsed": true
   },
   "outputs": [],
   "source": [
    "SIZE = 416 # 13 * 32\n",
    "HEIGHT = 416\n",
    "WIDTH = 416\n",
    "FEAT_W = int(416/32)\n",
    "FEAT_H = int(416/32)\n",
    "\n",
    "BOX              = 5\n",
    "ANCHORS          = [0.57273, 0.677385, 1.87446, 2.06253, 3.33843, 5.47434, 7.88282, 3.52778, 9.77052, 9.16828]\n",
    "\n",
    "VEC_LEN = 85\n",
    "\n",
    "anchor = torch.from_numpy(np.array(ANCHORS,dtype=np.float)).view(1,1,1,5,2).type(torch.FloatTensor)\n",
    "\n",
    "ANC_ARR = np.array(ANCHORS).reshape(5,2)"
   ]
  },
  {
   "cell_type": "code",
   "execution_count": 18,
   "metadata": {
    "collapsed": true
   },
   "outputs": [],
   "source": [
    "import torch\n",
    "from torch import nn\n",
    "from torch.autograd import Variable\n",
    "from torch.nn import functional as F"
   ]
  },
  {
   "cell_type": "code",
   "execution_count": 19,
   "metadata": {
    "collapsed": true
   },
   "outputs": [],
   "source": [
    "def p_structure(md):\n",
    "    \"\"\"Print out the model structure\"\"\"\n",
    "    for par in md.parameters():\n",
    "        print(par.size())\n",
    "\n",
    "def p_count(md):\n",
    "    \"\"\"count the parameters in side a pytorch module\"\"\"\n",
    "    allp=0\n",
    "    for p in md.parameters():allp+=np.product(p.data.numpy().shape)\n",
    "    return allp"
   ]
  },
  {
   "cell_type": "markdown",
   "metadata": {},
   "source": [
    "##### Random Try"
   ]
  },
  {
   "cell_type": "code",
   "execution_count": 20,
   "metadata": {
    "collapsed": true
   },
   "outputs": [],
   "source": [
    "cell_y=torch.arange(0,FEAT_W)\n",
    "\n",
    "cell_y=cell_y.repeat(FEAT_H).view(1,FEAT_H,FEAT_W,1,1)\n",
    "\n",
    "cell_x=cell_y.transpose(1,2)\n",
    "#cell_x,cell_y\n",
    "cell_grid=torch.cat([cell_x,cell_y],dim=-1)"
   ]
  },
  {
   "cell_type": "markdown",
   "metadata": {},
   "source": [
    "#### Prepare bb data"
   ]
  },
  {
   "cell_type": "code",
   "execution_count": 21,
   "metadata": {},
   "outputs": [
    {
     "name": "stdout",
     "output_type": "stream",
     "text": [
      "total data rows 860001\n"
     ]
    },
    {
     "data": {
      "text/html": [
       "<div>\n",
       "<style scoped>\n",
       "    .dataframe tbody tr th:only-of-type {\n",
       "        vertical-align: middle;\n",
       "    }\n",
       "\n",
       "    .dataframe tbody tr th {\n",
       "        vertical-align: top;\n",
       "    }\n",
       "\n",
       "    .dataframe thead th {\n",
       "        text-align: right;\n",
       "    }\n",
       "</style>\n",
       "<table border=\"1\" class=\"dataframe\">\n",
       "  <thead>\n",
       "    <tr style=\"text-align: right;\">\n",
       "      <th></th>\n",
       "      <th>bbox</th>\n",
       "      <th>category_id</th>\n",
       "      <th>image_id</th>\n",
       "      <th>id</th>\n",
       "      <th>file_name</th>\n",
       "      <th>height</th>\n",
       "      <th>width</th>\n",
       "      <th>cate_id_oh</th>\n",
       "    </tr>\n",
       "  </thead>\n",
       "  <tbody>\n",
       "    <tr>\n",
       "      <th>0</th>\n",
       "      <td>[529.36, 149.01, 107.01, 32.36]</td>\n",
       "      <td>51</td>\n",
       "      <td>571462</td>\n",
       "      <td>571462</td>\n",
       "      <td>000000571462.jpg</td>\n",
       "      <td>480</td>\n",
       "      <td>640</td>\n",
       "      <td>45</td>\n",
       "    </tr>\n",
       "    <tr>\n",
       "      <th>1</th>\n",
       "      <td>[287.81, 263.13, 11.27, 22.45]</td>\n",
       "      <td>44</td>\n",
       "      <td>322634</td>\n",
       "      <td>322634</td>\n",
       "      <td>000000322634.jpg</td>\n",
       "      <td>480</td>\n",
       "      <td>640</td>\n",
       "      <td>39</td>\n",
       "    </tr>\n",
       "    <tr>\n",
       "      <th>2</th>\n",
       "      <td>[285.95, 39.34, 73.88, 338.72]</td>\n",
       "      <td>25</td>\n",
       "      <td>571498</td>\n",
       "      <td>571498</td>\n",
       "      <td>000000571498.jpg</td>\n",
       "      <td>427</td>\n",
       "      <td>640</td>\n",
       "      <td>23</td>\n",
       "    </tr>\n",
       "    <tr>\n",
       "      <th>3</th>\n",
       "      <td>[454.42, 163.47, 77.01, 102.67]</td>\n",
       "      <td>62</td>\n",
       "      <td>200047</td>\n",
       "      <td>200047</td>\n",
       "      <td>000000200047.jpg</td>\n",
       "      <td>424</td>\n",
       "      <td>640</td>\n",
       "      <td>56</td>\n",
       "    </tr>\n",
       "    <tr>\n",
       "      <th>4</th>\n",
       "      <td>[0.0, 97.75, 499.72, 265.45]</td>\n",
       "      <td>63</td>\n",
       "      <td>99451</td>\n",
       "      <td>99451</td>\n",
       "      <td>000000099451.jpg</td>\n",
       "      <td>375</td>\n",
       "      <td>500</td>\n",
       "      <td>57</td>\n",
       "    </tr>\n",
       "  </tbody>\n",
       "</table>\n",
       "</div>"
      ],
      "text/plain": [
       "                              bbox  category_id  image_id      id  \\\n",
       "0  [529.36, 149.01, 107.01, 32.36]           51    571462  571462   \n",
       "1   [287.81, 263.13, 11.27, 22.45]           44    322634  322634   \n",
       "2   [285.95, 39.34, 73.88, 338.72]           25    571498  571498   \n",
       "3  [454.42, 163.47, 77.01, 102.67]           62    200047  200047   \n",
       "4     [0.0, 97.75, 499.72, 265.45]           63     99451   99451   \n",
       "\n",
       "          file_name  height  width  cate_id_oh  \n",
       "0  000000571462.jpg     480    640          45  \n",
       "1  000000322634.jpg     480    640          39  \n",
       "2  000000571498.jpg     427    640          23  \n",
       "3  000000200047.jpg     424    640          56  \n",
       "4  000000099451.jpg     375    500          57  "
      ]
     },
     "execution_count": 21,
     "metadata": {},
     "output_type": "execute_result"
    }
   ],
   "source": [
    "def df_data(imgdf,ann_df,shuffle=True):\n",
    "    \"\"\"\n",
    "    imgdf:\n",
    "    A dataframe about images, fields: \"id\",\"file_name\",\"height\",\"width\"\n",
    "    ann_df:\n",
    "    A dataframe about annotation, fields: \"image_id\",\"category_id\",\"bbox\",\n",
    "    The field \"bbox\" is a list of 4 values: x,y,height, width of the bounding box\n",
    "    \"\"\"\n",
    "    data_df=pd.merge(ann_df[[\"bbox\",\"category_id\",\"image_id\"]],\n",
    "                     imgdf[[\"id\",\"file_name\",\"height\",\"width\"]],\n",
    "                     left_on=\"image_id\",right_on=\"id\")\n",
    "    \n",
    "    data_df[\"cate_id_oh\"] = data_df[\"category_id\"].apply(lambda x:idx2id[x])\n",
    "    if shuffle:\n",
    "        data_df = data_df.sample(frac=1).reset_index(drop=True)\n",
    "    print(\"total data rows\",len(data_df))\n",
    "    return data_df\n",
    "\n",
    "data_df = df_data(imgdf,ann_df)\n",
    "data_df.head()"
   ]
  },
  {
   "cell_type": "markdown",
   "metadata": {},
   "source": [
    "##### Resize the bounding box"
   ]
  },
  {
   "cell_type": "code",
   "execution_count": 22,
   "metadata": {
    "collapsed": true
   },
   "outputs": [],
   "source": [
    "bbox_array = np.array(data_df.bbox.tolist())\n",
    "wh_array = data_df[[\"width\",\"height\"]].as_matrix()\n",
    "\n",
    "def re_calibrate(bbox_array,wh_array):\n",
    "    \"\"\"return the resized bbox array\"\"\"\n",
    "    bb_resized = (bbox_array/np.concatenate([wh_array,wh_array],axis=-1)) *SIZE\n",
    "    \n",
    "    true_bb = bb_resized/32\n",
    "    # swith xy as left top conner to center point\n",
    "    true_bb[...,:2]=true_bb[...,:2]+true_bb[...,2:]/2\n",
    "    # Labels' Anchor positions on the grid map\n",
    "    grid_bbxy = np.floor(true_bb[...,:2])\n",
    "    return bb_resized,true_bb,grid_bbxy\n",
    "\n",
    "bb_resized,true_bb,grid_bbxy = re_calibrate(bbox_array,wh_array)\n",
    "true_bbxy,true_bbwh = true_bb[...,:2],true_bb[...,2:]"
   ]
  },
  {
   "cell_type": "code",
   "execution_count": 23,
   "metadata": {},
   "outputs": [
    {
     "data": {
      "text/plain": [
       "array([[344.084     , 129.142     ,  69.5565    ,  28.04533333],\n",
       "       [187.0765    , 228.046     ,   7.3255    ,  19.45666667],\n",
       "       [185.8675    ,  38.32655738,  48.022     , 329.99419204],\n",
       "       ...,\n",
       "       [205.2245    , 202.54122066,  91.9425    , 155.86328638],\n",
       "       [  1.248     , 327.18838407,  46.1565    ,  87.8763466 ],\n",
       "       [325.9425    , 144.70370023,  16.8415    ,  23.27456674]])"
      ]
     },
     "execution_count": 23,
     "metadata": {},
     "output_type": "execute_result"
    }
   ],
   "source": [
    "bb_resized"
   ]
  },
  {
   "cell_type": "code",
   "execution_count": 24,
   "metadata": {
    "collapsed": true
   },
   "outputs": [],
   "source": [
    "def find_best_anchors(true_bbwh):\n",
    "    iou_score = []\n",
    "    for b in range(BOX):\n",
    "        wh_anc = np.tile(ANC_ARR[b],[true_bbwh.shape[0],1])\n",
    "        true_area = true_bbwh.prod(axis=-1)\n",
    "        anc_area = wh_anc.prod(axis=-1)\n",
    "    \n",
    "        inter_area = np.min([wh_anc,true_bbwh],axis=0).prod(axis=-1)\n",
    "    \n",
    "        union_area = true_area + anc_area - inter_area\n",
    "        iou_score.append(inter_area/union_area)\n",
    "    best_anchor_idx = np.array(iou_score).T.argmax(axis=-1)\n",
    "    return best_anchor_idx\n",
    "\n",
    "best_anchor_idx = find_best_anchors(true_bbwh)"
   ]
  },
  {
   "cell_type": "markdown",
   "metadata": {},
   "source": [
    "##### Index to onehot"
   ]
  },
  {
   "cell_type": "code",
   "execution_count": 25,
   "metadata": {
    "collapsed": true
   },
   "outputs": [],
   "source": [
    "cate_idx = data_df[\"cate_id_oh\"].as_matrix()\n",
    "\n",
    "cate_oh = np.eye(cate_idx.max()+1)[cate_idx]"
   ]
  },
  {
   "cell_type": "code",
   "execution_count": 26,
   "metadata": {
    "collapsed": true
   },
   "outputs": [],
   "source": [
    "true_vec = np.concatenate([true_bb,np.ones((true_bb.shape[0],1)),cate_oh],axis=-1)"
   ]
  },
  {
   "cell_type": "markdown",
   "metadata": {},
   "source": [
    "#### Reverse adjust funtion to get train labels\n",
    "\n",
    "* adj function\n",
    "\n",
    "$\\large b_{x}=\\sigma(t_{x})+c_{x}$\n",
    "\n",
    "$\\large b_{y}=\\sigma(t_{y})+c_{y}$\n",
    "\n",
    "$\\large b_{w}=p_{w}e^{w}$\n",
    "\n",
    "$\\large b_{h}=p_{h}e^{h}$\n",
    "\n",
    "* reversed\n",
    "\n",
    "$\\large t_{x}=-ln(\\frac{1}{b_{x}-c_{x}}-1)$\n",
    "\n",
    "$\\large t_{y}=-ln(\\frac{1}{b_{y}-c_{y}}-1)$\n",
    "\n",
    "$\\large t_{w}=ln(\\frac{b_{w}}{p_{w}})$\n",
    "\n",
    "$\\large t_{h}=ln(\\frac{b_{h}}{p_{h}})$"
   ]
  },
  {
   "cell_type": "code",
   "execution_count": 27,
   "metadata": {
    "collapsed": true
   },
   "outputs": [],
   "source": [
    "# def b2t(x):\n",
    "#     x[...,:2] = -np.log(x[...,:2]-np.floor(x[...,:2]))/(1-x[...,:2]+np.floor(x[...,:2]))\n",
    "#     return x"
   ]
  },
  {
   "cell_type": "code",
   "execution_count": 28,
   "metadata": {
    "collapsed": true
   },
   "outputs": [],
   "source": [
    "from numpy import inf\n",
    "true_adj = true_vec\n",
    "# true_adj[true_adj == -inf] = 0"
   ]
  },
  {
   "cell_type": "code",
   "execution_count": 29,
   "metadata": {},
   "outputs": [
    {
     "data": {
      "text/plain": [
       "(860001, 85)"
      ]
     },
     "execution_count": 29,
     "metadata": {},
     "output_type": "execute_result"
    }
   ],
   "source": [
    "true_adj.shape"
   ]
  },
  {
   "cell_type": "code",
   "execution_count": 30,
   "metadata": {
    "collapsed": true
   },
   "outputs": [],
   "source": [
    "vec_loc = np.concatenate([grid_bbxy,np.expand_dims(best_anchor_idx,axis=-1)],axis=-1).astype(np.int)"
   ]
  },
  {
   "cell_type": "markdown",
   "metadata": {},
   "source": [
    "#### Feature Extractor"
   ]
  },
  {
   "cell_type": "code",
   "execution_count": 31,
   "metadata": {
    "collapsed": true
   },
   "outputs": [],
   "source": [
    "from collections import OrderedDict\n",
    "from torchvision.models.densenet import  _DenseBlock,_DenseLayer,_Transition\n",
    "\n",
    "class DenseNet(nn.Module):\n",
    "    r\"\"\"Densenet-BC model class, based on\n",
    "    `\"Densely Connected Convolutional Networks\" <https://arxiv.org/pdf/1608.06993.pdf>`_\n",
    "    Args:\n",
    "        growth_rate (int) - how many filters to add each layer (`k` in paper)\n",
    "        block_config (list of 4 ints) - how many layers in each pooling block\n",
    "        num_init_features (int) - the number of filters to learn in the first convolution layer\n",
    "        bn_size (int) - multiplicative factor for number of bottle neck layers\n",
    "          (i.e. bn_size * k features in the bottleneck layer)\n",
    "        drop_rate (float) - dropout rate after each dense layer\n",
    "        num_classes (int) - number of classification classes\n",
    "    \"\"\"\n",
    "    def __init__(self, growth_rate=32, block_config=(6, 12, 24, 16),\n",
    "                 num_init_features=64, bn_size=4, drop_rate=0, num_classes=1000):\n",
    "\n",
    "        super(DenseNet, self).__init__()\n",
    "\n",
    "        # First convolution\n",
    "        self.features = nn.Sequential(OrderedDict([\n",
    "            ('conv0', nn.Conv2d(3, num_init_features, kernel_size=7, stride=2, padding=3, bias=False)),\n",
    "            ('norm0', nn.BatchNorm2d(num_init_features)),\n",
    "            ('relu0', nn.ReLU(inplace=True)),\n",
    "            ('pool0', nn.MaxPool2d(kernel_size=3, stride=2, padding=1)),\n",
    "        ]))\n",
    "\n",
    "        # Each denseblock\n",
    "        num_features = num_init_features\n",
    "        for i, num_layers in enumerate(block_config):\n",
    "            block = _DenseBlock(num_layers=num_layers, num_input_features=num_features,\n",
    "                                bn_size=bn_size, growth_rate=growth_rate, drop_rate=drop_rate)\n",
    "            self.features.add_module('denseblock%d' % (i + 1), block)\n",
    "            num_features = num_features + num_layers * growth_rate\n",
    "            if i != len(block_config) - 1:\n",
    "                trans = _Transition(num_input_features=num_features, num_output_features=num_features // 2)\n",
    "                self.features.add_module('transition%d' % (i + 1), trans)\n",
    "                num_features = num_features // 2\n",
    "\n",
    "        # Final batch norm\n",
    "        self.features.add_module('norm5', nn.BatchNorm2d(num_features))\n",
    "\n",
    "\n",
    "    def forward(self, x):\n",
    "        features = self.features(x)\n",
    "        return features"
   ]
  },
  {
   "cell_type": "code",
   "execution_count": 32,
   "metadata": {
    "collapsed": true
   },
   "outputs": [],
   "source": [
    "DN121 = HOME+\".torch/models/dn121.pkl\"\n",
    "def dn121_conv(pkl_path):\n",
    "    r\"\"\"Densenet-121 model from\n",
    "    `\"Densely Connected Convolutional Networks\" <https://arxiv.org/pdf/1608.06993.pdf>`_\n",
    "    Args:\n",
    "        pretrained (bool): If True, returns a model pre-trained on ImageNet\n",
    "    \"\"\"\n",
    "    model = DenseNet(num_init_features=64, growth_rate=32, block_config=(6, 12, 24, 16),\n",
    "                     )\n",
    "    model.features.load_state_dict(torch.load(pkl_path))\n",
    "    return model"
   ]
  },
  {
   "cell_type": "code",
   "execution_count": 33,
   "metadata": {
    "collapsed": true
   },
   "outputs": [],
   "source": [
    "dn121=dn121_conv(DN121)"
   ]
  },
  {
   "cell_type": "code",
   "execution_count": 34,
   "metadata": {},
   "outputs": [
    {
     "data": {
      "text/plain": [
       "DenseNet(\n",
       "  (features): Sequential(\n",
       "    (conv0): Conv2d(3, 64, kernel_size=(7, 7), stride=(2, 2), padding=(3, 3), bias=False)\n",
       "    (norm0): BatchNorm2d(64, eps=1e-05, momentum=0.1, affine=True)\n",
       "    (relu0): ReLU(inplace)\n",
       "    (pool0): MaxPool2d(kernel_size=(3, 3), stride=(2, 2), padding=(1, 1), dilation=(1, 1), ceil_mode=False)\n",
       "    (denseblock1): _DenseBlock(\n",
       "      (denselayer1): _DenseLayer(\n",
       "        (norm.1): BatchNorm2d(64, eps=1e-05, momentum=0.1, affine=True)\n",
       "        (relu.1): ReLU(inplace)\n",
       "        (conv.1): Conv2d(64, 128, kernel_size=(1, 1), stride=(1, 1), bias=False)\n",
       "        (norm.2): BatchNorm2d(128, eps=1e-05, momentum=0.1, affine=True)\n",
       "        (relu.2): ReLU(inplace)\n",
       "        (conv.2): Conv2d(128, 32, kernel_size=(3, 3), stride=(1, 1), padding=(1, 1), bias=False)\n",
       "      )\n",
       "      (denselayer2): _DenseLayer(\n",
       "        (norm.1): BatchNorm2d(96, eps=1e-05, momentum=0.1, affine=True)\n",
       "        (relu.1): ReLU(inplace)\n",
       "        (conv.1): Conv2d(96, 128, kernel_size=(1, 1), stride=(1, 1), bias=False)\n",
       "        (norm.2): BatchNorm2d(128, eps=1e-05, momentum=0.1, affine=True)\n",
       "        (relu.2): ReLU(inplace)\n",
       "        (conv.2): Conv2d(128, 32, kernel_size=(3, 3), stride=(1, 1), padding=(1, 1), bias=False)\n",
       "      )\n",
       "      (denselayer3): _DenseLayer(\n",
       "        (norm.1): BatchNorm2d(128, eps=1e-05, momentum=0.1, affine=True)\n",
       "        (relu.1): ReLU(inplace)\n",
       "        (conv.1): Conv2d(128, 128, kernel_size=(1, 1), stride=(1, 1), bias=False)\n",
       "        (norm.2): BatchNorm2d(128, eps=1e-05, momentum=0.1, affine=True)\n",
       "        (relu.2): ReLU(inplace)\n",
       "        (conv.2): Conv2d(128, 32, kernel_size=(3, 3), stride=(1, 1), padding=(1, 1), bias=False)\n",
       "      )\n",
       "      (denselayer4): _DenseLayer(\n",
       "        (norm.1): BatchNorm2d(160, eps=1e-05, momentum=0.1, affine=True)\n",
       "        (relu.1): ReLU(inplace)\n",
       "        (conv.1): Conv2d(160, 128, kernel_size=(1, 1), stride=(1, 1), bias=False)\n",
       "        (norm.2): BatchNorm2d(128, eps=1e-05, momentum=0.1, affine=True)\n",
       "        (relu.2): ReLU(inplace)\n",
       "        (conv.2): Conv2d(128, 32, kernel_size=(3, 3), stride=(1, 1), padding=(1, 1), bias=False)\n",
       "      )\n",
       "      (denselayer5): _DenseLayer(\n",
       "        (norm.1): BatchNorm2d(192, eps=1e-05, momentum=0.1, affine=True)\n",
       "        (relu.1): ReLU(inplace)\n",
       "        (conv.1): Conv2d(192, 128, kernel_size=(1, 1), stride=(1, 1), bias=False)\n",
       "        (norm.2): BatchNorm2d(128, eps=1e-05, momentum=0.1, affine=True)\n",
       "        (relu.2): ReLU(inplace)\n",
       "        (conv.2): Conv2d(128, 32, kernel_size=(3, 3), stride=(1, 1), padding=(1, 1), bias=False)\n",
       "      )\n",
       "      (denselayer6): _DenseLayer(\n",
       "        (norm.1): BatchNorm2d(224, eps=1e-05, momentum=0.1, affine=True)\n",
       "        (relu.1): ReLU(inplace)\n",
       "        (conv.1): Conv2d(224, 128, kernel_size=(1, 1), stride=(1, 1), bias=False)\n",
       "        (norm.2): BatchNorm2d(128, eps=1e-05, momentum=0.1, affine=True)\n",
       "        (relu.2): ReLU(inplace)\n",
       "        (conv.2): Conv2d(128, 32, kernel_size=(3, 3), stride=(1, 1), padding=(1, 1), bias=False)\n",
       "      )\n",
       "    )\n",
       "    (transition1): _Transition(\n",
       "      (norm): BatchNorm2d(256, eps=1e-05, momentum=0.1, affine=True)\n",
       "      (relu): ReLU(inplace)\n",
       "      (conv): Conv2d(256, 128, kernel_size=(1, 1), stride=(1, 1), bias=False)\n",
       "      (pool): AvgPool2d(kernel_size=2, stride=2, padding=0, ceil_mode=False, count_include_pad=True)\n",
       "    )\n",
       "    (denseblock2): _DenseBlock(\n",
       "      (denselayer1): _DenseLayer(\n",
       "        (norm.1): BatchNorm2d(128, eps=1e-05, momentum=0.1, affine=True)\n",
       "        (relu.1): ReLU(inplace)\n",
       "        (conv.1): Conv2d(128, 128, kernel_size=(1, 1), stride=(1, 1), bias=False)\n",
       "        (norm.2): BatchNorm2d(128, eps=1e-05, momentum=0.1, affine=True)\n",
       "        (relu.2): ReLU(inplace)\n",
       "        (conv.2): Conv2d(128, 32, kernel_size=(3, 3), stride=(1, 1), padding=(1, 1), bias=False)\n",
       "      )\n",
       "      (denselayer2): _DenseLayer(\n",
       "        (norm.1): BatchNorm2d(160, eps=1e-05, momentum=0.1, affine=True)\n",
       "        (relu.1): ReLU(inplace)\n",
       "        (conv.1): Conv2d(160, 128, kernel_size=(1, 1), stride=(1, 1), bias=False)\n",
       "        (norm.2): BatchNorm2d(128, eps=1e-05, momentum=0.1, affine=True)\n",
       "        (relu.2): ReLU(inplace)\n",
       "        (conv.2): Conv2d(128, 32, kernel_size=(3, 3), stride=(1, 1), padding=(1, 1), bias=False)\n",
       "      )\n",
       "      (denselayer3): _DenseLayer(\n",
       "        (norm.1): BatchNorm2d(192, eps=1e-05, momentum=0.1, affine=True)\n",
       "        (relu.1): ReLU(inplace)\n",
       "        (conv.1): Conv2d(192, 128, kernel_size=(1, 1), stride=(1, 1), bias=False)\n",
       "        (norm.2): BatchNorm2d(128, eps=1e-05, momentum=0.1, affine=True)\n",
       "        (relu.2): ReLU(inplace)\n",
       "        (conv.2): Conv2d(128, 32, kernel_size=(3, 3), stride=(1, 1), padding=(1, 1), bias=False)\n",
       "      )\n",
       "      (denselayer4): _DenseLayer(\n",
       "        (norm.1): BatchNorm2d(224, eps=1e-05, momentum=0.1, affine=True)\n",
       "        (relu.1): ReLU(inplace)\n",
       "        (conv.1): Conv2d(224, 128, kernel_size=(1, 1), stride=(1, 1), bias=False)\n",
       "        (norm.2): BatchNorm2d(128, eps=1e-05, momentum=0.1, affine=True)\n",
       "        (relu.2): ReLU(inplace)\n",
       "        (conv.2): Conv2d(128, 32, kernel_size=(3, 3), stride=(1, 1), padding=(1, 1), bias=False)\n",
       "      )\n",
       "      (denselayer5): _DenseLayer(\n",
       "        (norm.1): BatchNorm2d(256, eps=1e-05, momentum=0.1, affine=True)\n",
       "        (relu.1): ReLU(inplace)\n",
       "        (conv.1): Conv2d(256, 128, kernel_size=(1, 1), stride=(1, 1), bias=False)\n",
       "        (norm.2): BatchNorm2d(128, eps=1e-05, momentum=0.1, affine=True)\n",
       "        (relu.2): ReLU(inplace)\n",
       "        (conv.2): Conv2d(128, 32, kernel_size=(3, 3), stride=(1, 1), padding=(1, 1), bias=False)\n",
       "      )\n",
       "      (denselayer6): _DenseLayer(\n",
       "        (norm.1): BatchNorm2d(288, eps=1e-05, momentum=0.1, affine=True)\n",
       "        (relu.1): ReLU(inplace)\n",
       "        (conv.1): Conv2d(288, 128, kernel_size=(1, 1), stride=(1, 1), bias=False)\n",
       "        (norm.2): BatchNorm2d(128, eps=1e-05, momentum=0.1, affine=True)\n",
       "        (relu.2): ReLU(inplace)\n",
       "        (conv.2): Conv2d(128, 32, kernel_size=(3, 3), stride=(1, 1), padding=(1, 1), bias=False)\n",
       "      )\n",
       "      (denselayer7): _DenseLayer(\n",
       "        (norm.1): BatchNorm2d(320, eps=1e-05, momentum=0.1, affine=True)\n",
       "        (relu.1): ReLU(inplace)\n",
       "        (conv.1): Conv2d(320, 128, kernel_size=(1, 1), stride=(1, 1), bias=False)\n",
       "        (norm.2): BatchNorm2d(128, eps=1e-05, momentum=0.1, affine=True)\n",
       "        (relu.2): ReLU(inplace)\n",
       "        (conv.2): Conv2d(128, 32, kernel_size=(3, 3), stride=(1, 1), padding=(1, 1), bias=False)\n",
       "      )\n",
       "      (denselayer8): _DenseLayer(\n",
       "        (norm.1): BatchNorm2d(352, eps=1e-05, momentum=0.1, affine=True)\n",
       "        (relu.1): ReLU(inplace)\n",
       "        (conv.1): Conv2d(352, 128, kernel_size=(1, 1), stride=(1, 1), bias=False)\n",
       "        (norm.2): BatchNorm2d(128, eps=1e-05, momentum=0.1, affine=True)\n",
       "        (relu.2): ReLU(inplace)\n",
       "        (conv.2): Conv2d(128, 32, kernel_size=(3, 3), stride=(1, 1), padding=(1, 1), bias=False)\n",
       "      )\n",
       "      (denselayer9): _DenseLayer(\n",
       "        (norm.1): BatchNorm2d(384, eps=1e-05, momentum=0.1, affine=True)\n",
       "        (relu.1): ReLU(inplace)\n",
       "        (conv.1): Conv2d(384, 128, kernel_size=(1, 1), stride=(1, 1), bias=False)\n",
       "        (norm.2): BatchNorm2d(128, eps=1e-05, momentum=0.1, affine=True)\n",
       "        (relu.2): ReLU(inplace)\n",
       "        (conv.2): Conv2d(128, 32, kernel_size=(3, 3), stride=(1, 1), padding=(1, 1), bias=False)\n",
       "      )\n",
       "      (denselayer10): _DenseLayer(\n",
       "        (norm.1): BatchNorm2d(416, eps=1e-05, momentum=0.1, affine=True)\n",
       "        (relu.1): ReLU(inplace)\n",
       "        (conv.1): Conv2d(416, 128, kernel_size=(1, 1), stride=(1, 1), bias=False)\n",
       "        (norm.2): BatchNorm2d(128, eps=1e-05, momentum=0.1, affine=True)\n",
       "        (relu.2): ReLU(inplace)\n",
       "        (conv.2): Conv2d(128, 32, kernel_size=(3, 3), stride=(1, 1), padding=(1, 1), bias=False)\n",
       "      )\n",
       "      (denselayer11): _DenseLayer(\n",
       "        (norm.1): BatchNorm2d(448, eps=1e-05, momentum=0.1, affine=True)\n",
       "        (relu.1): ReLU(inplace)\n",
       "        (conv.1): Conv2d(448, 128, kernel_size=(1, 1), stride=(1, 1), bias=False)\n",
       "        (norm.2): BatchNorm2d(128, eps=1e-05, momentum=0.1, affine=True)\n",
       "        (relu.2): ReLU(inplace)\n",
       "        (conv.2): Conv2d(128, 32, kernel_size=(3, 3), stride=(1, 1), padding=(1, 1), bias=False)\n",
       "      )\n",
       "      (denselayer12): _DenseLayer(\n",
       "        (norm.1): BatchNorm2d(480, eps=1e-05, momentum=0.1, affine=True)\n",
       "        (relu.1): ReLU(inplace)\n",
       "        (conv.1): Conv2d(480, 128, kernel_size=(1, 1), stride=(1, 1), bias=False)\n",
       "        (norm.2): BatchNorm2d(128, eps=1e-05, momentum=0.1, affine=True)\n",
       "        (relu.2): ReLU(inplace)\n",
       "        (conv.2): Conv2d(128, 32, kernel_size=(3, 3), stride=(1, 1), padding=(1, 1), bias=False)\n",
       "      )\n",
       "    )\n",
       "    (transition2): _Transition(\n",
       "      (norm): BatchNorm2d(512, eps=1e-05, momentum=0.1, affine=True)\n",
       "      (relu): ReLU(inplace)\n",
       "      (conv): Conv2d(512, 256, kernel_size=(1, 1), stride=(1, 1), bias=False)\n",
       "      (pool): AvgPool2d(kernel_size=2, stride=2, padding=0, ceil_mode=False, count_include_pad=True)\n",
       "    )\n",
       "    (denseblock3): _DenseBlock(\n",
       "      (denselayer1): _DenseLayer(\n",
       "        (norm.1): BatchNorm2d(256, eps=1e-05, momentum=0.1, affine=True)\n",
       "        (relu.1): ReLU(inplace)\n",
       "        (conv.1): Conv2d(256, 128, kernel_size=(1, 1), stride=(1, 1), bias=False)\n",
       "        (norm.2): BatchNorm2d(128, eps=1e-05, momentum=0.1, affine=True)\n",
       "        (relu.2): ReLU(inplace)\n",
       "        (conv.2): Conv2d(128, 32, kernel_size=(3, 3), stride=(1, 1), padding=(1, 1), bias=False)\n",
       "      )\n",
       "      (denselayer2): _DenseLayer(\n",
       "        (norm.1): BatchNorm2d(288, eps=1e-05, momentum=0.1, affine=True)\n",
       "        (relu.1): ReLU(inplace)\n",
       "        (conv.1): Conv2d(288, 128, kernel_size=(1, 1), stride=(1, 1), bias=False)\n",
       "        (norm.2): BatchNorm2d(128, eps=1e-05, momentum=0.1, affine=True)\n",
       "        (relu.2): ReLU(inplace)\n",
       "        (conv.2): Conv2d(128, 32, kernel_size=(3, 3), stride=(1, 1), padding=(1, 1), bias=False)\n",
       "      )\n",
       "      (denselayer3): _DenseLayer(\n",
       "        (norm.1): BatchNorm2d(320, eps=1e-05, momentum=0.1, affine=True)\n",
       "        (relu.1): ReLU(inplace)\n",
       "        (conv.1): Conv2d(320, 128, kernel_size=(1, 1), stride=(1, 1), bias=False)\n",
       "        (norm.2): BatchNorm2d(128, eps=1e-05, momentum=0.1, affine=True)\n",
       "        (relu.2): ReLU(inplace)\n",
       "        (conv.2): Conv2d(128, 32, kernel_size=(3, 3), stride=(1, 1), padding=(1, 1), bias=False)\n",
       "      )\n",
       "      (denselayer4): _DenseLayer(\n",
       "        (norm.1): BatchNorm2d(352, eps=1e-05, momentum=0.1, affine=True)\n",
       "        (relu.1): ReLU(inplace)\n",
       "        (conv.1): Conv2d(352, 128, kernel_size=(1, 1), stride=(1, 1), bias=False)\n",
       "        (norm.2): BatchNorm2d(128, eps=1e-05, momentum=0.1, affine=True)\n",
       "        (relu.2): ReLU(inplace)\n",
       "        (conv.2): Conv2d(128, 32, kernel_size=(3, 3), stride=(1, 1), padding=(1, 1), bias=False)\n",
       "      )\n",
       "      (denselayer5): _DenseLayer(\n",
       "        (norm.1): BatchNorm2d(384, eps=1e-05, momentum=0.1, affine=True)\n",
       "        (relu.1): ReLU(inplace)\n",
       "        (conv.1): Conv2d(384, 128, kernel_size=(1, 1), stride=(1, 1), bias=False)\n",
       "        (norm.2): BatchNorm2d(128, eps=1e-05, momentum=0.1, affine=True)\n",
       "        (relu.2): ReLU(inplace)\n",
       "        (conv.2): Conv2d(128, 32, kernel_size=(3, 3), stride=(1, 1), padding=(1, 1), bias=False)\n",
       "      )\n",
       "      (denselayer6): _DenseLayer(\n",
       "        (norm.1): BatchNorm2d(416, eps=1e-05, momentum=0.1, affine=True)\n",
       "        (relu.1): ReLU(inplace)\n",
       "        (conv.1): Conv2d(416, 128, kernel_size=(1, 1), stride=(1, 1), bias=False)\n",
       "        (norm.2): BatchNorm2d(128, eps=1e-05, momentum=0.1, affine=True)\n",
       "        (relu.2): ReLU(inplace)\n",
       "        (conv.2): Conv2d(128, 32, kernel_size=(3, 3), stride=(1, 1), padding=(1, 1), bias=False)\n",
       "      )\n",
       "      (denselayer7): _DenseLayer(\n",
       "        (norm.1): BatchNorm2d(448, eps=1e-05, momentum=0.1, affine=True)\n",
       "        (relu.1): ReLU(inplace)\n",
       "        (conv.1): Conv2d(448, 128, kernel_size=(1, 1), stride=(1, 1), bias=False)\n",
       "        (norm.2): BatchNorm2d(128, eps=1e-05, momentum=0.1, affine=True)\n",
       "        (relu.2): ReLU(inplace)\n",
       "        (conv.2): Conv2d(128, 32, kernel_size=(3, 3), stride=(1, 1), padding=(1, 1), bias=False)\n",
       "      )\n",
       "      (denselayer8): _DenseLayer(\n",
       "        (norm.1): BatchNorm2d(480, eps=1e-05, momentum=0.1, affine=True)\n",
       "        (relu.1): ReLU(inplace)\n",
       "        (conv.1): Conv2d(480, 128, kernel_size=(1, 1), stride=(1, 1), bias=False)\n",
       "        (norm.2): BatchNorm2d(128, eps=1e-05, momentum=0.1, affine=True)\n",
       "        (relu.2): ReLU(inplace)\n",
       "        (conv.2): Conv2d(128, 32, kernel_size=(3, 3), stride=(1, 1), padding=(1, 1), bias=False)\n",
       "      )\n",
       "      (denselayer9): _DenseLayer(\n",
       "        (norm.1): BatchNorm2d(512, eps=1e-05, momentum=0.1, affine=True)\n",
       "        (relu.1): ReLU(inplace)\n",
       "        (conv.1): Conv2d(512, 128, kernel_size=(1, 1), stride=(1, 1), bias=False)\n",
       "        (norm.2): BatchNorm2d(128, eps=1e-05, momentum=0.1, affine=True)\n",
       "        (relu.2): ReLU(inplace)\n",
       "        (conv.2): Conv2d(128, 32, kernel_size=(3, 3), stride=(1, 1), padding=(1, 1), bias=False)\n",
       "      )\n",
       "      (denselayer10): _DenseLayer(\n",
       "        (norm.1): BatchNorm2d(544, eps=1e-05, momentum=0.1, affine=True)\n",
       "        (relu.1): ReLU(inplace)\n",
       "        (conv.1): Conv2d(544, 128, kernel_size=(1, 1), stride=(1, 1), bias=False)\n",
       "        (norm.2): BatchNorm2d(128, eps=1e-05, momentum=0.1, affine=True)\n",
       "        (relu.2): ReLU(inplace)\n",
       "        (conv.2): Conv2d(128, 32, kernel_size=(3, 3), stride=(1, 1), padding=(1, 1), bias=False)\n",
       "      )\n",
       "      (denselayer11): _DenseLayer(\n",
       "        (norm.1): BatchNorm2d(576, eps=1e-05, momentum=0.1, affine=True)\n",
       "        (relu.1): ReLU(inplace)\n",
       "        (conv.1): Conv2d(576, 128, kernel_size=(1, 1), stride=(1, 1), bias=False)\n",
       "        (norm.2): BatchNorm2d(128, eps=1e-05, momentum=0.1, affine=True)\n",
       "        (relu.2): ReLU(inplace)\n",
       "        (conv.2): Conv2d(128, 32, kernel_size=(3, 3), stride=(1, 1), padding=(1, 1), bias=False)\n",
       "      )\n",
       "      (denselayer12): _DenseLayer(\n",
       "        (norm.1): BatchNorm2d(608, eps=1e-05, momentum=0.1, affine=True)\n",
       "        (relu.1): ReLU(inplace)\n",
       "        (conv.1): Conv2d(608, 128, kernel_size=(1, 1), stride=(1, 1), bias=False)\n",
       "        (norm.2): BatchNorm2d(128, eps=1e-05, momentum=0.1, affine=True)\n",
       "        (relu.2): ReLU(inplace)\n",
       "        (conv.2): Conv2d(128, 32, kernel_size=(3, 3), stride=(1, 1), padding=(1, 1), bias=False)\n",
       "      )\n",
       "      (denselayer13): _DenseLayer(\n",
       "        (norm.1): BatchNorm2d(640, eps=1e-05, momentum=0.1, affine=True)\n",
       "        (relu.1): ReLU(inplace)\n",
       "        (conv.1): Conv2d(640, 128, kernel_size=(1, 1), stride=(1, 1), bias=False)\n",
       "        (norm.2): BatchNorm2d(128, eps=1e-05, momentum=0.1, affine=True)\n",
       "        (relu.2): ReLU(inplace)\n",
       "        (conv.2): Conv2d(128, 32, kernel_size=(3, 3), stride=(1, 1), padding=(1, 1), bias=False)\n",
       "      )\n",
       "      (denselayer14): _DenseLayer(\n",
       "        (norm.1): BatchNorm2d(672, eps=1e-05, momentum=0.1, affine=True)\n",
       "        (relu.1): ReLU(inplace)\n",
       "        (conv.1): Conv2d(672, 128, kernel_size=(1, 1), stride=(1, 1), bias=False)\n",
       "        (norm.2): BatchNorm2d(128, eps=1e-05, momentum=0.1, affine=True)\n",
       "        (relu.2): ReLU(inplace)\n",
       "        (conv.2): Conv2d(128, 32, kernel_size=(3, 3), stride=(1, 1), padding=(1, 1), bias=False)\n",
       "      )\n",
       "      (denselayer15): _DenseLayer(\n",
       "        (norm.1): BatchNorm2d(704, eps=1e-05, momentum=0.1, affine=True)\n",
       "        (relu.1): ReLU(inplace)\n",
       "        (conv.1): Conv2d(704, 128, kernel_size=(1, 1), stride=(1, 1), bias=False)\n",
       "        (norm.2): BatchNorm2d(128, eps=1e-05, momentum=0.1, affine=True)\n",
       "        (relu.2): ReLU(inplace)\n",
       "        (conv.2): Conv2d(128, 32, kernel_size=(3, 3), stride=(1, 1), padding=(1, 1), bias=False)\n",
       "      )\n",
       "      (denselayer16): _DenseLayer(\n",
       "        (norm.1): BatchNorm2d(736, eps=1e-05, momentum=0.1, affine=True)\n",
       "        (relu.1): ReLU(inplace)\n",
       "        (conv.1): Conv2d(736, 128, kernel_size=(1, 1), stride=(1, 1), bias=False)\n",
       "        (norm.2): BatchNorm2d(128, eps=1e-05, momentum=0.1, affine=True)\n",
       "        (relu.2): ReLU(inplace)\n",
       "        (conv.2): Conv2d(128, 32, kernel_size=(3, 3), stride=(1, 1), padding=(1, 1), bias=False)\n",
       "      )\n",
       "      (denselayer17): _DenseLayer(\n",
       "        (norm.1): BatchNorm2d(768, eps=1e-05, momentum=0.1, affine=True)\n",
       "        (relu.1): ReLU(inplace)\n",
       "        (conv.1): Conv2d(768, 128, kernel_size=(1, 1), stride=(1, 1), bias=False)\n",
       "        (norm.2): BatchNorm2d(128, eps=1e-05, momentum=0.1, affine=True)\n",
       "        (relu.2): ReLU(inplace)\n",
       "        (conv.2): Conv2d(128, 32, kernel_size=(3, 3), stride=(1, 1), padding=(1, 1), bias=False)\n",
       "      )\n",
       "      (denselayer18): _DenseLayer(\n",
       "        (norm.1): BatchNorm2d(800, eps=1e-05, momentum=0.1, affine=True)\n",
       "        (relu.1): ReLU(inplace)\n",
       "        (conv.1): Conv2d(800, 128, kernel_size=(1, 1), stride=(1, 1), bias=False)\n",
       "        (norm.2): BatchNorm2d(128, eps=1e-05, momentum=0.1, affine=True)\n",
       "        (relu.2): ReLU(inplace)\n",
       "        (conv.2): Conv2d(128, 32, kernel_size=(3, 3), stride=(1, 1), padding=(1, 1), bias=False)\n",
       "      )\n",
       "      (denselayer19): _DenseLayer(\n",
       "        (norm.1): BatchNorm2d(832, eps=1e-05, momentum=0.1, affine=True)\n",
       "        (relu.1): ReLU(inplace)\n",
       "        (conv.1): Conv2d(832, 128, kernel_size=(1, 1), stride=(1, 1), bias=False)\n",
       "        (norm.2): BatchNorm2d(128, eps=1e-05, momentum=0.1, affine=True)\n",
       "        (relu.2): ReLU(inplace)\n",
       "        (conv.2): Conv2d(128, 32, kernel_size=(3, 3), stride=(1, 1), padding=(1, 1), bias=False)\n",
       "      )\n",
       "      (denselayer20): _DenseLayer(\n",
       "        (norm.1): BatchNorm2d(864, eps=1e-05, momentum=0.1, affine=True)\n",
       "        (relu.1): ReLU(inplace)\n",
       "        (conv.1): Conv2d(864, 128, kernel_size=(1, 1), stride=(1, 1), bias=False)\n",
       "        (norm.2): BatchNorm2d(128, eps=1e-05, momentum=0.1, affine=True)\n",
       "        (relu.2): ReLU(inplace)\n",
       "        (conv.2): Conv2d(128, 32, kernel_size=(3, 3), stride=(1, 1), padding=(1, 1), bias=False)\n",
       "      )\n",
       "      (denselayer21): _DenseLayer(\n",
       "        (norm.1): BatchNorm2d(896, eps=1e-05, momentum=0.1, affine=True)\n",
       "        (relu.1): ReLU(inplace)\n",
       "        (conv.1): Conv2d(896, 128, kernel_size=(1, 1), stride=(1, 1), bias=False)\n",
       "        (norm.2): BatchNorm2d(128, eps=1e-05, momentum=0.1, affine=True)\n",
       "        (relu.2): ReLU(inplace)\n",
       "        (conv.2): Conv2d(128, 32, kernel_size=(3, 3), stride=(1, 1), padding=(1, 1), bias=False)\n",
       "      )\n",
       "      (denselayer22): _DenseLayer(\n",
       "        (norm.1): BatchNorm2d(928, eps=1e-05, momentum=0.1, affine=True)\n",
       "        (relu.1): ReLU(inplace)\n",
       "        (conv.1): Conv2d(928, 128, kernel_size=(1, 1), stride=(1, 1), bias=False)\n",
       "        (norm.2): BatchNorm2d(128, eps=1e-05, momentum=0.1, affine=True)\n",
       "        (relu.2): ReLU(inplace)\n",
       "        (conv.2): Conv2d(128, 32, kernel_size=(3, 3), stride=(1, 1), padding=(1, 1), bias=False)\n",
       "      )\n",
       "      (denselayer23): _DenseLayer(\n",
       "        (norm.1): BatchNorm2d(960, eps=1e-05, momentum=0.1, affine=True)\n",
       "        (relu.1): ReLU(inplace)\n",
       "        (conv.1): Conv2d(960, 128, kernel_size=(1, 1), stride=(1, 1), bias=False)\n",
       "        (norm.2): BatchNorm2d(128, eps=1e-05, momentum=0.1, affine=True)\n",
       "        (relu.2): ReLU(inplace)\n",
       "        (conv.2): Conv2d(128, 32, kernel_size=(3, 3), stride=(1, 1), padding=(1, 1), bias=False)\n",
       "      )\n",
       "      (denselayer24): _DenseLayer(\n",
       "        (norm.1): BatchNorm2d(992, eps=1e-05, momentum=0.1, affine=True)\n",
       "        (relu.1): ReLU(inplace)\n",
       "        (conv.1): Conv2d(992, 128, kernel_size=(1, 1), stride=(1, 1), bias=False)\n",
       "        (norm.2): BatchNorm2d(128, eps=1e-05, momentum=0.1, affine=True)\n",
       "        (relu.2): ReLU(inplace)\n",
       "        (conv.2): Conv2d(128, 32, kernel_size=(3, 3), stride=(1, 1), padding=(1, 1), bias=False)\n",
       "      )\n",
       "    )\n",
       "    (transition3): _Transition(\n",
       "      (norm): BatchNorm2d(1024, eps=1e-05, momentum=0.1, affine=True)\n",
       "      (relu): ReLU(inplace)\n",
       "      (conv): Conv2d(1024, 512, kernel_size=(1, 1), stride=(1, 1), bias=False)\n",
       "      (pool): AvgPool2d(kernel_size=2, stride=2, padding=0, ceil_mode=False, count_include_pad=True)\n",
       "    )\n",
       "    (denseblock4): _DenseBlock(\n",
       "      (denselayer1): _DenseLayer(\n",
       "        (norm.1): BatchNorm2d(512, eps=1e-05, momentum=0.1, affine=True)\n",
       "        (relu.1): ReLU(inplace)\n",
       "        (conv.1): Conv2d(512, 128, kernel_size=(1, 1), stride=(1, 1), bias=False)\n",
       "        (norm.2): BatchNorm2d(128, eps=1e-05, momentum=0.1, affine=True)\n",
       "        (relu.2): ReLU(inplace)\n",
       "        (conv.2): Conv2d(128, 32, kernel_size=(3, 3), stride=(1, 1), padding=(1, 1), bias=False)\n",
       "      )\n",
       "      (denselayer2): _DenseLayer(\n",
       "        (norm.1): BatchNorm2d(544, eps=1e-05, momentum=0.1, affine=True)\n",
       "        (relu.1): ReLU(inplace)\n",
       "        (conv.1): Conv2d(544, 128, kernel_size=(1, 1), stride=(1, 1), bias=False)\n",
       "        (norm.2): BatchNorm2d(128, eps=1e-05, momentum=0.1, affine=True)\n",
       "        (relu.2): ReLU(inplace)\n",
       "        (conv.2): Conv2d(128, 32, kernel_size=(3, 3), stride=(1, 1), padding=(1, 1), bias=False)\n",
       "      )\n",
       "      (denselayer3): _DenseLayer(\n",
       "        (norm.1): BatchNorm2d(576, eps=1e-05, momentum=0.1, affine=True)\n",
       "        (relu.1): ReLU(inplace)\n",
       "        (conv.1): Conv2d(576, 128, kernel_size=(1, 1), stride=(1, 1), bias=False)\n",
       "        (norm.2): BatchNorm2d(128, eps=1e-05, momentum=0.1, affine=True)\n",
       "        (relu.2): ReLU(inplace)\n",
       "        (conv.2): Conv2d(128, 32, kernel_size=(3, 3), stride=(1, 1), padding=(1, 1), bias=False)\n",
       "      )\n",
       "      (denselayer4): _DenseLayer(\n",
       "        (norm.1): BatchNorm2d(608, eps=1e-05, momentum=0.1, affine=True)\n",
       "        (relu.1): ReLU(inplace)\n",
       "        (conv.1): Conv2d(608, 128, kernel_size=(1, 1), stride=(1, 1), bias=False)\n",
       "        (norm.2): BatchNorm2d(128, eps=1e-05, momentum=0.1, affine=True)\n",
       "        (relu.2): ReLU(inplace)\n",
       "        (conv.2): Conv2d(128, 32, kernel_size=(3, 3), stride=(1, 1), padding=(1, 1), bias=False)\n",
       "      )\n",
       "      (denselayer5): _DenseLayer(\n",
       "        (norm.1): BatchNorm2d(640, eps=1e-05, momentum=0.1, affine=True)\n",
       "        (relu.1): ReLU(inplace)\n",
       "        (conv.1): Conv2d(640, 128, kernel_size=(1, 1), stride=(1, 1), bias=False)\n",
       "        (norm.2): BatchNorm2d(128, eps=1e-05, momentum=0.1, affine=True)\n",
       "        (relu.2): ReLU(inplace)\n",
       "        (conv.2): Conv2d(128, 32, kernel_size=(3, 3), stride=(1, 1), padding=(1, 1), bias=False)\n",
       "      )\n",
       "      (denselayer6): _DenseLayer(\n",
       "        (norm.1): BatchNorm2d(672, eps=1e-05, momentum=0.1, affine=True)\n",
       "        (relu.1): ReLU(inplace)\n",
       "        (conv.1): Conv2d(672, 128, kernel_size=(1, 1), stride=(1, 1), bias=False)\n",
       "        (norm.2): BatchNorm2d(128, eps=1e-05, momentum=0.1, affine=True)\n",
       "        (relu.2): ReLU(inplace)\n",
       "        (conv.2): Conv2d(128, 32, kernel_size=(3, 3), stride=(1, 1), padding=(1, 1), bias=False)\n",
       "      )\n",
       "      (denselayer7): _DenseLayer(\n",
       "        (norm.1): BatchNorm2d(704, eps=1e-05, momentum=0.1, affine=True)\n",
       "        (relu.1): ReLU(inplace)\n",
       "        (conv.1): Conv2d(704, 128, kernel_size=(1, 1), stride=(1, 1), bias=False)\n",
       "        (norm.2): BatchNorm2d(128, eps=1e-05, momentum=0.1, affine=True)\n",
       "        (relu.2): ReLU(inplace)\n",
       "        (conv.2): Conv2d(128, 32, kernel_size=(3, 3), stride=(1, 1), padding=(1, 1), bias=False)\n",
       "      )\n",
       "      (denselayer8): _DenseLayer(\n",
       "        (norm.1): BatchNorm2d(736, eps=1e-05, momentum=0.1, affine=True)\n",
       "        (relu.1): ReLU(inplace)\n",
       "        (conv.1): Conv2d(736, 128, kernel_size=(1, 1), stride=(1, 1), bias=False)\n",
       "        (norm.2): BatchNorm2d(128, eps=1e-05, momentum=0.1, affine=True)\n",
       "        (relu.2): ReLU(inplace)\n",
       "        (conv.2): Conv2d(128, 32, kernel_size=(3, 3), stride=(1, 1), padding=(1, 1), bias=False)\n",
       "      )\n",
       "      (denselayer9): _DenseLayer(\n",
       "        (norm.1): BatchNorm2d(768, eps=1e-05, momentum=0.1, affine=True)\n",
       "        (relu.1): ReLU(inplace)\n",
       "        (conv.1): Conv2d(768, 128, kernel_size=(1, 1), stride=(1, 1), bias=False)\n",
       "        (norm.2): BatchNorm2d(128, eps=1e-05, momentum=0.1, affine=True)\n",
       "        (relu.2): ReLU(inplace)\n",
       "        (conv.2): Conv2d(128, 32, kernel_size=(3, 3), stride=(1, 1), padding=(1, 1), bias=False)\n",
       "      )\n",
       "      (denselayer10): _DenseLayer(\n",
       "        (norm.1): BatchNorm2d(800, eps=1e-05, momentum=0.1, affine=True)\n",
       "        (relu.1): ReLU(inplace)\n",
       "        (conv.1): Conv2d(800, 128, kernel_size=(1, 1), stride=(1, 1), bias=False)\n",
       "        (norm.2): BatchNorm2d(128, eps=1e-05, momentum=0.1, affine=True)\n",
       "        (relu.2): ReLU(inplace)\n",
       "        (conv.2): Conv2d(128, 32, kernel_size=(3, 3), stride=(1, 1), padding=(1, 1), bias=False)\n",
       "      )\n",
       "      (denselayer11): _DenseLayer(\n",
       "        (norm.1): BatchNorm2d(832, eps=1e-05, momentum=0.1, affine=True)\n",
       "        (relu.1): ReLU(inplace)\n",
       "        (conv.1): Conv2d(832, 128, kernel_size=(1, 1), stride=(1, 1), bias=False)\n",
       "        (norm.2): BatchNorm2d(128, eps=1e-05, momentum=0.1, affine=True)\n",
       "        (relu.2): ReLU(inplace)\n",
       "        (conv.2): Conv2d(128, 32, kernel_size=(3, 3), stride=(1, 1), padding=(1, 1), bias=False)\n",
       "      )\n",
       "      (denselayer12): _DenseLayer(\n",
       "        (norm.1): BatchNorm2d(864, eps=1e-05, momentum=0.1, affine=True)\n",
       "        (relu.1): ReLU(inplace)\n",
       "        (conv.1): Conv2d(864, 128, kernel_size=(1, 1), stride=(1, 1), bias=False)\n",
       "        (norm.2): BatchNorm2d(128, eps=1e-05, momentum=0.1, affine=True)\n",
       "        (relu.2): ReLU(inplace)\n",
       "        (conv.2): Conv2d(128, 32, kernel_size=(3, 3), stride=(1, 1), padding=(1, 1), bias=False)\n",
       "      )\n",
       "      (denselayer13): _DenseLayer(\n",
       "        (norm.1): BatchNorm2d(896, eps=1e-05, momentum=0.1, affine=True)\n",
       "        (relu.1): ReLU(inplace)\n",
       "        (conv.1): Conv2d(896, 128, kernel_size=(1, 1), stride=(1, 1), bias=False)\n",
       "        (norm.2): BatchNorm2d(128, eps=1e-05, momentum=0.1, affine=True)\n",
       "        (relu.2): ReLU(inplace)\n",
       "        (conv.2): Conv2d(128, 32, kernel_size=(3, 3), stride=(1, 1), padding=(1, 1), bias=False)\n",
       "      )\n",
       "      (denselayer14): _DenseLayer(\n",
       "        (norm.1): BatchNorm2d(928, eps=1e-05, momentum=0.1, affine=True)\n",
       "        (relu.1): ReLU(inplace)\n",
       "        (conv.1): Conv2d(928, 128, kernel_size=(1, 1), stride=(1, 1), bias=False)\n",
       "        (norm.2): BatchNorm2d(128, eps=1e-05, momentum=0.1, affine=True)\n",
       "        (relu.2): ReLU(inplace)\n",
       "        (conv.2): Conv2d(128, 32, kernel_size=(3, 3), stride=(1, 1), padding=(1, 1), bias=False)\n",
       "      )\n",
       "      (denselayer15): _DenseLayer(\n",
       "        (norm.1): BatchNorm2d(960, eps=1e-05, momentum=0.1, affine=True)\n",
       "        (relu.1): ReLU(inplace)\n",
       "        (conv.1): Conv2d(960, 128, kernel_size=(1, 1), stride=(1, 1), bias=False)\n",
       "        (norm.2): BatchNorm2d(128, eps=1e-05, momentum=0.1, affine=True)\n",
       "        (relu.2): ReLU(inplace)\n",
       "        (conv.2): Conv2d(128, 32, kernel_size=(3, 3), stride=(1, 1), padding=(1, 1), bias=False)\n",
       "      )\n",
       "      (denselayer16): _DenseLayer(\n",
       "        (norm.1): BatchNorm2d(992, eps=1e-05, momentum=0.1, affine=True)\n",
       "        (relu.1): ReLU(inplace)\n",
       "        (conv.1): Conv2d(992, 128, kernel_size=(1, 1), stride=(1, 1), bias=False)\n",
       "        (norm.2): BatchNorm2d(128, eps=1e-05, momentum=0.1, affine=True)\n",
       "        (relu.2): ReLU(inplace)\n",
       "        (conv.2): Conv2d(128, 32, kernel_size=(3, 3), stride=(1, 1), padding=(1, 1), bias=False)\n",
       "      )\n",
       "    )\n",
       "    (norm5): BatchNorm2d(1024, eps=1e-05, momentum=0.1, affine=True)\n",
       "  )\n",
       ")"
      ]
     },
     "execution_count": 34,
     "metadata": {},
     "output_type": "execute_result"
    }
   ],
   "source": [
    "dn121"
   ]
  },
  {
   "cell_type": "code",
   "execution_count": 35,
   "metadata": {
    "collapsed": true
   },
   "outputs": [],
   "source": [
    "GRID_MAP=np.concatenate([\n",
    "    np.tile(np.arange(FEAT_W).reshape(1,-1,1,1,1),[1,1,FEAT_H,5,1]),\n",
    "    np.tile(np.arange(FEAT_H).reshape(1,1,-1,1,1),[1,FEAT_W,1,5,1]),]\n",
    "    ,axis=-1)"
   ]
  },
  {
   "cell_type": "code",
   "execution_count": 36,
   "metadata": {
    "collapsed": true
   },
   "outputs": [],
   "source": [
    "bce = nn.modules.loss.BCELoss()"
   ]
  },
  {
   "cell_type": "code",
   "execution_count": 37,
   "metadata": {},
   "outputs": [],
   "source": [
    "class dn_yolo(nn.Module):\n",
    "    def __init__(self,feat_extra,feat_in):\n",
    "        super(dn_yolo,self).__init__()\n",
    "        self.feat_in = feat_in\n",
    "        self.feat_extra=feat_extra\n",
    "        self.conv_out = nn.Conv2d(self.feat_in,VEC_LEN*BOX,kernel_size=(1,1),stride=(1,1),padding=0,bias=False)\n",
    "    \n",
    "    def forward(self,x):\n",
    "        \n",
    "        x = self.feat_extra(x)\n",
    "        x = self.conv_out(x)\n",
    "        x = x.permute([0,2,3,1]).contiguous().view(-1,FEAT_W,FEAT_H,BOX,VEC_LEN)\n",
    "        \n",
    "        return x\n",
    "    \n",
    "class t2b(nn.Module):\n",
    "    def __init__(self):\n",
    "        super(t2b,self).__init__()\n",
    "        self.grid=nn.Parameter(data=torch.from_numpy(GRID_MAP,).type(torch.FloatTensor),\n",
    "                               requires_grad=False)\n",
    "        self.anc=nn.Parameter(torch.from_numpy(ANC_ARR).type(torch.FloatTensor),\n",
    "                              requires_grad=False)\n",
    "        \n",
    "    def forward(self,x,pred=False):\n",
    "        bs=x.size()[0]\n",
    "        x=x.float()\n",
    "        x[...,:2]=F.sigmoid(x[...,:2].clone())+self.grid.repeat(bs,1,1,1,1)\n",
    "        x[...,2:4]=torch.exp(x[...,2:4].clone())*self.anc.repeat(bs,FEAT_W,FEAT_H,1,1)\n",
    "        x[...,4:]=F.sigmoid(x[...,4:])\n",
    "        return x\n",
    "    \n",
    "class yolo3_loss(nn.Module):\n",
    "    def __init__(self,lbd_coord=5,lbd_noobj=.1,lbd_cls=1):\n",
    "        \"\"\"\n",
    "        lbd_coord: lambda_coordinate\n",
    "        lbd_noobj: lambda_no_object\n",
    "        \"\"\"\n",
    "        super(yolo3_loss,self).__init__()\n",
    "        self.t2b=t2b()\n",
    "        self.lbd_coord = lbd_coord\n",
    "        self.lbd_noobj = lbd_noobj\n",
    "        self.lbd_cls = lbd_cls\n",
    "    \n",
    "#     def forward(self,y_pred,y_true,lbl_mask):\n",
    "#         y_pred = self.t2b(y_pred.float())\n",
    "#         y_true = y_true.float()\n",
    "#         lbl_mask = lbl_mask.float()\n",
    "        \n",
    "#         mask,mask2,ioumap = self.loss_mask(y_true,y_pred,lbl_mask)\n",
    "        \n",
    "#         y_true = y_true.float()\n",
    "#         y_pred = y_pred.float()\n",
    "        \n",
    "#         y_true_noobj = (y_true * mask2).float()\n",
    "#         y_pred_noobj = (y_pred * mask2).float()\n",
    "        \n",
    "#         y_pred_conf = y_pred[...,4]\n",
    "#         y_true_conf = ioumap * y_true[...,4]\n",
    "        \n",
    "#         loss_noobj = F.binary_cross_entropy(y_pred_noobj[...,4],y_true_noobj[...,4]) * self.lbd_noobj\n",
    "        \n",
    "#         y_true = (y_true * mask).float()\n",
    "#         y_pred = (y_pred * mask).float()\n",
    "\n",
    "#         loss_bb = F.mse_loss(y_pred[...,:4],y_true[...,:4]) * self.lbd_coord\n",
    "#         loss_obj = F.binary_cross_entropy(y_pred_conf,y_true_conf) \n",
    "#         loss_cls = F.binary_cross_entropy(y_pred[...,5:],y_true[...,5:]) * self.lbd_cls\n",
    "#         loss = loss_bb + loss_obj + loss_noobj + loss_cls\n",
    "        \n",
    "#         return loss,loss_bb,loss_obj,loss_noobj,loss_cls\n",
    "    \n",
    "    def forward(self,y_pred,y_true,lbl_mask,vec_loc):\n",
    "        bs = y_true.size()[0]\n",
    "        y_pred = self.t2b(y_pred.float())\n",
    "        y_true = y_true.float()\n",
    "        lbl_mask = lbl_mask.float()\n",
    "        \n",
    "        mask,mask2,ioumap = self.loss_mask(y_true,y_pred,lbl_mask)\n",
    "        \n",
    "        y_true = y_true.float()\n",
    "        y_pred = y_pred.float()\n",
    "        \n",
    "#         y_true = (y_true * mask).float()\n",
    "        y_pred = (y_pred * mask).float()        \n",
    "        y_true_noobj = (y_true * mask2).float()\n",
    "        y_pred_noobj = (y_pred * mask2).float()\n",
    "        \n",
    "        y_pred_xy = y_pred[...,:2]\n",
    "        y_true_xy = y_true[...,:2]\n",
    "        \n",
    "        y_pred_wh=torch.sqrt(F.relu(y_pred[...,2:4]))\n",
    "        y_true_wh=torch.sqrt(y_true[...,2:4])\n",
    "        \n",
    "        y_pred_conf = y_pred[...,4]\n",
    "#         y_true_conf = ioumap * y_true[...,4]\n",
    "        y_true_conf = y_true[...,4]\n",
    "        \n",
    "        y_pred_cls = y_pred[...,5:]\n",
    "        y_true_cls = y_true[...,5:]\n",
    "        \n",
    "        idxw,idxh,idxb = vec_loc[0,...,0].data[0],vec_loc[0,...,1].data[0],vec_loc[0,...,2].data[0]\n",
    "        print(\"bb\",y_pred_wh[0,idxw,idxh,idxb].view(-1).data.cpu().numpy(),\n",
    "              \"\\t\",y_true_wh[0,idxw,idxh,idxb].view(-1).data.cpu().numpy())\n",
    "        print(\"conf\",y_pred_conf[0,idxw,idxh,idxb].data[0],\"\\t\",y_true_conf[0,idxw,idxh,idxb].data[0])\n",
    "        print(\"cls\",torch.max(y_pred_cls[0,idxw,idxh,idxb])[0].data[0],\"\\t\",torch.max(y_true_cls[0,idxw,idxh,idxb])[0].data[0])\n",
    "        \n",
    "        loss_noobj = (torch.pow(y_pred_noobj[...,4]-y_true_noobj[...,4],2).sum() * self.lbd_noobj)/bs\n",
    "        \n",
    "        loss_xy = (torch.pow(y_pred_xy-y_true_xy,2).sum() * self.lbd_coord)/bs\n",
    "        loss_wh = (torch.pow(y_pred_xy-y_true_wh,2).sum() * self.lbd_coord)/bs\n",
    "        loss_obj = (torch.pow(y_pred_conf-y_true_conf,2).sum())/bs\n",
    "        loss_cls = (torch.pow(y_pred_cls-y_true_cls,2).sum() * self.lbd_cls)/bs\n",
    "        loss = loss_xy + loss_wh + loss_obj + loss_noobj + loss_cls\n",
    "        \n",
    "        return loss,loss_xy,loss_wh,loss_obj,loss_noobj,loss_cls\n",
    "    \n",
    "    def sum_sqer(self,diff):\n",
    "#         diff=torch.clamp(diff,10,-10)\n",
    "        return torch.pow(diff,2).mean()\n",
    "\n",
    "    def calc_iou(self,y_true,y_pred):\n",
    "        \"\"\"\n",
    "        IOU score:Intersection over union\n",
    "        return: IOU score on each grid(width,height) and anchor box\n",
    "        \"\"\"\n",
    "        left_up = torch.max(y_true[...,:2]-y_true[...,2:4]/2,y_pred[...,:2]-y_pred[...,2:4]/2)\n",
    "        right_down = torch.min(y_true[...,:2]+y_true[...,2:4]/2,y_pred[...,:2]+y_pred[...,2:4]/2)\n",
    "    \n",
    "        inter = torch.clamp(right_down-left_up,0,None).prod(dim=-1)\n",
    "        union = y_true[...,2:4].prod(dim=-1) + y_pred[...,2:4].prod(dim=-1)-inter\n",
    "    \n",
    "        return inter/union\n",
    "    \n",
    "    def loss_mask(self,y_true,y_pred,lbl_mask):\n",
    "        ioumap = self.calc_iou(y_true,y_pred)\n",
    "    \n",
    "#         mask = ioumap.eq(torch.max(ioumap,dim=-1)[0].view(-1,FEAT_W,FEAT_H,1).repeat(1,1,1,BOX))\n",
    "#         mask = mask.view(-1,FEAT_W,FEAT_H,BOX,1).repeat(1,1,1,1,VEC_LEN)\n",
    "        mask = lbl_mask.unsqueeze(-1).repeat(1,1,1,1,VEC_LEN)\n",
    "    \n",
    "        mask2 = (ioumap<0.5).unsqueeze(-1).repeat(1,1,1,1,VEC_LEN).float()\n",
    "        mask2[...,:4]=0\n",
    "        mask2[...,5:]=0\n",
    "        mask2-=mask\n",
    "        mask2=torch.clamp(mask2,0,1)\n",
    "    \n",
    "        return mask.detach(),mask2.detach(),ioumap.detach()"
   ]
  },
  {
   "cell_type": "markdown",
   "metadata": {},
   "source": [
    "### Data Generator"
   ]
  },
  {
   "cell_type": "code",
   "execution_count": 38,
   "metadata": {
    "collapsed": true
   },
   "outputs": [],
   "source": [
    "from torch.utils.data import DataLoader,dataset\n",
    "from torchvision import transforms\n",
    "from PIL import Image"
   ]
  },
  {
   "cell_type": "code",
   "execution_count": 39,
   "metadata": {
    "collapsed": true
   },
   "outputs": [],
   "source": [
    "transform = transforms.Compose([transforms.Resize((HEIGHT,WIDTH)),\n",
    "                                transforms.ToTensor(),\n",
    "                                transforms.Normalize([.5,.5,.5],[.5,.5,.5])\n",
    "                               ])\n",
    "trans_origin = transforms.Compose([transforms.Resize((HEIGHT,WIDTH)),\n",
    "                                transforms.ToTensor(),\n",
    "                               ])\n",
    "back2PIL = transforms.Compose([transforms.ToPILImage(mode=\"RGB\")])"
   ]
  },
  {
   "cell_type": "code",
   "execution_count": 40,
   "metadata": {
    "collapsed": true
   },
   "outputs": [],
   "source": [
    "class odData(dataset.Dataset):\n",
    "    def __init__(self,*args,**kwargs):\n",
    "        \"\"\"Object detection data generatorcd \"\"\"\n",
    "        super(odData,self).__init__()\n",
    "        for k,v in kwargs.items():\n",
    "            setattr(self,k,v)\n",
    "        \n",
    "    def __len__(self):\n",
    "        return len(self.urllist)\n",
    "        \n",
    "    def __getitem__(self,idx):\n",
    "        img=Image.open(self.urllist[idx]).convert(\"RGB\")\n",
    "\n",
    "        if transform:\n",
    "            sample = self.transform(img)\n",
    "        \n",
    "        original = self.trans_origin(img)\n",
    "        true_lbl,mask,vec_loc = self.true_label(self.true_adj_expand(self.true_adj[idx]),self.vec_loc[idx])\n",
    "        \n",
    "        return sample,true_lbl,original,mask,vec_loc\n",
    "    \n",
    "    def true_label(self,true_adj,vec_loc):\n",
    "        \"\"\"\n",
    "        Create true label for training\n",
    "        \"\"\"\n",
    "        mask = self.mask_from_loca(vec_loc)\n",
    "        true_adj *= np.tile(mask[:,:,:,np.newaxis],[1,1,1,true_adj.shape[-1]])\n",
    "        return true_adj,mask,vec_loc\n",
    "    \n",
    "    def true_adj_expand(self,true_adj):\n",
    "        return  np.tile(true_adj[np.newaxis,np.newaxis,np.newaxis,:],[FEAT_W,FEAT_H,BOX,1])\n",
    "    \n",
    "    def mask_from_loca(self,vec_loc):\n",
    "        \"\"\"\n",
    "        return mask tensor [batch_size,grid_w,grid_h,box] according to grid location\n",
    "        \"\"\"\n",
    "        mask=np.eye(BOX)[vec_loc[:,2:]]\n",
    "        mask_w=np.eye(FEAT_W)[vec_loc[:,:1]].reshape(FEAT_H,1,1)\n",
    "        mask_h=np.eye(FEAT_H)[vec_loc[:,1:2]].reshape((1,FEAT_H,1))\n",
    "        \n",
    "        mask = np.tile(mask,[FEAT_W,FEAT_H,1])\n",
    "        mask *= np.tile(mask_w,[1,FEAT_H,BOX])\n",
    "        mask *= np.tile(mask_h,[FEAT_W,1,BOX])\n",
    "        return mask"
   ]
  },
  {
   "cell_type": "markdown",
   "metadata": {},
   "source": [
    "### Training"
   ]
  },
  {
   "cell_type": "code",
   "execution_count": 41,
   "metadata": {
    "collapsed": true
   },
   "outputs": [],
   "source": [
    "from torch.utils.data import DataLoader\n",
    "from tqdm import trange\n",
    "from datetime import datetime\n",
    "import os\n",
    "from p3self.matchbox import Trainer\n"
   ]
  },
  {
   "cell_type": "code",
   "execution_count": 42,
   "metadata": {
    "collapsed": true
   },
   "outputs": [],
   "source": [
    "train_set = odData(urllist = list(IMG+i for i in list(data_df[\"file_name\"])),\n",
    "                          true_adj = true_adj,\n",
    "                          vec_loc = vec_loc[:,np.newaxis,:],\n",
    "#                            true_vec = true_vec,\n",
    "                          transform = transform,\n",
    "                           trans_origin=trans_origin,\n",
    "                  )"
   ]
  },
  {
   "cell_type": "code",
   "execution_count": 43,
   "metadata": {
    "collapsed": true
   },
   "outputs": [],
   "source": [
    "trainer=Trainer(train_set,batch_size=8,print_on=20)\n",
    "model = dn_yolo(dn121,1024)\n",
    "loss_func = yolo3_loss(lbd_noobj=.3)"
   ]
  },
  {
   "cell_type": "code",
   "execution_count": 44,
   "metadata": {
    "collapsed": true
   },
   "outputs": [],
   "source": [
    "CUDA = torch.cuda.is_available()\n",
    "if CUDA:\n",
    "    torch.cuda.empty_cache()\n",
    "    model.cuda()\n",
    "    loss_func.cuda()"
   ]
  },
  {
   "cell_type": "code",
   "execution_count": 45,
   "metadata": {
    "collapsed": true
   },
   "outputs": [],
   "source": [
    "from torch.optim import Adam\n",
    "optimizer = Adam(model.parameters())"
   ]
  },
  {
   "cell_type": "code",
   "execution_count": 46,
   "metadata": {
    "collapsed": true
   },
   "outputs": [],
   "source": [
    "def action(*args,**kwargs):\n",
    "    \"\"\"\n",
    "    y_s: label for scoring, because the y's bb has been transformed into t\n",
    "    \"\"\"\n",
    "    x,y,imgs,lbl_mask,vec_loc = args[0]\n",
    "    iteration=kwargs[\"ite\"]\n",
    "    x,y,lbl_mask,vec_loc = Variable(x),Variable(y),Variable(lbl_mask),Variable(vec_loc)\n",
    "    if CUDA:\n",
    "        x,y,lbl_mask=x.cuda(),y.cuda(),lbl_mask.cuda()\n",
    "    optimizer.zero_grad()\n",
    "    \n",
    "    y_ = model(x)\n",
    "    model.x=x\n",
    "    model.y_=y_\n",
    "    model.y=y\n",
    "    \n",
    "    loss,loss_xy,loss_wh,loss_obj,loss_noobj,loss_cls = loss_func(y_,y,lbl_mask,vec_loc)\n",
    "    loss.backward()\n",
    "\n",
    "    optimizer.step()\n",
    "    \n",
    "    if iteration%50==0:\n",
    "        y_pred = loss_func.t2b(y_)[0]\n",
    "        if CUDA:\n",
    "            y_pred=y_pred.cpu()\n",
    "        img=back2PIL(imgs[0])\n",
    "        printimg=plot_bb(img,data_to_df(y_pred))\n",
    "    return {\"loss\":loss.data[0],\n",
    "            \"loss_xy\":loss_xy.data[0],\n",
    "            \"loss_wh\":loss_wh.data[0],\n",
    "            \"los_obj\":loss_obj.data[0],\n",
    "            \"los_noobj\":loss_noobj.data[0],\n",
    "            \"loss_cls\":loss_cls.data[0],}\n",
    "\n",
    "trainer.action=action"
   ]
  },
  {
   "cell_type": "code",
   "execution_count": 47,
   "metadata": {
    "collapsed": true
   },
   "outputs": [],
   "source": [
    "from datetime import datetime\n",
    "\n",
    "\n",
    "def plot_bb(img,bbdf):\n",
    "    fig,ax = plt.subplots(1)\n",
    "    ax.imshow(img)\n",
    "    for row_ in bbdf.iterrows():\n",
    "        row = row_[1]\n",
    "        # format of the bb: x, y, width, height\n",
    "        rect = patches.Rectangle((row[\"x\"],row[\"y\"]),row[\"w\"],row[\"h\"],linewidth=1,edgecolor='g',facecolor='none')\n",
    "\n",
    "        ax.add_patch(rect)\n",
    "        # format of bb \n",
    "        ax.text(row[\"x\"],row[\"y\"],idx2name[id2idx[int(row[\"cate\"])]]+\"%.3f\"%row[\"conf\"],dict({\"color\":\"#ff0000\"}))\n",
    "    save = fig.savefig(\"/data/bbsample/%s.jpg\"%(datetime.now().strftime(\"%H%M%S\")))\n",
    "    \n",
    "def data_to_df(y_pred,head=10):\n",
    "    c=y_pred[...,4:5].repeat(1,1,1,VEC_LEN-5)*y_pred[...,5:]\n",
    "    val_max, idx_max = torch.max(c.view(-1,VEC_LEN-5) , dim=-1)\n",
    "\n",
    "    df_lbl = pd.DataFrame({\"conf\":val_max.data.numpy(),\"cate\":idx_max.data.numpy()})\n",
    "\n",
    "    bbmax = y_pred[...,:4].contiguous().view(-1,4).data.numpy()*32\n",
    "    df_bbox = pd.DataFrame(bbmax,columns=[\"x\",\"y\",\"w\",\"h\"])\n",
    "    return pd.concat([df_lbl,df_bbox],axis=1).sort_values(by=\"conf\",ascending=False).head(head).reset_index()\n",
    "\n",
    "#plot_bb(img,data_to_df(loss.t2b(y_pred[0])))"
   ]
  },
  {
   "cell_type": "code",
   "execution_count": null,
   "metadata": {
    "collapsed": true
   },
   "outputs": [],
   "source": [
    "trainer.train(1)"
   ]
  },
  {
   "cell_type": "markdown",
   "metadata": {},
   "source": [
    "## Debugging"
   ]
  },
  {
   "cell_type": "code",
   "execution_count": null,
   "metadata": {
    "collapsed": true
   },
   "outputs": [],
   "source": [
    "loss_func(model.y_,model.y)"
   ]
  },
  {
   "cell_type": "code",
   "execution_count": 36,
   "metadata": {
    "collapsed": true
   },
   "outputs": [],
   "source": [
    "y_true=Variable(torch.rand(4,FEAT_W,FEAT_H,BOX,VEC_LEN))\n",
    "y_pred=Variable(torch.rand(4,FEAT_W,FEAT_H,BOX,VEC_LEN))"
   ]
  },
  {
   "cell_type": "code",
   "execution_count": 70,
   "metadata": {
    "collapsed": true
   },
   "outputs": [],
   "source": [
    "mask = loss_func.loss_mask(loss_func.t2b(model.y_),loss_func.t2b(model.y)).float()\n",
    "y_=mask*model.y_.float()\n",
    "y=mask*model.y.float()\n",
    "a=F.binary_cross_entropy(F.sigmoid(model.y_[...,4].float()),model.y[...,4].float())\n"
   ]
  },
  {
   "cell_type": "code",
   "execution_count": 52,
   "metadata": {},
   "outputs": [
    {
     "data": {
      "text/plain": [
       "<__main__.odData at 0x7fe8e9ba7710>"
      ]
     },
     "execution_count": 52,
     "metadata": {},
     "output_type": "execute_result"
    }
   ],
   "source": [
    "train_set"
   ]
  },
  {
   "cell_type": "code",
   "execution_count": 49,
   "metadata": {
    "collapsed": true
   },
   "outputs": [],
   "source": [
    "ulist = np.random.choice(trainer.dataset.urllist,500)\n",
    "def RDIMG():return np.random.choice(ulist)\n",
    "img=Image.open(RDIMG()).resize((416,416))"
   ]
  },
  {
   "cell_type": "code",
   "execution_count": 49,
   "metadata": {
    "collapsed": true
   },
   "outputs": [],
   "source": [
    "trainer=Trainer(train_set,batch_size=8,print_on=20)\n",
    "model = dn_yolo(dn121,1024)\n",
    "loss_func = yolo3_loss()"
   ]
  },
  {
   "cell_type": "code",
   "execution_count": 50,
   "metadata": {
    "collapsed": true
   },
   "outputs": [],
   "source": [
    "train_gen = iter(trainer.train_data)\n",
    "train_sp = next(train_gen)"
   ]
  },
  {
   "cell_type": "code",
   "execution_count": 64,
   "metadata": {},
   "outputs": [
    {
     "data": {
      "text/plain": [
       "\n",
       "(0 ,0 ,.,.) = \n",
       "   0   0   0   0   0\n",
       "   0   0   0   0   0\n",
       "   0   0   0   0   0\n",
       "         ⋮          \n",
       "   0   0   0   0   0\n",
       "   0   0   0   0   0\n",
       "   0   0   0   0   0\n",
       "\n",
       "(0 ,1 ,.,.) = \n",
       "   0   0   0   0   0\n",
       "   0   0   0   0   0\n",
       "   0   0   0   0   0\n",
       "         ⋮          \n",
       "   0   0   0   0   0\n",
       "   0   0   0   0   0\n",
       "   0   0   0   0   0\n",
       "\n",
       "(0 ,2 ,.,.) = \n",
       "   0   0   0   0   0\n",
       "   0   0   0   0   0\n",
       "   0   0   0   0   0\n",
       "         ⋮          \n",
       "   0   0   0   0   0\n",
       "   0   0   0   0   0\n",
       "   0   0   0   0   0\n",
       "   ...\n",
       "\n",
       "(0 ,10,.,.) = \n",
       "   0   0   0   0   0\n",
       "   0   0   0   0   0\n",
       "   0   0   0   0   0\n",
       "         ⋮          \n",
       "   0   0   0   0   0\n",
       "   0   0   0   0   0\n",
       "   0   0   0   0   0\n",
       "\n",
       "(0 ,11,.,.) = \n",
       "   0   0   0   0   0\n",
       "   0   0   0   0   0\n",
       "   0   0   0   0   0\n",
       "         ⋮          \n",
       "   0   0   0   0   0\n",
       "   0   0   0   0   0\n",
       "   0   0   0   0   0\n",
       "\n",
       "(0 ,12,.,.) = \n",
       "   0   0   0   0   0\n",
       "   0   0   0   0   0\n",
       "   0   0   0   0   0\n",
       "         ⋮          \n",
       "   0   0   0   0   0\n",
       "   0   0   0   0   0\n",
       "   0   0   0   0   0\n",
       "     ⋮ \n",
       "\n",
       "(1 ,0 ,.,.) = \n",
       "   0   0   0   0   0\n",
       "   0   0   0   0   0\n",
       "   0   0   0   0   0\n",
       "         ⋮          \n",
       "   0   0   0   0   0\n",
       "   0   0   0   0   0\n",
       "   0   0   0   0   0\n",
       "\n",
       "(1 ,1 ,.,.) = \n",
       "   0   0   0   0   0\n",
       "   0   0   0   0   0\n",
       "   0   0   0   0   0\n",
       "         ⋮          \n",
       "   0   0   0   0   0\n",
       "   0   0   0   0   0\n",
       "   0   0   0   0   0\n",
       "\n",
       "(1 ,2 ,.,.) = \n",
       "   0   0   0   0   0\n",
       "   0   0   0   0   0\n",
       "   0   0   0   0   0\n",
       "         ⋮          \n",
       "   0   0   0   0   0\n",
       "   0   0   0   0   0\n",
       "   0   0   0   0   0\n",
       "   ...\n",
       "\n",
       "(1 ,10,.,.) = \n",
       "   0   0   0   0   0\n",
       "   0   0   0   0   0\n",
       "   0   0   0   0   0\n",
       "         ⋮          \n",
       "   0   0   0   0   0\n",
       "   0   0   0   0   0\n",
       "   0   0   0   0   0\n",
       "\n",
       "(1 ,11,.,.) = \n",
       "   0   0   0   0   0\n",
       "   0   0   0   0   0\n",
       "   0   0   0   0   0\n",
       "         ⋮          \n",
       "   0   0   0   0   0\n",
       "   0   0   0   0   0\n",
       "   0   0   0   0   0\n",
       "\n",
       "(1 ,12,.,.) = \n",
       "   0   0   0   0   0\n",
       "   0   0   0   0   0\n",
       "   0   0   0   0   0\n",
       "         ⋮          \n",
       "   0   0   0   0   0\n",
       "   0   0   0   0   0\n",
       "   0   0   0   0   0\n",
       "     ⋮ \n",
       "\n",
       "(2 ,0 ,.,.) = \n",
       "   0   0   0   0   0\n",
       "   0   0   0   0   0\n",
       "   0   0   0   0   0\n",
       "         ⋮          \n",
       "   0   0   0   0   0\n",
       "   0   0   0   0   0\n",
       "   0   0   0   0   0\n",
       "\n",
       "(2 ,1 ,.,.) = \n",
       "   0   0   0   0   0\n",
       "   0   0   0   0   0\n",
       "   0   0   0   0   0\n",
       "         ⋮          \n",
       "   0   0   0   0   0\n",
       "   0   0   0   0   0\n",
       "   0   0   0   0   0\n",
       "\n",
       "(2 ,2 ,.,.) = \n",
       "   0   0   0   0   0\n",
       "   0   0   0   0   0\n",
       "   0   0   0   0   0\n",
       "         ⋮          \n",
       "   0   0   0   0   0\n",
       "   0   0   0   0   0\n",
       "   0   0   0   0   0\n",
       "   ...\n",
       "\n",
       "(2 ,10,.,.) = \n",
       "   0   0   0   0   0\n",
       "   0   0   0   0   0\n",
       "   0   0   0   0   0\n",
       "         ⋮          \n",
       "   0   0   0   0   0\n",
       "   0   0   0   0   0\n",
       "   0   0   0   0   0\n",
       "\n",
       "(2 ,11,.,.) = \n",
       "   0   0   0   0   0\n",
       "   0   0   0   0   0\n",
       "   0   0   0   0   0\n",
       "         ⋮          \n",
       "   0   0   0   0   0\n",
       "   0   0   0   0   0\n",
       "   0   0   0   0   0\n",
       "\n",
       "(2 ,12,.,.) = \n",
       "   0   0   0   0   0\n",
       "   0   0   0   0   0\n",
       "   0   0   0   0   0\n",
       "         ⋮          \n",
       "   0   0   0   0   0\n",
       "   0   0   0   0   0\n",
       "   0   0   0   0   0\n",
       "...   \n",
       "     ⋮ \n",
       "\n",
       "(5 ,0 ,.,.) = \n",
       "   0   0   0   0   0\n",
       "   0   0   0   0   0\n",
       "   0   0   0   0   0\n",
       "         ⋮          \n",
       "   0   0   0   0   0\n",
       "   0   0   0   0   0\n",
       "   0   0   0   0   0\n",
       "\n",
       "(5 ,1 ,.,.) = \n",
       "   0   0   0   0   0\n",
       "   0   0   0   0   0\n",
       "   0   0   0   0   0\n",
       "         ⋮          \n",
       "   0   0   0   0   0\n",
       "   0   0   0   0   0\n",
       "   0   0   0   0   0\n",
       "\n",
       "(5 ,2 ,.,.) = \n",
       "   0   0   0   0   0\n",
       "   0   0   0   0   0\n",
       "   0   0   0   0   0\n",
       "         ⋮          \n",
       "   0   0   0   0   0\n",
       "   0   0   0   0   0\n",
       "   0   0   0   0   0\n",
       "   ...\n",
       "\n",
       "(5 ,10,.,.) = \n",
       "   0   0   0   0   0\n",
       "   0   0   0   0   0\n",
       "   0   0   0   0   0\n",
       "         ⋮          \n",
       "   0   0   0   0   0\n",
       "   0   0   0   0   0\n",
       "   0   0   0   0   0\n",
       "\n",
       "(5 ,11,.,.) = \n",
       "   0   0   0   0   0\n",
       "   0   0   0   0   0\n",
       "   0   0   0   0   0\n",
       "         ⋮          \n",
       "   0   0   0   0   0\n",
       "   0   0   0   0   0\n",
       "   0   0   0   0   0\n",
       "\n",
       "(5 ,12,.,.) = \n",
       "   0   0   0   0   0\n",
       "   0   0   0   0   0\n",
       "   0   0   0   0   0\n",
       "         ⋮          \n",
       "   0   0   0   0   0\n",
       "   0   0   0   0   0\n",
       "   0   0   0   0   0\n",
       "     ⋮ \n",
       "\n",
       "(6 ,0 ,.,.) = \n",
       "   0   0   0   0   0\n",
       "   0   0   0   0   0\n",
       "   0   0   0   0   0\n",
       "         ⋮          \n",
       "   0   0   0   0   0\n",
       "   0   0   0   0   0\n",
       "   0   0   0   0   0\n",
       "\n",
       "(6 ,1 ,.,.) = \n",
       "   0   0   0   0   0\n",
       "   0   0   0   0   0\n",
       "   0   0   0   0   0\n",
       "         ⋮          \n",
       "   0   0   0   0   0\n",
       "   0   0   0   0   0\n",
       "   0   0   0   0   0\n",
       "\n",
       "(6 ,2 ,.,.) = \n",
       "   0   0   0   0   0\n",
       "   0   0   0   0   0\n",
       "   0   0   0   0   0\n",
       "         ⋮          \n",
       "   0   0   0   0   0\n",
       "   0   0   0   0   0\n",
       "   0   0   0   0   0\n",
       "   ...\n",
       "\n",
       "(6 ,10,.,.) = \n",
       "   0   0   0   0   0\n",
       "   0   0   0   0   0\n",
       "   0   0   0   0   0\n",
       "         ⋮          \n",
       "   0   0   0   0   0\n",
       "   0   0   0   0   0\n",
       "   0   0   0   0   0\n",
       "\n",
       "(6 ,11,.,.) = \n",
       "   0   0   0   0   0\n",
       "   0   0   0   0   0\n",
       "   0   0   0   0   0\n",
       "         ⋮          \n",
       "   0   0   0   0   0\n",
       "   0   0   0   0   0\n",
       "   0   0   0   0   0\n",
       "\n",
       "(6 ,12,.,.) = \n",
       "   0   0   0   0   0\n",
       "   0   0   0   0   0\n",
       "   0   0   0   0   0\n",
       "         ⋮          \n",
       "   0   0   0   0   0\n",
       "   0   0   0   0   0\n",
       "   0   0   0   0   0\n",
       "     ⋮ \n",
       "\n",
       "(7 ,0 ,.,.) = \n",
       "   0   0   0   0   0\n",
       "   0   0   0   0   0\n",
       "   0   0   0   0   0\n",
       "         ⋮          \n",
       "   0   0   0   0   0\n",
       "   0   0   0   0   0\n",
       "   0   0   0   0   0\n",
       "\n",
       "(7 ,1 ,.,.) = \n",
       "   0   0   0   0   0\n",
       "   0   0   0   0   0\n",
       "   0   0   0   0   0\n",
       "         ⋮          \n",
       "   0   0   0   0   0\n",
       "   0   0   0   0   0\n",
       "   0   0   0   0   0\n",
       "\n",
       "(7 ,2 ,.,.) = \n",
       "   0   0   0   0   0\n",
       "   0   0   0   0   0\n",
       "   0   0   0   0   0\n",
       "         ⋮          \n",
       "   0   0   0   0   0\n",
       "   0   0   0   0   0\n",
       "   0   0   0   0   0\n",
       "   ...\n",
       "\n",
       "(7 ,10,.,.) = \n",
       "   0   0   0   0   0\n",
       "   0   0   0   0   0\n",
       "   0   0   0   0   0\n",
       "         ⋮          \n",
       "   0   0   0   0   0\n",
       "   0   0   0   0   0\n",
       "   0   0   0   0   0\n",
       "\n",
       "(7 ,11,.,.) = \n",
       "   0   0   0   0   0\n",
       "   0   0   0   0   0\n",
       "   0   0   0   0   0\n",
       "         ⋮          \n",
       "   0   0   0   0   0\n",
       "   0   0   0   0   0\n",
       "   0   0   0   0   0\n",
       "\n",
       "(7 ,12,.,.) = \n",
       "   0   0   0   0   0\n",
       "   0   0   0   0   0\n",
       "   0   0   0   0   0\n",
       "         ⋮          \n",
       "   0   0   0   0   0\n",
       "   0   0   0   0   0\n",
       "   0   0   0   0   0\n",
       "[torch.DoubleTensor of size 8x13x13x5]"
      ]
     },
     "execution_count": 64,
     "metadata": {},
     "output_type": "execute_result"
    }
   ],
   "source": [
    "train_sp[3]"
   ]
  },
  {
   "cell_type": "code",
   "execution_count": 61,
   "metadata": {},
   "outputs": [
    {
     "data": {
      "text/plain": [
       "Variable containing:\n",
       "  0.7089   1.0862\n",
       "  2.2065   3.0461\n",
       "  6.6301  11.7403\n",
       " 20.8706   4.5851\n",
       " 17.6921  13.5950\n",
       "[torch.FloatTensor of size 5x2]"
      ]
     },
     "execution_count": 61,
     "metadata": {},
     "output_type": "execute_result"
    }
   ],
   "source": [
    "torch.exp(Variable(torch.rand(5,2)))*loss_func.t2b.anc.cpu().repeat(16,FEAT_W,FEAT_H,1,1)[2,1,1]"
   ]
  },
  {
   "cell_type": "code",
   "execution_count": 59,
   "metadata": {},
   "outputs": [
    {
     "data": {
      "text/plain": [
       "torch.Size([5, 2])"
      ]
     },
     "execution_count": 59,
     "metadata": {},
     "output_type": "execute_result"
    }
   ],
   "source": [
    "loss_func.t2b.anc.repeat(16,FEAT_W,FEAT_H,1,1)[2,1,1].size()"
   ]
  },
  {
   "cell_type": "code",
   "execution_count": 93,
   "metadata": {},
   "outputs": [
    {
     "data": {
      "text/plain": [
       "Variable containing:\n",
       " 7\n",
       " 3\n",
       "[torch.cuda.FloatTensor of size 2 (GPU 0)]"
      ]
     },
     "execution_count": 93,
     "metadata": {},
     "output_type": "execute_result"
    }
   ],
   "source": [
    "loss_func.t2b.grid.repeat(20,1,1,1,1)[2,7,3,4]"
   ]
  },
  {
   "cell_type": "code",
   "execution_count": 53,
   "metadata": {
    "collapsed": true
   },
   "outputs": [],
   "source": [
    "cnv=nn.Conv2d(3,25,kernel_size=3,padding=1)"
   ]
  },
  {
   "cell_type": "code",
   "execution_count": 54,
   "metadata": {
    "collapsed": true
   },
   "outputs": [],
   "source": [
    "b=cnv(Variable(torch.rand(32,3,10,10)))"
   ]
  },
  {
   "cell_type": "code",
   "execution_count": 55,
   "metadata": {},
   "outputs": [
    {
     "data": {
      "text/plain": [
       "Variable containing:\n",
       "-208.6830\n",
       "[torch.FloatTensor of size 1]"
      ]
     },
     "execution_count": 55,
     "metadata": {},
     "output_type": "execute_result"
    }
   ],
   "source": [
    "b[:,:,7,:].sum()"
   ]
  },
  {
   "cell_type": "code",
   "execution_count": 56,
   "metadata": {},
   "outputs": [
    {
     "data": {
      "text/plain": [
       "Variable containing:\n",
       "-776.7420\n",
       "[torch.FloatTensor of size 1]"
      ]
     },
     "execution_count": 56,
     "metadata": {},
     "output_type": "execute_result"
    }
   ],
   "source": [
    "b.view(32,10,10,25)[:,7,:,:].sum()"
   ]
  },
  {
   "cell_type": "code",
   "execution_count": 57,
   "metadata": {},
   "outputs": [
    {
     "data": {
      "text/plain": [
       "Variable containing:\n",
       "-208.6830\n",
       "[torch.FloatTensor of size 1]"
      ]
     },
     "execution_count": 57,
     "metadata": {},
     "output_type": "execute_result"
    }
   ],
   "source": [
    "b.permute([0,2,3,1]).contiguous().view(32,10,10,5,5)[:,7,:,:,:].contiguous().sum()"
   ]
  },
  {
   "cell_type": "code",
   "execution_count": 63,
   "metadata": {
    "collapsed": true
   },
   "outputs": [],
   "source": [
    "train_set = odData(urllist = list(IMG+i for i in list(data_df[\"file_name\"])),\n",
    "                          true_adj = true_adj,\n",
    "                          vec_loc = vec_loc[:,np.newaxis,:],\n",
    "#                            true_vec = true_vec,\n",
    "                          transform = transform,\n",
    "                           trans_origin=trans_origin,\n",
    "                  )"
   ]
  },
  {
   "cell_type": "code",
   "execution_count": 66,
   "metadata": {
    "collapsed": true
   },
   "outputs": [],
   "source": [
    "a = next(iter(DataLoader(train_set,batch_size=12)))"
   ]
  },
  {
   "cell_type": "code",
   "execution_count": null,
   "metadata": {
    "collapsed": true
   },
   "outputs": [],
   "source": []
  }
 ],
 "metadata": {
  "kernelspec": {
   "display_name": "Python 3",
   "language": "python",
   "name": "python3"
  },
  "language_info": {
   "codemirror_mode": {
    "name": "ipython",
    "version": 3
   },
   "file_extension": ".py",
   "mimetype": "text/x-python",
   "name": "python",
   "nbconvert_exporter": "python",
   "pygments_lexer": "ipython3",
   "version": "3.6.1"
  }
 },
 "nbformat": 4,
 "nbformat_minor": 2
}
