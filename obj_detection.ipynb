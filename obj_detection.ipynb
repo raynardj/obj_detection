{
 "cells": [
  {
   "cell_type": "markdown",
   "metadata": {},
   "source": [
    "# Object Detection"
   ]
  },
  {
   "cell_type": "markdown",
   "metadata": {},
   "source": [
    "## First let's look at the dataset\n",
    "\n",
    "## And try to visualize the bounding box"
   ]
  },
  {
   "cell_type": "code",
   "execution_count": 1,
   "metadata": {},
   "outputs": [],
   "source": [
    "# my tool box for pytorch\n",
    "from p3self.matchbox import *\n",
    "from constant import *\n",
    "from utils import *"
   ]
  },
  {
   "cell_type": "code",
   "execution_count": 2,
   "metadata": {},
   "outputs": [
    {
     "name": "stdout",
     "output_type": "stream",
     "text": [
      "    5000\r\n"
     ]
    }
   ],
   "source": [
    "\n",
    "%ls {IMG}|wc -l"
   ]
  },
  {
   "cell_type": "code",
   "execution_count": 3,
   "metadata": {},
   "outputs": [
    {
     "data": {
      "text/plain": [
       "0"
      ]
     },
     "execution_count": 3,
     "metadata": {},
     "output_type": "execute_result"
    }
   ],
   "source": [
    "%matplotlib inline\n",
    "from matplotlib import pyplot as plt\n",
    "import matplotlib.patches as patches\n",
    "import matplotlib.text as text\n",
    "import numpy as np\n",
    "import pandas as pd\n",
    "import json\n",
    "from glob import glob\n",
    "from PIL import Image\n",
    "import os\n",
    "\n",
    "os.system(\"mkdir -p /data/bbsample\")"
   ]
  },
  {
   "cell_type": "markdown",
   "metadata": {},
   "source": [
    "#### Image table, with image url , image id, yup , that's all we need now"
   ]
  },
  {
   "cell_type": "code",
   "execution_count": 4,
   "metadata": {},
   "outputs": [
    {
     "data": {
      "text/html": [
       "<div>\n",
       "<style scoped>\n",
       "    .dataframe tbody tr th:only-of-type {\n",
       "        vertical-align: middle;\n",
       "    }\n",
       "\n",
       "    .dataframe tbody tr th {\n",
       "        vertical-align: top;\n",
       "    }\n",
       "\n",
       "    .dataframe thead th {\n",
       "        text-align: right;\n",
       "    }\n",
       "</style>\n",
       "<table border=\"1\" class=\"dataframe\">\n",
       "  <thead>\n",
       "    <tr style=\"text-align: right;\">\n",
       "      <th></th>\n",
       "      <th>coco_url</th>\n",
       "      <th>date_captured</th>\n",
       "      <th>file_name</th>\n",
       "      <th>flickr_url</th>\n",
       "      <th>height</th>\n",
       "      <th>id</th>\n",
       "      <th>license</th>\n",
       "      <th>width</th>\n",
       "    </tr>\n",
       "  </thead>\n",
       "  <tbody>\n",
       "    <tr>\n",
       "      <th>0</th>\n",
       "      <td>http://images.cocodataset.org/val2017/00000039...</td>\n",
       "      <td>2013-11-14 17:02:52</td>\n",
       "      <td>000000397133.jpg</td>\n",
       "      <td>http://farm7.staticflickr.com/6116/6255196340_...</td>\n",
       "      <td>427</td>\n",
       "      <td>397133</td>\n",
       "      <td>4</td>\n",
       "      <td>640</td>\n",
       "    </tr>\n",
       "    <tr>\n",
       "      <th>1</th>\n",
       "      <td>http://images.cocodataset.org/val2017/00000003...</td>\n",
       "      <td>2013-11-14 20:55:31</td>\n",
       "      <td>000000037777.jpg</td>\n",
       "      <td>http://farm9.staticflickr.com/8429/7839199426_...</td>\n",
       "      <td>230</td>\n",
       "      <td>37777</td>\n",
       "      <td>1</td>\n",
       "      <td>352</td>\n",
       "    </tr>\n",
       "    <tr>\n",
       "      <th>2</th>\n",
       "      <td>http://images.cocodataset.org/val2017/00000025...</td>\n",
       "      <td>2013-11-14 22:32:02</td>\n",
       "      <td>000000252219.jpg</td>\n",
       "      <td>http://farm4.staticflickr.com/3446/3232237447_...</td>\n",
       "      <td>428</td>\n",
       "      <td>252219</td>\n",
       "      <td>4</td>\n",
       "      <td>640</td>\n",
       "    </tr>\n",
       "    <tr>\n",
       "      <th>3</th>\n",
       "      <td>http://images.cocodataset.org/val2017/00000008...</td>\n",
       "      <td>2013-11-14 23:11:37</td>\n",
       "      <td>000000087038.jpg</td>\n",
       "      <td>http://farm8.staticflickr.com/7355/8825114508_...</td>\n",
       "      <td>480</td>\n",
       "      <td>87038</td>\n",
       "      <td>1</td>\n",
       "      <td>640</td>\n",
       "    </tr>\n",
       "    <tr>\n",
       "      <th>4</th>\n",
       "      <td>http://images.cocodataset.org/val2017/00000017...</td>\n",
       "      <td>2013-11-14 23:16:55</td>\n",
       "      <td>000000174482.jpg</td>\n",
       "      <td>http://farm8.staticflickr.com/7020/6478877255_...</td>\n",
       "      <td>388</td>\n",
       "      <td>174482</td>\n",
       "      <td>6</td>\n",
       "      <td>640</td>\n",
       "    </tr>\n",
       "  </tbody>\n",
       "</table>\n",
       "</div>"
      ],
      "text/plain": [
       "                                            coco_url        date_captured  \\\n",
       "0  http://images.cocodataset.org/val2017/00000039...  2013-11-14 17:02:52   \n",
       "1  http://images.cocodataset.org/val2017/00000003...  2013-11-14 20:55:31   \n",
       "2  http://images.cocodataset.org/val2017/00000025...  2013-11-14 22:32:02   \n",
       "3  http://images.cocodataset.org/val2017/00000008...  2013-11-14 23:11:37   \n",
       "4  http://images.cocodataset.org/val2017/00000017...  2013-11-14 23:16:55   \n",
       "\n",
       "          file_name                                         flickr_url  \\\n",
       "0  000000397133.jpg  http://farm7.staticflickr.com/6116/6255196340_...   \n",
       "1  000000037777.jpg  http://farm9.staticflickr.com/8429/7839199426_...   \n",
       "2  000000252219.jpg  http://farm4.staticflickr.com/3446/3232237447_...   \n",
       "3  000000087038.jpg  http://farm8.staticflickr.com/7355/8825114508_...   \n",
       "4  000000174482.jpg  http://farm8.staticflickr.com/7020/6478877255_...   \n",
       "\n",
       "   height      id  license  width  \n",
       "0     427  397133        4    640  \n",
       "1     230   37777        1    352  \n",
       "2     428  252219        4    640  \n",
       "3     480   87038        1    640  \n",
       "4     388  174482        6    640  "
      ]
     },
     "execution_count": 4,
     "metadata": {},
     "output_type": "execute_result"
    }
   ],
   "source": [
    "imgdf=pd.DataFrame(jsdict[\"images\"])\n",
    "imgdf.head()"
   ]
  },
  {
   "cell_type": "markdown",
   "metadata": {},
   "source": [
    "#### An annotation table, in this case, we use \"bbox\""
   ]
  },
  {
   "cell_type": "code",
   "execution_count": 5,
   "metadata": {},
   "outputs": [
    {
     "data": {
      "text/html": [
       "<div>\n",
       "<style scoped>\n",
       "    .dataframe tbody tr th:only-of-type {\n",
       "        vertical-align: middle;\n",
       "    }\n",
       "\n",
       "    .dataframe tbody tr th {\n",
       "        vertical-align: top;\n",
       "    }\n",
       "\n",
       "    .dataframe thead th {\n",
       "        text-align: right;\n",
       "    }\n",
       "</style>\n",
       "<table border=\"1\" class=\"dataframe\">\n",
       "  <thead>\n",
       "    <tr style=\"text-align: right;\">\n",
       "      <th></th>\n",
       "      <th>area</th>\n",
       "      <th>bbox</th>\n",
       "      <th>category_id</th>\n",
       "      <th>id</th>\n",
       "      <th>image_id</th>\n",
       "      <th>iscrowd</th>\n",
       "      <th>segmentation</th>\n",
       "    </tr>\n",
       "  </thead>\n",
       "  <tbody>\n",
       "    <tr>\n",
       "      <th>0</th>\n",
       "      <td>702.10575</td>\n",
       "      <td>[473.07, 395.93, 38.65, 28.67]</td>\n",
       "      <td>18</td>\n",
       "      <td>1768</td>\n",
       "      <td>289343</td>\n",
       "      <td>0</td>\n",
       "      <td>[[510.66, 423.01, 511.72, 420.03, 510.45, 416....</td>\n",
       "    </tr>\n",
       "    <tr>\n",
       "      <th>1</th>\n",
       "      <td>27718.47630</td>\n",
       "      <td>[272.1, 200.23, 151.97, 279.77]</td>\n",
       "      <td>18</td>\n",
       "      <td>1773</td>\n",
       "      <td>61471</td>\n",
       "      <td>0</td>\n",
       "      <td>[[289.74, 443.39, 302.29, 445.32, 308.09, 427....</td>\n",
       "    </tr>\n",
       "    <tr>\n",
       "      <th>2</th>\n",
       "      <td>78969.31690</td>\n",
       "      <td>[124.71, 196.18, 372.85, 356.81]</td>\n",
       "      <td>18</td>\n",
       "      <td>2551</td>\n",
       "      <td>472375</td>\n",
       "      <td>0</td>\n",
       "      <td>[[147.76, 396.11, 158.48, 355.91, 153.12, 347....</td>\n",
       "    </tr>\n",
       "    <tr>\n",
       "      <th>3</th>\n",
       "      <td>108316.66515</td>\n",
       "      <td>[112.71, 154.82, 367.29, 479.35]</td>\n",
       "      <td>18</td>\n",
       "      <td>3186</td>\n",
       "      <td>520301</td>\n",
       "      <td>0</td>\n",
       "      <td>[[260.4, 231.26, 215.06, 274.01, 194.33, 307.6...</td>\n",
       "    </tr>\n",
       "    <tr>\n",
       "      <th>4</th>\n",
       "      <td>75864.53530</td>\n",
       "      <td>[200.61, 89.65, 400.22, 251.02]</td>\n",
       "      <td>18</td>\n",
       "      <td>3419</td>\n",
       "      <td>579321</td>\n",
       "      <td>0</td>\n",
       "      <td>[[200.61, 253.97, 273.19, 318.49, 302.43, 336....</td>\n",
       "    </tr>\n",
       "  </tbody>\n",
       "</table>\n",
       "</div>"
      ],
      "text/plain": [
       "           area                              bbox  category_id    id  \\\n",
       "0     702.10575    [473.07, 395.93, 38.65, 28.67]           18  1768   \n",
       "1   27718.47630   [272.1, 200.23, 151.97, 279.77]           18  1773   \n",
       "2   78969.31690  [124.71, 196.18, 372.85, 356.81]           18  2551   \n",
       "3  108316.66515  [112.71, 154.82, 367.29, 479.35]           18  3186   \n",
       "4   75864.53530   [200.61, 89.65, 400.22, 251.02]           18  3419   \n",
       "\n",
       "   image_id  iscrowd                                       segmentation  \n",
       "0    289343        0  [[510.66, 423.01, 511.72, 420.03, 510.45, 416....  \n",
       "1     61471        0  [[289.74, 443.39, 302.29, 445.32, 308.09, 427....  \n",
       "2    472375        0  [[147.76, 396.11, 158.48, 355.91, 153.12, 347....  \n",
       "3    520301        0  [[260.4, 231.26, 215.06, 274.01, 194.33, 307.6...  \n",
       "4    579321        0  [[200.61, 253.97, 273.19, 318.49, 302.43, 336....  "
      ]
     },
     "execution_count": 5,
     "metadata": {},
     "output_type": "execute_result"
    }
   ],
   "source": [
    "ann_df=pd.DataFrame(jsdict[\"annotations\"])\n",
    "ann_df.head()"
   ]
  },
  {
   "cell_type": "markdown",
   "metadata": {},
   "source": [
    "#### A category table"
   ]
  },
  {
   "cell_type": "code",
   "execution_count": 6,
   "metadata": {},
   "outputs": [
    {
     "data": {
      "text/plain": [
       "80"
      ]
     },
     "execution_count": 6,
     "metadata": {},
     "output_type": "execute_result"
    }
   ],
   "source": [
    "len(idx2name)"
   ]
  },
  {
   "cell_type": "code",
   "execution_count": 7,
   "metadata": {
    "collapsed": true
   },
   "outputs": [],
   "source": [
    "urls = glob(IMG+\"/*\")"
   ]
  },
  {
   "cell_type": "code",
   "execution_count": 8,
   "metadata": {},
   "outputs": [
    {
     "data": {
      "text/plain": [
       "['/data/coco/val2017/000000000139.jpg',\n",
       " '/data/coco/val2017/000000000285.jpg',\n",
       " '/data/coco/val2017/000000000632.jpg',\n",
       " '/data/coco/val2017/000000000724.jpg',\n",
       " '/data/coco/val2017/000000000776.jpg']"
      ]
     },
     "execution_count": 8,
     "metadata": {},
     "output_type": "execute_result"
    }
   ],
   "source": [
    "urls[:5]"
   ]
  },
  {
   "cell_type": "markdown",
   "metadata": {},
   "source": [
    "#### Get the image id from image url"
   ]
  },
  {
   "cell_type": "code",
   "execution_count": 9,
   "metadata": {
    "collapsed": true
   },
   "outputs": [],
   "source": [
    "rdimg = np.random.choice(urls)\n",
    "def get_id(url):\n",
    "    return int(url.split(\"/\")[-1].split(\".\")[0])"
   ]
  },
  {
   "cell_type": "markdown",
   "metadata": {},
   "source": [
    "#### Get the bounding box data from annotation"
   ]
  },
  {
   "cell_type": "code",
   "execution_count": 10,
   "metadata": {
    "collapsed": true
   },
   "outputs": [],
   "source": [
    "def get_bb(rdimg):\n",
    "    match = ann_df[ann_df[\"image_id\"]==get_id(rdimg)][[\"bbox\",\"category_id\"]]\n",
    "    return list(match[\"bbox\"]),list(match[\"category_id\"])"
   ]
  },
  {
   "cell_type": "code",
   "execution_count": 11,
   "metadata": {},
   "outputs": [
    {
     "data": {
      "text/plain": [
       "([[110.32, 19.09, 468.84, 425.36], [63.23, 7.09, 529.03, 453.65]], [17, 51])"
      ]
     },
     "execution_count": 11,
     "metadata": {},
     "output_type": "execute_result"
    }
   ],
   "source": [
    "get_bb(rdimg)"
   ]
  },
  {
   "cell_type": "markdown",
   "metadata": {},
   "source": [
    "#### Picture boxes by loops into the picture"
   ]
  },
  {
   "cell_type": "code",
   "execution_count": 12,
   "metadata": {},
   "outputs": [
    {
     "data": {
      "image/png": "[encoded data removed]",
      "text/plain": [
       "<matplotlib.figure.Figure at 0x11f892668>"
      ]
     },
     "metadata": {},
     "output_type": "display_data"
    }
   ],
   "source": [
    "fig,ax = plt.subplots(1)\n",
    "ax.imshow(Image.open(rdimg))\n",
    "bbs,cids = get_bb(rdimg)\n",
    "for i in range(len(bbs)):\n",
    "    bb=bbs[i]\n",
    "    # format of the bb: x, y, width, height\n",
    "    rect = patches.Rectangle((bb[0],bb[1]),bb[2],bb[3],linewidth=1,edgecolor='r',facecolor='none')\n",
    "\n",
    "    ax.add_patch(rect)\n",
    "    # format of bb \n",
    "    ax.text(bb[0],bb[1],idx2name[cids[i]],dict({\"color\":\"#ff0000\"}))"
   ]
  },
  {
   "cell_type": "code",
   "execution_count": 13,
   "metadata": {
    "collapsed": true
   },
   "outputs": [],
   "source": [
    "fig.savefig(\"bbtest.png\")"
   ]
  },
  {
   "cell_type": "markdown",
   "metadata": {},
   "source": [
    "## You Only Look Once"
   ]
  },
  {
   "cell_type": "markdown",
   "metadata": {},
   "source": [
    "### Introduction\n",
    "\n",
    "From the paper [You Only Look Once: Unified, Real-Time Object Detection](http://arxiv.org/abs/1506.02640)\n",
    "\n",
    "We divid the image to the grid boxes of size $S*S$\n",
    "\n",
    "In each grid cell, we predict $B$ bounding boxes \n",
    "\n",
    "Each $B$ we have 5 predictions $x, y, w, h$ and confidence, \n",
    "\n",
    "$x,y$ relative to the grid box.$w, h$ relative to the entire picture.\n",
    "\n",
    "Each grid cell, we predict class probability $Pr(Class_{i}|Object)$.\n",
    "\n",
    "Then **class specified** confidence scores, when at test time we shall calculate, are:\n",
    "\n",
    "$Pr(Class_{i}|Object)*Pr(Object)* IOU^{truth}_{pred}=Pr(Class_{i})* IOU^{truth}_{pred}$\n",
    "\n",
    "IOU: **Intersection Over Union**\n",
    "\n",
    "So the prediction are encoded in a tensor of size $S*S*(B*5+C)$"
   ]
  },
  {
   "cell_type": "markdown",
   "metadata": {},
   "source": [
    "### YOLO style with anchor box"
   ]
  },
  {
   "cell_type": "code",
   "execution_count": 14,
   "metadata": {},
   "outputs": [
    {
     "data": {
      "text/plain": [
       "array([[ 10,  13],\n",
       "       [ 16,  30],\n",
       "       [ 33,  23],\n",
       "       [ 30,  61],\n",
       "       [ 62,  45],\n",
       "       [ 59, 119],\n",
       "       [116,  90],\n",
       "       [156, 198],\n",
       "       [373, 326]])"
      ]
     },
     "execution_count": 14,
     "metadata": {},
     "output_type": "execute_result"
    }
   ],
   "source": [
    "anc_cluster = np.array([[10,13],[16,30],[33,23],[30,61],[62,45],[59,119],[116,90],[156,198],[373,326]])\n",
    "anc_cluster"
   ]
  },
  {
   "cell_type": "markdown",
   "metadata": {},
   "source": [
    "#### Get resized bb"
   ]
  },
  {
   "cell_type": "code",
   "execution_count": 15,
   "metadata": {
    "collapsed": true
   },
   "outputs": [],
   "source": [
    "import torch\n",
    "from torch import nn\n",
    "from torch.autograd import Variable\n",
    "from torch.nn import functional as F"
   ]
  },
  {
   "cell_type": "code",
   "execution_count": 16,
   "metadata": {
    "collapsed": true
   },
   "outputs": [],
   "source": [
    "def p_structure(md):\n",
    "    \"\"\"Print out the model structure\"\"\"\n",
    "    for par in md.parameters():\n",
    "        print(par.size())\n",
    "\n",
    "def p_count(md):\n",
    "    \"\"\"count the parameters in side a pytorch module\"\"\"\n",
    "    allp=0\n",
    "    for p in md.parameters():allp+=np.product(p.data.numpy().shape)\n",
    "    return allp"
   ]
  },
  {
   "cell_type": "markdown",
   "metadata": {},
   "source": [
    "##### Random Try"
   ]
  },
  {
   "cell_type": "code",
   "execution_count": 17,
   "metadata": {
    "collapsed": true
   },
   "outputs": [],
   "source": [
    "cell_y=torch.arange(0,FEAT_W)\n",
    "\n",
    "cell_y=cell_y.repeat(FEAT_H).view(1,FEAT_H,FEAT_W,1,1)\n",
    "\n",
    "cell_x=cell_y.transpose(1,2)\n",
    "#cell_x,cell_y\n",
    "cell_grid=torch.cat([cell_x,cell_y],dim=-1)"
   ]
  },
  {
   "cell_type": "markdown",
   "metadata": {},
   "source": [
    "#### Prepare bb data"
   ]
  },
  {
   "cell_type": "code",
   "execution_count": 18,
   "metadata": {},
   "outputs": [
    {
     "name": "stdout",
     "output_type": "stream",
     "text": [
      "total data rows 36781\n"
     ]
    },
    {
     "data": {
      "text/html": [
       "<div>\n",
       "<style scoped>\n",
       "    .dataframe tbody tr th:only-of-type {\n",
       "        vertical-align: middle;\n",
       "    }\n",
       "\n",
       "    .dataframe tbody tr th {\n",
       "        vertical-align: top;\n",
       "    }\n",
       "\n",
       "    .dataframe thead th {\n",
       "        text-align: right;\n",
       "    }\n",
       "</style>\n",
       "<table border=\"1\" class=\"dataframe\">\n",
       "  <thead>\n",
       "    <tr style=\"text-align: right;\">\n",
       "      <th></th>\n",
       "      <th>bbox</th>\n",
       "      <th>category_id</th>\n",
       "      <th>image_id</th>\n",
       "      <th>id</th>\n",
       "      <th>file_name</th>\n",
       "      <th>height</th>\n",
       "      <th>width</th>\n",
       "      <th>cate_id_oh</th>\n",
       "    </tr>\n",
       "  </thead>\n",
       "  <tbody>\n",
       "    <tr>\n",
       "      <th>0</th>\n",
       "      <td>[219.09, 314.36, 52.88, 110.64]</td>\n",
       "      <td>20</td>\n",
       "      <td>181666</td>\n",
       "      <td>181666</td>\n",
       "      <td>000000181666.jpg</td>\n",
       "      <td>425</td>\n",
       "      <td>640</td>\n",
       "      <td>18</td>\n",
       "    </tr>\n",
       "    <tr>\n",
       "      <th>1</th>\n",
       "      <td>[559.66, 305.23, 80.2, 55.92]</td>\n",
       "      <td>8</td>\n",
       "      <td>125572</td>\n",
       "      <td>125572</td>\n",
       "      <td>000000125572.jpg</td>\n",
       "      <td>427</td>\n",
       "      <td>640</td>\n",
       "      <td>7</td>\n",
       "    </tr>\n",
       "    <tr>\n",
       "      <th>2</th>\n",
       "      <td>[178.85, 89.05, 289.59, 240.96]</td>\n",
       "      <td>1</td>\n",
       "      <td>156924</td>\n",
       "      <td>156924</td>\n",
       "      <td>000000156924.jpg</td>\n",
       "      <td>333</td>\n",
       "      <td>500</td>\n",
       "      <td>0</td>\n",
       "    </tr>\n",
       "    <tr>\n",
       "      <th>3</th>\n",
       "      <td>[458.59, 268.43, 2.97, 10.31]</td>\n",
       "      <td>1</td>\n",
       "      <td>345027</td>\n",
       "      <td>345027</td>\n",
       "      <td>000000345027.jpg</td>\n",
       "      <td>403</td>\n",
       "      <td>640</td>\n",
       "      <td>0</td>\n",
       "    </tr>\n",
       "    <tr>\n",
       "      <th>4</th>\n",
       "      <td>[469.1, 286.35, 21.33, 57.21]</td>\n",
       "      <td>1</td>\n",
       "      <td>78565</td>\n",
       "      <td>78565</td>\n",
       "      <td>000000078565.jpg</td>\n",
       "      <td>499</td>\n",
       "      <td>640</td>\n",
       "      <td>0</td>\n",
       "    </tr>\n",
       "  </tbody>\n",
       "</table>\n",
       "</div>"
      ],
      "text/plain": [
       "                              bbox  category_id  image_id      id  \\\n",
       "0  [219.09, 314.36, 52.88, 110.64]           20    181666  181666   \n",
       "1    [559.66, 305.23, 80.2, 55.92]            8    125572  125572   \n",
       "2  [178.85, 89.05, 289.59, 240.96]            1    156924  156924   \n",
       "3    [458.59, 268.43, 2.97, 10.31]            1    345027  345027   \n",
       "4    [469.1, 286.35, 21.33, 57.21]            1     78565   78565   \n",
       "\n",
       "          file_name  height  width  cate_id_oh  \n",
       "0  000000181666.jpg     425    640          18  \n",
       "1  000000125572.jpg     427    640           7  \n",
       "2  000000156924.jpg     333    500           0  \n",
       "3  000000345027.jpg     403    640           0  \n",
       "4  000000078565.jpg     499    640           0  "
      ]
     },
     "execution_count": 18,
     "metadata": {},
     "output_type": "execute_result"
    }
   ],
   "source": [
    "def df_data(imgdf,ann_df,shuffle=True):\n",
    "    \"\"\"\n",
    "    imgdf:\n",
    "    A dataframe about images, fields: \"id\",\"file_name\",\"height\",\"width\"\n",
    "    ann_df:\n",
    "    A dataframe about annotation, fields: \"image_id\",\"category_id\",\"bbox\",\n",
    "    The field \"bbox\" is a list of 4 values: x,y,height, width of the bounding box\n",
    "    \"\"\"\n",
    "    data_df=pd.merge(ann_df[[\"bbox\",\"category_id\",\"image_id\"]],\n",
    "                     imgdf[[\"id\",\"file_name\",\"height\",\"width\"]],\n",
    "                     left_on=\"image_id\",right_on=\"id\")\n",
    "    \n",
    "    data_df[\"cate_id_oh\"] = data_df[\"category_id\"].apply(lambda x:idx2id[x])\n",
    "    if shuffle:\n",
    "        data_df = data_df.sample(frac=1).reset_index(drop=True)\n",
    "    print(\"total data rows\",len(data_df))\n",
    "    return data_df\n",
    "\n",
    "data_df = df_data(imgdf,ann_df)\n",
    "data_df.head()"
   ]
  },
  {
   "cell_type": "markdown",
   "metadata": {},
   "source": [
    "##### Resize the bounding box"
   ]
  },
  {
   "cell_type": "code",
   "execution_count": 19,
   "metadata": {
    "collapsed": true
   },
   "outputs": [],
   "source": [
    "bbox_array = np.array(data_df.bbox.tolist())\n",
    "wh_array = data_df[[\"width\",\"height\"]].as_matrix()\n",
    "\n",
    "def re_calibrate(bbox_array,wh_array):\n",
    "    \"\"\"return the resized bbox array\"\"\"\n",
    "    bb_resized = (bbox_array/np.concatenate([wh_array,wh_array],axis=-1)) *SIZE\n",
    "    \n",
    "    true_bb = bb_resized/32\n",
    "    # swith xy as left top conner to center point\n",
    "    true_bb[...,:2]=true_bb[...,:2]+true_bb[...,2:]/2\n",
    "    # Labels' Anchor positions on the grid map\n",
    "    grid_bbxy = np.floor(true_bb[...,:2])\n",
    "    return bb_resized,true_bb,grid_bbxy\n",
    "\n",
    "bb_resized,true_bb,grid_bbxy = re_calibrate(bbox_array,wh_array)\n",
    "true_bbxy,true_bbwh = true_bb[...,:2],true_bb[...,2:]"
   ]
  },
  {
   "cell_type": "code",
   "execution_count": 20,
   "metadata": {},
   "outputs": [
    {
     "data": {
      "text/plain": [
       "array([[142.4085    , 307.70296471,  34.372     , 108.29703529],\n",
       "       [363.779     , 297.36693208,  52.13      ,  54.47943794],\n",
       "       [148.8032    , 111.24564565, 240.93888   , 301.0190991 ],\n",
       "       ...,\n",
       "       [  0.6955    , 278.88605042, 415.3045    ,  61.5610084 ],\n",
       "       [252.4535    ,   1.144     ,  47.268     , 130.27733333],\n",
       "       [145.9445    ,   2.93934272,  63.1995    ,  92.98478873]])"
      ]
     },
     "execution_count": 20,
     "metadata": {},
     "output_type": "execute_result"
    }
   ],
   "source": [
    "bb_resized"
   ]
  },
  {
   "cell_type": "code",
   "execution_count": 21,
   "metadata": {
    "collapsed": true
   },
   "outputs": [],
   "source": [
    "def find_best_anchors(true_bbwh):\n",
    "    iou_score = []\n",
    "    for b in range(BOX):\n",
    "        wh_anc = np.tile(ANC_ARR[b],[true_bbwh.shape[0],1])\n",
    "        true_area = true_bbwh.prod(axis=-1)\n",
    "        anc_area = wh_anc.prod(axis=-1)\n",
    "    \n",
    "        inter_area = np.min([wh_anc,true_bbwh],axis=0).prod(axis=-1)\n",
    "    \n",
    "        union_area = true_area + anc_area - inter_area\n",
    "        iou_score.append(inter_area/union_area)\n",
    "    best_anchor_idx = np.array(iou_score).T.argmax(axis=-1)\n",
    "    return best_anchor_idx\n",
    "\n",
    "best_anchor_idx = find_best_anchors(true_bbwh)"
   ]
  },
  {
   "cell_type": "markdown",
   "metadata": {},
   "source": [
    "##### Index to onehot"
   ]
  },
  {
   "cell_type": "code",
   "execution_count": 22,
   "metadata": {
    "collapsed": true
   },
   "outputs": [],
   "source": [
    "cate_idx = data_df[\"cate_id_oh\"].as_matrix()\n",
    "\n",
    "cate_oh = np.eye(cate_idx.max()+1)[cate_idx]"
   ]
  },
  {
   "cell_type": "code",
   "execution_count": 23,
   "metadata": {
    "collapsed": true
   },
   "outputs": [],
   "source": [
    "true_vec = np.concatenate([true_bb,np.ones((true_bb.shape[0],1)),cate_oh],axis=-1)"
   ]
  },
  {
   "cell_type": "markdown",
   "metadata": {},
   "source": [
    "#### Reverse adjust funtion to get train labels\n",
    "\n",
    "* t to b\n",
    "\n",
    "$\\large b_{x}=\\sigma(t_{x})+c_{x}$\n",
    "\n",
    "$\\large b_{y}=\\sigma(t_{y})+c_{y}$\n",
    "\n",
    "$\\large b_{w}=p_{w}e^{w}$\n",
    "\n",
    "$\\large b_{h}=p_{h}e^{h}$"
   ]
  },
  {
   "cell_type": "markdown",
   "metadata": {},
   "source": [
    "* b to t\n",
    "\n",
    "$\\large t_{x}=-ln(\\frac{1}{b_{x}-c_{x}}-1)$\n",
    "\n",
    "$\\large t_{y}=-ln(\\frac{1}{b_{y}-c_{y}}-1)$\n",
    "\n",
    "$\\large t_{w}=ln(\\frac{b_{w}}{p_{w}})$\n",
    "\n",
    "$\\large t_{h}=ln(\\frac{b_{h}}{p_{h}})$"
   ]
  },
  {
   "cell_type": "code",
   "execution_count": 24,
   "metadata": {
    "collapsed": true
   },
   "outputs": [],
   "source": [
    "from numpy import inf\n",
    "true_adj = true_vec\n",
    "# true_adj[true_adj == -inf] = 0"
   ]
  },
  {
   "cell_type": "code",
   "execution_count": 25,
   "metadata": {
    "collapsed": true
   },
   "outputs": [],
   "source": [
    "vec_loc = np.concatenate([grid_bbxy,np.expand_dims(best_anchor_idx,axis=-1)],axis=-1).astype(np.int)"
   ]
  },
  {
   "cell_type": "markdown",
   "metadata": {},
   "source": [
    "#### Feature Extractor"
   ]
  },
  {
   "cell_type": "code",
   "execution_count": 26,
   "metadata": {
    "collapsed": true
   },
   "outputs": [],
   "source": [
    "from conv_model import dn121_conv\n",
    "\n",
    "dn121=dn121_conv(DN121)"
   ]
  },
  {
   "cell_type": "code",
   "execution_count": 27,
   "metadata": {
    "collapsed": true
   },
   "outputs": [],
   "source": [
    "bce = nn.modules.loss.BCELoss()"
   ]
  },
  {
   "cell_type": "code",
   "execution_count": 28,
   "metadata": {
    "collapsed": true
   },
   "outputs": [],
   "source": [
    "class dn_yolo(nn.Module):\n",
    "    def __init__(self,feat_extra,feat_in):\n",
    "        super(dn_yolo,self).__init__()\n",
    "        self.feat_in = feat_in\n",
    "        self.feat_extra=feat_extra\n",
    "        \n",
    "        self.conv_1 = nn.Conv2d(self.feat_in,feat_in,kernel_size=(3,3),stride=(1,1),padding=1,bias=False)\n",
    "        self.conv_2 = nn.Conv2d(self.feat_in,feat_in,kernel_size=(1,1),stride=(1,1),padding=0,bias=False)\n",
    "        self.conv_3 = nn.Conv2d(self.feat_in,VEC_LEN*BOX,kernel_size=(1,1),stride=(1,1),padding=0,bias=False)\n",
    "        self.bn1 = nn.BatchNorm2d(self.feat_in)\n",
    "        self.bn2 = nn.BatchNorm2d(self.feat_in)\n",
    "        self.bn3 = nn.BatchNorm2d(self.feat_in)\n",
    "    \n",
    "    def forward(self,x):\n",
    "        \n",
    "        x = self.feat_extra(x)\n",
    "        \n",
    "        x = self.bn1(x)\n",
    "        x = self.conv_1(x)\n",
    "        x = self.bn2(x)\n",
    "        x = self.conv_2(x)\n",
    "        x = self.bn3(x)\n",
    "        x = self.conv_3(x)\n",
    "        \n",
    "        x = x.permute([0,2,3,1]).contiguous().view(-1,FEAT_W,FEAT_H,BOX,VEC_LEN)\n",
    "        \n",
    "        return x"
   ]
  },
  {
   "cell_type": "markdown",
   "metadata": {},
   "source": [
    "### Data Generator"
   ]
  },
  {
   "cell_type": "code",
   "execution_count": 29,
   "metadata": {
    "collapsed": true
   },
   "outputs": [],
   "source": [
    "from torch.utils.data import DataLoader,dataset\n",
    "from torchvision import transforms\n",
    "from PIL import Image"
   ]
  },
  {
   "cell_type": "code",
   "execution_count": 30,
   "metadata": {
    "collapsed": true
   },
   "outputs": [],
   "source": [
    "transform = transforms.Compose([transforms.Resize((HEIGHT,WIDTH)),\n",
    "                                transforms.ToTensor(),\n",
    "                                transforms.Normalize([.5,.5,.5],[.5,.5,.5])\n",
    "                               ])\n",
    "trans_origin = transforms.Compose([transforms.Resize((HEIGHT,WIDTH)),\n",
    "                                transforms.ToTensor(),\n",
    "                               ])\n",
    "back2PIL = transforms.Compose([transforms.ToPILImage(mode=\"RGB\")])"
   ]
  },
  {
   "cell_type": "markdown",
   "metadata": {},
   "source": [
    "### Training"
   ]
  },
  {
   "cell_type": "code",
   "execution_count": 31,
   "metadata": {
    "collapsed": true
   },
   "outputs": [],
   "source": [
    "from torch.utils.data import DataLoader\n",
    "from tqdm import trange\n",
    "from datetime import datetime\n",
    "import os\n",
    "from p3self.matchbox import Trainer\n"
   ]
  },
  {
   "cell_type": "code",
   "execution_count": 32,
   "metadata": {
    "collapsed": true
   },
   "outputs": [],
   "source": [
    "from data import odData\n",
    "\n",
    "train_set = odData(urllist = list(IMG+i for i in list(data_df[\"file_name\"])),\n",
    "                          true_adj = true_adj,\n",
    "                          vec_loc = vec_loc[:,np.newaxis,:],\n",
    "#                            true_vec = true_vec,\n",
    "                          transform = transform,\n",
    "                           trans_origin=trans_origin,\n",
    "                  )"
   ]
  },
  {
   "cell_type": "code",
   "execution_count": 33,
   "metadata": {
    "collapsed": true
   },
   "outputs": [],
   "source": [
    "trainer=Trainer(train_set,batch_size=8,print_on=5)\n",
    "model = dn_yolo(dn121,1024)\n",
    "from loss_ import yolo3_loss_on_t as yolo3_loss\n",
    "loss_func = yolo3_loss(lbd_noobj=.3,testing=False)"
   ]
  },
  {
   "cell_type": "code",
   "execution_count": 34,
   "metadata": {
    "collapsed": true
   },
   "outputs": [],
   "source": [
    "CUDA = torch.cuda.is_available()\n",
    "if CUDA:\n",
    "    torch.cuda.empty_cache()\n",
    "    model.cuda()\n",
    "    loss_func.cuda()"
   ]
  },
  {
   "cell_type": "code",
   "execution_count": 35,
   "metadata": {
    "collapsed": true
   },
   "outputs": [],
   "source": [
    "from torch.optim import Adam\n",
    "optimizer = Adam(model.parameters())"
   ]
  },
  {
   "cell_type": "code",
   "execution_count": null,
   "metadata": {
    "collapsed": true
   },
   "outputs": [],
   "source": [
    "def action(*args,**kwargs):\n",
    "    \"\"\"\n",
    "    y_s: label for scoring, because the y's bb has been transformed into t\n",
    "    \"\"\"\n",
    "    x,y,imgs,lbl_mask,vec_loc,t_xy,t_wh = args[0]\n",
    "    iteration=kwargs[\"ite\"]\n",
    "    x,y,lbl_mask,vec_loc,t_xy,t_wh = Variable(x),Variable(y),Variable(lbl_mask),Variable(vec_loc),Variable(t_xy),Variable(t_wh)\n",
    "    if CUDA:\n",
    "        x,y,lbl_mask,t_xy,t_wh=x.cuda(),y.cuda(),lbl_mask.cuda(),t_xy.cuda(),t_wh.cuda()\n",
    "    optimizer.zero_grad()\n",
    "    \n",
    "    y_ = model(x)\n",
    "    model.x=x\n",
    "    model.y_=y_\n",
    "    model.y=y\n",
    "    \n",
    "    loss,loss_xy,loss_wh,loss_obj,loss_noobj,loss_cls = loss_func(y_,y,lbl_mask,vec_loc,t_xy,t_wh)\n",
    "    loss.backward()\n",
    "\n",
    "    optimizer.step()\n",
    "    \n",
    "    if iteration%50==0:\n",
    "        y_pred = loss_func.t2b(y_)[0]\n",
    "        if CUDA:\n",
    "            y_pred=y_pred.cpu()\n",
    "        img=back2PIL(imgs[0])\n",
    "        printimg=plot_bb(img,data_to_df(y_pred))\n",
    "    return {\"loss\":loss.data[0],\n",
    "            \"loss_xy\":loss_xy.data[0],\n",
    "            \"loss_wh\":loss_wh.data[0],\n",
    "            \"loss_obj\":loss_obj.data[0],\n",
    "            \"loss_noobj\":loss_noobj.data[0],\n",
    "            \"loss_cls\":loss_cls.data[0],}\n",
    "\n",
    "trainer.action=action"
   ]
  },
  {
   "cell_type": "code",
   "execution_count": null,
   "metadata": {},
   "outputs": [
    {
     "name": "stderr",
     "output_type": "stream",
     "text": [
      "⭐[ep_0_i_519]\tloss\t261.978✨\tloss_cls\t0.001✨\tloss_noobj\t0.000✨\tloss_obj\t0.096✨\tloss_wh\t70.800✨\tloss_xy\t191.081:  11%|█▏        | 521/4598 [09:00<1:10:28,  1.04s/it]                               "
     ]
    }
   ],
   "source": [
    "trainer.train(1)"
   ]
  },
  {
   "cell_type": "markdown",
   "metadata": {},
   "source": [
    "## Debugging"
   ]
  },
  {
   "cell_type": "code",
   "execution_count": 39,
   "metadata": {},
   "outputs": [
    {
     "name": "stdout",
     "output_type": "stream",
     "text": [
      "b [[ 0.65315019  1.54997541 -0.25399721  0.16270784  1.        ]] \ttxy [[0.65315019 1.54997541]] \ttwh [[-0.25399721  0.16270784]]\n",
      "b [[2.41901204 0.41381521 0.68080221 0.2694494  1.        ]] \ttxy [[2.41901204 0.41381521]] \ttwh [[0.68080221 0.2694494 ]]\n",
      "b [[ 1.31207024 -0.31000064 -0.39411219  0.45762969  1.        ]] \ttxy [[ 1.31207024 -0.31000064]] \ttwh [[-0.39411219  0.45762969]]\n",
      "b [[ 1.06260212  0.10103293 -0.71450935  1.00570942  1.        ]] \ttxy [[1.06260212 0.10103293]] \ttwh [[-0.71450935  1.00570942]]\n",
      "b [[-0.90516836  1.91624172 -0.60786694  0.02731426  1.        ]] \ttxy [[-0.90516836  1.91624172]] \ttwh [[-0.60786694  0.02731426]]\n",
      "b [[-1.32154079 -0.46752114  1.014054   -0.07430729  1.        ]] \ttxy [[-1.32154079 -0.46752114]] \ttwh [[ 1.014054   -0.07430729]]\n",
      "b [[-1.48678341  0.18401752 -0.30986149  0.1237172   1.        ]] \ttxy [[-1.48678341  0.18401752]] \ttwh [[-0.30986149  0.1237172 ]]\n",
      "b [[0.68061076 0.09464089 0.06869179 0.17846554 1.        ]] \ttxy [[0.68061076 0.09464089]] \ttwh [[0.06869179 0.17846554]]\n",
      "b [[-2.5080935  -1.36731072 -0.07363397 -0.44774749  1.        ]] \ttxy [[-2.5080935  -1.36731072]] \ttwh [[-0.07363397 -0.44774749]]\n",
      "b [[-1.11921862 -0.94068932 -0.63246196  0.76700508  1.        ]] \ttxy [[-1.11921862 -0.94068932]] \ttwh [[-0.63246196  0.76700508]]\n",
      "b [[ 0.35044944  0.92439859 -0.16991262 -0.81417958  1.        ]] \ttxy [[0.35044944 0.92439859]] \ttwh [[-0.16991262 -0.81417958]]\n",
      "b [[-1.16591727  0.26535872  0.38752129  0.03388903  1.        ]] \ttxy [[-1.16591727  0.26535872]] \ttwh [[0.38752129 0.03388903]]\n"
     ]
    }
   ],
   "source": [
    "train_set = odData(urllist = list(IMG+i for i in list(data_df[\"file_name\"])),\n",
    "                          true_adj = true_adj,\n",
    "                          vec_loc = vec_loc[:,np.newaxis,:],\n",
    "#                            true_vec = true_vec,\n",
    "                          transform = transform,\n",
    "                           trans_origin=trans_origin,\n",
    "                           testing=True,\n",
    "                  )\n",
    "\n",
    "dl = iter(DataLoader(train_set,batch_size=12,shuffle=True))\n",
    "\n",
    "a = next(dl)"
   ]
  },
  {
   "cell_type": "code",
   "execution_count": 40,
   "metadata": {},
   "outputs": [
    {
     "data": {
      "text/plain": [
       "\n",
       "( 0 , 0 ,.,.) = \n",
       "  0.6784  0.6941  0.7255  ...   0.2627  0.2392  0.2863\n",
       "  0.7098  0.7333  0.7569  ...   0.2549  0.2235  0.2157\n",
       "  0.7412  0.7804  0.7961  ...   0.2706  0.2392  0.2314\n",
       "           ...             ⋱             ...          \n",
       " -0.6549 -0.6471 -0.6392  ...  -0.5765 -0.5843 -0.5765\n",
       " -0.6471 -0.6392 -0.6392  ...  -0.5686 -0.5529 -0.5765\n",
       " -0.6392 -0.6392 -0.6471  ...  -0.5608 -0.5294 -0.5765\n",
       "\n",
       "( 0 , 1 ,.,.) = \n",
       "  0.6784  0.6941  0.7333  ...   0.4275  0.4039  0.4353\n",
       "  0.7098  0.7412  0.7647  ...   0.4196  0.3882  0.3804\n",
       "  0.7412  0.7882  0.8039  ...   0.4431  0.4196  0.3961\n",
       "           ...             ⋱             ...          \n",
       " -0.8196 -0.8118 -0.8039  ...  -0.7098 -0.7176 -0.7098\n",
       " -0.8118 -0.8039 -0.8039  ...  -0.7020 -0.6863 -0.7098\n",
       " -0.8039 -0.8039 -0.8118  ...  -0.6941 -0.6627 -0.7098\n",
       "\n",
       "( 0 , 2 ,.,.) = \n",
       "  0.7412  0.7412  0.7725  ...   0.3647  0.3647  0.4196\n",
       "  0.7725  0.7882  0.8039  ...   0.3647  0.3333  0.3412\n",
       "  0.8039  0.8353  0.8431  ...   0.3569  0.3412  0.3255\n",
       "           ...             ⋱             ...          \n",
       " -0.9686 -0.9608 -0.9529  ...  -0.7647 -0.7804 -0.7882\n",
       " -0.9608 -0.9529 -0.9529  ...  -0.7647 -0.7569 -0.7882\n",
       " -0.9373 -0.9373 -0.9451  ...  -0.7569 -0.7333 -0.7882\n",
       "      ⋮  \n",
       "\n",
       "( 1 , 0 ,.,.) = \n",
       "  0.8588  0.8431  0.8588  ...   1.0000  1.0000  1.0000\n",
       "  0.8745  0.8510  0.8588  ...   1.0000  0.9922  0.9608\n",
       "  0.9059  0.8745  0.8824  ...   1.0000  0.9922  1.0000\n",
       "           ...             ⋱             ...          \n",
       "  0.5059  0.5059  0.4980  ...  -0.5373 -0.5137 -0.4745\n",
       "  0.4824  0.4902  0.4824  ...  -0.6549 -0.5294 -0.5529\n",
       "  0.4745  0.4824  0.4745  ...  -0.6392 -0.5843 -0.5529\n",
       "\n",
       "( 1 , 1 ,.,.) = \n",
       "  0.9216  0.9216  0.9529  ...   0.9608  0.9765  1.0000\n",
       "  0.9451  0.9373  0.9529  ...   1.0000  0.9922  0.9843\n",
       "  0.9686  0.9451  0.9529  ...   0.9843  0.9765  0.9686\n",
       "           ...             ⋱             ...          \n",
       " -0.1765 -0.1608 -0.1529  ...  -0.5608 -0.5608 -0.5294\n",
       " -0.2000 -0.1843 -0.1608  ...  -0.6235 -0.5059 -0.5137\n",
       " -0.2157 -0.1922 -0.1765  ...  -0.5608 -0.4980 -0.4980\n",
       "\n",
       "( 1 , 2 ,.,.) = \n",
       "  0.9686  0.9451  0.9529  ...   0.9843  0.9765  0.9608\n",
       "  0.9686  0.9529  0.9529  ...   1.0000  1.0000  0.9922\n",
       "  0.9922  0.9608  0.9529  ...   1.0000  1.0000  1.0000\n",
       "           ...             ⋱             ...          \n",
       " -0.9843 -0.9922 -0.9843  ...  -0.4902 -0.5608 -0.5843\n",
       " -1.0000 -0.9922 -1.0000  ...  -0.5686 -0.5608 -0.6235\n",
       " -1.0000 -1.0000 -1.0000  ...  -0.6314 -0.6000 -0.5529\n",
       "      ⋮  \n",
       "\n",
       "( 2 , 0 ,.,.) = \n",
       " -0.0431 -0.0431 -0.0980  ...  -0.4196 -0.4431 -0.4353\n",
       " -0.0902 -0.0902 -0.0588  ...  -0.4431 -0.4353 -0.4196\n",
       " -0.0902 -0.0824 -0.0667  ...  -0.4196 -0.4275 -0.4588\n",
       "           ...             ⋱             ...          \n",
       "  0.6314  0.6078  0.6235  ...   0.7804  0.7647  0.7569\n",
       "  0.6157  0.6000  0.6471  ...   0.8588  0.8431  0.8353\n",
       "  0.6863  0.6627  0.6706  ...   0.9059  0.8980  0.8824\n",
       "\n",
       "( 2 , 1 ,.,.) = \n",
       " -0.1451 -0.1529 -0.1922  ...  -0.4824 -0.5059 -0.4980\n",
       " -0.1843 -0.1843 -0.1529  ...  -0.5059 -0.4902 -0.4745\n",
       " -0.1843 -0.1765 -0.1686  ...  -0.4745 -0.4824 -0.5137\n",
       "           ...             ⋱             ...          \n",
       "  0.5765  0.5608  0.5922  ...   0.6549  0.6549  0.6549\n",
       "  0.5451  0.5373  0.6000  ...   0.7020  0.6941  0.6863\n",
       "  0.6314  0.6078  0.6235  ...   0.7098  0.7020  0.7020\n",
       "\n",
       "( 2 , 2 ,.,.) = \n",
       " -0.3255 -0.3333 -0.3647  ...  -0.6863 -0.6863 -0.6471\n",
       " -0.3569 -0.3569 -0.3255  ...  -0.7098 -0.6706 -0.6314\n",
       " -0.3569 -0.3333 -0.3176  ...  -0.6706 -0.6627 -0.6706\n",
       "           ...             ⋱             ...          \n",
       "  0.3490  0.3333  0.3647  ...   0.2784  0.2784  0.2863\n",
       "  0.3176  0.3098  0.3725  ...   0.2627  0.2784  0.2941\n",
       "  0.4118  0.3882  0.3961  ...   0.2000  0.1922  0.1686\n",
       "...     \n",
       "      ⋮  \n",
       "\n",
       "( 9 , 0 ,.,.) = \n",
       " -0.7333 -0.7098 -0.7098  ...  -0.9608 -0.9608 -0.8667\n",
       " -0.7098 -0.7255 -0.7255  ...  -0.9529 -0.9451 -0.8588\n",
       " -0.7098 -0.7255 -0.7333  ...  -0.9529 -0.9451 -0.8510\n",
       "           ...             ⋱             ...          \n",
       " -0.0745 -0.1137 -0.0745  ...  -0.1922 -0.2078 -0.1922\n",
       " -0.0902 -0.1059 -0.1059  ...  -0.1451 -0.1765 -0.1686\n",
       " -0.1529 -0.1373 -0.0824  ...  -0.1373 -0.1529 -0.1373\n",
       "\n",
       "( 9 , 1 ,.,.) = \n",
       " -0.5059 -0.4824 -0.4902  ...  -0.9608 -0.9608 -0.8745\n",
       " -0.5137 -0.4980 -0.5059  ...  -0.9529 -0.9529 -0.8667\n",
       " -0.5294 -0.5059 -0.4980  ...  -0.9608 -0.9451 -0.8588\n",
       "           ...             ⋱             ...          \n",
       " -0.1294 -0.1765 -0.1373  ...  -0.2706 -0.2863 -0.2549\n",
       " -0.1373 -0.1529 -0.1608  ...  -0.2235 -0.2549 -0.2549\n",
       " -0.2078 -0.1922 -0.1451  ...  -0.2078 -0.2471 -0.2471\n",
       "\n",
       "( 9 , 2 ,.,.) = \n",
       " -0.0745 -0.0510 -0.0353  ...  -0.9529 -0.9451 -0.8353\n",
       " -0.0588 -0.0588 -0.0510  ...  -0.9451 -0.9294 -0.8196\n",
       " -0.0588 -0.0588 -0.0431  ...  -0.9294 -0.9216 -0.8039\n",
       "           ...             ⋱             ...          \n",
       " -0.0118 -0.0588 -0.0196  ...  -0.0902 -0.1059 -0.0824\n",
       " -0.0275 -0.0353 -0.0353  ...  -0.0745 -0.0980 -0.0902\n",
       " -0.0745 -0.0588 -0.0039  ...  -0.0824 -0.1059 -0.0980\n",
       "      ⋮  \n",
       "\n",
       "(10 , 0 ,.,.) = \n",
       " -0.6157 -0.5765 -0.5608  ...  -0.3882 -0.4039 -0.4118\n",
       " -0.6078 -0.5765 -0.5608  ...  -0.3804 -0.3961 -0.4039\n",
       " -0.5922 -0.5686 -0.5608  ...  -0.3647 -0.3882 -0.3961\n",
       "           ...             ⋱             ...          \n",
       "  0.0902  0.1059  0.1294  ...  -0.5922 -0.3725 -0.0824\n",
       "  0.0902  0.1137  0.1294  ...  -0.5843 -0.4118 -0.0980\n",
       "  0.0824  0.1059  0.1294  ...  -0.5843 -0.4431 -0.1216\n",
       "\n",
       "(10 , 1 ,.,.) = \n",
       " -0.4275 -0.3961 -0.3961  ...  -0.1765 -0.1922 -0.2000\n",
       " -0.4196 -0.3961 -0.3882  ...  -0.1765 -0.1922 -0.1922\n",
       " -0.4039 -0.3882 -0.3882  ...  -0.1686 -0.1843 -0.2000\n",
       "           ...             ⋱             ...          \n",
       " -0.2784 -0.2627 -0.2471  ...  -0.4745 -0.2157  0.0510\n",
       " -0.2941 -0.2706 -0.2549  ...  -0.4667 -0.2549  0.0275\n",
       " -0.3098 -0.2863 -0.2627  ...  -0.4588 -0.2863  0.0039\n",
       "\n",
       "(10 , 2 ,.,.) = \n",
       " -0.5373 -0.4980 -0.4980  ...  -0.2157 -0.2314 -0.2392\n",
       " -0.5294 -0.4980 -0.4902  ...  -0.2078 -0.2235 -0.2314\n",
       " -0.5137 -0.4902 -0.4902  ...  -0.2078 -0.2157 -0.2314\n",
       "           ...             ⋱             ...          \n",
       " -0.8745 -0.8902 -0.8980  ...  -0.3804 -0.3569 -0.0824\n",
       " -0.8588 -0.8588 -0.8824  ...  -0.3569 -0.3882 -0.1059\n",
       " -0.8510 -0.8510 -0.8745  ...  -0.3412 -0.4118 -0.1373\n",
       "      ⋮  \n",
       "\n",
       "(11 , 0 ,.,.) = \n",
       "  0.4588  0.4588  0.4667  ...   0.6392  0.6392  0.6549\n",
       "  0.4667  0.4745  0.4745  ...   0.6314  0.6235  0.6314\n",
       "  0.4745  0.4588  0.4667  ...   0.6549  0.6392  0.6314\n",
       "           ...             ⋱             ...          \n",
       "  0.5686  0.5529  0.5608  ...   0.1373  0.1529  0.1608\n",
       "  0.5765  0.5608  0.5765  ...   0.1373  0.1451  0.1608\n",
       "  0.6000  0.5843  0.5843  ...   0.1137  0.1059  0.1216\n",
       "\n",
       "(11 , 1 ,.,.) = \n",
       "  0.6000  0.6000  0.6000  ...   0.8039  0.8118  0.8275\n",
       "  0.6000  0.6078  0.6078  ...   0.7882  0.7882  0.8039\n",
       "  0.6000  0.5843  0.5843  ...   0.7961  0.7804  0.7882\n",
       "           ...             ⋱             ...          \n",
       "  0.7490  0.7412  0.7490  ...  -0.9922 -0.9765 -0.9843\n",
       "  0.7490  0.7490  0.7569  ...  -0.9922 -0.9922 -0.9922\n",
       "  0.7490  0.7569  0.7569  ...  -0.9765 -0.9843 -1.0000\n",
       "\n",
       "(11 , 2 ,.,.) = \n",
       "  0.7412  0.7490  0.7647  ...   0.9373  0.9373  0.9529\n",
       "  0.7255  0.7412  0.7490  ...   0.9137  0.9137  0.9294\n",
       "  0.7647  0.7412  0.7333  ...   0.9137  0.9059  0.9059\n",
       "           ...             ⋱             ...          \n",
       "  0.9373  0.9294  0.9373  ...  -0.8824 -0.8745 -0.8902\n",
       "  0.9373  0.9373  0.9451  ...  -0.8902 -0.8902 -0.8980\n",
       "  0.9451  0.9451  0.9451  ...  -0.8824 -0.8980 -0.8980\n",
       "[torch.FloatTensor of size 12x3x416x416]"
      ]
     },
     "execution_count": 40,
     "metadata": {},
     "output_type": "execute_result"
    }
   ],
   "source": [
    "a[0]"
   ]
  },
  {
   "cell_type": "code",
   "execution_count": null,
   "metadata": {
    "collapsed": true
   },
   "outputs": [],
   "source": [
    "loss_func(model.y_,model.y)"
   ]
  },
  {
   "cell_type": "code",
   "execution_count": 36,
   "metadata": {
    "collapsed": true
   },
   "outputs": [],
   "source": [
    "y_true=Variable(torch.rand(4,FEAT_W,FEAT_H,BOX,VEC_LEN))\n",
    "y_pred=Variable(torch.rand(4,FEAT_W,FEAT_H,BOX,VEC_LEN))"
   ]
  },
  {
   "cell_type": "code",
   "execution_count": 70,
   "metadata": {
    "collapsed": true
   },
   "outputs": [],
   "source": [
    "mask = loss_func.loss_mask(loss_func.t2b(model.y_),loss_func.t2b(model.y)).float()\n",
    "y_=mask*model.y_.float()\n",
    "y=mask*model.y.float()\n",
    "a=F.binary_cross_entropy(F.sigmoid(model.y_[...,4].float()),model.y[...,4].float())\n"
   ]
  },
  {
   "cell_type": "code",
   "execution_count": 52,
   "metadata": {},
   "outputs": [
    {
     "data": {
      "text/plain": [
       "<__main__.odData at 0x7fe8e9ba7710>"
      ]
     },
     "execution_count": 52,
     "metadata": {},
     "output_type": "execute_result"
    }
   ],
   "source": [
    "train_set"
   ]
  },
  {
   "cell_type": "code",
   "execution_count": 49,
   "metadata": {
    "collapsed": true
   },
   "outputs": [],
   "source": [
    "ulist = np.random.choice(trainer.dataset.urllist,500)\n",
    "def RDIMG():return np.random.choice(ulist)\n",
    "img=Image.open(RDIMG()).resize((416,416))"
   ]
  },
  {
   "cell_type": "code",
   "execution_count": 49,
   "metadata": {
    "collapsed": true
   },
   "outputs": [],
   "source": [
    "trainer=Trainer(train_set,batch_size=8,print_on=20)\n",
    "model = dn_yolo(dn121,1024)\n",
    "loss_func = yolo3_loss()"
   ]
  },
  {
   "cell_type": "code",
   "execution_count": 50,
   "metadata": {
    "collapsed": true
   },
   "outputs": [],
   "source": [
    "train_gen = iter(trainer.train_data)\n",
    "train_sp = next(train_gen)"
   ]
  },
  {
   "cell_type": "code",
   "execution_count": 53,
   "metadata": {
    "collapsed": true
   },
   "outputs": [],
   "source": [
    "cnv=nn.Conv2d(3,25,kernel_size=3,padding=1)"
   ]
  },
  {
   "cell_type": "code",
   "execution_count": 54,
   "metadata": {
    "collapsed": true
   },
   "outputs": [],
   "source": [
    "b=cnv(Variable(torch.rand(32,3,10,10)))"
   ]
  },
  {
   "cell_type": "code",
   "execution_count": 55,
   "metadata": {},
   "outputs": [
    {
     "data": {
      "text/plain": [
       "Variable containing:\n",
       "-208.6830\n",
       "[torch.FloatTensor of size 1]"
      ]
     },
     "execution_count": 55,
     "metadata": {},
     "output_type": "execute_result"
    }
   ],
   "source": [
    "b[:,:,7,:].sum()"
   ]
  },
  {
   "cell_type": "code",
   "execution_count": 56,
   "metadata": {},
   "outputs": [
    {
     "data": {
      "text/plain": [
       "Variable containing:\n",
       "-776.7420\n",
       "[torch.FloatTensor of size 1]"
      ]
     },
     "execution_count": 56,
     "metadata": {},
     "output_type": "execute_result"
    }
   ],
   "source": [
    "b.view(32,10,10,25)[:,7,:,:].sum()"
   ]
  },
  {
   "cell_type": "code",
   "execution_count": 57,
   "metadata": {},
   "outputs": [
    {
     "data": {
      "text/plain": [
       "Variable containing:\n",
       "-208.6830\n",
       "[torch.FloatTensor of size 1]"
      ]
     },
     "execution_count": 57,
     "metadata": {},
     "output_type": "execute_result"
    }
   ],
   "source": [
    "b.permute([0,2,3,1]).contiguous().view(32,10,10,5,5)[:,7,:,:,:].contiguous().sum()"
   ]
  },
  {
   "cell_type": "code",
   "execution_count": null,
   "metadata": {
    "collapsed": true
   },
   "outputs": [],
   "source": []
  }
 ],
 "metadata": {
  "kernelspec": {
   "display_name": "Python 3",
   "language": "python",
   "name": "python3"
  },
  "language_info": {
   "codemirror_mode": {
    "name": "ipython",
    "version": 3
   },
   "file_extension": ".py",
   "mimetype": "text/x-python",
   "name": "python",
   "nbconvert_exporter": "python",
   "pygments_lexer": "ipython3",
   "version": "3.6.1"
  }
 },
 "nbformat": 4,
 "nbformat_minor": 2
}
