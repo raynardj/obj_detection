{
 "cells": [
  {
   "cell_type": "markdown",
   "metadata": {},
   "source": [
    "# Object Detection"
   ]
  },
  {
   "cell_type": "markdown",
   "metadata": {},
   "source": [
    "## First let's look at the dataset\n",
    "\n",
    "## And try to visualize the bounding box"
   ]
  },
  {
   "cell_type": "code",
   "execution_count": 1,
   "metadata": {},
   "outputs": [],
   "source": [
    "# my tool box for pytorch\n",
    "from p3self.matchbox import *\n",
    "from constant import *"
   ]
  },
  {
   "cell_type": "code",
   "execution_count": 2,
   "metadata": {},
   "outputs": [
    {
     "name": "stdout",
     "output_type": "stream",
     "text": [
      "118287\r\n"
     ]
    }
   ],
   "source": [
    "# HOME = \"/Users/zhangxiaochen/\"\n",
    "# DATA = \"/data/coco/\"\n",
    "# IMG = DATA+\"val2017/\"\n",
    "# ANN = DATA+\"annotations/instances_val2017.json\"\n",
    "%ls {IMG}|wc -l"
   ]
  },
  {
   "cell_type": "code",
   "execution_count": 3,
   "metadata": {},
   "outputs": [
    {
     "data": {
      "text/plain": [
       "0"
      ]
     },
     "execution_count": 3,
     "metadata": {},
     "output_type": "execute_result"
    }
   ],
   "source": [
    "%matplotlib inline\n",
    "from matplotlib import pyplot as plt\n",
    "import matplotlib.patches as patches\n",
    "import matplotlib.text as text\n",
    "import numpy as np\n",
    "import pandas as pd\n",
    "import json\n",
    "from glob import glob\n",
    "from PIL import Image\n",
    "import os\n",
    "\n",
    "os.system(\"mkdir -p /data/bbsample\")"
   ]
  },
  {
   "cell_type": "code",
   "execution_count": 4,
   "metadata": {},
   "outputs": [
    {
     "data": {
      "text/plain": [
       "dict_keys(['info', 'licenses', 'images', 'annotations', 'categories'])"
      ]
     },
     "execution_count": 4,
     "metadata": {},
     "output_type": "execute_result"
    }
   ],
   "source": [
    "jsfile = open(ANN).read()\n",
    "\n",
    "jsdict = json.loads(jsfile)\n",
    "\n",
    "jsdict.keys()"
   ]
  },
  {
   "cell_type": "markdown",
   "metadata": {},
   "source": [
    "#### Image table, with image url , image id, yup , that's all we need now"
   ]
  },
  {
   "cell_type": "code",
   "execution_count": 5,
   "metadata": {},
   "outputs": [
    {
     "data": {
      "text/html": [
       "<div>\n",
       "<style scoped>\n",
       "    .dataframe tbody tr th:only-of-type {\n",
       "        vertical-align: middle;\n",
       "    }\n",
       "\n",
       "    .dataframe tbody tr th {\n",
       "        vertical-align: top;\n",
       "    }\n",
       "\n",
       "    .dataframe thead th {\n",
       "        text-align: right;\n",
       "    }\n",
       "</style>\n",
       "<table border=\"1\" class=\"dataframe\">\n",
       "  <thead>\n",
       "    <tr style=\"text-align: right;\">\n",
       "      <th></th>\n",
       "      <th>coco_url</th>\n",
       "      <th>date_captured</th>\n",
       "      <th>file_name</th>\n",
       "      <th>flickr_url</th>\n",
       "      <th>height</th>\n",
       "      <th>id</th>\n",
       "      <th>license</th>\n",
       "      <th>width</th>\n",
       "    </tr>\n",
       "  </thead>\n",
       "  <tbody>\n",
       "    <tr>\n",
       "      <th>0</th>\n",
       "      <td>http://images.cocodataset.org/train2017/000000...</td>\n",
       "      <td>2013-11-14 11:18:45</td>\n",
       "      <td>000000391895.jpg</td>\n",
       "      <td>http://farm9.staticflickr.com/8186/8119368305_...</td>\n",
       "      <td>360</td>\n",
       "      <td>391895</td>\n",
       "      <td>3</td>\n",
       "      <td>640</td>\n",
       "    </tr>\n",
       "    <tr>\n",
       "      <th>1</th>\n",
       "      <td>http://images.cocodataset.org/train2017/000000...</td>\n",
       "      <td>2013-11-14 11:38:44</td>\n",
       "      <td>000000522418.jpg</td>\n",
       "      <td>http://farm1.staticflickr.com/1/127244861_ab0c...</td>\n",
       "      <td>480</td>\n",
       "      <td>522418</td>\n",
       "      <td>4</td>\n",
       "      <td>640</td>\n",
       "    </tr>\n",
       "    <tr>\n",
       "      <th>2</th>\n",
       "      <td>http://images.cocodataset.org/train2017/000000...</td>\n",
       "      <td>2013-11-14 12:36:29</td>\n",
       "      <td>000000184613.jpg</td>\n",
       "      <td>http://farm3.staticflickr.com/2169/2118578392_...</td>\n",
       "      <td>336</td>\n",
       "      <td>184613</td>\n",
       "      <td>3</td>\n",
       "      <td>500</td>\n",
       "    </tr>\n",
       "    <tr>\n",
       "      <th>3</th>\n",
       "      <td>http://images.cocodataset.org/train2017/000000...</td>\n",
       "      <td>2013-11-14 13:02:53</td>\n",
       "      <td>000000318219.jpg</td>\n",
       "      <td>http://farm5.staticflickr.com/4125/5094763076_...</td>\n",
       "      <td>640</td>\n",
       "      <td>318219</td>\n",
       "      <td>3</td>\n",
       "      <td>556</td>\n",
       "    </tr>\n",
       "    <tr>\n",
       "      <th>4</th>\n",
       "      <td>http://images.cocodataset.org/train2017/000000...</td>\n",
       "      <td>2013-11-14 16:03:19</td>\n",
       "      <td>000000554625.jpg</td>\n",
       "      <td>http://farm5.staticflickr.com/4086/5094162993_...</td>\n",
       "      <td>640</td>\n",
       "      <td>554625</td>\n",
       "      <td>3</td>\n",
       "      <td>426</td>\n",
       "    </tr>\n",
       "  </tbody>\n",
       "</table>\n",
       "</div>"
      ],
      "text/plain": [
       "                                            coco_url        date_captured  \\\n",
       "0  http://images.cocodataset.org/train2017/000000...  2013-11-14 11:18:45   \n",
       "1  http://images.cocodataset.org/train2017/000000...  2013-11-14 11:38:44   \n",
       "2  http://images.cocodataset.org/train2017/000000...  2013-11-14 12:36:29   \n",
       "3  http://images.cocodataset.org/train2017/000000...  2013-11-14 13:02:53   \n",
       "4  http://images.cocodataset.org/train2017/000000...  2013-11-14 16:03:19   \n",
       "\n",
       "          file_name                                         flickr_url  \\\n",
       "0  000000391895.jpg  http://farm9.staticflickr.com/8186/8119368305_...   \n",
       "1  000000522418.jpg  http://farm1.staticflickr.com/1/127244861_ab0c...   \n",
       "2  000000184613.jpg  http://farm3.staticflickr.com/2169/2118578392_...   \n",
       "3  000000318219.jpg  http://farm5.staticflickr.com/4125/5094763076_...   \n",
       "4  000000554625.jpg  http://farm5.staticflickr.com/4086/5094162993_...   \n",
       "\n",
       "   height      id  license  width  \n",
       "0     360  391895        3    640  \n",
       "1     480  522418        4    640  \n",
       "2     336  184613        3    500  \n",
       "3     640  318219        3    556  \n",
       "4     640  554625        3    426  "
      ]
     },
     "execution_count": 5,
     "metadata": {},
     "output_type": "execute_result"
    }
   ],
   "source": [
    "imgdf=pd.DataFrame(jsdict[\"images\"])\n",
    "imgdf.head()"
   ]
  },
  {
   "cell_type": "markdown",
   "metadata": {},
   "source": [
    "#### An annotation table, in this case, we use \"bbox\""
   ]
  },
  {
   "cell_type": "code",
   "execution_count": 6,
   "metadata": {},
   "outputs": [
    {
     "data": {
      "text/html": [
       "<div>\n",
       "<style scoped>\n",
       "    .dataframe tbody tr th:only-of-type {\n",
       "        vertical-align: middle;\n",
       "    }\n",
       "\n",
       "    .dataframe tbody tr th {\n",
       "        vertical-align: top;\n",
       "    }\n",
       "\n",
       "    .dataframe thead th {\n",
       "        text-align: right;\n",
       "    }\n",
       "</style>\n",
       "<table border=\"1\" class=\"dataframe\">\n",
       "  <thead>\n",
       "    <tr style=\"text-align: right;\">\n",
       "      <th></th>\n",
       "      <th>area</th>\n",
       "      <th>bbox</th>\n",
       "      <th>category_id</th>\n",
       "      <th>id</th>\n",
       "      <th>image_id</th>\n",
       "      <th>iscrowd</th>\n",
       "      <th>segmentation</th>\n",
       "    </tr>\n",
       "  </thead>\n",
       "  <tbody>\n",
       "    <tr>\n",
       "      <th>0</th>\n",
       "      <td>2765.14865</td>\n",
       "      <td>[199.84, 200.46, 77.71, 70.88]</td>\n",
       "      <td>58</td>\n",
       "      <td>156</td>\n",
       "      <td>558840</td>\n",
       "      <td>0</td>\n",
       "      <td>[[239.97, 260.24, 222.04, 270.49, 199.84, 253....</td>\n",
       "    </tr>\n",
       "    <tr>\n",
       "      <th>1</th>\n",
       "      <td>1545.42130</td>\n",
       "      <td>[234.22, 317.11, 149.39, 38.55]</td>\n",
       "      <td>58</td>\n",
       "      <td>509</td>\n",
       "      <td>200365</td>\n",
       "      <td>0</td>\n",
       "      <td>[[247.71, 354.7, 253.49, 346.99, 276.63, 337.3...</td>\n",
       "    </tr>\n",
       "    <tr>\n",
       "      <th>2</th>\n",
       "      <td>5607.66135</td>\n",
       "      <td>[239.48, 347.87, 160.0, 57.81]</td>\n",
       "      <td>58</td>\n",
       "      <td>603</td>\n",
       "      <td>200365</td>\n",
       "      <td>0</td>\n",
       "      <td>[[274.58, 405.68, 298.32, 405.68, 302.45, 402....</td>\n",
       "    </tr>\n",
       "    <tr>\n",
       "      <th>3</th>\n",
       "      <td>0.00000</td>\n",
       "      <td>[296.65, 388.33, 1.03, 0.0]</td>\n",
       "      <td>58</td>\n",
       "      <td>918</td>\n",
       "      <td>200365</td>\n",
       "      <td>0</td>\n",
       "      <td>[[296.65, 388.33, 296.65, 388.33, 297.68, 388....</td>\n",
       "    </tr>\n",
       "    <tr>\n",
       "      <th>4</th>\n",
       "      <td>800.41325</td>\n",
       "      <td>[251.87, 333.42, 125.94, 22.71]</td>\n",
       "      <td>58</td>\n",
       "      <td>1072</td>\n",
       "      <td>200365</td>\n",
       "      <td>0</td>\n",
       "      <td>[[251.87, 356.13, 260.13, 343.74, 300.39, 335....</td>\n",
       "    </tr>\n",
       "  </tbody>\n",
       "</table>\n",
       "</div>"
      ],
      "text/plain": [
       "         area                             bbox  category_id    id  image_id  \\\n",
       "0  2765.14865   [199.84, 200.46, 77.71, 70.88]           58   156    558840   \n",
       "1  1545.42130  [234.22, 317.11, 149.39, 38.55]           58   509    200365   \n",
       "2  5607.66135   [239.48, 347.87, 160.0, 57.81]           58   603    200365   \n",
       "3     0.00000      [296.65, 388.33, 1.03, 0.0]           58   918    200365   \n",
       "4   800.41325  [251.87, 333.42, 125.94, 22.71]           58  1072    200365   \n",
       "\n",
       "   iscrowd                                       segmentation  \n",
       "0        0  [[239.97, 260.24, 222.04, 270.49, 199.84, 253....  \n",
       "1        0  [[247.71, 354.7, 253.49, 346.99, 276.63, 337.3...  \n",
       "2        0  [[274.58, 405.68, 298.32, 405.68, 302.45, 402....  \n",
       "3        0  [[296.65, 388.33, 296.65, 388.33, 297.68, 388....  \n",
       "4        0  [[251.87, 356.13, 260.13, 343.74, 300.39, 335....  "
      ]
     },
     "execution_count": 6,
     "metadata": {},
     "output_type": "execute_result"
    }
   ],
   "source": [
    "ann_df=pd.DataFrame(jsdict[\"annotations\"])\n",
    "ann_df.head()"
   ]
  },
  {
   "cell_type": "markdown",
   "metadata": {},
   "source": [
    "#### A category table"
   ]
  },
  {
   "cell_type": "code",
   "execution_count": 7,
   "metadata": {
    "collapsed": true
   },
   "outputs": [],
   "source": [
    "cat_df = pd.DataFrame(jsdict[\"categories\"])\n",
    "idx2name = dict(zip(cat_df[\"id\"],cat_df[\"name\"]))\n",
    "id2idx = dict(enumerate(cat_df[\"id\"]))\n",
    "idx2id = dict((v,k) for k,v in enumerate(cat_df[\"id\"]))"
   ]
  },
  {
   "cell_type": "code",
   "execution_count": 8,
   "metadata": {},
   "outputs": [
    {
     "data": {
      "text/plain": [
       "80"
      ]
     },
     "execution_count": 8,
     "metadata": {},
     "output_type": "execute_result"
    }
   ],
   "source": [
    "len(idx2name)"
   ]
  },
  {
   "cell_type": "code",
   "execution_count": 9,
   "metadata": {
    "collapsed": true
   },
   "outputs": [],
   "source": [
    "urls = glob(IMG+\"/*\")"
   ]
  },
  {
   "cell_type": "code",
   "execution_count": 10,
   "metadata": {},
   "outputs": [
    {
     "data": {
      "text/plain": [
       "['/terminus/coco/train2017/000000184383.jpg',\n",
       " '/terminus/coco/train2017/000000038938.jpg',\n",
       " '/terminus/coco/train2017/000000029019.jpg',\n",
       " '/terminus/coco/train2017/000000256529.jpg',\n",
       " '/terminus/coco/train2017/000000427301.jpg']"
      ]
     },
     "execution_count": 10,
     "metadata": {},
     "output_type": "execute_result"
    }
   ],
   "source": [
    "urls[:5]"
   ]
  },
  {
   "cell_type": "markdown",
   "metadata": {},
   "source": [
    "#### Get the image id from image url"
   ]
  },
  {
   "cell_type": "code",
   "execution_count": 11,
   "metadata": {
    "collapsed": true
   },
   "outputs": [],
   "source": [
    "rdimg = np.random.choice(urls)\n",
    "def get_id(url):\n",
    "    return int(url.split(\"/\")[-1].split(\".\")[0])"
   ]
  },
  {
   "cell_type": "markdown",
   "metadata": {},
   "source": [
    "#### Get the bounding box data from annotation"
   ]
  },
  {
   "cell_type": "code",
   "execution_count": 12,
   "metadata": {
    "collapsed": true
   },
   "outputs": [],
   "source": [
    "def get_bb(rdimg):\n",
    "    match = ann_df[ann_df[\"image_id\"]==get_id(rdimg)][[\"bbox\",\"category_id\"]]\n",
    "    return list(match[\"bbox\"]),list(match[\"category_id\"])"
   ]
  },
  {
   "cell_type": "code",
   "execution_count": 13,
   "metadata": {},
   "outputs": [
    {
     "data": {
      "text/plain": [
       "([[36.68, 113.34, 443.32, 526.66],\n",
       "  [10.94, 188.57, 92.74, 217.74],\n",
       "  [80.69, 163.47, 59.61, 67.1]],\n",
       " [17, 75, 63])"
      ]
     },
     "execution_count": 13,
     "metadata": {},
     "output_type": "execute_result"
    }
   ],
   "source": [
    "get_bb(rdimg)"
   ]
  },
  {
   "cell_type": "markdown",
   "metadata": {},
   "source": [
    "#### Picture boxes by loops into the picture"
   ]
  },
  {
   "cell_type": "code",
   "execution_count": 14,
   "metadata": {},
   "outputs": [
    {
     "data": {
      "image/png": "[encoded data removed]",
      "text/plain": [
       "<matplotlib.figure.Figure at 0x7f955c66ac50>"
      ]
     },
     "metadata": {},
     "output_type": "display_data"
    }
   ],
   "source": [
    "fig,ax = plt.subplots(1)\n",
    "ax.imshow(Image.open(rdimg))\n",
    "bbs,cids = get_bb(rdimg)\n",
    "for i in range(len(bbs)):\n",
    "    bb=bbs[i]\n",
    "    # format of the bb: x, y, width, height\n",
    "    rect = patches.Rectangle((bb[0],bb[1]),bb[2],bb[3],linewidth=1,edgecolor='r',facecolor='none')\n",
    "\n",
    "    ax.add_patch(rect)\n",
    "    # format of bb \n",
    "    ax.text(bb[0],bb[1],idx2name[cids[i]],dict({\"color\":\"#ff0000\"}))"
   ]
  },
  {
   "cell_type": "code",
   "execution_count": 15,
   "metadata": {
    "collapsed": true
   },
   "outputs": [],
   "source": [
    "fig.savefig(\"bbtest.png\")"
   ]
  },
  {
   "cell_type": "markdown",
   "metadata": {},
   "source": [
    "## You Only Look Once"
   ]
  },
  {
   "cell_type": "markdown",
   "metadata": {},
   "source": [
    "### Introduction\n",
    "\n",
    "From the paper [You Only Look Once: Unified, Real-Time Object Detection](http://arxiv.org/abs/1506.02640)\n",
    "\n",
    "We divid the image to the grid boxes of size $S*S$\n",
    "\n",
    "In each grid cell, we predict $B$ bounding boxes \n",
    "\n",
    "Each $B$ we have 5 predictions $x, y, w, h$ and confidence, \n",
    "\n",
    "$x,y$ relative to the grid box.$w, h$ relative to the entire picture.\n",
    "\n",
    "Each grid cell, we predict class probability $Pr(Class_{i}|Object)$.\n",
    "\n",
    "Then **class specified** confidence scores, when at test time we shall calculate, are:\n",
    "\n",
    "$Pr(Class_{i}|Object)*Pr(Object)* IOU^{truth}_{pred}=Pr(Class_{i})* IOU^{truth}_{pred}$\n",
    "\n",
    "IOU: **Intersection Over Union**\n",
    "\n",
    "So the prediction are encoded in a tensor of size $S*S*(B*5+C)$"
   ]
  },
  {
   "cell_type": "markdown",
   "metadata": {},
   "source": [
    "### YOLO style with anchor box"
   ]
  },
  {
   "cell_type": "code",
   "execution_count": 16,
   "metadata": {},
   "outputs": [
    {
     "data": {
      "text/plain": [
       "array([[ 10,  13],\n",
       "       [ 16,  30],\n",
       "       [ 33,  23],\n",
       "       [ 30,  61],\n",
       "       [ 62,  45],\n",
       "       [ 59, 119],\n",
       "       [116,  90],\n",
       "       [156, 198],\n",
       "       [373, 326]])"
      ]
     },
     "execution_count": 16,
     "metadata": {},
     "output_type": "execute_result"
    }
   ],
   "source": [
    "anc_cluster = np.array([[10,13],[16,30],[33,23],[30,61],[62,45],[59,119],[116,90],[156,198],[373,326]])\n",
    "anc_cluster"
   ]
  },
  {
   "cell_type": "markdown",
   "metadata": {},
   "source": [
    "#### Get resized bb"
   ]
  },
  {
   "cell_type": "code",
   "execution_count": 17,
   "metadata": {
    "collapsed": true
   },
   "outputs": [],
   "source": [
    "import torch\n",
    "from torch import nn\n",
    "from torch.autograd import Variable\n",
    "from torch.nn import functional as F"
   ]
  },
  {
   "cell_type": "code",
   "execution_count": 18,
   "metadata": {
    "collapsed": true
   },
   "outputs": [],
   "source": [
    "def p_structure(md):\n",
    "    \"\"\"Print out the model structure\"\"\"\n",
    "    for par in md.parameters():\n",
    "        print(par.size())\n",
    "\n",
    "def p_count(md):\n",
    "    \"\"\"count the parameters in side a pytorch module\"\"\"\n",
    "    allp=0\n",
    "    for p in md.parameters():allp+=np.product(p.data.numpy().shape)\n",
    "    return allp"
   ]
  },
  {
   "cell_type": "markdown",
   "metadata": {},
   "source": [
    "##### Random Try"
   ]
  },
  {
   "cell_type": "code",
   "execution_count": 19,
   "metadata": {
    "collapsed": true
   },
   "outputs": [],
   "source": [
    "cell_y=torch.arange(0,FEAT_W)\n",
    "\n",
    "cell_y=cell_y.repeat(FEAT_H).view(1,FEAT_H,FEAT_W,1,1)\n",
    "\n",
    "cell_x=cell_y.transpose(1,2)\n",
    "#cell_x,cell_y\n",
    "cell_grid=torch.cat([cell_x,cell_y],dim=-1)"
   ]
  },
  {
   "cell_type": "markdown",
   "metadata": {},
   "source": [
    "#### Prepare bb data"
   ]
  },
  {
   "cell_type": "code",
   "execution_count": 20,
   "metadata": {},
   "outputs": [
    {
     "name": "stdout",
     "output_type": "stream",
     "text": [
      "total data rows 860001\n"
     ]
    },
    {
     "data": {
      "text/html": [
       "<div>\n",
       "<style scoped>\n",
       "    .dataframe tbody tr th:only-of-type {\n",
       "        vertical-align: middle;\n",
       "    }\n",
       "\n",
       "    .dataframe tbody tr th {\n",
       "        vertical-align: top;\n",
       "    }\n",
       "\n",
       "    .dataframe thead th {\n",
       "        text-align: right;\n",
       "    }\n",
       "</style>\n",
       "<table border=\"1\" class=\"dataframe\">\n",
       "  <thead>\n",
       "    <tr style=\"text-align: right;\">\n",
       "      <th></th>\n",
       "      <th>bbox</th>\n",
       "      <th>category_id</th>\n",
       "      <th>image_id</th>\n",
       "      <th>id</th>\n",
       "      <th>file_name</th>\n",
       "      <th>height</th>\n",
       "      <th>width</th>\n",
       "      <th>cate_id_oh</th>\n",
       "    </tr>\n",
       "  </thead>\n",
       "  <tbody>\n",
       "    <tr>\n",
       "      <th>0</th>\n",
       "      <td>[566.04, 131.4, 66.09, 179.61]</td>\n",
       "      <td>1</td>\n",
       "      <td>394322</td>\n",
       "      <td>394322</td>\n",
       "      <td>000000394322.jpg</td>\n",
       "      <td>346</td>\n",
       "      <td>640</td>\n",
       "      <td>0</td>\n",
       "    </tr>\n",
       "    <tr>\n",
       "      <th>1</th>\n",
       "      <td>[535.0, 26.64, 65.2, 77.87]</td>\n",
       "      <td>1</td>\n",
       "      <td>283955</td>\n",
       "      <td>283955</td>\n",
       "      <td>000000283955.jpg</td>\n",
       "      <td>427</td>\n",
       "      <td>640</td>\n",
       "      <td>0</td>\n",
       "    </tr>\n",
       "    <tr>\n",
       "      <th>2</th>\n",
       "      <td>[317.81, 101.44, 14.28, 31.63]</td>\n",
       "      <td>44</td>\n",
       "      <td>4830</td>\n",
       "      <td>4830</td>\n",
       "      <td>000000004830.jpg</td>\n",
       "      <td>480</td>\n",
       "      <td>640</td>\n",
       "      <td>39</td>\n",
       "    </tr>\n",
       "    <tr>\n",
       "      <th>3</th>\n",
       "      <td>[313.68, 259.78, 31.01, 42.95]</td>\n",
       "      <td>62</td>\n",
       "      <td>363286</td>\n",
       "      <td>363286</td>\n",
       "      <td>000000363286.jpg</td>\n",
       "      <td>480</td>\n",
       "      <td>640</td>\n",
       "      <td>56</td>\n",
       "    </tr>\n",
       "    <tr>\n",
       "      <th>4</th>\n",
       "      <td>[200.51, 40.31, 12.66, 44.9]</td>\n",
       "      <td>46</td>\n",
       "      <td>115930</td>\n",
       "      <td>115930</td>\n",
       "      <td>000000115930.jpg</td>\n",
       "      <td>361</td>\n",
       "      <td>640</td>\n",
       "      <td>40</td>\n",
       "    </tr>\n",
       "  </tbody>\n",
       "</table>\n",
       "</div>"
      ],
      "text/plain": [
       "                             bbox  category_id  image_id      id  \\\n",
       "0  [566.04, 131.4, 66.09, 179.61]            1    394322  394322   \n",
       "1     [535.0, 26.64, 65.2, 77.87]            1    283955  283955   \n",
       "2  [317.81, 101.44, 14.28, 31.63]           44      4830    4830   \n",
       "3  [313.68, 259.78, 31.01, 42.95]           62    363286  363286   \n",
       "4    [200.51, 40.31, 12.66, 44.9]           46    115930  115930   \n",
       "\n",
       "          file_name  height  width  cate_id_oh  \n",
       "0  000000394322.jpg     346    640           0  \n",
       "1  000000283955.jpg     427    640           0  \n",
       "2  000000004830.jpg     480    640          39  \n",
       "3  000000363286.jpg     480    640          56  \n",
       "4  000000115930.jpg     361    640          40  "
      ]
     },
     "execution_count": 20,
     "metadata": {},
     "output_type": "execute_result"
    }
   ],
   "source": [
    "def df_data(imgdf,ann_df,shuffle=True):\n",
    "    \"\"\"\n",
    "    imgdf:\n",
    "    A dataframe about images, fields: \"id\",\"file_name\",\"height\",\"width\"\n",
    "    ann_df:\n",
    "    A dataframe about annotation, fields: \"image_id\",\"category_id\",\"bbox\",\n",
    "    The field \"bbox\" is a list of 4 values: x,y,height, width of the bounding box\n",
    "    \"\"\"\n",
    "    data_df=pd.merge(ann_df[[\"bbox\",\"category_id\",\"image_id\"]],\n",
    "                     imgdf[[\"id\",\"file_name\",\"height\",\"width\"]],\n",
    "                     left_on=\"image_id\",right_on=\"id\")\n",
    "    \n",
    "    data_df[\"cate_id_oh\"] = data_df[\"category_id\"].apply(lambda x:idx2id[x])\n",
    "    if shuffle:\n",
    "        data_df = data_df.sample(frac=1).reset_index(drop=True)\n",
    "    print(\"total data rows\",len(data_df))\n",
    "    return data_df\n",
    "\n",
    "data_df = df_data(imgdf,ann_df)\n",
    "data_df.head()"
   ]
  },
  {
   "cell_type": "markdown",
   "metadata": {},
   "source": [
    "##### Resize the bounding box"
   ]
  },
  {
   "cell_type": "code",
   "execution_count": 21,
   "metadata": {
    "collapsed": true
   },
   "outputs": [],
   "source": [
    "bbox_array = np.array(data_df.bbox.tolist())\n",
    "wh_array = data_df[[\"width\",\"height\"]].as_matrix()\n",
    "\n",
    "def re_calibrate(bbox_array,wh_array):\n",
    "    \"\"\"return the resized bbox array\"\"\"\n",
    "    bb_resized = (bbox_array/np.concatenate([wh_array,wh_array],axis=-1)) *SIZE\n",
    "    \n",
    "    true_bb = bb_resized/32\n",
    "    # swith xy as left top conner to center point\n",
    "    true_bb[...,:2]=true_bb[...,:2]+true_bb[...,2:]/2\n",
    "    # Labels' Anchor positions on the grid map\n",
    "    grid_bbxy = np.floor(true_bb[...,:2])\n",
    "    return bb_resized,true_bb,grid_bbxy\n",
    "\n",
    "bb_resized,true_bb,grid_bbxy = re_calibrate(bbox_array,wh_array)\n",
    "true_bbxy,true_bbwh = true_bb[...,:2],true_bb[...,2:]"
   ]
  },
  {
   "cell_type": "code",
   "execution_count": 22,
   "metadata": {},
   "outputs": [
    {
     "data": {
      "text/plain": [
       "array([[367.926     , 157.98381503,  42.9585    , 215.94728324],\n",
       "       [347.75      ,  25.95372365,  42.38      ,  75.86398126],\n",
       "       [206.5765    ,  87.91466667,   9.282     ,  27.41266667],\n",
       "       ...,\n",
       "       [195.221     ,  30.28516411,  54.3855    ,  73.15045952],\n",
       "       [277.342     , 255.30266667,   7.072     ,  16.172     ],\n",
       "       [248.1024    ,  51.7504    ,  31.92384   ,  34.05653333]])"
      ]
     },
     "execution_count": 22,
     "metadata": {},
     "output_type": "execute_result"
    }
   ],
   "source": [
    "bb_resized"
   ]
  },
  {
   "cell_type": "code",
   "execution_count": 23,
   "metadata": {
    "collapsed": true
   },
   "outputs": [],
   "source": [
    "def find_best_anchors(true_bbwh):\n",
    "    iou_score = []\n",
    "    for b in range(BOX):\n",
    "        wh_anc = np.tile(ANC_ARR[b],[true_bbwh.shape[0],1])\n",
    "        true_area = true_bbwh.prod(axis=-1)\n",
    "        anc_area = wh_anc.prod(axis=-1)\n",
    "    \n",
    "        inter_area = np.min([wh_anc,true_bbwh],axis=0).prod(axis=-1)\n",
    "    \n",
    "        union_area = true_area + anc_area - inter_area\n",
    "        iou_score.append(inter_area/union_area)\n",
    "    best_anchor_idx = np.array(iou_score).T.argmax(axis=-1)\n",
    "    return best_anchor_idx\n",
    "\n",
    "best_anchor_idx = find_best_anchors(true_bbwh)"
   ]
  },
  {
   "cell_type": "markdown",
   "metadata": {},
   "source": [
    "##### Index to onehot"
   ]
  },
  {
   "cell_type": "code",
   "execution_count": 24,
   "metadata": {
    "collapsed": true
   },
   "outputs": [],
   "source": [
    "cate_idx = data_df[\"cate_id_oh\"].as_matrix()\n",
    "\n",
    "cate_oh = np.eye(cate_idx.max()+1)[cate_idx]"
   ]
  },
  {
   "cell_type": "code",
   "execution_count": 25,
   "metadata": {
    "collapsed": true
   },
   "outputs": [],
   "source": [
    "true_vec = np.concatenate([true_bb,np.ones((true_bb.shape[0],1)),cate_oh],axis=-1)"
   ]
  },
  {
   "cell_type": "markdown",
   "metadata": {},
   "source": [
    "#### Reverse adjust funtion to get train labels\n",
    "\n",
    "* t to b\n",
    "\n",
    "$\\large b_{x}=\\sigma(t_{x})+c_{x}$\n",
    "\n",
    "$\\large b_{y}=\\sigma(t_{y})+c_{y}$\n",
    "\n",
    "$\\large b_{w}=p_{w}e^{w}$\n",
    "\n",
    "$\\large b_{h}=p_{h}e^{h}$"
   ]
  },
  {
   "cell_type": "markdown",
   "metadata": {},
   "source": [
    "* b to t\n",
    "\n",
    "$\\large t_{x}=-ln(\\frac{1}{b_{x}-c_{x}}-1)$\n",
    "\n",
    "$\\large t_{y}=-ln(\\frac{1}{b_{y}-c_{y}}-1)$\n",
    "\n",
    "$\\large t_{w}=ln(\\frac{b_{w}}{p_{w}})$\n",
    "\n",
    "$\\large t_{h}=ln(\\frac{b_{h}}{p_{h}})$"
   ]
  },
  {
   "cell_type": "code",
   "execution_count": null,
   "metadata": {
    "collapsed": true
   },
   "outputs": [],
   "source": []
  },
  {
   "cell_type": "code",
   "execution_count": 26,
   "metadata": {},
   "outputs": [],
   "source": [
    "from numpy import inf\n",
    "true_adj = true_vec\n",
    "# true_adj[true_adj == -inf] = 0"
   ]
  },
  {
   "cell_type": "code",
   "execution_count": 27,
   "metadata": {
    "collapsed": true
   },
   "outputs": [],
   "source": [
    "vec_loc = np.concatenate([grid_bbxy,np.expand_dims(best_anchor_idx,axis=-1)],axis=-1).astype(np.int)"
   ]
  },
  {
   "cell_type": "markdown",
   "metadata": {},
   "source": [
    "#### Feature Extractor"
   ]
  },
  {
   "cell_type": "code",
   "execution_count": 28,
   "metadata": {
    "collapsed": true
   },
   "outputs": [],
   "source": [
    "from conv_model import dn121_conv\n",
    "\n",
    "dn121=dn121_conv(DN121)"
   ]
  },
  {
   "cell_type": "code",
   "execution_count": 29,
   "metadata": {
    "collapsed": true
   },
   "outputs": [],
   "source": [
    "bce = nn.modules.loss.BCELoss()"
   ]
  },
  {
   "cell_type": "code",
   "execution_count": 30,
   "metadata": {
    "collapsed": true
   },
   "outputs": [],
   "source": [
    "class dn_yolo(nn.Module):\n",
    "    def __init__(self,feat_extra,feat_in):\n",
    "        super(dn_yolo,self).__init__()\n",
    "        self.feat_in = feat_in\n",
    "        self.feat_extra=feat_extra\n",
    "        self.conv_out = nn.Conv2d(self.feat_in,VEC_LEN*BOX,kernel_size=(1,1),stride=(1,1),padding=0,bias=False)\n",
    "    \n",
    "    def forward(self,x):\n",
    "        \n",
    "        x = self.feat_extra(x)\n",
    "        x = self.conv_out(x)\n",
    "        x = x.permute([0,2,3,1]).contiguous().view(-1,FEAT_W,FEAT_H,BOX,VEC_LEN)\n",
    "        \n",
    "        return x"
   ]
  },
  {
   "cell_type": "markdown",
   "metadata": {},
   "source": [
    "### Data Generator"
   ]
  },
  {
   "cell_type": "code",
   "execution_count": 31,
   "metadata": {
    "collapsed": true
   },
   "outputs": [],
   "source": [
    "from torch.utils.data import DataLoader,dataset\n",
    "from torchvision import transforms\n",
    "from PIL import Image"
   ]
  },
  {
   "cell_type": "code",
   "execution_count": 32,
   "metadata": {
    "collapsed": true
   },
   "outputs": [],
   "source": [
    "transform = transforms.Compose([transforms.Resize((HEIGHT,WIDTH)),\n",
    "                                transforms.ToTensor(),\n",
    "                                transforms.Normalize([.5,.5,.5],[.5,.5,.5])\n",
    "                               ])\n",
    "trans_origin = transforms.Compose([transforms.Resize((HEIGHT,WIDTH)),\n",
    "                                transforms.ToTensor(),\n",
    "                               ])\n",
    "back2PIL = transforms.Compose([transforms.ToPILImage(mode=\"RGB\")])"
   ]
  },
  {
   "cell_type": "markdown",
   "metadata": {},
   "source": [
    "### Training"
   ]
  },
  {
   "cell_type": "code",
   "execution_count": 33,
   "metadata": {
    "collapsed": true
   },
   "outputs": [],
   "source": [
    "from torch.utils.data import DataLoader\n",
    "from tqdm import trange\n",
    "from datetime import datetime\n",
    "import os\n",
    "from p3self.matchbox import Trainer\n"
   ]
  },
  {
   "cell_type": "code",
   "execution_count": 34,
   "metadata": {},
   "outputs": [],
   "source": [
    "from data import odData\n",
    "\n",
    "train_set = odData(urllist = list(IMG+i for i in list(data_df[\"file_name\"])),\n",
    "                          true_adj = true_adj,\n",
    "                          vec_loc = vec_loc[:,np.newaxis,:],\n",
    "#                            true_vec = true_vec,\n",
    "                          transform = transform,\n",
    "                           trans_origin=trans_origin,\n",
    "                  )"
   ]
  },
  {
   "cell_type": "code",
   "execution_count": 35,
   "metadata": {},
   "outputs": [],
   "source": [
    "trainer=Trainer(train_set,batch_size=8,print_on=20)\n",
    "model = dn_yolo(dn121,1024)\n",
    "from loss_ import yolo3_loss_on_t as yolo3_loss\n",
    "loss_func = yolo3_loss(lbd_noobj=.3,testing=True)"
   ]
  },
  {
   "cell_type": "code",
   "execution_count": 36,
   "metadata": {
    "collapsed": true
   },
   "outputs": [],
   "source": [
    "CUDA = torch.cuda.is_available()\n",
    "if CUDA:\n",
    "    torch.cuda.empty_cache()\n",
    "    model.cuda()\n",
    "    loss_func.cuda()"
   ]
  },
  {
   "cell_type": "code",
   "execution_count": 37,
   "metadata": {
    "collapsed": true
   },
   "outputs": [],
   "source": [
    "from torch.optim import Adam\n",
    "optimizer = Adam(model.parameters())"
   ]
  },
  {
   "cell_type": "code",
   "execution_count": 38,
   "metadata": {
    "collapsed": true
   },
   "outputs": [],
   "source": [
    "def action(*args,**kwargs):\n",
    "    \"\"\"\n",
    "    y_s: label for scoring, because the y's bb has been transformed into t\n",
    "    \"\"\"\n",
    "    x,y,imgs,lbl_mask,vec_loc,t_xy,t_wh = args[0]\n",
    "    iteration=kwargs[\"ite\"]\n",
    "    x,y,lbl_mask,vec_loc,t_xy,t_wh = Variable(x),Variable(y),Variable(lbl_mask),Variable(vec_loc),Variable(t_xy),Variable(t_wh)\n",
    "    if CUDA:\n",
    "        x,y,lbl_mask,t_xy,t_wh=x.cuda(),y.cuda(),lbl_mask.cuda(),t_xy.cuda(),t_wh.cuda()\n",
    "    optimizer.zero_grad()\n",
    "    \n",
    "    y_ = model(x)\n",
    "    model.x=x\n",
    "    model.y_=y_\n",
    "    model.y=y\n",
    "    \n",
    "    loss,loss_xy,loss_wh,loss_obj,loss_noobj,loss_cls = loss_func(y_,y,lbl_mask,vec_loc,t_xy,t_wh)\n",
    "    loss.backward()\n",
    "\n",
    "    optimizer.step()\n",
    "    \n",
    "    if iteration%50==0:\n",
    "        y_pred = loss_func.t2b(y_)[0]\n",
    "        if CUDA:\n",
    "            y_pred=y_pred.cpu()\n",
    "        img=back2PIL(imgs[0])\n",
    "        printimg=plot_bb(img,data_to_df(y_pred))\n",
    "    return {\"loss\":loss.data[0],\n",
    "            \"loss_xy\":loss_xy.data[0],\n",
    "            \"loss_wh\":loss_wh.data[0],\n",
    "            \"los_obj\":loss_obj.data[0],\n",
    "            \"los_noobj\":loss_noobj.data[0],\n",
    "            \"loss_cls\":loss_cls.data[0],}\n",
    "\n",
    "trainer.action=action"
   ]
  },
  {
   "cell_type": "code",
   "execution_count": 39,
   "metadata": {
    "collapsed": true
   },
   "outputs": [],
   "source": [
    "from datetime import datetime\n",
    "\n",
    "\n",
    "def plot_bb(img,bbdf):\n",
    "    fig,ax = plt.subplots(1)\n",
    "    ax.imshow(img)\n",
    "    for row_ in bbdf.iterrows():\n",
    "        row = row_[1]\n",
    "        # format of the bb: x, y, width, height\n",
    "        rect = patches.Rectangle((row[\"x\"],row[\"y\"]),row[\"w\"],row[\"h\"],linewidth=1,edgecolor='g',facecolor='none')\n",
    "\n",
    "        ax.add_patch(rect)\n",
    "        # format of bb \n",
    "        ax.text(row[\"x\"],row[\"y\"],idx2name[id2idx[int(row[\"cate\"])]]+\"%.3f\"%row[\"conf\"],dict({\"color\":\"#ff0000\"}))\n",
    "    save = fig.savefig(\"/data/bbsample/%s.jpg\"%(datetime.now().strftime(\"%H%M%S\")))\n",
    "    \n",
    "def data_to_df(y_pred,head=10):\n",
    "    c=y_pred[...,4:5].repeat(1,1,1,VEC_LEN-5)*y_pred[...,5:]\n",
    "    val_max, idx_max = torch.max(c.view(-1,VEC_LEN-5) , dim=-1)\n",
    "\n",
    "    df_lbl = pd.DataFrame({\"conf\":val_max.data.numpy(),\"cate\":idx_max.data.numpy()})\n",
    "\n",
    "    bbmax = y_pred[...,:4].contiguous().view(-1,4).data.numpy()*32\n",
    "    df_bbox = pd.DataFrame(bbmax,columns=[\"x\",\"y\",\"w\",\"h\"])\n",
    "    return pd.concat([df_lbl,df_bbox],axis=1).sort_values(by=\"conf\",ascending=False).head(head).reset_index()\n",
    "\n",
    "#plot_bb(img,data_to_df(loss.t2b(y_pred[0])))"
   ]
  },
  {
   "cell_type": "code",
   "execution_count": 40,
   "metadata": {},
   "outputs": [
    {
     "name": "stderr",
     "output_type": "stream",
     "text": [
      "\r",
      "  0%|          | 0/107501 [00:00<?, ?it/s]"
     ]
    },
    {
     "name": "stdout",
     "output_type": "stream",
     "text": [
      "bb [4.137659  3.2664313] \t [1.3424531 6.7483525]\n",
      "conf 0.35700881481170654 \t 1.0\n",
      "cls 0.7712933421134949 \t 1.0\n"
     ]
    },
    {
     "name": "stderr",
     "output_type": "stream",
     "text": [
      "  0%|          | 2/107501 [00:01<20:49:02,  1.43it/s]"
     ]
    },
    {
     "name": "stdout",
     "output_type": "stream",
     "text": [
      "bb [3.0121422 2.0631974] \t [1.8468125 2.4441218]\n",
      "conf 0.4399658441543579 \t 1.0\n",
      "cls 0.6426826119422913 \t 1.0\n"
     ]
    },
    {
     "name": "stderr",
     "output_type": "stream",
     "text": [
      "\r",
      "  0%|          | 3/107501 [00:01<17:50:35,  1.67it/s]"
     ]
    },
    {
     "name": "stdout",
     "output_type": "stream",
     "text": [
      "bb [0.5366342  0.81220704] \t [0.17123437 0.30649412]\n",
      "conf 0.5019792914390564 \t 1.0\n",
      "cls 0.6918392777442932 \t 1.0\n"
     ]
    },
    {
     "name": "stderr",
     "output_type": "stream",
     "text": [
      "\r",
      "  0%|          | 4/107501 [00:02<16:23:42,  1.82it/s]"
     ]
    },
    {
     "name": "stdout",
     "output_type": "stream",
     "text": [
      "bb [0.6431907  0.51492923] \t [0.7115469  0.32971898]\n",
      "conf 0.6067440509796143 \t 1.0\n",
      "cls 0.7164154052734375 \t 1.0\n"
     ]
    },
    {
     "name": "stderr",
     "output_type": "stream",
     "text": [
      "\r",
      "  0%|          | 5/107501 [00:02<15:33:17,  1.92it/s]"
     ]
    },
    {
     "name": "stdout",
     "output_type": "stream",
     "text": [
      "bb [0.3747425 2.232073 ] \t [0.46190625 1.0697458 ]\n",
      "conf 0.7022308111190796 \t 1.0\n",
      "cls 0.7448286414146423 \t 1.0\n"
     ]
    },
    {
     "name": "stderr",
     "output_type": "stream",
     "text": [
      "\r",
      "  0%|          | 6/107501 [00:03<14:57:41,  2.00it/s]"
     ]
    },
    {
     "name": "stdout",
     "output_type": "stream",
     "text": [
      "bb [2.664741   0.02979731] \t [13.        8.296667]\n",
      "conf 0.4235765039920807 \t 1.0\n",
      "cls 0.7355636954307556 \t 1.0\n"
     ]
    },
    {
     "name": "stderr",
     "output_type": "stream",
     "text": [
      "\r",
      "  0%|          | 7/107501 [00:03<14:34:06,  2.05it/s]"
     ]
    },
    {
     "name": "stdout",
     "output_type": "stream",
     "text": [
      "bb [2.0717309 3.3218873] \t [0.68635935 2.0984166 ]\n",
      "conf 0.2834899425506592 \t 1.0\n",
      "cls 0.7458240985870361 \t 1.0\n"
     ]
    },
    {
     "name": "stderr",
     "output_type": "stream",
     "text": [
      "\r",
      "  0%|          | 8/107501 [00:03<14:15:10,  2.09it/s]"
     ]
    },
    {
     "name": "stdout",
     "output_type": "stream",
     "text": [
      "bb [0.7118829 0.7217242] \t [1.0426406 1.1507708]\n",
      "conf 0.7431495785713196 \t 1.0\n",
      "cls 0.5614737272262573 \t 1.0\n"
     ]
    },
    {
     "name": "stderr",
     "output_type": "stream",
     "text": [
      "\r",
      "  0%|          | 9/107501 [00:04<13:55:45,  2.14it/s]"
     ]
    },
    {
     "name": "stdout",
     "output_type": "stream",
     "text": [
      "bb [0. 0.] \t [0.6981406  0.77620834]\n",
      "conf 0.0 \t 1.0\n",
      "cls 0.0 \t 1.0\n"
     ]
    },
    {
     "name": "stderr",
     "output_type": "stream",
     "text": [
      "\r",
      "  0%|          | 10/107501 [00:04<13:43:28,  2.18it/s]"
     ]
    },
    {
     "name": "stdout",
     "output_type": "stream",
     "text": [
      "bb [0. 0.] \t [5.75575   1.4898123]\n",
      "conf 0.0 \t 1.0\n",
      "cls 0.0 \t 1.0\n"
     ]
    },
    {
     "name": "stderr",
     "output_type": "stream",
     "text": [
      "\r",
      "  0%|          | 11/107501 [00:05<13:42:04,  2.18it/s]"
     ]
    },
    {
     "name": "stdout",
     "output_type": "stream",
     "text": [
      "bb [0. 0.] \t [0.8039687 2.8107083]\n",
      "conf 0.0 \t 1.0\n",
      "cls 0.0 \t 1.0\n"
     ]
    },
    {
     "name": "stderr",
     "output_type": "stream",
     "text": [
      "\r",
      "  0%|          | 12/107501 [00:05<13:35:09,  2.20it/s]"
     ]
    },
    {
     "name": "stdout",
     "output_type": "stream",
     "text": [
      "bb [0. 0.] \t [1.8185781 4.849271 ]\n",
      "conf 0.0 \t 1.0\n",
      "cls 0.0 \t 1.0\n"
     ]
    },
    {
     "name": "stderr",
     "output_type": "stream",
     "text": [
      "\r",
      "  0%|          | 13/107501 [00:05<13:29:14,  2.21it/s]"
     ]
    },
    {
     "name": "stdout",
     "output_type": "stream",
     "text": [
      "bb [0. 0.] \t [0.84968 0.18512]\n",
      "conf 0.0 \t 1.0\n",
      "cls 0.0 \t 1.0\n"
     ]
    },
    {
     "name": "stderr",
     "output_type": "stream",
     "text": [
      "\r",
      "  0%|          | 14/107501 [00:06<13:20:25,  2.24it/s]"
     ]
    },
    {
     "name": "stdout",
     "output_type": "stream",
     "text": [
      "bb [0. 0.] \t [2.1515    3.1748822]\n",
      "conf 0.0 \t 1.0\n",
      "cls 0.0 \t 1.0\n"
     ]
    },
    {
     "name": "stderr",
     "output_type": "stream",
     "text": [
      "\r",
      "  0%|          | 15/107501 [00:06<13:16:31,  2.25it/s]"
     ]
    },
    {
     "name": "stdout",
     "output_type": "stream",
     "text": [
      "bb [0. 0.] \t [0.09973437 0.82981306]\n",
      "conf 0.0 \t 1.0\n",
      "cls 0.0 \t 1.0\n"
     ]
    },
    {
     "name": "stderr",
     "output_type": "stream",
     "text": [
      "\r",
      "  0%|          | 16/107501 [00:07<13:12:49,  2.26it/s]"
     ]
    },
    {
     "name": "stdout",
     "output_type": "stream",
     "text": [
      "bb [0. 0.] \t [5.7929945 3.159    ]\n",
      "conf 0.0 \t 1.0\n",
      "cls 0.0 \t 1.0\n"
     ]
    },
    {
     "name": "stderr",
     "output_type": "stream",
     "text": [
      "\r",
      "  0%|          | 17/107501 [00:07<13:07:09,  2.28it/s]"
     ]
    },
    {
     "name": "stdout",
     "output_type": "stream",
     "text": [
      "bb [0. 0.] \t [2.0856874  0.94356805]\n",
      "conf 0.0 \t 1.0\n",
      "cls 0.0 \t 1.0\n"
     ]
    },
    {
     "name": "stderr",
     "output_type": "stream",
     "text": [
      "\r",
      "  0%|          | 18/107501 [00:07<13:02:24,  2.29it/s]"
     ]
    },
    {
     "name": "stdout",
     "output_type": "stream",
     "text": [
      "bb [0. 0.] \t [1.0946406 1.3765556]\n",
      "conf 0.0 \t 1.0\n",
      "cls 0.0 \t 1.0\n"
     ]
    },
    {
     "name": "stderr",
     "output_type": "stream",
     "text": [
      "\r",
      "  0%|          | 19/107501 [00:08<12:59:16,  2.30it/s]"
     ]
    },
    {
     "name": "stdout",
     "output_type": "stream",
     "text": [
      "bb [0. 0.] \t [0.47389063 1.3566276 ]\n",
      "conf 0.0 \t 1.0\n",
      "cls 0.0 \t 1.0\n"
     ]
    },
    {
     "name": "stderr",
     "output_type": "stream",
     "text": [
      "⭐[ep_0_i_19]\tlos_noobj\t0.000✨\tlos_obj\t0.680✨\tloss\t826.661✨\tloss_cls\t8.427✨\tloss_wh\t282.518✨\tloss_xy\t537.037:   0%|          | 20/107501 [00:08<12:57:54,  2.30it/s]"
     ]
    },
    {
     "name": "stdout",
     "output_type": "stream",
     "text": [
      "bb [0. 0.] \t [5.8838544 3.8595781]\n",
      "conf 0.0 \t 1.0\n",
      "cls 0.0 \t 1.0\n"
     ]
    },
    {
     "name": "stderr",
     "output_type": "stream",
     "text": [
      "\r",
      "⭐[ep_0_i_19]\tlos_noobj\t0.000✨\tlos_obj\t0.680✨\tloss\t826.661✨\tloss_cls\t8.427✨\tloss_wh\t282.518✨\tloss_xy\t537.037:   0%|          | 21/107501 [00:09<12:54:40,  2.31it/s]"
     ]
    },
    {
     "name": "stdout",
     "output_type": "stream",
     "text": [
      "bb [0. 0.] \t [1.295125  1.5317523]\n",
      "conf 0.0 \t 1.0\n",
      "cls 0.0 \t 1.0\n"
     ]
    },
    {
     "name": "stderr",
     "output_type": "stream",
     "text": [
      "\r",
      "⭐[ep_0_i_19]\tlos_noobj\t0.000✨\tlos_obj\t0.680✨\tloss\t826.661✨\tloss_cls\t8.427✨\tloss_wh\t282.518✨\tloss_xy\t537.037:   0%|          | 22/107501 [00:09<12:54:15,  2.31it/s]"
     ]
    },
    {
     "name": "stdout",
     "output_type": "stream",
     "text": [
      "bb [0. 0.] \t [0.28904688 0.3519438 ]\n",
      "conf 0.0 \t 1.0\n",
      "cls 0.0 \t 1.0\n"
     ]
    },
    {
     "name": "stderr",
     "output_type": "stream",
     "text": [
      "\r",
      "⭐[ep_0_i_19]\tlos_noobj\t0.000✨\tlos_obj\t0.680✨\tloss\t826.661✨\tloss_cls\t8.427✨\tloss_wh\t282.518✨\tloss_xy\t537.037:   0%|          | 23/107501 [00:09<12:51:18,  2.32it/s]"
     ]
    },
    {
     "name": "stdout",
     "output_type": "stream",
     "text": [
      "bb [0. 0.] \t [3.6655939 9.786444 ]\n",
      "conf 0.0 \t 1.0\n",
      "cls 0.0 \t 1.0\n"
     ]
    },
    {
     "name": "stderr",
     "output_type": "stream",
     "text": [
      "\r",
      "⭐[ep_0_i_19]\tlos_noobj\t0.000✨\tlos_obj\t0.680✨\tloss\t826.661✨\tloss_cls\t8.427✨\tloss_wh\t282.518✨\tloss_xy\t537.037:   0%|          | 24/107501 [00:10<12:49:57,  2.33it/s]"
     ]
    },
    {
     "name": "stdout",
     "output_type": "stream",
     "text": [
      "bb [0. 0.] \t [0.6684844 4.062585 ]\n",
      "conf 0.0 \t 1.0\n",
      "cls 0.0 \t 1.0\n"
     ]
    },
    {
     "name": "stderr",
     "output_type": "stream",
     "text": [
      "\r",
      "⭐[ep_0_i_19]\tlos_noobj\t0.000✨\tlos_obj\t0.680✨\tloss\t826.661✨\tloss_cls\t8.427✨\tloss_wh\t282.518✨\tloss_xy\t537.037:   0%|          | 25/107501 [00:10<12:48:53,  2.33it/s]"
     ]
    },
    {
     "name": "stdout",
     "output_type": "stream",
     "text": [
      "bb [0. 0.] \t [0.11984375 0.11190578]\n",
      "conf 0.0 \t 1.0\n",
      "cls 0.0 \t 1.0\n"
     ]
    },
    {
     "name": "stderr",
     "output_type": "stream",
     "text": [
      "\r",
      "⭐[ep_0_i_19]\tlos_noobj\t0.000✨\tlos_obj\t0.680✨\tloss\t826.661✨\tloss_cls\t8.427✨\tloss_wh\t282.518✨\tloss_xy\t537.037:   0%|          | 26/107501 [00:11<12:46:48,  2.34it/s]"
     ]
    },
    {
     "name": "stdout",
     "output_type": "stream",
     "text": [
      "bb [0. 0.] \t [ 3.8421094 11.318892 ]\n",
      "conf 0.0 \t 1.0\n",
      "cls 0.0 \t 1.0\n"
     ]
    },
    {
     "name": "stderr",
     "output_type": "stream",
     "text": [
      "\r",
      "⭐[ep_0_i_19]\tlos_noobj\t0.000✨\tlos_obj\t0.680✨\tloss\t826.661✨\tloss_cls\t8.427✨\tloss_wh\t282.518✨\tloss_xy\t537.037:   0%|          | 27/107501 [00:11<12:45:23,  2.34it/s]"
     ]
    },
    {
     "name": "stdout",
     "output_type": "stream",
     "text": [
      "bb [0. 0.] \t [0.31220314 0.45066667]\n",
      "conf 0.0 \t 1.0\n",
      "cls 0.0 \t 1.0\n"
     ]
    },
    {
     "name": "stderr",
     "output_type": "stream",
     "text": [
      "\r",
      "⭐[ep_0_i_19]\tlos_noobj\t0.000✨\tlos_obj\t0.680✨\tloss\t826.661✨\tloss_cls\t8.427✨\tloss_wh\t282.518✨\tloss_xy\t537.037:   0%|          | 28/107501 [00:11<12:44:00,  2.34it/s]"
     ]
    },
    {
     "name": "stdout",
     "output_type": "stream",
     "text": [
      "bb [0. 0.] \t [2.445422 3.497822]\n",
      "conf 0.0 \t 1.0\n",
      "cls 0.0 \t 1.0\n"
     ]
    },
    {
     "name": "stderr",
     "output_type": "stream",
     "text": [
      "\r",
      "⭐[ep_0_i_19]\tlos_noobj\t0.000✨\tlos_obj\t0.680✨\tloss\t826.661✨\tloss_cls\t8.427✨\tloss_wh\t282.518✨\tloss_xy\t537.037:   0%|          | 29/107501 [00:12<12:43:56,  2.34it/s]"
     ]
    },
    {
     "name": "stdout",
     "output_type": "stream",
     "text": [
      "bb [0. 0.] \t [9.546268 2.418   ]\n",
      "conf 0.0 \t 1.0\n",
      "cls 0.0 \t 1.0\n"
     ]
    },
    {
     "name": "stderr",
     "output_type": "stream",
     "text": [
      "\r",
      "⭐[ep_0_i_19]\tlos_noobj\t0.000✨\tlos_obj\t0.680✨\tloss\t826.661✨\tloss_cls\t8.427✨\tloss_wh\t282.518✨\tloss_xy\t537.037:   0%|          | 30/107501 [00:12<12:42:28,  2.35it/s]"
     ]
    },
    {
     "name": "stdout",
     "output_type": "stream",
     "text": [
      "bb [0. 0.] \t [1.6603438 3.0103126]\n",
      "conf 0.0 \t 1.0\n",
      "cls 0.0 \t 1.0\n"
     ]
    },
    {
     "name": "stderr",
     "output_type": "stream",
     "text": [
      "\r",
      "⭐[ep_0_i_19]\tlos_noobj\t0.000✨\tlos_obj\t0.680✨\tloss\t826.661✨\tloss_cls\t8.427✨\tloss_wh\t282.518✨\tloss_xy\t537.037:   0%|          | 31/107501 [00:13<12:41:15,  2.35it/s]"
     ]
    },
    {
     "name": "stdout",
     "output_type": "stream",
     "text": [
      "bb [0. 0.] \t [1.43598   3.7371542]\n",
      "conf 0.0 \t 1.0\n",
      "cls 0.0 \t 1.0\n"
     ]
    },
    {
     "name": "stderr",
     "output_type": "stream",
     "text": [
      "\r",
      "⭐[ep_0_i_19]\tlos_noobj\t0.000✨\tlos_obj\t0.680✨\tloss\t826.661✨\tloss_cls\t8.427✨\tloss_wh\t282.518✨\tloss_xy\t537.037:   0%|          | 32/107501 [00:13<12:39:10,  2.36it/s]"
     ]
    },
    {
     "name": "stdout",
     "output_type": "stream",
     "text": [
      "bb [0. 0.] \t [1.8358438 6.9793177]\n",
      "conf 0.0 \t 1.0\n",
      "cls 0.0 \t 1.0\n"
     ]
    },
    {
     "name": "stderr",
     "output_type": "stream",
     "text": [
      "\r",
      "⭐[ep_0_i_19]\tlos_noobj\t0.000✨\tlos_obj\t0.680✨\tloss\t826.661✨\tloss_cls\t8.427✨\tloss_wh\t282.518✨\tloss_xy\t537.037:   0%|          | 33/107501 [00:13<12:37:16,  2.37it/s]"
     ]
    },
    {
     "name": "stdout",
     "output_type": "stream",
     "text": [
      "bb [0. 0.] \t [0.1340625 0.169    ]\n",
      "conf 0.0 \t 1.0\n",
      "cls 0.0 \t 1.0\n"
     ]
    },
    {
     "name": "stderr",
     "output_type": "stream",
     "text": [
      "\r",
      "⭐[ep_0_i_19]\tlos_noobj\t0.000✨\tlos_obj\t0.680✨\tloss\t826.661✨\tloss_cls\t8.427✨\tloss_wh\t282.518✨\tloss_xy\t537.037:   0%|          | 34/107501 [00:14<12:36:33,  2.37it/s]"
     ]
    },
    {
     "name": "stdout",
     "output_type": "stream",
     "text": [
      "bb [0. 0.] \t [4.16      2.3955975]\n",
      "conf 0.0 \t 1.0\n",
      "cls 0.0 \t 1.0\n"
     ]
    },
    {
     "name": "stderr",
     "output_type": "stream",
     "text": [
      "\r",
      "⭐[ep_0_i_19]\tlos_noobj\t0.000✨\tlos_obj\t0.680✨\tloss\t826.661✨\tloss_cls\t8.427✨\tloss_wh\t282.518✨\tloss_xy\t537.037:   0%|          | 35/107501 [00:14<12:35:24,  2.37it/s]"
     ]
    },
    {
     "name": "stdout",
     "output_type": "stream",
     "text": [
      "bb [0. 0.] \t [2.0723886  0.46089062]\n",
      "conf 0.0 \t 1.0\n",
      "cls 0.0 \t 1.0\n"
     ]
    },
    {
     "name": "stderr",
     "output_type": "stream",
     "text": [
      "\r",
      "⭐[ep_0_i_19]\tlos_noobj\t0.000✨\tlos_obj\t0.680✨\tloss\t826.661✨\tloss_cls\t8.427✨\tloss_wh\t282.518✨\tloss_xy\t537.037:   0%|          | 36/107501 [00:15<12:35:07,  2.37it/s]"
     ]
    },
    {
     "name": "stdout",
     "output_type": "stream",
     "text": [
      "bb [0. 0.] \t [0.6766094 1.0001875]\n",
      "conf 0.0 \t 1.0\n",
      "cls 0.0 \t 1.0\n"
     ]
    },
    {
     "name": "stderr",
     "output_type": "stream",
     "text": [
      "\r",
      "⭐[ep_0_i_19]\tlos_noobj\t0.000✨\tlos_obj\t0.680✨\tloss\t826.661✨\tloss_cls\t8.427✨\tloss_wh\t282.518✨\tloss_xy\t537.037:   0%|          | 37/107501 [00:15<12:33:48,  2.38it/s]"
     ]
    },
    {
     "name": "stdout",
     "output_type": "stream",
     "text": [
      "bb [0. 0.] \t [6.981977 4.440392]\n",
      "conf 0.0 \t 1.0\n",
      "cls 0.0 \t 1.0\n"
     ]
    },
    {
     "name": "stderr",
     "output_type": "stream",
     "text": [
      "\r",
      "⭐[ep_0_i_19]\tlos_noobj\t0.000✨\tlos_obj\t0.680✨\tloss\t826.661✨\tloss_cls\t8.427✨\tloss_wh\t282.518✨\tloss_xy\t537.037:   0%|          | 38/107501 [00:15<12:32:02,  2.38it/s]"
     ]
    },
    {
     "name": "stdout",
     "output_type": "stream",
     "text": [
      "bb [0. 0.] \t [2.1988282 5.210631 ]\n",
      "conf 0.0 \t 1.0\n",
      "cls 0.0 \t 1.0\n"
     ]
    },
    {
     "name": "stderr",
     "output_type": "stream",
     "text": [
      "\r",
      "⭐[ep_0_i_19]\tlos_noobj\t0.000✨\tlos_obj\t0.680✨\tloss\t826.661✨\tloss_cls\t8.427✨\tloss_wh\t282.518✨\tloss_xy\t537.037:   0%|          | 39/107501 [00:16<12:30:49,  2.39it/s]"
     ]
    },
    {
     "name": "stdout",
     "output_type": "stream",
     "text": [
      "bb [0. 0.] \t [0.42666   0.3696997]\n",
      "conf 0.0 \t 1.0\n",
      "cls 0.0 \t 1.0\n"
     ]
    },
    {
     "name": "stderr",
     "output_type": "stream",
     "text": [
      "⭐[ep_0_i_39]\tlos_noobj\t0.000✨\tlos_obj\t1.000✨\tloss\t634.526✨\tloss_cls\t1.000✨\tloss_wh\t129.325✨\tloss_xy\t503.201:   0%|          | 40/107501 [00:16<12:30:25,  2.39it/s]"
     ]
    },
    {
     "name": "stdout",
     "output_type": "stream",
     "text": [
      "bb [0. 0.] \t [3.2573125 9.006833 ]\n",
      "conf 0.0 \t 1.0\n",
      "cls 0.0 \t 1.0\n"
     ]
    },
    {
     "name": "stderr",
     "output_type": "stream",
     "text": [
      "\r",
      "⭐[ep_0_i_39]\tlos_noobj\t0.000✨\tlos_obj\t1.000✨\tloss\t634.526✨\tloss_cls\t1.000✨\tloss_wh\t129.325✨\tloss_xy\t503.201:   0%|          | 41/107501 [00:17<12:28:58,  2.39it/s]"
     ]
    },
    {
     "name": "stdout",
     "output_type": "stream",
     "text": [
      "bb [0. 0.] \t [1.1665542 1.7225   ]\n",
      "conf 0.0 \t 1.0\n",
      "cls 0.0 \t 1.0\n"
     ]
    },
    {
     "name": "stderr",
     "output_type": "stream",
     "text": [
      "\r",
      "⭐[ep_0_i_39]\tlos_noobj\t0.000✨\tlos_obj\t1.000✨\tloss\t634.526✨\tloss_cls\t1.000✨\tloss_wh\t129.325✨\tloss_xy\t503.201:   0%|          | 42/107501 [00:17<12:28:31,  2.39it/s]"
     ]
    },
    {
     "name": "stdout",
     "output_type": "stream",
     "text": [
      "bb [0. 0.] \t [0.7667969 2.51225  ]\n",
      "conf 0.0 \t 1.0\n",
      "cls 0.0 \t 1.0\n"
     ]
    },
    {
     "name": "stderr",
     "output_type": "stream",
     "text": [
      "\r",
      "⭐[ep_0_i_39]\tlos_noobj\t0.000✨\tlos_obj\t1.000✨\tloss\t634.526✨\tloss_cls\t1.000✨\tloss_wh\t129.325✨\tloss_xy\t503.201:   0%|          | 43/107501 [00:17<12:27:40,  2.40it/s]"
     ]
    },
    {
     "name": "stdout",
     "output_type": "stream",
     "text": [
      "bb [0. 0.] \t [2.7482812 4.3819437]\n",
      "conf 0.0 \t 1.0\n",
      "cls 0.0 \t 1.0\n"
     ]
    },
    {
     "name": "stderr",
     "output_type": "stream",
     "text": [
      "\r",
      "⭐[ep_0_i_39]\tlos_noobj\t0.000✨\tlos_obj\t1.000✨\tloss\t634.526✨\tloss_cls\t1.000✨\tloss_wh\t129.325✨\tloss_xy\t503.201:   0%|          | 44/107501 [00:18<12:26:09,  2.40it/s]"
     ]
    },
    {
     "name": "stdout",
     "output_type": "stream",
     "text": [
      "bb [0. 0.] \t [0.5852031  0.67960095]\n",
      "conf 0.0 \t 1.0\n",
      "cls 0.0 \t 1.0\n"
     ]
    },
    {
     "name": "stderr",
     "output_type": "stream",
     "text": [
      "\r",
      "⭐[ep_0_i_39]\tlos_noobj\t0.000✨\tlos_obj\t1.000✨\tloss\t634.526✨\tloss_cls\t1.000✨\tloss_wh\t129.325✨\tloss_xy\t503.201:   0%|          | 45/107501 [00:18<12:25:08,  2.40it/s]"
     ]
    },
    {
     "name": "stdout",
     "output_type": "stream",
     "text": [
      "bb [0. 0.] \t [4.2258124 1.027    ]\n",
      "conf 0.0 \t 1.0\n",
      "cls 0.0 \t 1.0\n"
     ]
    },
    {
     "name": "stderr",
     "output_type": "stream",
     "text": [
      "\r",
      "⭐[ep_0_i_39]\tlos_noobj\t0.000✨\tlos_obj\t1.000✨\tloss\t634.526✨\tloss_cls\t1.000✨\tloss_wh\t129.325✨\tloss_xy\t503.201:   0%|          | 46/107501 [00:19<12:24:18,  2.41it/s]"
     ]
    },
    {
     "name": "stdout",
     "output_type": "stream",
     "text": [
      "bb [0. 0.] \t [0.78242666 0.93366   ]\n",
      "conf 0.0 \t 1.0\n",
      "cls 0.0 \t 1.0\n"
     ]
    },
    {
     "name": "stderr",
     "output_type": "stream",
     "text": [
      "\r",
      "⭐[ep_0_i_39]\tlos_noobj\t0.000✨\tlos_obj\t1.000✨\tloss\t634.526✨\tloss_cls\t1.000✨\tloss_wh\t129.325✨\tloss_xy\t503.201:   0%|          | 47/107501 [00:19<12:23:20,  2.41it/s]"
     ]
    },
    {
     "name": "stdout",
     "output_type": "stream",
     "text": [
      "bb [0. 0.] \t [1.3686563 0.7320625]\n",
      "conf 0.0 \t 1.0\n",
      "cls 0.0 \t 1.0\n"
     ]
    },
    {
     "name": "stderr",
     "output_type": "stream",
     "text": [
      "\r",
      "⭐[ep_0_i_39]\tlos_noobj\t0.000✨\tlos_obj\t1.000✨\tloss\t634.526✨\tloss_cls\t1.000✨\tloss_wh\t129.325✨\tloss_xy\t503.201:   0%|          | 48/107501 [00:19<12:22:40,  2.41it/s]"
     ]
    },
    {
     "name": "stdout",
     "output_type": "stream",
     "text": [
      "bb [0. 0.] \t [11.827765  9.114508]\n",
      "conf 0.0 \t 1.0\n",
      "cls 0.0 \t 1.0\n"
     ]
    },
    {
     "name": "stderr",
     "output_type": "stream",
     "text": [
      "\r",
      "⭐[ep_0_i_39]\tlos_noobj\t0.000✨\tlos_obj\t1.000✨\tloss\t634.526✨\tloss_cls\t1.000✨\tloss_wh\t129.325✨\tloss_xy\t503.201:   0%|          | 49/107501 [00:20<12:21:51,  2.41it/s]"
     ]
    },
    {
     "name": "stdout",
     "output_type": "stream",
     "text": [
      "bb [0. 0.] \t [2.1239705 3.6538072]\n",
      "conf 0.0 \t 1.0\n",
      "cls 0.0 \t 1.0\n"
     ]
    },
    {
     "name": "stderr",
     "output_type": "stream",
     "text": [
      "\r",
      "⭐[ep_0_i_39]\tlos_noobj\t0.000✨\tlos_obj\t1.000✨\tloss\t634.526✨\tloss_cls\t1.000✨\tloss_wh\t129.325✨\tloss_xy\t503.201:   0%|          | 50/107501 [00:20<12:21:31,  2.42it/s]"
     ]
    },
    {
     "name": "stdout",
     "output_type": "stream",
     "text": [
      "bb [0. 0.] \t [9.84039  8.919219]\n",
      "conf 0.0 \t 1.0\n",
      "cls 0.0 \t 1.0\n",
      "bb [0. 0.] \t [0.48201564 0.4335335 ]\n",
      "conf 0.0 \t 1.0\n",
      "cls 0.0 \t 1.0\n"
     ]
    },
    {
     "name": "stderr",
     "output_type": "stream",
     "text": [
      "⭐[ep_0_i_39]\tlos_noobj\t0.000✨\tlos_obj\t1.000✨\tloss\t634.526✨\tloss_cls\t1.000✨\tloss_wh\t129.325✨\tloss_xy\t503.201:   0%|          | 52/107501 [00:21<12:24:19,  2.41it/s]"
     ]
    },
    {
     "name": "stdout",
     "output_type": "stream",
     "text": [
      "bb [0. 0.] \t [0.64974   0.4227928]\n",
      "conf 0.0 \t 1.0\n",
      "cls 0.0 \t 1.0\n"
     ]
    },
    {
     "name": "stderr",
     "output_type": "stream",
     "text": [
      "\r",
      "⭐[ep_0_i_39]\tlos_noobj\t0.000✨\tlos_obj\t1.000✨\tloss\t634.526✨\tloss_cls\t1.000✨\tloss_wh\t129.325✨\tloss_xy\t503.201:   0%|          | 53/107501 [00:22<12:23:49,  2.41it/s]"
     ]
    },
    {
     "name": "stdout",
     "output_type": "stream",
     "text": [
      "bb [0. 0.] \t [2.2037032 2.009393 ]\n",
      "conf 0.0 \t 1.0\n",
      "cls 0.0 \t 1.0\n"
     ]
    },
    {
     "name": "stderr",
     "output_type": "stream",
     "text": [
      "\r",
      "⭐[ep_0_i_39]\tlos_noobj\t0.000✨\tlos_obj\t1.000✨\tloss\t634.526✨\tloss_cls\t1.000✨\tloss_wh\t129.325✨\tloss_xy\t503.201:   0%|          | 54/107501 [00:22<12:22:56,  2.41it/s]"
     ]
    },
    {
     "name": "stdout",
     "output_type": "stream",
     "text": [
      "bb [0. 0.] \t [12.475328 10.959541]\n",
      "conf 0.0 \t 1.0\n",
      "cls 0.0 \t 1.0\n"
     ]
    },
    {
     "name": "stderr",
     "output_type": "stream",
     "text": [
      "\r",
      "⭐[ep_0_i_39]\tlos_noobj\t0.000✨\tlos_obj\t1.000✨\tloss\t634.526✨\tloss_cls\t1.000✨\tloss_wh\t129.325✨\tloss_xy\t503.201:   0%|          | 55/107501 [00:22<12:22:15,  2.41it/s]"
     ]
    },
    {
     "name": "stdout",
     "output_type": "stream",
     "text": [
      "bb [0. 0.] \t [0.8506875 5.054021 ]\n",
      "conf 0.0 \t 1.0\n",
      "cls 0.0 \t 1.0\n"
     ]
    },
    {
     "name": "stderr",
     "output_type": "stream",
     "text": [
      "\r",
      "⭐[ep_0_i_39]\tlos_noobj\t0.000✨\tlos_obj\t1.000✨\tloss\t634.526✨\tloss_cls\t1.000✨\tloss_wh\t129.325✨\tloss_xy\t503.201:   0%|          | 56/107501 [00:23<12:21:51,  2.41it/s]"
     ]
    },
    {
     "name": "stdout",
     "output_type": "stream",
     "text": [
      "bb [0. 0.] \t [0.61282814 2.4152915 ]\n",
      "conf 0.0 \t 1.0\n",
      "cls 0.0 \t 1.0\n"
     ]
    },
    {
     "name": "stderr",
     "output_type": "stream",
     "text": [
      "\r",
      "⭐[ep_0_i_39]\tlos_noobj\t0.000✨\tlos_obj\t1.000✨\tloss\t634.526✨\tloss_cls\t1.000✨\tloss_wh\t129.325✨\tloss_xy\t503.201:   0%|          | 57/107501 [00:23<12:20:55,  2.42it/s]"
     ]
    },
    {
     "name": "stdout",
     "output_type": "stream",
     "text": [
      "bb [0. 0.] \t [0.0845     0.21088889]\n",
      "conf 0.0 \t 1.0\n",
      "cls 0.0 \t 1.0\n"
     ]
    },
    {
     "name": "stderr",
     "output_type": "stream",
     "text": [
      "\r",
      "⭐[ep_0_i_39]\tlos_noobj\t0.000✨\tlos_obj\t1.000✨\tloss\t634.526✨\tloss_cls\t1.000✨\tloss_wh\t129.325✨\tloss_xy\t503.201:   0%|          | 58/107501 [00:23<12:19:56,  2.42it/s]"
     ]
    },
    {
     "name": "stdout",
     "output_type": "stream",
     "text": [
      "bb [0. 0.] \t [0.31890625 0.6645621 ]\n",
      "conf 0.0 \t 1.0\n",
      "cls 0.0 \t 1.0\n"
     ]
    },
    {
     "name": "stderr",
     "output_type": "stream",
     "text": [
      "\r",
      "⭐[ep_0_i_39]\tlos_noobj\t0.000✨\tlos_obj\t1.000✨\tloss\t634.526✨\tloss_cls\t1.000✨\tloss_wh\t129.325✨\tloss_xy\t503.201:   0%|          | 59/107501 [00:24<12:19:17,  2.42it/s]"
     ]
    },
    {
     "name": "stdout",
     "output_type": "stream",
     "text": [
      "bb [0. 0.] \t [7.4713435 6.602043 ]\n",
      "conf 0.0 \t 1.0\n",
      "cls 0.0 \t 1.0\n"
     ]
    },
    {
     "name": "stderr",
     "output_type": "stream",
     "text": [
      "⭐[ep_0_i_59]\tlos_noobj\t0.000✨\tlos_obj\t1.000✨\tloss\t640.323✨\tloss_cls\t1.000✨\tloss_wh\t142.779✨\tloss_xy\t495.544:   0%|          | 60/107501 [00:24<12:18:32,  2.42it/s]"
     ]
    },
    {
     "name": "stdout",
     "output_type": "stream",
     "text": [
      "bb [0. 0.] \t [2.1978126 1.3621621]\n",
      "conf 0.0 \t 1.0\n",
      "cls 0.0 \t 1.0\n"
     ]
    },
    {
     "name": "stderr",
     "output_type": "stream",
     "text": [
      "\r",
      "⭐[ep_0_i_59]\tlos_noobj\t0.000✨\tlos_obj\t1.000✨\tloss\t640.323✨\tloss_cls\t1.000✨\tloss_wh\t142.779✨\tloss_xy\t495.544:   0%|          | 61/107501 [00:25<12:18:07,  2.43it/s]"
     ]
    },
    {
     "name": "stdout",
     "output_type": "stream",
     "text": [
      "bb [0. 0.] \t [3.6775782 9.640655 ]\n",
      "conf 0.0 \t 1.0\n",
      "cls 0.0 \t 1.0\n"
     ]
    },
    {
     "name": "stderr",
     "output_type": "stream",
     "text": [
      "\r",
      "⭐[ep_0_i_59]\tlos_noobj\t0.000✨\tlos_obj\t1.000✨\tloss\t640.323✨\tloss_cls\t1.000✨\tloss_wh\t142.779✨\tloss_xy\t495.544:   0%|          | 62/107501 [00:25<12:17:16,  2.43it/s]"
     ]
    },
    {
     "name": "stdout",
     "output_type": "stream",
     "text": [
      "bb [0. 0.] \t [0.3838967  0.11923438]\n",
      "conf 0.0 \t 1.0\n",
      "cls 0.0 \t 1.0\n"
     ]
    },
    {
     "name": "stderr",
     "output_type": "stream",
     "text": [
      "\r",
      "⭐[ep_0_i_59]\tlos_noobj\t0.000✨\tlos_obj\t1.000✨\tloss\t640.323✨\tloss_cls\t1.000✨\tloss_wh\t142.779✨\tloss_xy\t495.544:   0%|          | 63/107501 [00:25<12:18:08,  2.43it/s]"
     ]
    },
    {
     "name": "stdout",
     "output_type": "stream",
     "text": [
      "bb [0. 0.] \t [10.560732  8.926328]\n",
      "conf 0.0 \t 1.0\n",
      "cls 0.0 \t 1.0\n"
     ]
    },
    {
     "name": "stderr",
     "output_type": "stream",
     "text": [
      "\r",
      "⭐[ep_0_i_59]\tlos_noobj\t0.000✨\tlos_obj\t1.000✨\tloss\t640.323✨\tloss_cls\t1.000✨\tloss_wh\t142.779✨\tloss_xy\t495.544:   0%|          | 64/107501 [00:26<12:17:12,  2.43it/s]"
     ]
    },
    {
     "name": "stdout",
     "output_type": "stream",
     "text": [
      "bb [0. 0.] \t [3.2656407 1.6596969]\n",
      "conf 0.0 \t 1.0\n",
      "cls 0.0 \t 1.0\n"
     ]
    },
    {
     "name": "stderr",
     "output_type": "stream",
     "text": [
      "\r",
      "⭐[ep_0_i_59]\tlos_noobj\t0.000✨\tlos_obj\t1.000✨\tloss\t640.323✨\tloss_cls\t1.000✨\tloss_wh\t142.779✨\tloss_xy\t495.544:   0%|          | 65/107501 [00:26<12:16:28,  2.43it/s]"
     ]
    },
    {
     "name": "stdout",
     "output_type": "stream",
     "text": [
      "bb [0. 0.] \t [6.903406 8.676511]\n",
      "conf 0.0 \t 1.0\n",
      "cls 0.0 \t 1.0\n"
     ]
    },
    {
     "name": "stderr",
     "output_type": "stream",
     "text": [
      "\r",
      "⭐[ep_0_i_59]\tlos_noobj\t0.000✨\tlos_obj\t1.000✨\tloss\t640.323✨\tloss_cls\t1.000✨\tloss_wh\t142.779✨\tloss_xy\t495.544:   0%|          | 66/107501 [00:27<12:16:29,  2.43it/s]"
     ]
    },
    {
     "name": "stdout",
     "output_type": "stream",
     "text": [
      "bb [0. 0.] \t [1.8122813 9.348126 ]\n",
      "conf 0.0 \t 1.0\n",
      "cls 0.0 \t 1.0\n"
     ]
    },
    {
     "name": "stderr",
     "output_type": "stream",
     "text": [
      "\r",
      "⭐[ep_0_i_59]\tlos_noobj\t0.000✨\tlos_obj\t1.000✨\tloss\t640.323✨\tloss_cls\t1.000✨\tloss_wh\t142.779✨\tloss_xy\t495.544:   0%|          | 67/107501 [00:27<12:16:26,  2.43it/s]"
     ]
    },
    {
     "name": "stdout",
     "output_type": "stream",
     "text": [
      "bb [0. 0.] \t [0.64573437 2.746318  ]\n",
      "conf 0.0 \t 1.0\n",
      "cls 0.0 \t 1.0\n"
     ]
    },
    {
     "name": "stderr",
     "output_type": "stream",
     "text": [
      "\r",
      "⭐[ep_0_i_59]\tlos_noobj\t0.000✨\tlos_obj\t1.000✨\tloss\t640.323✨\tloss_cls\t1.000✨\tloss_wh\t142.779✨\tloss_xy\t495.544:   0%|          | 68/107501 [00:27<12:16:00,  2.43it/s]"
     ]
    },
    {
     "name": "stdout",
     "output_type": "stream",
     "text": [
      "bb [0. 0.] \t [12.877127  10.0546875]\n",
      "conf 0.0 \t 1.0\n",
      "cls 0.0 \t 1.0\n"
     ]
    },
    {
     "name": "stderr",
     "output_type": "stream",
     "text": [
      "\r",
      "⭐[ep_0_i_59]\tlos_noobj\t0.000✨\tlos_obj\t1.000✨\tloss\t640.323✨\tloss_cls\t1.000✨\tloss_wh\t142.779✨\tloss_xy\t495.544:   0%|          | 69/107501 [00:28<12:15:06,  2.44it/s]"
     ]
    },
    {
     "name": "stdout",
     "output_type": "stream",
     "text": [
      "bb [0. 0.] \t [1.2471875 1.0588318]\n",
      "conf 0.0 \t 1.0\n",
      "cls 0.0 \t 1.0\n"
     ]
    },
    {
     "name": "stderr",
     "output_type": "stream",
     "text": [
      "\r",
      "⭐[ep_0_i_59]\tlos_noobj\t0.000✨\tlos_obj\t1.000✨\tloss\t640.323✨\tloss_cls\t1.000✨\tloss_wh\t142.779✨\tloss_xy\t495.544:   0%|          | 70/107501 [00:28<12:14:44,  2.44it/s]"
     ]
    },
    {
     "name": "stdout",
     "output_type": "stream",
     "text": [
      "bb [0. 0.] \t [1.5784844 2.1971529]\n",
      "conf 0.0 \t 1.0\n",
      "cls 0.0 \t 1.0\n"
     ]
    },
    {
     "name": "stderr",
     "output_type": "stream",
     "text": [
      "\r",
      "⭐[ep_0_i_59]\tlos_noobj\t0.000✨\tlos_obj\t1.000✨\tloss\t640.323✨\tloss_cls\t1.000✨\tloss_wh\t142.779✨\tloss_xy\t495.544:   0%|          | 71/107501 [00:29<12:14:11,  2.44it/s]"
     ]
    },
    {
     "name": "stdout",
     "output_type": "stream",
     "text": [
      "bb [0. 0.] \t [5.619656 6.207196]\n",
      "conf 0.0 \t 1.0\n",
      "cls 0.0 \t 1.0\n"
     ]
    },
    {
     "name": "stderr",
     "output_type": "stream",
     "text": [
      "\r",
      "⭐[ep_0_i_59]\tlos_noobj\t0.000✨\tlos_obj\t1.000✨\tloss\t640.323✨\tloss_cls\t1.000✨\tloss_wh\t142.779✨\tloss_xy\t495.544:   0%|          | 72/107501 [00:29<12:13:48,  2.44it/s]"
     ]
    },
    {
     "name": "stdout",
     "output_type": "stream",
     "text": [
      "bb [0. 0.] \t [0.41335937 0.89347917]\n",
      "conf 0.0 \t 1.0\n",
      "cls 0.0 \t 1.0\n"
     ]
    },
    {
     "name": "stderr",
     "output_type": "stream",
     "text": [
      "\r",
      "⭐[ep_0_i_59]\tlos_noobj\t0.000✨\tlos_obj\t1.000✨\tloss\t640.323✨\tloss_cls\t1.000✨\tloss_wh\t142.779✨\tloss_xy\t495.544:   0%|          | 73/107501 [00:29<12:13:32,  2.44it/s]"
     ]
    },
    {
     "name": "stdout",
     "output_type": "stream",
     "text": [
      "bb [0. 0.] \t [5.698672 4.812844]\n",
      "conf 0.0 \t 1.0\n",
      "cls 0.0 \t 1.0\n"
     ]
    },
    {
     "name": "stderr",
     "output_type": "stream",
     "text": [
      "\r",
      "⭐[ep_0_i_59]\tlos_noobj\t0.000✨\tlos_obj\t1.000✨\tloss\t640.323✨\tloss_cls\t1.000✨\tloss_wh\t142.779✨\tloss_xy\t495.544:   0%|          | 74/107501 [00:30<12:13:08,  2.44it/s]"
     ]
    },
    {
     "name": "stdout",
     "output_type": "stream",
     "text": [
      "bb [0. 0.] \t [2.0757344 2.2644374]\n",
      "conf 0.0 \t 1.0\n",
      "cls 0.0 \t 1.0\n"
     ]
    },
    {
     "name": "stderr",
     "output_type": "stream",
     "text": [
      "\r",
      "⭐[ep_0_i_59]\tlos_noobj\t0.000✨\tlos_obj\t1.000✨\tloss\t640.323✨\tloss_cls\t1.000✨\tloss_wh\t142.779✨\tloss_xy\t495.544:   0%|          | 75/107501 [00:30<12:13:40,  2.44it/s]"
     ]
    },
    {
     "name": "stdout",
     "output_type": "stream",
     "text": [
      "bb [0. 0.] \t [0.5435625 0.6835484]\n",
      "conf 0.0 \t 1.0\n",
      "cls 0.0 \t 1.0\n"
     ]
    },
    {
     "name": "stderr",
     "output_type": "stream",
     "text": [
      "\r",
      "⭐[ep_0_i_59]\tlos_noobj\t0.000✨\tlos_obj\t1.000✨\tloss\t640.323✨\tloss_cls\t1.000✨\tloss_wh\t142.779✨\tloss_xy\t495.544:   0%|          | 76/107501 [00:31<12:13:45,  2.44it/s]"
     ]
    },
    {
     "name": "stdout",
     "output_type": "stream",
     "text": [
      "bb [0. 0.] \t [0.12878124 0.5178538 ]\n",
      "conf 0.0 \t 1.0\n",
      "cls 0.0 \t 1.0\n"
     ]
    },
    {
     "name": "stderr",
     "output_type": "stream",
     "text": [
      "\r",
      "⭐[ep_0_i_59]\tlos_noobj\t0.000✨\tlos_obj\t1.000✨\tloss\t640.323✨\tloss_cls\t1.000✨\tloss_wh\t142.779✨\tloss_xy\t495.544:   0%|          | 77/107501 [00:31<12:14:30,  2.44it/s]"
     ]
    },
    {
     "name": "stdout",
     "output_type": "stream",
     "text": [
      "bb [0. 0.] \t [0.70728123 0.62427086]\n",
      "conf 0.0 \t 1.0\n",
      "cls 0.0 \t 1.0\n"
     ]
    },
    {
     "name": "stderr",
     "output_type": "stream",
     "text": [
      "\r",
      "⭐[ep_0_i_59]\tlos_noobj\t0.000✨\tlos_obj\t1.000✨\tloss\t640.323✨\tloss_cls\t1.000✨\tloss_wh\t142.779✨\tloss_xy\t495.544:   0%|          | 78/107501 [00:31<12:14:11,  2.44it/s]"
     ]
    },
    {
     "name": "stdout",
     "output_type": "stream",
     "text": [
      "bb [0. 0.] \t [0.30164063 1.6913542 ]\n",
      "conf 0.0 \t 1.0\n",
      "cls 0.0 \t 1.0\n"
     ]
    },
    {
     "name": "stderr",
     "output_type": "stream",
     "text": [
      "\r",
      "⭐[ep_0_i_59]\tlos_noobj\t0.000✨\tlos_obj\t1.000✨\tloss\t640.323✨\tloss_cls\t1.000✨\tloss_wh\t142.779✨\tloss_xy\t495.544:   0%|          | 79/107501 [00:32<12:14:04,  2.44it/s]"
     ]
    },
    {
     "name": "stdout",
     "output_type": "stream",
     "text": [
      "bb [0. 0.] \t [0.8409375  0.14135371]\n",
      "conf 0.0 \t 1.0\n",
      "cls 0.0 \t 1.0\n"
     ]
    },
    {
     "name": "stderr",
     "output_type": "stream",
     "text": [
      "⭐[ep_0_i_79]\tlos_noobj\t0.000✨\tlos_obj\t1.000✨\tloss\t675.441✨\tloss_cls\t1.000✨\tloss_wh\t207.616✨\tloss_xy\t465.825:   0%|          | 80/107501 [00:32<12:14:22,  2.44it/s]"
     ]
    },
    {
     "name": "stdout",
     "output_type": "stream",
     "text": [
      "bb [0. 0.] \t [0.442     1.9248126]\n",
      "conf 0.0 \t 1.0\n",
      "cls 0.0 \t 1.0\n"
     ]
    },
    {
     "name": "stderr",
     "output_type": "stream",
     "text": [
      "\r",
      "⭐[ep_0_i_79]\tlos_noobj\t0.000✨\tlos_obj\t1.000✨\tloss\t675.441✨\tloss_cls\t1.000✨\tloss_wh\t207.616✨\tloss_xy\t465.825:   0%|          | 81/107501 [00:33<12:14:31,  2.44it/s]"
     ]
    },
    {
     "name": "stdout",
     "output_type": "stream",
     "text": [
      "bb [0. 0.] \t [2.6948593 8.939396 ]\n",
      "conf 0.0 \t 1.0\n",
      "cls 0.0 \t 1.0\n"
     ]
    },
    {
     "name": "stderr",
     "output_type": "stream",
     "text": [
      "\r",
      "⭐[ep_0_i_79]\tlos_noobj\t0.000✨\tlos_obj\t1.000✨\tloss\t675.441✨\tloss_cls\t1.000✨\tloss_wh\t207.616✨\tloss_xy\t465.825:   0%|          | 82/107501 [00:33<12:14:09,  2.44it/s]"
     ]
    },
    {
     "name": "stdout",
     "output_type": "stream",
     "text": [
      "bb [0. 0.] \t [2.30181 1.58938]\n",
      "conf 0.0 \t 1.0\n",
      "cls 0.0 \t 1.0\n"
     ]
    },
    {
     "name": "stderr",
     "output_type": "stream",
     "text": [
      "\r",
      "⭐[ep_0_i_79]\tlos_noobj\t0.000✨\tlos_obj\t1.000✨\tloss\t675.441✨\tloss_cls\t1.000✨\tloss_wh\t207.616✨\tloss_xy\t465.825:   0%|          | 83/107501 [00:34<12:13:49,  2.44it/s]"
     ]
    },
    {
     "name": "stdout",
     "output_type": "stream",
     "text": [
      "bb [0. 0.] \t [7.6375    5.8229165]\n",
      "conf 0.0 \t 1.0\n",
      "cls 0.0 \t 1.0\n"
     ]
    },
    {
     "name": "stderr",
     "output_type": "stream",
     "text": [
      "\r",
      "⭐[ep_0_i_79]\tlos_noobj\t0.000✨\tlos_obj\t1.000✨\tloss\t675.441✨\tloss_cls\t1.000✨\tloss_wh\t207.616✨\tloss_xy\t465.825:   0%|          | 84/107501 [00:34<12:13:40,  2.44it/s]"
     ]
    },
    {
     "name": "stdout",
     "output_type": "stream",
     "text": [
      "bb [0. 0.] \t [2.0160155 1.4220843]\n",
      "conf 0.0 \t 1.0\n",
      "cls 0.0 \t 1.0\n"
     ]
    },
    {
     "name": "stderr",
     "output_type": "stream",
     "text": [
      "\r",
      "⭐[ep_0_i_79]\tlos_noobj\t0.000✨\tlos_obj\t1.000✨\tloss\t675.441✨\tloss_cls\t1.000✨\tloss_wh\t207.616✨\tloss_xy\t465.825:   0%|          | 85/107501 [00:34<12:13:11,  2.44it/s]"
     ]
    },
    {
     "name": "stdout",
     "output_type": "stream",
     "text": [
      "bb [0. 0.] \t [0.1015625 0.3253066]\n",
      "conf 0.0 \t 1.0\n",
      "cls 0.0 \t 1.0\n"
     ]
    },
    {
     "name": "stderr",
     "output_type": "stream",
     "text": [
      "\r",
      "⭐[ep_0_i_79]\tlos_noobj\t0.000✨\tlos_obj\t1.000✨\tloss\t675.441✨\tloss_cls\t1.000✨\tloss_wh\t207.616✨\tloss_xy\t465.825:   0%|          | 86/107501 [00:35<12:13:11,  2.44it/s]"
     ]
    },
    {
     "name": "stdout",
     "output_type": "stream",
     "text": [
      "bb [0. 0.] \t [1.0135938 0.7550351]\n",
      "conf 0.0 \t 1.0\n",
      "cls 0.0 \t 1.0\n"
     ]
    },
    {
     "name": "stderr",
     "output_type": "stream",
     "text": [
      "\r",
      "⭐[ep_0_i_79]\tlos_noobj\t0.000✨\tlos_obj\t1.000✨\tloss\t675.441✨\tloss_cls\t1.000✨\tloss_wh\t207.616✨\tloss_xy\t465.825:   0%|          | 87/107501 [00:35<12:12:57,  2.44it/s]"
     ]
    },
    {
     "name": "stdout",
     "output_type": "stream",
     "text": [
      "bb [0. 0.] \t [1.118     4.0130277]\n",
      "conf 0.0 \t 1.0\n",
      "cls 0.0 \t 1.0\n"
     ]
    },
    {
     "name": "stderr",
     "output_type": "stream",
     "text": [
      "\r",
      "⭐[ep_0_i_79]\tlos_noobj\t0.000✨\tlos_obj\t1.000✨\tloss\t675.441✨\tloss_cls\t1.000✨\tloss_wh\t207.616✨\tloss_xy\t465.825:   0%|          | 88/107501 [00:36<12:12:33,  2.44it/s]"
     ]
    },
    {
     "name": "stdout",
     "output_type": "stream",
     "text": [
      "bb [0. 0.] \t [1.3751515 1.8059844]\n",
      "conf 0.0 \t 1.0\n",
      "cls 0.0 \t 1.0\n"
     ]
    },
    {
     "name": "stderr",
     "output_type": "stream",
     "text": [
      "\r",
      "⭐[ep_0_i_79]\tlos_noobj\t0.000✨\tlos_obj\t1.000✨\tloss\t675.441✨\tloss_cls\t1.000✨\tloss_wh\t207.616✨\tloss_xy\t465.825:   0%|          | 89/107501 [00:36<12:12:18,  2.44it/s]"
     ]
    },
    {
     "name": "stdout",
     "output_type": "stream",
     "text": [
      "bb [0. 0.] \t [0.27421874 0.44662765]\n",
      "conf 0.0 \t 1.0\n",
      "cls 0.0 \t 1.0\n"
     ]
    },
    {
     "name": "stderr",
     "output_type": "stream",
     "text": [
      "\r",
      "⭐[ep_0_i_79]\tlos_noobj\t0.000✨\tlos_obj\t1.000✨\tloss\t675.441✨\tloss_cls\t1.000✨\tloss_wh\t207.616✨\tloss_xy\t465.825:   0%|          | 90/107501 [00:36<12:11:59,  2.45it/s]"
     ]
    },
    {
     "name": "stdout",
     "output_type": "stream",
     "text": [
      "bb [0. 0.] \t [2.0154061 8.726098 ]\n",
      "conf 0.0 \t 1.0\n",
      "cls 0.0 \t 1.0\n"
     ]
    },
    {
     "name": "stderr",
     "output_type": "stream",
     "text": [
      "\r",
      "⭐[ep_0_i_79]\tlos_noobj\t0.000✨\tlos_obj\t1.000✨\tloss\t675.441✨\tloss_cls\t1.000✨\tloss_wh\t207.616✨\tloss_xy\t465.825:   0%|          | 91/107501 [00:37<12:12:07,  2.45it/s]"
     ]
    },
    {
     "name": "stdout",
     "output_type": "stream",
     "text": [
      "bb [0. 0.] \t [1.0406094 0.3469375]\n",
      "conf 0.0 \t 1.0\n",
      "cls 0.0 \t 1.0\n"
     ]
    },
    {
     "name": "stderr",
     "output_type": "stream",
     "text": [
      "\r",
      "⭐[ep_0_i_79]\tlos_noobj\t0.000✨\tlos_obj\t1.000✨\tloss\t675.441✨\tloss_cls\t1.000✨\tloss_wh\t207.616✨\tloss_xy\t465.825:   0%|          | 92/107501 [00:37<12:12:22,  2.44it/s]"
     ]
    },
    {
     "name": "stdout",
     "output_type": "stream",
     "text": [
      "bb [0. 0.] \t [0.49928126 0.18579167]\n",
      "conf 0.0 \t 1.0\n",
      "cls 0.0 \t 1.0\n"
     ]
    },
    {
     "name": "stderr",
     "output_type": "stream",
     "text": [
      "\r",
      "⭐[ep_0_i_79]\tlos_noobj\t0.000✨\tlos_obj\t1.000✨\tloss\t675.441✨\tloss_cls\t1.000✨\tloss_wh\t207.616✨\tloss_xy\t465.825:   0%|          | 93/107501 [00:38<12:12:31,  2.44it/s]"
     ]
    },
    {
     "name": "stdout",
     "output_type": "stream",
     "text": [
      "bb [0. 0.] \t [0.34216    0.47389334]\n",
      "conf 0.0 \t 1.0\n",
      "cls 0.0 \t 1.0\n"
     ]
    },
    {
     "name": "stderr",
     "output_type": "stream",
     "text": [
      "\r",
      "⭐[ep_0_i_79]\tlos_noobj\t0.000✨\tlos_obj\t1.000✨\tloss\t675.441✨\tloss_cls\t1.000✨\tloss_wh\t207.616✨\tloss_xy\t465.825:   0%|          | 94/107501 [00:38<12:12:57,  2.44it/s]"
     ]
    },
    {
     "name": "stdout",
     "output_type": "stream",
     "text": [
      "bb [0. 0.] \t [0.9973438 2.5829375]\n",
      "conf 0.0 \t 1.0\n",
      "cls 0.0 \t 1.0\n"
     ]
    },
    {
     "name": "stderr",
     "output_type": "stream",
     "text": [
      "\r",
      "⭐[ep_0_i_79]\tlos_noobj\t0.000✨\tlos_obj\t1.000✨\tloss\t675.441✨\tloss_cls\t1.000✨\tloss_wh\t207.616✨\tloss_xy\t465.825:   0%|          | 95/107501 [00:38<12:13:13,  2.44it/s]"
     ]
    },
    {
     "name": "stdout",
     "output_type": "stream",
     "text": [
      "bb [0. 0.] \t [2.2788594 3.8553126]\n",
      "conf 0.0 \t 1.0\n",
      "cls 0.0 \t 1.0\n"
     ]
    },
    {
     "name": "stderr",
     "output_type": "stream",
     "text": [
      "\r",
      "⭐[ep_0_i_79]\tlos_noobj\t0.000✨\tlos_obj\t1.000✨\tloss\t675.441✨\tloss_cls\t1.000✨\tloss_wh\t207.616✨\tloss_xy\t465.825:   0%|          | 96/107501 [00:39<12:13:18,  2.44it/s]"
     ]
    },
    {
     "name": "stdout",
     "output_type": "stream",
     "text": [
      "bb [0. 0.] \t [0.17164062 1.5134166 ]\n",
      "conf 0.0 \t 1.0\n",
      "cls 0.0 \t 1.0\n"
     ]
    },
    {
     "name": "stderr",
     "output_type": "stream",
     "text": [
      "\r",
      "⭐[ep_0_i_79]\tlos_noobj\t0.000✨\tlos_obj\t1.000✨\tloss\t675.441✨\tloss_cls\t1.000✨\tloss_wh\t207.616✨\tloss_xy\t465.825:   0%|          | 97/107501 [00:39<12:13:20,  2.44it/s]"
     ]
    },
    {
     "name": "stdout",
     "output_type": "stream",
     "text": [
      "bb [0. 0.] \t [3.456172  5.4039373]\n",
      "conf 0.0 \t 1.0\n",
      "cls 0.0 \t 1.0\n"
     ]
    },
    {
     "name": "stderr",
     "output_type": "stream",
     "text": [
      "\r",
      "⭐[ep_0_i_79]\tlos_noobj\t0.000✨\tlos_obj\t1.000✨\tloss\t675.441✨\tloss_cls\t1.000✨\tloss_wh\t207.616✨\tloss_xy\t465.825:   0%|          | 98/107501 [00:40<12:12:55,  2.44it/s]"
     ]
    },
    {
     "name": "stdout",
     "output_type": "stream",
     "text": [
      "bb [0. 0.] \t [1.7423654 1.0859063]\n",
      "conf 0.0 \t 1.0\n",
      "cls 0.0 \t 1.0\n"
     ]
    },
    {
     "name": "stderr",
     "output_type": "stream",
     "text": [
      "\r",
      "⭐[ep_0_i_79]\tlos_noobj\t0.000✨\tlos_obj\t1.000✨\tloss\t675.441✨\tloss_cls\t1.000✨\tloss_wh\t207.616✨\tloss_xy\t465.825:   0%|          | 99/107501 [00:40<12:12:25,  2.44it/s]"
     ]
    },
    {
     "name": "stdout",
     "output_type": "stream",
     "text": [
      "bb [0. 0.] \t [0.6469531 1.0482202]\n",
      "conf 0.0 \t 1.0\n",
      "cls 0.0 \t 1.0\n"
     ]
    },
    {
     "name": "stderr",
     "output_type": "stream",
     "text": [
      "⭐[ep_0_i_99]\tlos_noobj\t0.000✨\tlos_obj\t1.000✨\tloss\t648.072✨\tloss_cls\t1.000✨\tloss_wh\t145.885✨\tloss_xy\t500.187:   0%|          | 100/107501 [00:40<12:12:06,  2.45it/s]"
     ]
    },
    {
     "name": "stdout",
     "output_type": "stream",
     "text": [
      "bb [0. 0.] \t [0.23296 0.40248]\n",
      "conf 0.0 \t 1.0\n",
      "cls 0.0 \t 1.0\n",
      "bb [0. 0.] \t [0.60996   2.4599404]\n",
      "conf 0.0 \t 1.0\n",
      "cls 0.0 \t 1.0\n"
     ]
    },
    {
     "name": "stderr",
     "output_type": "stream",
     "text": [
      "⭐[ep_0_i_99]\tlos_noobj\t0.000✨\tlos_obj\t1.000✨\tloss\t648.072✨\tloss_cls\t1.000✨\tloss_wh\t145.885✨\tloss_xy\t500.187:   0%|          | 102/107501 [00:41<12:14:11,  2.44it/s]"
     ]
    },
    {
     "name": "stdout",
     "output_type": "stream",
     "text": [
      "bb [0. 0.] \t [2.37068  6.332635]\n",
      "conf 0.0 \t 1.0\n",
      "cls 0.0 \t 1.0\n"
     ]
    },
    {
     "name": "stderr",
     "output_type": "stream",
     "text": [
      "\r",
      "⭐[ep_0_i_99]\tlos_noobj\t0.000✨\tlos_obj\t1.000✨\tloss\t648.072✨\tloss_cls\t1.000✨\tloss_wh\t145.885✨\tloss_xy\t500.187:   0%|          | 103/107501 [00:42<12:13:46,  2.44it/s]"
     ]
    },
    {
     "name": "stdout",
     "output_type": "stream",
     "text": [
      "bb [0. 0.] \t [3.856125 8.214375]\n",
      "conf 0.0 \t 1.0\n",
      "cls 0.0 \t 1.0\n"
     ]
    },
    {
     "name": "stderr",
     "output_type": "stream",
     "text": [
      "\r",
      "⭐[ep_0_i_99]\tlos_noobj\t0.000✨\tlos_obj\t1.000✨\tloss\t648.072✨\tloss_cls\t1.000✨\tloss_wh\t145.885✨\tloss_xy\t500.187:   0%|          | 104/107501 [00:42<12:13:50,  2.44it/s]"
     ]
    },
    {
     "name": "stdout",
     "output_type": "stream",
     "text": [
      "bb [0. 0.] \t [0.12471875 0.44795832]\n",
      "conf 0.0 \t 1.0\n",
      "cls 0.0 \t 1.0\n"
     ]
    },
    {
     "name": "stderr",
     "output_type": "stream",
     "text": [
      "\r",
      "⭐[ep_0_i_99]\tlos_noobj\t0.000✨\tlos_obj\t1.000✨\tloss\t648.072✨\tloss_cls\t1.000✨\tloss_wh\t145.885✨\tloss_xy\t500.187:   0%|          | 105/107501 [00:43<12:13:32,  2.44it/s]"
     ]
    },
    {
     "name": "stdout",
     "output_type": "stream",
     "text": [
      "bb [0. 0.] \t [0.25289062 1.6940625 ]\n",
      "conf 0.0 \t 1.0\n",
      "cls 0.0 \t 1.0\n"
     ]
    },
    {
     "name": "stderr",
     "output_type": "stream",
     "text": [
      "\r",
      "⭐[ep_0_i_99]\tlos_noobj\t0.000✨\tlos_obj\t1.000✨\tloss\t648.072✨\tloss_cls\t1.000✨\tloss_wh\t145.885✨\tloss_xy\t500.187:   0%|          | 106/107501 [00:43<12:13:25,  2.44it/s]"
     ]
    },
    {
     "name": "stdout",
     "output_type": "stream",
     "text": [
      "bb [0. 0.] \t [3.852506  4.0080624]\n",
      "conf 0.0 \t 1.0\n",
      "cls 0.0 \t 1.0\n"
     ]
    },
    {
     "name": "stderr",
     "output_type": "stream",
     "text": [
      "\r",
      "⭐[ep_0_i_99]\tlos_noobj\t0.000✨\tlos_obj\t1.000✨\tloss\t648.072✨\tloss_cls\t1.000✨\tloss_wh\t145.885✨\tloss_xy\t500.187:   0%|          | 107/107501 [00:43<12:12:59,  2.44it/s]"
     ]
    },
    {
     "name": "stdout",
     "output_type": "stream",
     "text": [
      "bb [0. 0.] \t [6.651125  7.7881265]\n",
      "conf 0.0 \t 1.0\n",
      "cls 0.0 \t 1.0\n"
     ]
    },
    {
     "name": "stderr",
     "output_type": "stream",
     "text": [
      "\r",
      "⭐[ep_0_i_99]\tlos_noobj\t0.000✨\tlos_obj\t1.000✨\tloss\t648.072✨\tloss_cls\t1.000✨\tloss_wh\t145.885✨\tloss_xy\t500.187:   0%|          | 108/107501 [00:44<12:12:22,  2.44it/s]"
     ]
    },
    {
     "name": "stdout",
     "output_type": "stream",
     "text": [
      "bb [0. 0.] \t [0.35854   0.5403003]\n",
      "conf 0.0 \t 1.0\n",
      "cls 0.0 \t 1.0\n"
     ]
    },
    {
     "name": "stderr",
     "output_type": "stream",
     "text": [
      "\r",
      "⭐[ep_0_i_99]\tlos_noobj\t0.000✨\tlos_obj\t1.000✨\tloss\t648.072✨\tloss_cls\t1.000✨\tloss_wh\t145.885✨\tloss_xy\t500.187:   0%|          | 109/107501 [00:44<12:12:03,  2.44it/s]"
     ]
    },
    {
     "name": "stdout",
     "output_type": "stream",
     "text": [
      "bb [0. 0.] \t [0.39303333 0.9277112 ]\n",
      "conf 0.0 \t 1.0\n",
      "cls 0.0 \t 1.0\n"
     ]
    },
    {
     "name": "stderr",
     "output_type": "stream",
     "text": [
      "\r",
      "⭐[ep_0_i_99]\tlos_noobj\t0.000✨\tlos_obj\t1.000✨\tloss\t648.072✨\tloss_cls\t1.000✨\tloss_wh\t145.885✨\tloss_xy\t500.187:   0%|          | 110/107501 [00:44<12:11:41,  2.45it/s]"
     ]
    },
    {
     "name": "stdout",
     "output_type": "stream",
     "text": [
      "bb [0. 0.] \t [1.7448437 4.4882116]\n",
      "conf 0.0 \t 1.0\n",
      "cls 0.0 \t 1.0\n"
     ]
    },
    {
     "name": "stderr",
     "output_type": "stream",
     "text": [
      "\r",
      "⭐[ep_0_i_99]\tlos_noobj\t0.000✨\tlos_obj\t1.000✨\tloss\t648.072✨\tloss_cls\t1.000✨\tloss_wh\t145.885✨\tloss_xy\t500.187:   0%|          | 111/107501 [00:45<12:11:51,  2.45it/s]"
     ]
    },
    {
     "name": "stdout",
     "output_type": "stream",
     "text": [
      "bb [0. 0.] \t [0.30082813 1.6438118 ]\n",
      "conf 0.0 \t 1.0\n",
      "cls 0.0 \t 1.0\n"
     ]
    },
    {
     "name": "stderr",
     "output_type": "stream",
     "text": [
      "\r",
      "⭐[ep_0_i_99]\tlos_noobj\t0.000✨\tlos_obj\t1.000✨\tloss\t648.072✨\tloss_cls\t1.000✨\tloss_wh\t145.885✨\tloss_xy\t500.187:   0%|          | 112/107501 [00:45<12:11:47,  2.45it/s]"
     ]
    },
    {
     "name": "stdout",
     "output_type": "stream",
     "text": [
      "bb [0. 0.] \t [0.3185114  0.38004687]\n",
      "conf 0.0 \t 1.0\n",
      "cls 0.0 \t 1.0\n"
     ]
    },
    {
     "name": "stderr",
     "output_type": "stream",
     "text": [
      "\r",
      "⭐[ep_0_i_99]\tlos_noobj\t0.000✨\tlos_obj\t1.000✨\tloss\t648.072✨\tloss_cls\t1.000✨\tloss_wh\t145.885✨\tloss_xy\t500.187:   0%|          | 113/107501 [00:46<12:11:49,  2.45it/s]"
     ]
    },
    {
     "name": "stdout",
     "output_type": "stream",
     "text": [
      "bb [0. 0.] \t [0.8181875 1.8701168]\n",
      "conf 0.0 \t 1.0\n",
      "cls 0.0 \t 1.0\n"
     ]
    },
    {
     "name": "stderr",
     "output_type": "stream",
     "text": [
      "\r",
      "⭐[ep_0_i_99]\tlos_noobj\t0.000✨\tlos_obj\t1.000✨\tloss\t648.072✨\tloss_cls\t1.000✨\tloss_wh\t145.885✨\tloss_xy\t500.187:   0%|          | 114/107501 [00:46<12:11:57,  2.45it/s]"
     ]
    },
    {
     "name": "stdout",
     "output_type": "stream",
     "text": [
      "bb [0. 0.] \t [3.0671875 1.6705607]\n",
      "conf 0.0 \t 1.0\n",
      "cls 0.0 \t 1.0\n"
     ]
    },
    {
     "name": "stderr",
     "output_type": "stream",
     "text": [
      "\r",
      "⭐[ep_0_i_99]\tlos_noobj\t0.000✨\tlos_obj\t1.000✨\tloss\t648.072✨\tloss_cls\t1.000✨\tloss_wh\t145.885✨\tloss_xy\t500.187:   0%|          | 115/107501 [00:47<12:12:06,  2.44it/s]"
     ]
    },
    {
     "name": "stdout",
     "output_type": "stream",
     "text": [
      "bb [0. 0.] \t [5.0988436 7.6003957]\n",
      "conf 0.0 \t 1.0\n",
      "cls 0.0 \t 1.0\n"
     ]
    },
    {
     "name": "stderr",
     "output_type": "stream",
     "text": [
      "\r",
      "⭐[ep_0_i_99]\tlos_noobj\t0.000✨\tlos_obj\t1.000✨\tloss\t648.072✨\tloss_cls\t1.000✨\tloss_wh\t145.885✨\tloss_xy\t500.187:   0%|          | 116/107501 [00:47<12:12:11,  2.44it/s]"
     ]
    },
    {
     "name": "stdout",
     "output_type": "stream",
     "text": [
      "bb [0. 0.] \t [1.13425  2.593861]\n",
      "conf 0.0 \t 1.0\n",
      "cls 0.0 \t 1.0\n"
     ]
    },
    {
     "name": "stderr",
     "output_type": "stream",
     "text": [
      "\r",
      "⭐[ep_0_i_99]\tlos_noobj\t0.000✨\tlos_obj\t1.000✨\tloss\t648.072✨\tloss_cls\t1.000✨\tloss_wh\t145.885✨\tloss_xy\t500.187:   0%|          | 117/107501 [00:47<12:12:07,  2.44it/s]"
     ]
    },
    {
     "name": "stdout",
     "output_type": "stream",
     "text": [
      "bb [0. 0.] \t [0.12025   0.4135625]\n",
      "conf 0.0 \t 1.0\n",
      "cls 0.0 \t 1.0\n"
     ]
    },
    {
     "name": "stderr",
     "output_type": "stream",
     "text": [
      "\r",
      "⭐[ep_0_i_99]\tlos_noobj\t0.000✨\tlos_obj\t1.000✨\tloss\t648.072✨\tloss_cls\t1.000✨\tloss_wh\t145.885✨\tloss_xy\t500.187:   0%|          | 118/107501 [00:48<12:12:05,  2.44it/s]"
     ]
    },
    {
     "name": "stdout",
     "output_type": "stream",
     "text": [
      "bb [0. 0.] \t [1.1842188 6.1943617]\n",
      "conf 0.0 \t 1.0\n",
      "cls 0.0 \t 1.0\n"
     ]
    },
    {
     "name": "stderr",
     "output_type": "stream",
     "text": [
      "\r",
      "⭐[ep_0_i_99]\tlos_noobj\t0.000✨\tlos_obj\t1.000✨\tloss\t648.072✨\tloss_cls\t1.000✨\tloss_wh\t145.885✨\tloss_xy\t500.187:   0%|          | 119/107501 [00:48<12:12:03,  2.44it/s]"
     ]
    },
    {
     "name": "stdout",
     "output_type": "stream",
     "text": [
      "bb [0. 0.] \t [0.47084376 1.3508431 ]\n",
      "conf 0.0 \t 1.0\n",
      "cls 0.0 \t 1.0\n"
     ]
    },
    {
     "name": "stderr",
     "output_type": "stream",
     "text": [
      "⭐[ep_0_i_119]\tlos_noobj\t0.000✨\tlos_obj\t1.000✨\tloss\t619.546✨\tloss_cls\t1.000✨\tloss_wh\t107.975✨\tloss_xy\t509.570:   0%|          | 120/107501 [00:49<12:12:11,  2.44it/s]"
     ]
    },
    {
     "name": "stdout",
     "output_type": "stream",
     "text": [
      "bb [0. 0.] \t [0.97073436 0.9976815 ]\n",
      "conf 0.0 \t 1.0\n",
      "cls 0.0 \t 1.0\n"
     ]
    },
    {
     "name": "stderr",
     "output_type": "stream",
     "text": [
      "\r",
      "⭐[ep_0_i_119]\tlos_noobj\t0.000✨\tlos_obj\t1.000✨\tloss\t619.546✨\tloss_cls\t1.000✨\tloss_wh\t107.975✨\tloss_xy\t509.570:   0%|          | 121/107501 [00:49<12:12:52,  2.44it/s]"
     ]
    },
    {
     "name": "stdout",
     "output_type": "stream",
     "text": [
      "bb [0. 0.] \t [2.8773334 1.5979844]\n",
      "conf 0.0 \t 1.0\n",
      "cls 0.0 \t 1.0\n"
     ]
    },
    {
     "name": "stderr",
     "output_type": "stream",
     "text": [
      "\r",
      "⭐[ep_0_i_119]\tlos_noobj\t0.000✨\tlos_obj\t1.000✨\tloss\t619.546✨\tloss_cls\t1.000✨\tloss_wh\t107.975✨\tloss_xy\t509.570:   0%|          | 122/107501 [00:49<12:12:52,  2.44it/s]"
     ]
    },
    {
     "name": "stdout",
     "output_type": "stream",
     "text": [
      "bb [0. 0.] \t [3.9511876 1.1740625]\n",
      "conf 0.0 \t 1.0\n",
      "cls 0.0 \t 1.0\n"
     ]
    },
    {
     "name": "stderr",
     "output_type": "stream",
     "text": [
      "\r",
      "⭐[ep_0_i_119]\tlos_noobj\t0.000✨\tlos_obj\t1.000✨\tloss\t619.546✨\tloss_cls\t1.000✨\tloss_wh\t107.975✨\tloss_xy\t509.570:   0%|          | 123/107501 [00:50<12:12:47,  2.44it/s]"
     ]
    },
    {
     "name": "stdout",
     "output_type": "stream",
     "text": [
      "bb [0. 0.] \t [0.79442185 0.7336216 ]\n",
      "conf 0.0 \t 1.0\n",
      "cls 0.0 \t 1.0\n"
     ]
    },
    {
     "name": "stderr",
     "output_type": "stream",
     "text": [
      "\r",
      "⭐[ep_0_i_119]\tlos_noobj\t0.000✨\tlos_obj\t1.000✨\tloss\t619.546✨\tloss_cls\t1.000✨\tloss_wh\t107.975✨\tloss_xy\t509.570:   0%|          | 124/107501 [00:50<12:12:45,  2.44it/s]"
     ]
    },
    {
     "name": "stdout",
     "output_type": "stream",
     "text": [
      "bb [0. 0.] \t [5.0494843 5.6901307]\n",
      "conf 0.0 \t 1.0\n",
      "cls 0.0 \t 1.0\n"
     ]
    },
    {
     "name": "stderr",
     "output_type": "stream",
     "text": [
      "\r",
      "⭐[ep_0_i_119]\tlos_noobj\t0.000✨\tlos_obj\t1.000✨\tloss\t619.546✨\tloss_cls\t1.000✨\tloss_wh\t107.975✨\tloss_xy\t509.570:   0%|          | 125/107501 [00:51<12:12:47,  2.44it/s]"
     ]
    },
    {
     "name": "stdout",
     "output_type": "stream",
     "text": [
      "bb [0. 0.] \t [0.9699219 0.8667681]\n",
      "conf 0.0 \t 1.0\n",
      "cls 0.0 \t 1.0\n"
     ]
    },
    {
     "name": "stderr",
     "output_type": "stream",
     "text": [
      "\r",
      "⭐[ep_0_i_119]\tlos_noobj\t0.000✨\tlos_obj\t1.000✨\tloss\t619.546✨\tloss_cls\t1.000✨\tloss_wh\t107.975✨\tloss_xy\t509.570:   0%|          | 126/107501 [00:51<12:13:04,  2.44it/s]"
     ]
    },
    {
     "name": "stdout",
     "output_type": "stream",
     "text": [
      "bb [0. 0.] \t [0.32703125 1.1958898 ]\n",
      "conf 0.0 \t 1.0\n",
      "cls 0.0 \t 1.0\n"
     ]
    },
    {
     "name": "stderr",
     "output_type": "stream",
     "text": [
      "\r",
      "⭐[ep_0_i_119]\tlos_noobj\t0.000✨\tlos_obj\t1.000✨\tloss\t619.546✨\tloss_cls\t1.000✨\tloss_wh\t107.975✨\tloss_xy\t509.570:   0%|          | 127/107501 [00:52<12:12:56,  2.44it/s]"
     ]
    },
    {
     "name": "stdout",
     "output_type": "stream",
     "text": [
      "bb [0. 0.] \t [2.2973437 1.9954545]\n",
      "conf 0.0 \t 1.0\n",
      "cls 0.0 \t 1.0\n"
     ]
    },
    {
     "name": "stderr",
     "output_type": "stream",
     "text": [
      "\r",
      "⭐[ep_0_i_119]\tlos_noobj\t0.000✨\tlos_obj\t1.000✨\tloss\t619.546✨\tloss_cls\t1.000✨\tloss_wh\t107.975✨\tloss_xy\t509.570:   0%|          | 128/107501 [00:52<12:12:40,  2.44it/s]"
     ]
    },
    {
     "name": "stdout",
     "output_type": "stream",
     "text": [
      "bb [0. 0.] \t [1.0034375 2.2121313]\n",
      "conf 0.0 \t 1.0\n",
      "cls 0.0 \t 1.0\n"
     ]
    },
    {
     "name": "stderr",
     "output_type": "stream",
     "text": [
      "\r",
      "⭐[ep_0_i_119]\tlos_noobj\t0.000✨\tlos_obj\t1.000✨\tloss\t619.546✨\tloss_cls\t1.000✨\tloss_wh\t107.975✨\tloss_xy\t509.570:   0%|          | 129/107501 [00:52<12:12:54,  2.44it/s]"
     ]
    },
    {
     "name": "stdout",
     "output_type": "stream",
     "text": [
      "bb [0. 0.] \t [12.941297  9.398665]\n",
      "conf 0.0 \t 1.0\n",
      "cls 0.0 \t 1.0\n"
     ]
    },
    {
     "name": "stderr",
     "output_type": "stream",
     "text": [
      "\r",
      "⭐[ep_0_i_119]\tlos_noobj\t0.000✨\tlos_obj\t1.000✨\tloss\t619.546✨\tloss_cls\t1.000✨\tloss_wh\t107.975✨\tloss_xy\t509.570:   0%|          | 130/107501 [00:53<12:12:38,  2.44it/s]"
     ]
    },
    {
     "name": "stdout",
     "output_type": "stream",
     "text": [
      "bb [0. 0.] \t [0.5342187 6.738604 ]\n",
      "conf 0.0 \t 1.0\n",
      "cls 0.0 \t 1.0\n"
     ]
    },
    {
     "name": "stderr",
     "output_type": "stream",
     "text": [
      "\r",
      "⭐[ep_0_i_119]\tlos_noobj\t0.000✨\tlos_obj\t1.000✨\tloss\t619.546✨\tloss_cls\t1.000✨\tloss_wh\t107.975✨\tloss_xy\t509.570:   0%|          | 131/107501 [00:53<12:12:37,  2.44it/s]"
     ]
    },
    {
     "name": "stdout",
     "output_type": "stream",
     "text": [
      "bb [0. 0.] \t [5.960094 4.984145]\n",
      "conf 0.0 \t 1.0\n",
      "cls 0.0 \t 1.0\n"
     ]
    },
    {
     "name": "stderr",
     "output_type": "stream",
     "text": [
      "\r",
      "⭐[ep_0_i_119]\tlos_noobj\t0.000✨\tlos_obj\t1.000✨\tloss\t619.546✨\tloss_cls\t1.000✨\tloss_wh\t107.975✨\tloss_xy\t509.570:   0%|          | 132/107501 [00:54<12:12:36,  2.44it/s]"
     ]
    },
    {
     "name": "stdout",
     "output_type": "stream",
     "text": [
      "bb [0. 0.] \t [1.9686111 1.5931094]\n",
      "conf 0.0 \t 1.0\n",
      "cls 0.0 \t 1.0\n"
     ]
    },
    {
     "name": "stderr",
     "output_type": "stream",
     "text": [
      "\r",
      "⭐[ep_0_i_119]\tlos_noobj\t0.000✨\tlos_obj\t1.000✨\tloss\t619.546✨\tloss_cls\t1.000✨\tloss_wh\t107.975✨\tloss_xy\t509.570:   0%|          | 133/107501 [00:54<12:12:26,  2.44it/s]"
     ]
    },
    {
     "name": "stdout",
     "output_type": "stream",
     "text": [
      "bb [0. 0.] \t [0.90675   1.2952206]\n",
      "conf 0.0 \t 1.0\n",
      "cls 0.0 \t 1.0\n"
     ]
    },
    {
     "name": "stderr",
     "output_type": "stream",
     "text": [
      "\r",
      "⭐[ep_0_i_119]\tlos_noobj\t0.000✨\tlos_obj\t1.000✨\tloss\t619.546✨\tloss_cls\t1.000✨\tloss_wh\t107.975✨\tloss_xy\t509.570:   0%|          | 134/107501 [00:54<12:12:19,  2.44it/s]"
     ]
    },
    {
     "name": "stdout",
     "output_type": "stream",
     "text": [
      "bb [0. 0.] \t [0.30784    0.48954955]\n",
      "conf 0.0 \t 1.0\n",
      "cls 0.0 \t 1.0\n"
     ]
    },
    {
     "name": "stderr",
     "output_type": "stream",
     "text": [
      "\r",
      "⭐[ep_0_i_119]\tlos_noobj\t0.000✨\tlos_obj\t1.000✨\tloss\t619.546✨\tloss_cls\t1.000✨\tloss_wh\t107.975✨\tloss_xy\t509.570:   0%|          | 135/107501 [00:55<12:12:19,  2.44it/s]"
     ]
    },
    {
     "name": "stdout",
     "output_type": "stream",
     "text": [
      "bb [0. 0.] \t [6.0208263 6.071    ]\n",
      "conf 0.0 \t 1.0\n",
      "cls 0.0 \t 1.0\n"
     ]
    },
    {
     "name": "stderr",
     "output_type": "stream",
     "text": [
      "\r",
      "⭐[ep_0_i_119]\tlos_noobj\t0.000✨\tlos_obj\t1.000✨\tloss\t619.546✨\tloss_cls\t1.000✨\tloss_wh\t107.975✨\tloss_xy\t509.570:   0%|          | 136/107501 [00:55<12:12:04,  2.44it/s]"
     ]
    },
    {
     "name": "stdout",
     "output_type": "stream",
     "text": [
      "bb [0. 0.] \t [0.13546    0.42085335]\n",
      "conf 0.0 \t 1.0\n",
      "cls 0.0 \t 1.0\n"
     ]
    },
    {
     "name": "stderr",
     "output_type": "stream",
     "text": [
      "\r",
      "⭐[ep_0_i_119]\tlos_noobj\t0.000✨\tlos_obj\t1.000✨\tloss\t619.546✨\tloss_cls\t1.000✨\tloss_wh\t107.975✨\tloss_xy\t509.570:   0%|          | 137/107501 [00:56<12:12:08,  2.44it/s]"
     ]
    },
    {
     "name": "stdout",
     "output_type": "stream",
     "text": [
      "bb [0. 0.] \t [12.160417  7.23125 ]\n",
      "conf 0.0 \t 1.0\n",
      "cls 0.0 \t 1.0\n"
     ]
    },
    {
     "name": "stderr",
     "output_type": "stream",
     "text": [
      "\r",
      "⭐[ep_0_i_119]\tlos_noobj\t0.000✨\tlos_obj\t1.000✨\tloss\t619.546✨\tloss_cls\t1.000✨\tloss_wh\t107.975✨\tloss_xy\t509.570:   0%|          | 138/107501 [00:56<12:12:03,  2.44it/s]"
     ]
    },
    {
     "name": "stdout",
     "output_type": "stream",
     "text": [
      "bb [0. 0.] \t [0.55432    0.98661333]\n",
      "conf 0.0 \t 1.0\n",
      "cls 0.0 \t 1.0\n"
     ]
    },
    {
     "name": "stderr",
     "output_type": "stream",
     "text": [
      "\r",
      "⭐[ep_0_i_119]\tlos_noobj\t0.000✨\tlos_obj\t1.000✨\tloss\t619.546✨\tloss_cls\t1.000✨\tloss_wh\t107.975✨\tloss_xy\t509.570:   0%|          | 139/107501 [00:56<12:12:03,  2.44it/s]"
     ]
    },
    {
     "name": "stdout",
     "output_type": "stream",
     "text": [
      "bb [0. 0.] \t [0.91609377 4.3623123 ]\n",
      "conf 0.0 \t 1.0\n",
      "cls 0.0 \t 1.0\n"
     ]
    },
    {
     "name": "stderr",
     "output_type": "stream",
     "text": [
      "⭐[ep_0_i_139]\tlos_noobj\t0.000✨\tlos_obj\t1.000✨\tloss\t649.429✨\tloss_cls\t1.000✨\tloss_wh\t153.574✨\tloss_xy\t493.856:   0%|          | 140/107501 [00:57<12:12:29,  2.44it/s]"
     ]
    },
    {
     "name": "stdout",
     "output_type": "stream",
     "text": [
      "bb [0. 0.] \t [2.0290155 0.7399167]\n",
      "conf 0.0 \t 1.0\n",
      "cls 0.0 \t 1.0\n"
     ]
    },
    {
     "name": "stderr",
     "output_type": "stream",
     "text": [
      "\r",
      "⭐[ep_0_i_139]\tlos_noobj\t0.000✨\tlos_obj\t1.000✨\tloss\t649.429✨\tloss_cls\t1.000✨\tloss_wh\t153.574✨\tloss_xy\t493.856:   0%|          | 141/107501 [00:57<12:12:21,  2.44it/s]"
     ]
    },
    {
     "name": "stdout",
     "output_type": "stream",
     "text": [
      "bb [0. 0.] \t [0.36359376 0.5237917 ]\n",
      "conf 0.0 \t 1.0\n",
      "cls 0.0 \t 1.0\n"
     ]
    },
    {
     "name": "stderr",
     "output_type": "stream",
     "text": [
      "\r",
      "⭐[ep_0_i_139]\tlos_noobj\t0.000✨\tlos_obj\t1.000✨\tloss\t649.429✨\tloss_cls\t1.000✨\tloss_wh\t153.574✨\tloss_xy\t493.856:   0%|          | 142/107501 [00:58<12:12:11,  2.44it/s]"
     ]
    },
    {
     "name": "stdout",
     "output_type": "stream",
     "text": [
      "bb [0. 0.] \t [0.6164264 2.2958   ]\n",
      "conf 0.0 \t 1.0\n",
      "cls 0.0 \t 1.0\n"
     ]
    },
    {
     "name": "stderr",
     "output_type": "stream",
     "text": [
      "\r",
      "⭐[ep_0_i_139]\tlos_noobj\t0.000✨\tlos_obj\t1.000✨\tloss\t649.429✨\tloss_cls\t1.000✨\tloss_wh\t153.574✨\tloss_xy\t493.856:   0%|          | 143/107501 [00:58<12:12:01,  2.44it/s]"
     ]
    },
    {
     "name": "stdout",
     "output_type": "stream",
     "text": [
      "bb [0. 0.] \t [0.36603126 1.5275    ]\n",
      "conf 0.0 \t 1.0\n",
      "cls 0.0 \t 1.0\n"
     ]
    },
    {
     "ename": "KeyboardInterrupt",
     "evalue": "",
     "output_type": "error",
     "traceback": [
      "\u001b[0;31m---------------------------------------------------------------------------\u001b[0m",
      "\u001b[0;31mKeyboardInterrupt\u001b[0m                         Traceback (most recent call last)",
      "\u001b[0;32m<ipython-input-40-f604ece6c8c8>\u001b[0m in \u001b[0;36m<module>\u001b[0;34m()\u001b[0m\n\u001b[0;32m----> 1\u001b[0;31m \u001b[0mtrainer\u001b[0m\u001b[0;34m.\u001b[0m\u001b[0mtrain\u001b[0m\u001b[0;34m(\u001b[0m\u001b[0;36m1\u001b[0m\u001b[0;34m)\u001b[0m\u001b[0;34m\u001b[0m\u001b[0m\n\u001b[0m",
      "\u001b[0;32m/home/zhangxiaochen/anaconda3/lib/python3.6/site-packages/p3self/matchbox.py\u001b[0m in \u001b[0;36mtrain\u001b[0;34m(self, epochs, name, log_addr)\u001b[0m\n\u001b[1;32m     89\u001b[0m         \u001b[0;32mfor\u001b[0m \u001b[0mepoch\u001b[0m \u001b[0;32min\u001b[0m \u001b[0mrange\u001b[0m\u001b[0;34m(\u001b[0m\u001b[0mepochs\u001b[0m\u001b[0;34m)\u001b[0m\u001b[0;34m:\u001b[0m\u001b[0;34m\u001b[0m\u001b[0m\n\u001b[1;32m     90\u001b[0m             \u001b[0mself\u001b[0m\u001b[0;34m.\u001b[0m\u001b[0mtrack\u001b[0m\u001b[0;34m[\u001b[0m\u001b[0mepoch\u001b[0m\u001b[0;34m]\u001b[0m\u001b[0;34m=\u001b[0m\u001b[0mlist\u001b[0m\u001b[0;34m(\u001b[0m\u001b[0;34m)\u001b[0m\u001b[0;34m\u001b[0m\u001b[0m\n\u001b[0;32m---> 91\u001b[0;31m             \u001b[0mself\u001b[0m\u001b[0;34m.\u001b[0m\u001b[0mrun\u001b[0m\u001b[0;34m(\u001b[0m\u001b[0mepoch\u001b[0m\u001b[0;34m)\u001b[0m\u001b[0;34m\u001b[0m\u001b[0m\n\u001b[0m\u001b[1;32m     92\u001b[0m         \u001b[0;32mif\u001b[0m \u001b[0mself\u001b[0m\u001b[0;34m.\u001b[0m\u001b[0mis_log\u001b[0m\u001b[0;34m:\u001b[0m\u001b[0;34m\u001b[0m\u001b[0m\n\u001b[1;32m     93\u001b[0m             \u001b[0mos\u001b[0m\u001b[0;34m.\u001b[0m\u001b[0msystem\u001b[0m\u001b[0;34m(\u001b[0m\u001b[0;34m\"mkdir -p %s\"\u001b[0m\u001b[0;34m%\u001b[0m\u001b[0;34m(\u001b[0m\u001b[0mlog_addr\u001b[0m\u001b[0;34m)\u001b[0m\u001b[0;34m)\u001b[0m\u001b[0;34m\u001b[0m\u001b[0m\n",
      "\u001b[0;32m/home/zhangxiaochen/anaconda3/lib/python3.6/site-packages/p3self/matchbox.py\u001b[0m in \u001b[0;36mrun\u001b[0;34m(self, epoch)\u001b[0m\n\u001b[1;32m    111\u001b[0m         \u001b[0;32mfor\u001b[0m \u001b[0mi\u001b[0m \u001b[0;32min\u001b[0m \u001b[0mt\u001b[0m\u001b[0;34m:\u001b[0m\u001b[0;34m\u001b[0m\u001b[0m\n\u001b[1;32m    112\u001b[0m \u001b[0;34m\u001b[0m\u001b[0m\n\u001b[0;32m--> 113\u001b[0;31m             \u001b[0mret\u001b[0m \u001b[0;34m=\u001b[0m \u001b[0mself\u001b[0m\u001b[0;34m.\u001b[0m\u001b[0maction\u001b[0m\u001b[0;34m(\u001b[0m\u001b[0mnext\u001b[0m\u001b[0;34m(\u001b[0m\u001b[0mself\u001b[0m\u001b[0;34m.\u001b[0m\u001b[0mtrain_gen\u001b[0m\u001b[0;34m)\u001b[0m\u001b[0;34m,\u001b[0m\u001b[0mepoch\u001b[0m\u001b[0;34m=\u001b[0m\u001b[0mepoch\u001b[0m\u001b[0;34m,\u001b[0m\u001b[0mite\u001b[0m\u001b[0;34m=\u001b[0m\u001b[0mi\u001b[0m\u001b[0;34m)\u001b[0m\u001b[0;34m\u001b[0m\u001b[0m\n\u001b[0m\u001b[1;32m    114\u001b[0m             \u001b[0mret\u001b[0m\u001b[0;34m.\u001b[0m\u001b[0mupdate\u001b[0m\u001b[0;34m(\u001b[0m\u001b[0;34m{\u001b[0m\u001b[0;34m\"epoch\"\u001b[0m\u001b[0;34m:\u001b[0m\u001b[0mepoch\u001b[0m\u001b[0;34m,\u001b[0m\u001b[0;34m\"iter\"\u001b[0m\u001b[0;34m:\u001b[0m\u001b[0mi\u001b[0m\u001b[0;34m}\u001b[0m\u001b[0;34m)\u001b[0m\u001b[0;34m\u001b[0m\u001b[0m\n\u001b[1;32m    115\u001b[0m             \u001b[0mself\u001b[0m\u001b[0;34m.\u001b[0m\u001b[0mtrack\u001b[0m\u001b[0;34m[\u001b[0m\u001b[0mepoch\u001b[0m\u001b[0;34m]\u001b[0m\u001b[0;34m.\u001b[0m\u001b[0mappend\u001b[0m\u001b[0;34m(\u001b[0m\u001b[0mret\u001b[0m\u001b[0;34m)\u001b[0m\u001b[0;34m\u001b[0m\u001b[0m\n",
      "\u001b[0;32m/home/zhangxiaochen/anaconda3/lib/python3.6/site-packages/torch/utils/data/dataloader.py\u001b[0m in \u001b[0;36m__next__\u001b[0;34m(self)\u001b[0m\n\u001b[1;32m    257\u001b[0m         \u001b[0;32mif\u001b[0m \u001b[0mself\u001b[0m\u001b[0;34m.\u001b[0m\u001b[0mnum_workers\u001b[0m \u001b[0;34m==\u001b[0m \u001b[0;36m0\u001b[0m\u001b[0;34m:\u001b[0m  \u001b[0;31m# same-process loading\u001b[0m\u001b[0;34m\u001b[0m\u001b[0m\n\u001b[1;32m    258\u001b[0m             \u001b[0mindices\u001b[0m \u001b[0;34m=\u001b[0m \u001b[0mnext\u001b[0m\u001b[0;34m(\u001b[0m\u001b[0mself\u001b[0m\u001b[0;34m.\u001b[0m\u001b[0msample_iter\u001b[0m\u001b[0;34m)\u001b[0m  \u001b[0;31m# may raise StopIteration\u001b[0m\u001b[0;34m\u001b[0m\u001b[0m\n\u001b[0;32m--> 259\u001b[0;31m             \u001b[0mbatch\u001b[0m \u001b[0;34m=\u001b[0m \u001b[0mself\u001b[0m\u001b[0;34m.\u001b[0m\u001b[0mcollate_fn\u001b[0m\u001b[0;34m(\u001b[0m\u001b[0;34m[\u001b[0m\u001b[0mself\u001b[0m\u001b[0;34m.\u001b[0m\u001b[0mdataset\u001b[0m\u001b[0;34m[\u001b[0m\u001b[0mi\u001b[0m\u001b[0;34m]\u001b[0m \u001b[0;32mfor\u001b[0m \u001b[0mi\u001b[0m \u001b[0;32min\u001b[0m \u001b[0mindices\u001b[0m\u001b[0;34m]\u001b[0m\u001b[0;34m)\u001b[0m\u001b[0;34m\u001b[0m\u001b[0m\n\u001b[0m\u001b[1;32m    260\u001b[0m             \u001b[0;32mif\u001b[0m \u001b[0mself\u001b[0m\u001b[0;34m.\u001b[0m\u001b[0mpin_memory\u001b[0m\u001b[0;34m:\u001b[0m\u001b[0;34m\u001b[0m\u001b[0m\n\u001b[1;32m    261\u001b[0m                 \u001b[0mbatch\u001b[0m \u001b[0;34m=\u001b[0m \u001b[0mpin_memory_batch\u001b[0m\u001b[0;34m(\u001b[0m\u001b[0mbatch\u001b[0m\u001b[0;34m)\u001b[0m\u001b[0;34m\u001b[0m\u001b[0m\n",
      "\u001b[0;32m/home/zhangxiaochen/anaconda3/lib/python3.6/site-packages/torch/utils/data/dataloader.py\u001b[0m in \u001b[0;36m<listcomp>\u001b[0;34m(.0)\u001b[0m\n\u001b[1;32m    257\u001b[0m         \u001b[0;32mif\u001b[0m \u001b[0mself\u001b[0m\u001b[0;34m.\u001b[0m\u001b[0mnum_workers\u001b[0m \u001b[0;34m==\u001b[0m \u001b[0;36m0\u001b[0m\u001b[0;34m:\u001b[0m  \u001b[0;31m# same-process loading\u001b[0m\u001b[0;34m\u001b[0m\u001b[0m\n\u001b[1;32m    258\u001b[0m             \u001b[0mindices\u001b[0m \u001b[0;34m=\u001b[0m \u001b[0mnext\u001b[0m\u001b[0;34m(\u001b[0m\u001b[0mself\u001b[0m\u001b[0;34m.\u001b[0m\u001b[0msample_iter\u001b[0m\u001b[0;34m)\u001b[0m  \u001b[0;31m# may raise StopIteration\u001b[0m\u001b[0;34m\u001b[0m\u001b[0m\n\u001b[0;32m--> 259\u001b[0;31m             \u001b[0mbatch\u001b[0m \u001b[0;34m=\u001b[0m \u001b[0mself\u001b[0m\u001b[0;34m.\u001b[0m\u001b[0mcollate_fn\u001b[0m\u001b[0;34m(\u001b[0m\u001b[0;34m[\u001b[0m\u001b[0mself\u001b[0m\u001b[0;34m.\u001b[0m\u001b[0mdataset\u001b[0m\u001b[0;34m[\u001b[0m\u001b[0mi\u001b[0m\u001b[0;34m]\u001b[0m \u001b[0;32mfor\u001b[0m \u001b[0mi\u001b[0m \u001b[0;32min\u001b[0m \u001b[0mindices\u001b[0m\u001b[0;34m]\u001b[0m\u001b[0;34m)\u001b[0m\u001b[0;34m\u001b[0m\u001b[0m\n\u001b[0m\u001b[1;32m    260\u001b[0m             \u001b[0;32mif\u001b[0m \u001b[0mself\u001b[0m\u001b[0;34m.\u001b[0m\u001b[0mpin_memory\u001b[0m\u001b[0;34m:\u001b[0m\u001b[0;34m\u001b[0m\u001b[0m\n\u001b[1;32m    261\u001b[0m                 \u001b[0mbatch\u001b[0m \u001b[0;34m=\u001b[0m \u001b[0mpin_memory_batch\u001b[0m\u001b[0;34m(\u001b[0m\u001b[0mbatch\u001b[0m\u001b[0;34m)\u001b[0m\u001b[0;34m\u001b[0m\u001b[0m\n",
      "\u001b[0;32m/home/zhangxiaochen/gitlab/obj_detect/data.py\u001b[0m in \u001b[0;36m__getitem__\u001b[0;34m(self, idx)\u001b[0m\n\u001b[1;32m     23\u001b[0m \u001b[0;34m\u001b[0m\u001b[0m\n\u001b[1;32m     24\u001b[0m     \u001b[0;32mdef\u001b[0m \u001b[0m__getitem__\u001b[0m\u001b[0;34m(\u001b[0m\u001b[0mself\u001b[0m\u001b[0;34m,\u001b[0m\u001b[0midx\u001b[0m\u001b[0;34m)\u001b[0m\u001b[0;34m:\u001b[0m\u001b[0;34m\u001b[0m\u001b[0m\n\u001b[0;32m---> 25\u001b[0;31m         \u001b[0mimg\u001b[0m\u001b[0;34m=\u001b[0m\u001b[0mImage\u001b[0m\u001b[0;34m.\u001b[0m\u001b[0mopen\u001b[0m\u001b[0;34m(\u001b[0m\u001b[0mself\u001b[0m\u001b[0;34m.\u001b[0m\u001b[0murllist\u001b[0m\u001b[0;34m[\u001b[0m\u001b[0midx\u001b[0m\u001b[0;34m]\u001b[0m\u001b[0;34m)\u001b[0m\u001b[0;34m.\u001b[0m\u001b[0mconvert\u001b[0m\u001b[0;34m(\u001b[0m\u001b[0;34m\"RGB\"\u001b[0m\u001b[0;34m)\u001b[0m\u001b[0;34m\u001b[0m\u001b[0m\n\u001b[0m\u001b[1;32m     26\u001b[0m \u001b[0;34m\u001b[0m\u001b[0m\n\u001b[1;32m     27\u001b[0m         \u001b[0;32mif\u001b[0m \u001b[0mself\u001b[0m\u001b[0;34m.\u001b[0m\u001b[0mtransform\u001b[0m\u001b[0;34m:\u001b[0m\u001b[0;34m\u001b[0m\u001b[0m\n",
      "\u001b[0;32m/home/zhangxiaochen/anaconda3/lib/python3.6/site-packages/PIL/Image.py\u001b[0m in \u001b[0;36mconvert\u001b[0;34m(self, mode, matrix, dither, palette, colors)\u001b[0m\n\u001b[1;32m    855\u001b[0m                 \u001b[0;32mreturn\u001b[0m \u001b[0mself\u001b[0m\u001b[0;34m.\u001b[0m\u001b[0mcopy\u001b[0m\u001b[0;34m(\u001b[0m\u001b[0;34m)\u001b[0m\u001b[0;34m\u001b[0m\u001b[0m\n\u001b[1;32m    856\u001b[0m \u001b[0;34m\u001b[0m\u001b[0m\n\u001b[0;32m--> 857\u001b[0;31m         \u001b[0mself\u001b[0m\u001b[0;34m.\u001b[0m\u001b[0mload\u001b[0m\u001b[0;34m(\u001b[0m\u001b[0;34m)\u001b[0m\u001b[0;34m\u001b[0m\u001b[0m\n\u001b[0m\u001b[1;32m    858\u001b[0m \u001b[0;34m\u001b[0m\u001b[0m\n\u001b[1;32m    859\u001b[0m         \u001b[0;32mif\u001b[0m \u001b[0mmatrix\u001b[0m\u001b[0;34m:\u001b[0m\u001b[0;34m\u001b[0m\u001b[0m\n",
      "\u001b[0;32m/home/zhangxiaochen/anaconda3/lib/python3.6/site-packages/PIL/ImageFile.py\u001b[0m in \u001b[0;36mload\u001b[0;34m(self)\u001b[0m\n\u001b[1;32m    210\u001b[0m                     \u001b[0;32mwhile\u001b[0m \u001b[0;32mTrue\u001b[0m\u001b[0;34m:\u001b[0m\u001b[0;34m\u001b[0m\u001b[0m\n\u001b[1;32m    211\u001b[0m                         \u001b[0;32mtry\u001b[0m\u001b[0;34m:\u001b[0m\u001b[0;34m\u001b[0m\u001b[0m\n\u001b[0;32m--> 212\u001b[0;31m                             \u001b[0ms\u001b[0m \u001b[0;34m=\u001b[0m \u001b[0mread\u001b[0m\u001b[0;34m(\u001b[0m\u001b[0mself\u001b[0m\u001b[0;34m.\u001b[0m\u001b[0mdecodermaxblock\u001b[0m\u001b[0;34m)\u001b[0m\u001b[0;34m\u001b[0m\u001b[0m\n\u001b[0m\u001b[1;32m    213\u001b[0m                         \u001b[0;32mexcept\u001b[0m \u001b[0;34m(\u001b[0m\u001b[0mIndexError\u001b[0m\u001b[0;34m,\u001b[0m \u001b[0mstruct\u001b[0m\u001b[0;34m.\u001b[0m\u001b[0merror\u001b[0m\u001b[0;34m)\u001b[0m\u001b[0;34m:\u001b[0m  \u001b[0;31m# truncated png/gif\u001b[0m\u001b[0;34m\u001b[0m\u001b[0m\n\u001b[1;32m    214\u001b[0m                             \u001b[0;32mif\u001b[0m \u001b[0mLOAD_TRUNCATED_IMAGES\u001b[0m\u001b[0;34m:\u001b[0m\u001b[0;34m\u001b[0m\u001b[0m\n",
      "\u001b[0;31mKeyboardInterrupt\u001b[0m: "
     ]
    },
    {
     "data": {
      "image/png": "[encoded data removed]",
      "text/plain": [
       "<matplotlib.figure.Figure at 0x7f955bf99940>"
      ]
     },
     "metadata": {},
     "output_type": "display_data"
    },
    {
     "data": {
      "image/png": "[encoded data removed]",
      "text/plain": [
       "<matplotlib.figure.Figure at 0x7f955bf87860>"
      ]
     },
     "metadata": {},
     "output_type": "display_data"
    },
    {
     "data": {
      "image/png": "[encoded data removed]",
      "text/plain": [
       "<matplotlib.figure.Figure at 0x7f955c66a908>"
      ]
     },
     "metadata": {},
     "output_type": "display_data"
    }
   ],
   "source": [
    "trainer.train(1)"
   ]
  },
  {
   "cell_type": "markdown",
   "metadata": {},
   "source": [
    "## Debugging"
   ]
  },
  {
   "cell_type": "code",
   "execution_count": null,
   "metadata": {
    "collapsed": true
   },
   "outputs": [],
   "source": [
    "loss_func(model.y_,model.y)"
   ]
  },
  {
   "cell_type": "code",
   "execution_count": 36,
   "metadata": {
    "collapsed": true
   },
   "outputs": [],
   "source": [
    "y_true=Variable(torch.rand(4,FEAT_W,FEAT_H,BOX,VEC_LEN))\n",
    "y_pred=Variable(torch.rand(4,FEAT_W,FEAT_H,BOX,VEC_LEN))"
   ]
  },
  {
   "cell_type": "code",
   "execution_count": 70,
   "metadata": {
    "collapsed": true
   },
   "outputs": [],
   "source": [
    "mask = loss_func.loss_mask(loss_func.t2b(model.y_),loss_func.t2b(model.y)).float()\n",
    "y_=mask*model.y_.float()\n",
    "y=mask*model.y.float()\n",
    "a=F.binary_cross_entropy(F.sigmoid(model.y_[...,4].float()),model.y[...,4].float())\n"
   ]
  },
  {
   "cell_type": "code",
   "execution_count": 52,
   "metadata": {},
   "outputs": [
    {
     "data": {
      "text/plain": [
       "<__main__.odData at 0x7fe8e9ba7710>"
      ]
     },
     "execution_count": 52,
     "metadata": {},
     "output_type": "execute_result"
    }
   ],
   "source": [
    "train_set"
   ]
  },
  {
   "cell_type": "code",
   "execution_count": 49,
   "metadata": {
    "collapsed": true
   },
   "outputs": [],
   "source": [
    "ulist = np.random.choice(trainer.dataset.urllist,500)\n",
    "def RDIMG():return np.random.choice(ulist)\n",
    "img=Image.open(RDIMG()).resize((416,416))"
   ]
  },
  {
   "cell_type": "code",
   "execution_count": 49,
   "metadata": {
    "collapsed": true
   },
   "outputs": [],
   "source": [
    "trainer=Trainer(train_set,batch_size=8,print_on=20)\n",
    "model = dn_yolo(dn121,1024)\n",
    "loss_func = yolo3_loss()"
   ]
  },
  {
   "cell_type": "code",
   "execution_count": 50,
   "metadata": {
    "collapsed": true
   },
   "outputs": [],
   "source": [
    "train_gen = iter(trainer.train_data)\n",
    "train_sp = next(train_gen)"
   ]
  },
  {
   "cell_type": "code",
   "execution_count": 64,
   "metadata": {},
   "outputs": [
    {
     "data": {
      "text/plain": [
       "\n",
       "(0 ,0 ,.,.) = \n",
       "   0   0   0   0   0\n",
       "   0   0   0   0   0\n",
       "   0   0   0   0   0\n",
       "         ⋮          \n",
       "   0   0   0   0   0\n",
       "   0   0   0   0   0\n",
       "   0   0   0   0   0\n",
       "\n",
       "(0 ,1 ,.,.) = \n",
       "   0   0   0   0   0\n",
       "   0   0   0   0   0\n",
       "   0   0   0   0   0\n",
       "         ⋮          \n",
       "   0   0   0   0   0\n",
       "   0   0   0   0   0\n",
       "   0   0   0   0   0\n",
       "\n",
       "(0 ,2 ,.,.) = \n",
       "   0   0   0   0   0\n",
       "   0   0   0   0   0\n",
       "   0   0   0   0   0\n",
       "         ⋮          \n",
       "   0   0   0   0   0\n",
       "   0   0   0   0   0\n",
       "   0   0   0   0   0\n",
       "   ...\n",
       "\n",
       "(0 ,10,.,.) = \n",
       "   0   0   0   0   0\n",
       "   0   0   0   0   0\n",
       "   0   0   0   0   0\n",
       "         ⋮          \n",
       "   0   0   0   0   0\n",
       "   0   0   0   0   0\n",
       "   0   0   0   0   0\n",
       "\n",
       "(0 ,11,.,.) = \n",
       "   0   0   0   0   0\n",
       "   0   0   0   0   0\n",
       "   0   0   0   0   0\n",
       "         ⋮          \n",
       "   0   0   0   0   0\n",
       "   0   0   0   0   0\n",
       "   0   0   0   0   0\n",
       "\n",
       "(0 ,12,.,.) = \n",
       "   0   0   0   0   0\n",
       "   0   0   0   0   0\n",
       "   0   0   0   0   0\n",
       "         ⋮          \n",
       "   0   0   0   0   0\n",
       "   0   0   0   0   0\n",
       "   0   0   0   0   0\n",
       "     ⋮ \n",
       "\n",
       "(1 ,0 ,.,.) = \n",
       "   0   0   0   0   0\n",
       "   0   0   0   0   0\n",
       "   0   0   0   0   0\n",
       "         ⋮          \n",
       "   0   0   0   0   0\n",
       "   0   0   0   0   0\n",
       "   0   0   0   0   0\n",
       "\n",
       "(1 ,1 ,.,.) = \n",
       "   0   0   0   0   0\n",
       "   0   0   0   0   0\n",
       "   0   0   0   0   0\n",
       "         ⋮          \n",
       "   0   0   0   0   0\n",
       "   0   0   0   0   0\n",
       "   0   0   0   0   0\n",
       "\n",
       "(1 ,2 ,.,.) = \n",
       "   0   0   0   0   0\n",
       "   0   0   0   0   0\n",
       "   0   0   0   0   0\n",
       "         ⋮          \n",
       "   0   0   0   0   0\n",
       "   0   0   0   0   0\n",
       "   0   0   0   0   0\n",
       "   ...\n",
       "\n",
       "(1 ,10,.,.) = \n",
       "   0   0   0   0   0\n",
       "   0   0   0   0   0\n",
       "   0   0   0   0   0\n",
       "         ⋮          \n",
       "   0   0   0   0   0\n",
       "   0   0   0   0   0\n",
       "   0   0   0   0   0\n",
       "\n",
       "(1 ,11,.,.) = \n",
       "   0   0   0   0   0\n",
       "   0   0   0   0   0\n",
       "   0   0   0   0   0\n",
       "         ⋮          \n",
       "   0   0   0   0   0\n",
       "   0   0   0   0   0\n",
       "   0   0   0   0   0\n",
       "\n",
       "(1 ,12,.,.) = \n",
       "   0   0   0   0   0\n",
       "   0   0   0   0   0\n",
       "   0   0   0   0   0\n",
       "         ⋮          \n",
       "   0   0   0   0   0\n",
       "   0   0   0   0   0\n",
       "   0   0   0   0   0\n",
       "     ⋮ \n",
       "\n",
       "(2 ,0 ,.,.) = \n",
       "   0   0   0   0   0\n",
       "   0   0   0   0   0\n",
       "   0   0   0   0   0\n",
       "         ⋮          \n",
       "   0   0   0   0   0\n",
       "   0   0   0   0   0\n",
       "   0   0   0   0   0\n",
       "\n",
       "(2 ,1 ,.,.) = \n",
       "   0   0   0   0   0\n",
       "   0   0   0   0   0\n",
       "   0   0   0   0   0\n",
       "         ⋮          \n",
       "   0   0   0   0   0\n",
       "   0   0   0   0   0\n",
       "   0   0   0   0   0\n",
       "\n",
       "(2 ,2 ,.,.) = \n",
       "   0   0   0   0   0\n",
       "   0   0   0   0   0\n",
       "   0   0   0   0   0\n",
       "         ⋮          \n",
       "   0   0   0   0   0\n",
       "   0   0   0   0   0\n",
       "   0   0   0   0   0\n",
       "   ...\n",
       "\n",
       "(2 ,10,.,.) = \n",
       "   0   0   0   0   0\n",
       "   0   0   0   0   0\n",
       "   0   0   0   0   0\n",
       "         ⋮          \n",
       "   0   0   0   0   0\n",
       "   0   0   0   0   0\n",
       "   0   0   0   0   0\n",
       "\n",
       "(2 ,11,.,.) = \n",
       "   0   0   0   0   0\n",
       "   0   0   0   0   0\n",
       "   0   0   0   0   0\n",
       "         ⋮          \n",
       "   0   0   0   0   0\n",
       "   0   0   0   0   0\n",
       "   0   0   0   0   0\n",
       "\n",
       "(2 ,12,.,.) = \n",
       "   0   0   0   0   0\n",
       "   0   0   0   0   0\n",
       "   0   0   0   0   0\n",
       "         ⋮          \n",
       "   0   0   0   0   0\n",
       "   0   0   0   0   0\n",
       "   0   0   0   0   0\n",
       "...   \n",
       "     ⋮ \n",
       "\n",
       "(5 ,0 ,.,.) = \n",
       "   0   0   0   0   0\n",
       "   0   0   0   0   0\n",
       "   0   0   0   0   0\n",
       "         ⋮          \n",
       "   0   0   0   0   0\n",
       "   0   0   0   0   0\n",
       "   0   0   0   0   0\n",
       "\n",
       "(5 ,1 ,.,.) = \n",
       "   0   0   0   0   0\n",
       "   0   0   0   0   0\n",
       "   0   0   0   0   0\n",
       "         ⋮          \n",
       "   0   0   0   0   0\n",
       "   0   0   0   0   0\n",
       "   0   0   0   0   0\n",
       "\n",
       "(5 ,2 ,.,.) = \n",
       "   0   0   0   0   0\n",
       "   0   0   0   0   0\n",
       "   0   0   0   0   0\n",
       "         ⋮          \n",
       "   0   0   0   0   0\n",
       "   0   0   0   0   0\n",
       "   0   0   0   0   0\n",
       "   ...\n",
       "\n",
       "(5 ,10,.,.) = \n",
       "   0   0   0   0   0\n",
       "   0   0   0   0   0\n",
       "   0   0   0   0   0\n",
       "         ⋮          \n",
       "   0   0   0   0   0\n",
       "   0   0   0   0   0\n",
       "   0   0   0   0   0\n",
       "\n",
       "(5 ,11,.,.) = \n",
       "   0   0   0   0   0\n",
       "   0   0   0   0   0\n",
       "   0   0   0   0   0\n",
       "         ⋮          \n",
       "   0   0   0   0   0\n",
       "   0   0   0   0   0\n",
       "   0   0   0   0   0\n",
       "\n",
       "(5 ,12,.,.) = \n",
       "   0   0   0   0   0\n",
       "   0   0   0   0   0\n",
       "   0   0   0   0   0\n",
       "         ⋮          \n",
       "   0   0   0   0   0\n",
       "   0   0   0   0   0\n",
       "   0   0   0   0   0\n",
       "     ⋮ \n",
       "\n",
       "(6 ,0 ,.,.) = \n",
       "   0   0   0   0   0\n",
       "   0   0   0   0   0\n",
       "   0   0   0   0   0\n",
       "         ⋮          \n",
       "   0   0   0   0   0\n",
       "   0   0   0   0   0\n",
       "   0   0   0   0   0\n",
       "\n",
       "(6 ,1 ,.,.) = \n",
       "   0   0   0   0   0\n",
       "   0   0   0   0   0\n",
       "   0   0   0   0   0\n",
       "         ⋮          \n",
       "   0   0   0   0   0\n",
       "   0   0   0   0   0\n",
       "   0   0   0   0   0\n",
       "\n",
       "(6 ,2 ,.,.) = \n",
       "   0   0   0   0   0\n",
       "   0   0   0   0   0\n",
       "   0   0   0   0   0\n",
       "         ⋮          \n",
       "   0   0   0   0   0\n",
       "   0   0   0   0   0\n",
       "   0   0   0   0   0\n",
       "   ...\n",
       "\n",
       "(6 ,10,.,.) = \n",
       "   0   0   0   0   0\n",
       "   0   0   0   0   0\n",
       "   0   0   0   0   0\n",
       "         ⋮          \n",
       "   0   0   0   0   0\n",
       "   0   0   0   0   0\n",
       "   0   0   0   0   0\n",
       "\n",
       "(6 ,11,.,.) = \n",
       "   0   0   0   0   0\n",
       "   0   0   0   0   0\n",
       "   0   0   0   0   0\n",
       "         ⋮          \n",
       "   0   0   0   0   0\n",
       "   0   0   0   0   0\n",
       "   0   0   0   0   0\n",
       "\n",
       "(6 ,12,.,.) = \n",
       "   0   0   0   0   0\n",
       "   0   0   0   0   0\n",
       "   0   0   0   0   0\n",
       "         ⋮          \n",
       "   0   0   0   0   0\n",
       "   0   0   0   0   0\n",
       "   0   0   0   0   0\n",
       "     ⋮ \n",
       "\n",
       "(7 ,0 ,.,.) = \n",
       "   0   0   0   0   0\n",
       "   0   0   0   0   0\n",
       "   0   0   0   0   0\n",
       "         ⋮          \n",
       "   0   0   0   0   0\n",
       "   0   0   0   0   0\n",
       "   0   0   0   0   0\n",
       "\n",
       "(7 ,1 ,.,.) = \n",
       "   0   0   0   0   0\n",
       "   0   0   0   0   0\n",
       "   0   0   0   0   0\n",
       "         ⋮          \n",
       "   0   0   0   0   0\n",
       "   0   0   0   0   0\n",
       "   0   0   0   0   0\n",
       "\n",
       "(7 ,2 ,.,.) = \n",
       "   0   0   0   0   0\n",
       "   0   0   0   0   0\n",
       "   0   0   0   0   0\n",
       "         ⋮          \n",
       "   0   0   0   0   0\n",
       "   0   0   0   0   0\n",
       "   0   0   0   0   0\n",
       "   ...\n",
       "\n",
       "(7 ,10,.,.) = \n",
       "   0   0   0   0   0\n",
       "   0   0   0   0   0\n",
       "   0   0   0   0   0\n",
       "         ⋮          \n",
       "   0   0   0   0   0\n",
       "   0   0   0   0   0\n",
       "   0   0   0   0   0\n",
       "\n",
       "(7 ,11,.,.) = \n",
       "   0   0   0   0   0\n",
       "   0   0   0   0   0\n",
       "   0   0   0   0   0\n",
       "         ⋮          \n",
       "   0   0   0   0   0\n",
       "   0   0   0   0   0\n",
       "   0   0   0   0   0\n",
       "\n",
       "(7 ,12,.,.) = \n",
       "   0   0   0   0   0\n",
       "   0   0   0   0   0\n",
       "   0   0   0   0   0\n",
       "         ⋮          \n",
       "   0   0   0   0   0\n",
       "   0   0   0   0   0\n",
       "   0   0   0   0   0\n",
       "[torch.DoubleTensor of size 8x13x13x5]"
      ]
     },
     "execution_count": 64,
     "metadata": {},
     "output_type": "execute_result"
    }
   ],
   "source": [
    "train_sp[3]"
   ]
  },
  {
   "cell_type": "code",
   "execution_count": 61,
   "metadata": {},
   "outputs": [
    {
     "data": {
      "text/plain": [
       "Variable containing:\n",
       "  0.7089   1.0862\n",
       "  2.2065   3.0461\n",
       "  6.6301  11.7403\n",
       " 20.8706   4.5851\n",
       " 17.6921  13.5950\n",
       "[torch.FloatTensor of size 5x2]"
      ]
     },
     "execution_count": 61,
     "metadata": {},
     "output_type": "execute_result"
    }
   ],
   "source": [
    "torch.exp(Variable(torch.rand(5,2)))*loss_func.t2b.anc.cpu().repeat(16,FEAT_W,FEAT_H,1,1)[2,1,1]"
   ]
  },
  {
   "cell_type": "code",
   "execution_count": 59,
   "metadata": {},
   "outputs": [
    {
     "data": {
      "text/plain": [
       "torch.Size([5, 2])"
      ]
     },
     "execution_count": 59,
     "metadata": {},
     "output_type": "execute_result"
    }
   ],
   "source": [
    "loss_func.t2b.anc.repeat(16,FEAT_W,FEAT_H,1,1)[2,1,1].size()"
   ]
  },
  {
   "cell_type": "code",
   "execution_count": 93,
   "metadata": {},
   "outputs": [
    {
     "data": {
      "text/plain": [
       "Variable containing:\n",
       " 7\n",
       " 3\n",
       "[torch.cuda.FloatTensor of size 2 (GPU 0)]"
      ]
     },
     "execution_count": 93,
     "metadata": {},
     "output_type": "execute_result"
    }
   ],
   "source": [
    "loss_func.t2b.grid.repeat(20,1,1,1,1)[2,7,3,4]"
   ]
  },
  {
   "cell_type": "code",
   "execution_count": 53,
   "metadata": {
    "collapsed": true
   },
   "outputs": [],
   "source": [
    "cnv=nn.Conv2d(3,25,kernel_size=3,padding=1)"
   ]
  },
  {
   "cell_type": "code",
   "execution_count": 54,
   "metadata": {
    "collapsed": true
   },
   "outputs": [],
   "source": [
    "b=cnv(Variable(torch.rand(32,3,10,10)))"
   ]
  },
  {
   "cell_type": "code",
   "execution_count": 55,
   "metadata": {},
   "outputs": [
    {
     "data": {
      "text/plain": [
       "Variable containing:\n",
       "-208.6830\n",
       "[torch.FloatTensor of size 1]"
      ]
     },
     "execution_count": 55,
     "metadata": {},
     "output_type": "execute_result"
    }
   ],
   "source": [
    "b[:,:,7,:].sum()"
   ]
  },
  {
   "cell_type": "code",
   "execution_count": 56,
   "metadata": {},
   "outputs": [
    {
     "data": {
      "text/plain": [
       "Variable containing:\n",
       "-776.7420\n",
       "[torch.FloatTensor of size 1]"
      ]
     },
     "execution_count": 56,
     "metadata": {},
     "output_type": "execute_result"
    }
   ],
   "source": [
    "b.view(32,10,10,25)[:,7,:,:].sum()"
   ]
  },
  {
   "cell_type": "code",
   "execution_count": 57,
   "metadata": {},
   "outputs": [
    {
     "data": {
      "text/plain": [
       "Variable containing:\n",
       "-208.6830\n",
       "[torch.FloatTensor of size 1]"
      ]
     },
     "execution_count": 57,
     "metadata": {},
     "output_type": "execute_result"
    }
   ],
   "source": [
    "b.permute([0,2,3,1]).contiguous().view(32,10,10,5,5)[:,7,:,:,:].contiguous().sum()"
   ]
  },
  {
   "cell_type": "code",
   "execution_count": 40,
   "metadata": {},
   "outputs": [
    {
     "data": {
      "text/plain": [
       "array([[ 0.41864062,  0.75380776],\n",
       "       [ 0.21424   ,  0.23364261],\n",
       "       [ 7.02995312, 12.7954039 ],\n",
       "       ...,\n",
       "       [ 0.15579688,  0.9108125 ],\n",
       "       [ 0.37683007,  0.94186275],\n",
       "       [ 0.60996   ,  0.45168168]])"
      ]
     },
     "execution_count": 40,
     "metadata": {},
     "output_type": "execute_result"
    }
   ],
   "source": [
    "np.clip(true_vec[...,2:4],1e-3,12.999)"
   ]
  },
  {
   "cell_type": "code",
   "execution_count": 40,
   "metadata": {},
   "outputs": [],
   "source": [
    "train_set = odData(urllist = list(IMG+i for i in list(data_df[\"file_name\"])),\n",
    "                          true_adj = true_adj,\n",
    "                          vec_loc = vec_loc[:,np.newaxis,:],\n",
    "#                            true_vec = true_vec,\n",
    "                          transform = transform,\n",
    "                           trans_origin=trans_origin,\n",
    "                  )"
   ]
  },
  {
   "cell_type": "code",
   "execution_count": 41,
   "metadata": {},
   "outputs": [],
   "source": [
    "dl = iter(DataLoader(train_set,batch_size=12,shuffle=True))"
   ]
  },
  {
   "cell_type": "code",
   "execution_count": 44,
   "metadata": {},
   "outputs": [
    {
     "data": {
      "text/plain": [
       "\n",
       "(0 ,0 ,0 ,.,.) = \n",
       "  0.0000  0.0000\n",
       "  0.0000  0.0000\n",
       "  0.0000  0.0000\n",
       "  0.0000  0.0000\n",
       "  0.0000  0.0000\n",
       "\n",
       "(0 ,0 ,1 ,.,.) = \n",
       "  0.0000  0.0000\n",
       "  0.0000  0.0000\n",
       "  0.0000  0.0000\n",
       "  0.0000  0.0000\n",
       "  0.0000  0.0000\n",
       "\n",
       "(0 ,0 ,2 ,.,.) = \n",
       "  0.0000  0.0000\n",
       "  0.0000  0.0000\n",
       "  0.0000  0.0000\n",
       "  0.0000  0.0000\n",
       "  0.0000  0.0000\n",
       "      ...\n",
       "\n",
       "(0 ,0 ,10,.,.) = \n",
       "  0.0000  0.0000\n",
       "  0.0000  0.0000\n",
       "  0.0000  0.0000\n",
       "  0.0000  0.0000\n",
       "  0.0000  0.0000\n",
       "\n",
       "(0 ,0 ,11,.,.) = \n",
       "  0.0000  0.0000\n",
       "  0.0000  0.0000\n",
       "  0.0000  0.0000\n",
       "  0.0000  0.0000\n",
       "  0.0000  0.0000\n",
       "\n",
       "(0 ,0 ,12,.,.) = \n",
       "  0.0000  0.0000\n",
       "  0.0000  0.0000\n",
       "  0.0000  0.0000\n",
       "  0.0000  0.0000\n",
       "  0.0000  0.0000\n",
       "        ⋮ \n",
       "\n",
       "(0 ,1 ,0 ,.,.) = \n",
       "  0.0000  0.0000\n",
       "  0.0000  0.0000\n",
       "  0.0000  0.0000\n",
       "  0.0000  0.0000\n",
       "  0.0000  0.0000\n",
       "\n",
       "(0 ,1 ,1 ,.,.) = \n",
       "  0.0000  0.0000\n",
       "  0.0000  0.0000\n",
       "  0.0000  0.0000\n",
       "  0.0000  0.0000\n",
       "  0.0000  0.0000\n",
       "\n",
       "(0 ,1 ,2 ,.,.) = \n",
       "  0.0000  0.0000\n",
       "  0.0000  0.0000\n",
       "  0.0000  0.0000\n",
       "  0.0000  0.0000\n",
       "  0.0000  0.0000\n",
       "      ...\n",
       "\n",
       "(0 ,1 ,10,.,.) = \n",
       "  0.0000  0.0000\n",
       "  0.0000  0.0000\n",
       "  0.0000  0.0000\n",
       "  0.0000  0.0000\n",
       "  0.0000  0.0000\n",
       "\n",
       "(0 ,1 ,11,.,.) = \n",
       "  0.0000  0.0000\n",
       "  0.0000  0.0000\n",
       "  0.0000  0.0000\n",
       "  0.0000  0.0000\n",
       "  0.0000  0.0000\n",
       "\n",
       "(0 ,1 ,12,.,.) = \n",
       "  0.0000  0.0000\n",
       "  0.0000  0.0000\n",
       "  0.0000  0.0000\n",
       "  0.0000  0.0000\n",
       "  0.0000  0.0000\n",
       "        ⋮ \n",
       "\n",
       "(0 ,2 ,0 ,.,.) = \n",
       "  0.0000  0.0000\n",
       "  0.0000  0.0000\n",
       "  0.0000  0.0000\n",
       "  0.0000  0.0000\n",
       "  0.0000  0.0000\n",
       "\n",
       "(0 ,2 ,1 ,.,.) = \n",
       "  0.0000  0.0000\n",
       "  0.0000  0.0000\n",
       "  0.0000  0.0000\n",
       "  0.0000  0.0000\n",
       "  0.0000  0.0000\n",
       "\n",
       "(0 ,2 ,2 ,.,.) = \n",
       "  0.0000  0.0000\n",
       "  0.0000  0.0000\n",
       "  0.0000  0.0000\n",
       "  0.0000  0.0000\n",
       "  0.0000  0.0000\n",
       "      ...\n",
       "\n",
       "(0 ,2 ,10,.,.) = \n",
       "  0.0000  0.0000\n",
       "  0.0000  0.0000\n",
       "  0.0000  0.0000\n",
       "  0.0000  0.0000\n",
       "  0.0000  0.0000\n",
       "\n",
       "(0 ,2 ,11,.,.) = \n",
       "  0.0000  0.0000\n",
       "  0.0000  0.0000\n",
       "  0.0000  0.0000\n",
       "  0.0000  0.0000\n",
       "  0.0000  0.0000\n",
       "\n",
       "(0 ,2 ,12,.,.) = \n",
       "  0.0000  0.0000\n",
       "  0.0000  0.0000\n",
       "  0.0000  0.0000\n",
       "  0.0000  0.0000\n",
       "  0.0000  0.0000\n",
       "   ...   \n",
       "        ⋮ \n",
       "\n",
       "(0 ,10,0 ,.,.) = \n",
       "  0.0000  0.0000\n",
       "  0.0000  0.0000\n",
       "  0.0000  0.0000\n",
       "  0.0000  0.0000\n",
       "  0.0000  0.0000\n",
       "\n",
       "(0 ,10,1 ,.,.) = \n",
       "  0.0000  0.0000\n",
       "  0.0000  0.0000\n",
       "  0.0000  0.0000\n",
       "  0.0000  0.0000\n",
       "  0.0000  0.0000\n",
       "\n",
       "(0 ,10,2 ,.,.) = \n",
       "  0.0000  0.0000\n",
       "  0.0000  0.0000\n",
       "  0.0000  0.0000\n",
       "  0.0000  0.0000\n",
       "  0.0000  0.0000\n",
       "      ...\n",
       "\n",
       "(0 ,10,10,.,.) = \n",
       "  0.0000  0.0000\n",
       "  0.0000  0.0000\n",
       "  0.0000  0.0000\n",
       "  0.0000  0.0000\n",
       "  0.0000  0.0000\n",
       "\n",
       "(0 ,10,11,.,.) = \n",
       "  0.0000  0.0000\n",
       "  0.0000  0.0000\n",
       "  0.0000  0.0000\n",
       "  0.0000  0.0000\n",
       "  0.0000  0.0000\n",
       "\n",
       "(0 ,10,12,.,.) = \n",
       "  0.0000  0.0000\n",
       "  0.0000  0.0000\n",
       "  0.0000  0.0000\n",
       "  0.0000  0.0000\n",
       "  0.0000  0.0000\n",
       "        ⋮ \n",
       "\n",
       "(0 ,11,0 ,.,.) = \n",
       "  0.0000  0.0000\n",
       "  0.0000  0.0000\n",
       "  0.0000  0.0000\n",
       "  0.0000  0.0000\n",
       "  0.0000  0.0000\n",
       "\n",
       "(0 ,11,1 ,.,.) = \n",
       "  0.0000  0.0000\n",
       "  0.0000  0.0000\n",
       "  0.0000  0.0000\n",
       "  0.0000  0.0000\n",
       "  0.0000  0.0000\n",
       "\n",
       "(0 ,11,2 ,.,.) = \n",
       "  0.0000  0.0000\n",
       "  0.0000  0.0000\n",
       "  0.0000  0.0000\n",
       "  0.0000  0.0000\n",
       "  0.0000  0.0000\n",
       "      ...\n",
       "\n",
       "(0 ,11,10,.,.) = \n",
       "  0.0000  0.0000\n",
       "  0.0000  0.0000\n",
       "  0.0000  0.0000\n",
       "  0.0000  0.0000\n",
       "  0.0000  0.0000\n",
       "\n",
       "(0 ,11,11,.,.) = \n",
       "  0.0000  0.0000\n",
       "  0.0000  0.0000\n",
       "  0.0000  0.0000\n",
       "  0.0000  0.0000\n",
       "  0.0000  0.0000\n",
       "\n",
       "(0 ,11,12,.,.) = \n",
       "  0.0000  0.0000\n",
       "  0.0000  0.0000\n",
       "  0.0000  0.0000\n",
       "  0.0000  0.0000\n",
       "  0.0000  0.0000\n",
       "        ⋮ \n",
       "\n",
       "(0 ,12,0 ,.,.) = \n",
       "  0.0000  0.0000\n",
       "  0.0000  0.0000\n",
       "  0.0000  0.0000\n",
       "  0.0000  0.0000\n",
       "  0.0000  0.0000\n",
       "\n",
       "(0 ,12,1 ,.,.) = \n",
       "  0.0000  0.0000\n",
       "  0.0000  0.0000\n",
       "  0.0000  0.0000\n",
       "  0.0000  0.0000\n",
       "  0.0000  0.0000\n",
       "\n",
       "(0 ,12,2 ,.,.) = \n",
       "  0.0000  0.0000\n",
       "  0.0000  0.0000\n",
       "  0.0000  0.0000\n",
       "  0.0000  0.0000\n",
       "  0.0000  0.0000\n",
       "      ...\n",
       "\n",
       "(0 ,12,10,.,.) = \n",
       "  0.0000  0.0000\n",
       "  0.0000  0.0000\n",
       "  0.0000  0.0000\n",
       "  0.0000  0.0000\n",
       "  0.0000  0.0000\n",
       "\n",
       "(0 ,12,11,.,.) = \n",
       "  0.0000  0.0000\n",
       "  0.0000  0.0000\n",
       "  0.0000  0.0000\n",
       "  0.0000  0.0000\n",
       "  0.0000  0.0000\n",
       "\n",
       "(0 ,12,12,.,.) = \n",
       "  0.0000  0.0000\n",
       "  0.0000  0.0000\n",
       "  0.0000  0.0000\n",
       "  0.0000  0.0000\n",
       "  0.0000  0.0000\n",
       "     ⋮  ⋮ \n",
       "\n",
       "(1 ,0 ,0 ,.,.) = \n",
       "  0.0000  0.0000\n",
       "  0.0000  0.0000\n",
       "  0.0000  0.0000\n",
       "  0.0000  0.0000\n",
       "  0.0000  0.0000\n",
       "\n",
       "(1 ,0 ,1 ,.,.) = \n",
       "  0.0000  0.0000\n",
       "  0.0000  0.0000\n",
       "  0.0000  0.0000\n",
       "  0.0000  0.0000\n",
       "  0.0000  0.0000\n",
       "\n",
       "(1 ,0 ,2 ,.,.) = \n",
       "  0.0000  0.0000\n",
       "  0.0000  0.0000\n",
       "  0.0000  0.0000\n",
       "  0.0000  0.0000\n",
       "  0.0000  0.0000\n",
       "      ...\n",
       "\n",
       "(1 ,0 ,10,.,.) = \n",
       "  0.0000  0.0000\n",
       "  0.0000  0.0000\n",
       "  0.0000  0.0000\n",
       "  0.0000  0.0000\n",
       "  0.0000  0.0000\n",
       "\n",
       "(1 ,0 ,11,.,.) = \n",
       "  0.0000  0.0000\n",
       "  0.0000  0.0000\n",
       "  0.0000  0.0000\n",
       "  0.0000  0.0000\n",
       "  0.0000  0.0000\n",
       "\n",
       "(1 ,0 ,12,.,.) = \n",
       "  0.0000  0.0000\n",
       "  0.0000  0.0000\n",
       "  0.0000  0.0000\n",
       "  0.0000  0.0000\n",
       "  0.0000  0.0000\n",
       "        ⋮ \n",
       "\n",
       "(1 ,1 ,0 ,.,.) = \n",
       "  0.0000  0.0000\n",
       "  0.0000  0.0000\n",
       "  0.0000  0.0000\n",
       "  0.0000  0.0000\n",
       "  0.0000  0.0000\n",
       "\n",
       "(1 ,1 ,1 ,.,.) = \n",
       "  0.0000  0.0000\n",
       "  0.0000  0.0000\n",
       "  0.0000  0.0000\n",
       "  0.0000  0.0000\n",
       "  0.0000  0.0000\n",
       "\n",
       "(1 ,1 ,2 ,.,.) = \n",
       "  0.0000  0.0000\n",
       "  0.0000  0.0000\n",
       "  0.0000  0.0000\n",
       "  0.0000  0.0000\n",
       "  0.0000  0.0000\n",
       "      ...\n",
       "\n",
       "(1 ,1 ,10,.,.) = \n",
       "  0.0000  0.0000\n",
       "  0.0000  0.0000\n",
       "  0.0000  0.0000\n",
       "  0.0000  0.0000\n",
       "  0.0000  0.0000\n",
       "\n",
       "(1 ,1 ,11,.,.) = \n",
       "  0.0000  0.0000\n",
       "  0.0000  0.0000\n",
       "  0.0000  0.0000\n",
       "  0.0000  0.0000\n",
       "  0.0000  0.0000\n",
       "\n",
       "(1 ,1 ,12,.,.) = \n",
       "  0.0000  0.0000\n",
       "  0.0000  0.0000\n",
       "  0.0000  0.0000\n",
       "  0.0000  0.0000\n",
       "  0.0000  0.0000\n",
       "        ⋮ \n",
       "\n",
       "(1 ,2 ,0 ,.,.) = \n",
       "  0.0000  0.0000\n",
       "  0.0000  0.0000\n",
       "  0.0000  0.0000\n",
       "  0.0000  0.0000\n",
       "  0.0000  0.0000\n",
       "\n",
       "(1 ,2 ,1 ,.,.) = \n",
       "  0.0000  0.0000\n",
       "  0.0000  0.0000\n",
       "  0.0000  0.0000\n",
       "  0.0000  0.0000\n",
       "  0.0000  0.0000\n",
       "\n",
       "(1 ,2 ,2 ,.,.) = \n",
       "  0.0000  0.0000\n",
       "  0.0000  0.0000\n",
       "  0.0000  0.0000\n",
       "  0.0000  0.0000\n",
       "  0.0000  0.0000\n",
       "      ...\n",
       "\n",
       "(1 ,2 ,10,.,.) = \n",
       "  0.0000  0.0000\n",
       "  0.0000  0.0000\n",
       "  0.0000  0.0000\n",
       "  0.0000  0.0000\n",
       "  0.0000  0.0000\n",
       "\n",
       "(1 ,2 ,11,.,.) = \n",
       "  0.0000  0.0000\n",
       "  0.0000  0.0000\n",
       "  0.0000  0.0000\n",
       "  0.0000  0.0000\n",
       "  0.0000  0.0000\n",
       "\n",
       "(1 ,2 ,12,.,.) = \n",
       "  0.0000  0.0000\n",
       "  0.0000  0.0000\n",
       "  0.0000  0.0000\n",
       "  0.0000  0.0000\n",
       "  0.0000  0.0000\n",
       "   ...   \n",
       "        ⋮ \n",
       "\n",
       "(1 ,10,0 ,.,.) = \n",
       "  0.0000  0.0000\n",
       "  0.0000  0.0000\n",
       "  0.0000  0.0000\n",
       "  0.0000  0.0000\n",
       "  0.0000  0.0000\n",
       "\n",
       "(1 ,10,1 ,.,.) = \n",
       "  0.0000  0.0000\n",
       "  0.0000  0.0000\n",
       "  0.0000  0.0000\n",
       "  0.0000  0.0000\n",
       "  0.0000  0.0000\n",
       "\n",
       "(1 ,10,2 ,.,.) = \n",
       "  0.0000  0.0000\n",
       "  0.0000  0.0000\n",
       "  0.0000  0.0000\n",
       "  0.0000  0.0000\n",
       "  0.0000  0.0000\n",
       "      ...\n",
       "\n",
       "(1 ,10,10,.,.) = \n",
       "  0.0000  0.0000\n",
       "  0.0000  0.0000\n",
       "  0.0000  0.0000\n",
       "  0.0000  0.0000\n",
       "  0.0000  0.0000\n",
       "\n",
       "(1 ,10,11,.,.) = \n",
       "  0.0000  0.0000\n",
       "  0.0000  0.0000\n",
       "  0.0000  0.0000\n",
       "  0.0000  0.0000\n",
       "  0.0000  0.0000\n",
       "\n",
       "(1 ,10,12,.,.) = \n",
       "  0.0000  0.0000\n",
       "  0.0000  0.0000\n",
       "  0.0000  0.0000\n",
       "  0.0000  0.0000\n",
       "  0.0000  0.0000\n",
       "        ⋮ \n",
       "\n",
       "(1 ,11,0 ,.,.) = \n",
       "  0.0000  0.0000\n",
       "  0.0000  0.0000\n",
       "  0.0000  0.0000\n",
       "  0.0000  0.0000\n",
       "  0.0000  0.0000\n",
       "\n",
       "(1 ,11,1 ,.,.) = \n",
       "  0.0000  0.0000\n",
       "  0.0000  0.0000\n",
       "  0.0000  0.0000\n",
       "  0.0000  0.0000\n",
       "  0.0000  0.0000\n",
       "\n",
       "(1 ,11,2 ,.,.) = \n",
       "  0.0000  0.0000\n",
       "  0.0000  0.0000\n",
       "  0.0000  0.0000\n",
       "  0.0000  0.0000\n",
       "  0.0000  0.0000\n",
       "      ...\n",
       "\n",
       "(1 ,11,10,.,.) = \n",
       "  0.0000  0.0000\n",
       "  0.0000  0.0000\n",
       "  0.0000  0.0000\n",
       "  0.0000  0.0000\n",
       "  0.0000  0.0000\n",
       "\n",
       "(1 ,11,11,.,.) = \n",
       "  0.0000  0.0000\n",
       "  0.0000  0.0000\n",
       "  0.0000  0.0000\n",
       "  0.0000  0.0000\n",
       "  0.0000  0.0000\n",
       "\n",
       "(1 ,11,12,.,.) = \n",
       "  0.0000  0.0000\n",
       "  0.0000  0.0000\n",
       "  0.0000  0.0000\n",
       "  0.0000  0.0000\n",
       "  0.0000  0.0000\n",
       "        ⋮ \n",
       "\n",
       "(1 ,12,0 ,.,.) = \n",
       "  0.0000  0.0000\n",
       "  0.0000  0.0000\n",
       "  0.0000  0.0000\n",
       "  0.0000  0.0000\n",
       "  0.0000  0.0000\n",
       "\n",
       "(1 ,12,1 ,.,.) = \n",
       "  0.0000  0.0000\n",
       "  0.0000  0.0000\n",
       "  0.0000  0.0000\n",
       "  0.0000  0.0000\n",
       "  0.0000  0.0000\n",
       "\n",
       "(1 ,12,2 ,.,.) = \n",
       "  0.0000  0.0000\n",
       "  0.0000  0.0000\n",
       "  0.0000  0.0000\n",
       "  0.0000  0.0000\n",
       "  0.0000  0.0000\n",
       "      ...\n",
       "\n",
       "(1 ,12,10,.,.) = \n",
       "  0.0000  0.0000\n",
       "  0.0000  0.0000\n",
       "  0.0000  0.0000\n",
       "  0.0000  0.0000\n",
       "  0.0000  0.0000\n",
       "\n",
       "(1 ,12,11,.,.) = \n",
       "  0.0000  0.0000\n",
       "  0.0000  0.0000\n",
       "  0.0000  0.0000\n",
       "  0.0000  0.0000\n",
       "  0.0000  0.0000\n",
       "\n",
       "(1 ,12,12,.,.) = \n",
       "  0.0000  0.0000\n",
       "  0.0000  0.0000\n",
       "  0.0000  0.0000\n",
       "  0.0000  0.0000\n",
       "  0.0000  0.0000\n",
       "     ⋮  ⋮ \n",
       "\n",
       "(2 ,0 ,0 ,.,.) = \n",
       "  0.0000  0.0000\n",
       "  0.0000  0.0000\n",
       "  0.0000  0.0000\n",
       "  0.0000  0.0000\n",
       "  0.0000  0.0000\n",
       "\n",
       "(2 ,0 ,1 ,.,.) = \n",
       "  0.0000  0.0000\n",
       "  0.0000  0.0000\n",
       "  0.0000  0.0000\n",
       "  0.0000  0.0000\n",
       "  0.0000  0.0000\n",
       "\n",
       "(2 ,0 ,2 ,.,.) = \n",
       "  0.0000  0.0000\n",
       "  0.0000  0.0000\n",
       "  0.0000  0.0000\n",
       "  0.0000  0.0000\n",
       "  0.0000  0.0000\n",
       "      ...\n",
       "\n",
       "(2 ,0 ,10,.,.) = \n",
       "  0.0000  0.0000\n",
       "  0.0000  0.0000\n",
       "  0.0000  0.0000\n",
       "  0.0000  0.0000\n",
       "  0.0000  0.0000\n",
       "\n",
       "(2 ,0 ,11,.,.) = \n",
       "  0.0000  0.0000\n",
       "  0.0000  0.0000\n",
       "  0.0000  0.0000\n",
       "  0.0000  0.0000\n",
       "  0.0000  0.0000\n",
       "\n",
       "(2 ,0 ,12,.,.) = \n",
       "  0.0000  0.0000\n",
       "  0.0000  0.0000\n",
       "  0.0000  0.0000\n",
       "  0.0000  0.0000\n",
       "  0.0000  0.0000\n",
       "        ⋮ \n",
       "\n",
       "(2 ,1 ,0 ,.,.) = \n",
       "  0.0000  0.0000\n",
       "  0.0000  0.0000\n",
       "  0.0000  0.0000\n",
       "  0.0000  0.0000\n",
       "  0.0000  0.0000\n",
       "\n",
       "(2 ,1 ,1 ,.,.) = \n",
       "  0.0000  0.0000\n",
       "  0.0000  0.0000\n",
       "  0.0000  0.0000\n",
       "  0.0000  0.0000\n",
       "  0.0000  0.0000\n",
       "\n",
       "(2 ,1 ,2 ,.,.) = \n",
       "  0.0000  0.0000\n",
       "  0.0000  0.0000\n",
       "  0.0000  0.0000\n",
       "  0.0000  0.0000\n",
       "  0.0000  0.0000\n",
       "      ...\n",
       "\n",
       "(2 ,1 ,10,.,.) = \n",
       "  0.0000  0.0000\n",
       "  0.0000  0.0000\n",
       "  0.0000  0.0000\n",
       "  0.0000  0.0000\n",
       "  0.0000  0.0000\n",
       "\n",
       "(2 ,1 ,11,.,.) = \n",
       "  0.0000  0.0000\n",
       "  0.0000  0.0000\n",
       "  0.0000  0.0000\n",
       "  0.0000  0.0000\n",
       "  0.0000  0.0000\n",
       "\n",
       "(2 ,1 ,12,.,.) = \n",
       "  0.0000  0.0000\n",
       "  0.0000  0.0000\n",
       "  0.0000  0.0000\n",
       "  0.0000  0.0000\n",
       "  0.0000  0.0000\n",
       "        ⋮ \n",
       "\n",
       "(2 ,2 ,0 ,.,.) = \n",
       "  0.0000  0.0000\n",
       "  0.0000  0.0000\n",
       "  0.0000  0.0000\n",
       "  0.0000  0.0000\n",
       "  0.0000  0.0000\n",
       "\n",
       "(2 ,2 ,1 ,.,.) = \n",
       "  0.0000  0.0000\n",
       "  0.0000  0.0000\n",
       "  0.0000  0.0000\n",
       "  0.0000  0.0000\n",
       "  0.0000  0.0000\n",
       "\n",
       "(2 ,2 ,2 ,.,.) = \n",
       "  0.0000  0.0000\n",
       "  0.0000  0.0000\n",
       "  0.0000  0.0000\n",
       "  0.0000  0.0000\n",
       "  0.0000  0.0000\n",
       "      ...\n",
       "\n",
       "(2 ,2 ,10,.,.) = \n",
       "  0.0000  0.0000\n",
       "  0.0000  0.0000\n",
       "  0.0000  0.0000\n",
       "  0.0000  0.0000\n",
       "  0.0000  0.0000\n",
       "\n",
       "(2 ,2 ,11,.,.) = \n",
       "  0.0000  0.0000\n",
       "  0.0000  0.0000\n",
       "  0.0000  0.0000\n",
       "  0.0000  0.0000\n",
       "  0.0000  0.0000\n",
       "\n",
       "(2 ,2 ,12,.,.) = \n",
       "  0.0000  0.0000\n",
       "  0.0000  0.0000\n",
       "  0.0000  0.0000\n",
       "  0.0000  0.0000\n",
       "  0.0000  0.0000\n",
       "   ...   \n",
       "        ⋮ \n",
       "\n",
       "(2 ,10,0 ,.,.) = \n",
       "  0.0000  0.0000\n",
       "  0.0000  0.0000\n",
       "  0.0000  0.0000\n",
       "  0.0000  0.0000\n",
       "  0.0000  0.0000\n",
       "\n",
       "(2 ,10,1 ,.,.) = \n",
       "  0.0000  0.0000\n",
       "  0.0000  0.0000\n",
       "  0.0000  0.0000\n",
       "  0.0000  0.0000\n",
       "  0.0000  0.0000\n",
       "\n",
       "(2 ,10,2 ,.,.) = \n",
       "  0.0000  0.0000\n",
       "  0.0000  0.0000\n",
       "  0.0000  0.0000\n",
       "  0.0000  0.0000\n",
       "  0.0000  0.0000\n",
       "      ...\n",
       "\n",
       "(2 ,10,10,.,.) = \n",
       "  0.0000  0.0000\n",
       "  0.0000  0.0000\n",
       "  0.0000  0.0000\n",
       "  0.0000  0.0000\n",
       "  0.0000  0.0000\n",
       "\n",
       "(2 ,10,11,.,.) = \n",
       "  0.0000  0.0000\n",
       "  0.0000  0.0000\n",
       "  0.0000  0.0000\n",
       "  0.0000  0.0000\n",
       "  0.0000  0.0000\n",
       "\n",
       "(2 ,10,12,.,.) = \n",
       "  0.0000  0.0000\n",
       "  0.0000  0.0000\n",
       "  0.0000  0.0000\n",
       "  0.0000  0.0000\n",
       "  0.0000  0.0000\n",
       "        ⋮ \n",
       "\n",
       "(2 ,11,0 ,.,.) = \n",
       "  0.0000  0.0000\n",
       "  0.0000  0.0000\n",
       "  0.0000  0.0000\n",
       "  0.0000  0.0000\n",
       "  0.0000  0.0000\n",
       "\n",
       "(2 ,11,1 ,.,.) = \n",
       "  0.0000  0.0000\n",
       "  0.0000  0.0000\n",
       "  0.0000  0.0000\n",
       "  0.0000  0.0000\n",
       "  0.0000  0.0000\n",
       "\n",
       "(2 ,11,2 ,.,.) = \n",
       "  0.0000  0.0000\n",
       "  0.0000  0.0000\n",
       "  0.0000  0.0000\n",
       "  0.0000  0.0000\n",
       "  0.0000  0.0000\n",
       "      ...\n",
       "\n",
       "(2 ,11,10,.,.) = \n",
       "  0.0000  0.0000\n",
       "  0.0000  0.0000\n",
       "  0.0000  0.0000\n",
       "  0.0000  0.0000\n",
       "  0.0000  0.0000\n",
       "\n",
       "(2 ,11,11,.,.) = \n",
       "  0.0000  0.0000\n",
       "  0.0000  0.0000\n",
       "  0.0000  0.0000\n",
       "  0.0000  0.0000\n",
       "  0.0000  0.0000\n",
       "\n",
       "(2 ,11,12,.,.) = \n",
       "  0.0000  0.0000\n",
       "  0.0000  0.0000\n",
       "  0.0000  0.0000\n",
       "  0.0000  0.0000\n",
       "  0.0000  0.0000\n",
       "        ⋮ \n",
       "\n",
       "(2 ,12,0 ,.,.) = \n",
       "  0.0000  0.0000\n",
       "  0.0000  0.0000\n",
       "  0.0000  0.0000\n",
       "  0.0000  0.0000\n",
       "  0.0000  0.0000\n",
       "\n",
       "(2 ,12,1 ,.,.) = \n",
       "  0.0000  0.0000\n",
       "  0.0000  0.0000\n",
       "  0.0000  0.0000\n",
       "  0.0000  0.0000\n",
       "  0.0000  0.0000\n",
       "\n",
       "(2 ,12,2 ,.,.) = \n",
       "  0.0000  0.0000\n",
       "  0.0000  0.0000\n",
       "  0.0000  0.0000\n",
       "  0.0000  0.0000\n",
       "  0.0000  0.0000\n",
       "      ...\n",
       "\n",
       "(2 ,12,10,.,.) = \n",
       "  0.0000  0.0000\n",
       "  0.0000  0.0000\n",
       "  0.0000  0.0000\n",
       "  0.0000  0.0000\n",
       "  0.0000  0.0000\n",
       "\n",
       "(2 ,12,11,.,.) = \n",
       "  0.0000  0.0000\n",
       "  0.0000  0.0000\n",
       "  0.0000  0.0000\n",
       "  0.0000  0.0000\n",
       "  0.0000  0.0000\n",
       "\n",
       "(2 ,12,12,.,.) = \n",
       "  0.0000  0.0000\n",
       "  0.0000  0.0000\n",
       "  0.0000  0.0000\n",
       "  0.0000  0.0000\n",
       "  0.0000  0.0000\n",
       "...      \n",
       "     ⋮  ⋮ \n",
       "\n",
       "(9 ,0 ,0 ,.,.) = \n",
       "  0.0000  0.0000\n",
       "  0.0000  0.0000\n",
       "  0.0000  0.0000\n",
       "  0.0000  0.0000\n",
       "  0.0000  0.0000\n",
       "\n",
       "(9 ,0 ,1 ,.,.) = \n",
       "  0.0000  0.0000\n",
       "  0.0000  0.0000\n",
       "  0.0000  0.0000\n",
       "  0.0000  0.0000\n",
       "  0.0000  0.0000\n",
       "\n",
       "(9 ,0 ,2 ,.,.) = \n",
       "  0.0000  0.0000\n",
       "  0.0000  0.0000\n",
       "  0.0000  0.0000\n",
       "  0.0000  0.0000\n",
       "  0.0000  0.0000\n",
       "      ...\n",
       "\n",
       "(9 ,0 ,10,.,.) = \n",
       "  0.0000  0.0000\n",
       "  0.0000  0.0000\n",
       "  0.0000  0.0000\n",
       "  0.0000  0.0000\n",
       "  0.0000  0.0000\n",
       "\n",
       "(9 ,0 ,11,.,.) = \n",
       "  0.0000  0.0000\n",
       "  0.0000  0.0000\n",
       "  0.0000  0.0000\n",
       "  0.0000  0.0000\n",
       "  0.0000  0.0000\n",
       "\n",
       "(9 ,0 ,12,.,.) = \n",
       "  0.0000  0.0000\n",
       "  0.0000  0.0000\n",
       "  0.0000  0.0000\n",
       "  0.0000  0.0000\n",
       "  0.0000  0.0000\n",
       "        ⋮ \n",
       "\n",
       "(9 ,1 ,0 ,.,.) = \n",
       "  0.0000  0.0000\n",
       "  0.0000  0.0000\n",
       "  0.0000  0.0000\n",
       "  0.0000  0.0000\n",
       "  0.0000  0.0000\n",
       "\n",
       "(9 ,1 ,1 ,.,.) = \n",
       "  0.0000  0.0000\n",
       "  0.0000  0.0000\n",
       "  0.0000  0.0000\n",
       "  0.0000  0.0000\n",
       "  0.0000  0.0000\n",
       "\n",
       "(9 ,1 ,2 ,.,.) = \n",
       "  0.0000  0.0000\n",
       "  0.0000  0.0000\n",
       "  0.0000  0.0000\n",
       "  0.0000  0.0000\n",
       "  0.0000  0.0000\n",
       "      ...\n",
       "\n",
       "(9 ,1 ,10,.,.) = \n",
       "  0.0000  0.0000\n",
       "  0.0000  0.0000\n",
       "  0.0000  0.0000\n",
       "  0.0000  0.0000\n",
       "  0.0000  0.0000\n",
       "\n",
       "(9 ,1 ,11,.,.) = \n",
       "  0.0000  0.0000\n",
       "  0.0000  0.0000\n",
       "  0.0000  0.0000\n",
       "  0.0000  0.0000\n",
       "  0.0000  0.0000\n",
       "\n",
       "(9 ,1 ,12,.,.) = \n",
       "  0.0000  0.0000\n",
       "  0.0000  0.0000\n",
       "  0.0000  0.0000\n",
       "  0.0000  0.0000\n",
       "  0.0000  0.0000\n",
       "        ⋮ \n",
       "\n",
       "(9 ,2 ,0 ,.,.) = \n",
       "  0.0000  0.0000\n",
       "  0.0000  0.0000\n",
       "  0.0000  0.0000\n",
       "  0.0000  0.0000\n",
       "  0.0000  0.0000\n",
       "\n",
       "(9 ,2 ,1 ,.,.) = \n",
       "  0.0000  0.0000\n",
       "  0.0000  0.0000\n",
       "  0.0000  0.0000\n",
       "  0.0000  0.0000\n",
       "  0.0000  0.0000\n",
       "\n",
       "(9 ,2 ,2 ,.,.) = \n",
       "  0.0000  0.0000\n",
       "  0.0000  0.0000\n",
       "  0.0000  0.0000\n",
       "  0.0000  0.0000\n",
       "  0.0000  0.0000\n",
       "      ...\n",
       "\n",
       "(9 ,2 ,10,.,.) = \n",
       "  0.0000  0.0000\n",
       "  0.0000  0.0000\n",
       "  0.0000  0.0000\n",
       "  0.0000  0.0000\n",
       "  0.0000  0.0000\n",
       "\n",
       "(9 ,2 ,11,.,.) = \n",
       "  0.0000  0.0000\n",
       "  0.0000  0.0000\n",
       "  0.0000  0.0000\n",
       "  0.0000  0.0000\n",
       "  0.0000  0.0000\n",
       "\n",
       "(9 ,2 ,12,.,.) = \n",
       "  0.0000  0.0000\n",
       "  0.0000  0.0000\n",
       "  0.0000  0.0000\n",
       "  0.0000  0.0000\n",
       "  0.0000  0.0000\n",
       "   ...   \n",
       "        ⋮ \n",
       "\n",
       "(9 ,10,0 ,.,.) = \n",
       "  0.0000  0.0000\n",
       "  0.0000  0.0000\n",
       "  0.0000  0.0000\n",
       "  0.0000  0.0000\n",
       "  0.0000  0.0000\n",
       "\n",
       "(9 ,10,1 ,.,.) = \n",
       "  0.0000  0.0000\n",
       "  0.0000  0.0000\n",
       "  0.0000  0.0000\n",
       "  0.0000  0.0000\n",
       "  0.0000  0.0000\n",
       "\n",
       "(9 ,10,2 ,.,.) = \n",
       "  0.0000  0.0000\n",
       "  0.0000  0.0000\n",
       "  0.0000  0.0000\n",
       "  0.0000  0.0000\n",
       "  0.0000  0.0000\n",
       "      ...\n",
       "\n",
       "(9 ,10,10,.,.) = \n",
       "  0.0000  0.0000\n",
       "  0.0000  0.0000\n",
       "  0.0000  0.0000\n",
       "  0.0000  0.0000\n",
       "  0.0000  0.0000\n",
       "\n",
       "(9 ,10,11,.,.) = \n",
       "  0.0000  0.0000\n",
       "  0.0000  0.0000\n",
       "  0.0000  0.0000\n",
       "  0.0000  0.0000\n",
       "  0.0000  0.0000\n",
       "\n",
       "(9 ,10,12,.,.) = \n",
       "  0.0000  0.0000\n",
       "  0.0000  0.0000\n",
       "  0.0000  0.0000\n",
       "  0.0000  0.0000\n",
       "  0.0000  0.0000\n",
       "        ⋮ \n",
       "\n",
       "(9 ,11,0 ,.,.) = \n",
       "  0.0000  0.0000\n",
       "  0.0000  0.0000\n",
       "  0.0000  0.0000\n",
       "  0.0000  0.0000\n",
       "  0.0000  0.0000\n",
       "\n",
       "(9 ,11,1 ,.,.) = \n",
       "  0.0000  0.0000\n",
       "  0.0000  0.0000\n",
       "  0.0000  0.0000\n",
       "  0.0000  0.0000\n",
       "  0.0000  0.0000\n",
       "\n",
       "(9 ,11,2 ,.,.) = \n",
       "  0.0000  0.0000\n",
       "  0.0000  0.0000\n",
       "  0.0000  0.0000\n",
       "  0.0000  0.0000\n",
       "  0.0000  0.0000\n",
       "      ...\n",
       "\n",
       "(9 ,11,10,.,.) = \n",
       "  0.0000  0.0000\n",
       "  0.0000  0.0000\n",
       "  0.0000  0.0000\n",
       "  0.0000  0.0000\n",
       "  0.0000  0.0000\n",
       "\n",
       "(9 ,11,11,.,.) = \n",
       "  0.0000  0.0000\n",
       "  0.0000  0.0000\n",
       "  0.0000  0.0000\n",
       "  0.0000  0.0000\n",
       "  0.0000  0.0000\n",
       "\n",
       "(9 ,11,12,.,.) = \n",
       "  0.0000  0.0000\n",
       "  0.0000  0.0000\n",
       "  0.0000  0.0000\n",
       "  0.0000  0.0000\n",
       "  0.0000  0.0000\n",
       "        ⋮ \n",
       "\n",
       "(9 ,12,0 ,.,.) = \n",
       "  0.0000  0.0000\n",
       "  0.0000  0.0000\n",
       "  0.0000  0.0000\n",
       "  0.0000  0.0000\n",
       "  0.0000  0.0000\n",
       "\n",
       "(9 ,12,1 ,.,.) = \n",
       "  0.0000  0.0000\n",
       "  0.0000  0.0000\n",
       "  0.0000  0.0000\n",
       "  0.0000  0.0000\n",
       "  0.0000  0.0000\n",
       "\n",
       "(9 ,12,2 ,.,.) = \n",
       "  0.0000  0.0000\n",
       "  0.0000  0.0000\n",
       "  0.0000  0.0000\n",
       "  0.0000  0.0000\n",
       "  0.0000  0.0000\n",
       "      ...\n",
       "\n",
       "(9 ,12,10,.,.) = \n",
       "  0.0000  0.0000\n",
       "  0.0000  0.0000\n",
       "  0.0000  0.0000\n",
       "  0.0000  0.0000\n",
       "  0.0000  0.0000\n",
       "\n",
       "(9 ,12,11,.,.) = \n",
       "  0.0000  0.0000\n",
       "  0.0000  0.0000\n",
       "  0.0000  0.0000\n",
       "  0.0000  0.0000\n",
       "  0.0000  0.0000\n",
       "\n",
       "(9 ,12,12,.,.) = \n",
       "  0.0000  0.0000\n",
       "  0.0000  0.0000\n",
       "  0.0000  0.0000\n",
       "  0.0000  0.0000\n",
       "  0.0000  0.0000\n",
       "     ⋮  ⋮ \n",
       "\n",
       "(10,0 ,0 ,.,.) = \n",
       "  0.0000  0.0000\n",
       "  0.0000  0.0000\n",
       "  0.0000  0.0000\n",
       "  0.0000  0.0000\n",
       "  0.0000  0.0000\n",
       "\n",
       "(10,0 ,1 ,.,.) = \n",
       "  0.0000  0.0000\n",
       "  0.0000  0.0000\n",
       "  0.0000  0.0000\n",
       "  0.0000  0.0000\n",
       "  0.0000  0.0000\n",
       "\n",
       "(10,0 ,2 ,.,.) = \n",
       "  0.0000  0.0000\n",
       "  0.0000  0.0000\n",
       "  0.0000  0.0000\n",
       "  0.0000  0.0000\n",
       "  0.0000  0.0000\n",
       "      ...\n",
       "\n",
       "(10,0 ,10,.,.) = \n",
       "  0.0000  0.0000\n",
       "  0.0000  0.0000\n",
       "  0.0000  0.0000\n",
       "  0.0000  0.0000\n",
       "  0.0000  0.0000\n",
       "\n",
       "(10,0 ,11,.,.) = \n",
       "  0.0000  0.0000\n",
       "  0.0000  0.0000\n",
       "  0.0000  0.0000\n",
       "  0.0000  0.0000\n",
       "  0.0000  0.0000\n",
       "\n",
       "(10,0 ,12,.,.) = \n",
       "  0.0000  0.0000\n",
       "  0.0000  0.0000\n",
       "  0.0000  0.0000\n",
       "  0.0000  0.0000\n",
       "  0.0000  0.0000\n",
       "        ⋮ \n",
       "\n",
       "(10,1 ,0 ,.,.) = \n",
       "  0.0000  0.0000\n",
       "  0.0000  0.0000\n",
       "  0.0000  0.0000\n",
       "  0.0000  0.0000\n",
       "  0.0000  0.0000\n",
       "\n",
       "(10,1 ,1 ,.,.) = \n",
       "  0.0000  0.0000\n",
       "  0.0000  0.0000\n",
       "  0.0000  0.0000\n",
       "  0.0000  0.0000\n",
       "  0.0000  0.0000\n",
       "\n",
       "(10,1 ,2 ,.,.) = \n",
       "  0.0000  0.0000\n",
       "  0.0000  0.0000\n",
       "  0.0000  0.0000\n",
       "  0.0000  0.0000\n",
       "  0.0000  0.0000\n",
       "      ...\n",
       "\n",
       "(10,1 ,10,.,.) = \n",
       "  0.0000  0.0000\n",
       "  0.0000  0.0000\n",
       "  0.0000  0.0000\n",
       "  0.0000  0.0000\n",
       "  0.0000  0.0000\n",
       "\n",
       "(10,1 ,11,.,.) = \n",
       "  0.0000  0.0000\n",
       "  0.0000  0.0000\n",
       "  0.0000  0.0000\n",
       "  0.0000  0.0000\n",
       "  0.0000  0.0000\n",
       "\n",
       "(10,1 ,12,.,.) = \n",
       "  0.0000  0.0000\n",
       "  0.0000  0.0000\n",
       "  0.0000  0.0000\n",
       "  0.0000  0.0000\n",
       "  0.0000  0.0000\n",
       "        ⋮ \n",
       "\n",
       "(10,2 ,0 ,.,.) = \n",
       "  0.0000  0.0000\n",
       "  0.0000  0.0000\n",
       "  0.0000  0.0000\n",
       "  0.0000  0.0000\n",
       "  0.0000  0.0000\n",
       "\n",
       "(10,2 ,1 ,.,.) = \n",
       "  0.0000  0.0000\n",
       "  0.0000  0.0000\n",
       "  0.0000  0.0000\n",
       "  0.0000  0.0000\n",
       "  0.0000  0.0000\n",
       "\n",
       "(10,2 ,2 ,.,.) = \n",
       "  0.0000  0.0000\n",
       "  0.0000  0.0000\n",
       "  0.0000  0.0000\n",
       "  0.0000  0.0000\n",
       "  0.0000  0.0000\n",
       "      ...\n",
       "\n",
       "(10,2 ,10,.,.) = \n",
       "  0.0000  0.0000\n",
       "  0.0000  0.0000\n",
       "  0.0000  0.0000\n",
       "  0.0000  0.0000\n",
       "  0.0000  0.0000\n",
       "\n",
       "(10,2 ,11,.,.) = \n",
       "  0.0000  0.0000\n",
       "  0.0000  0.0000\n",
       "  0.0000  0.0000\n",
       "  0.0000  0.0000\n",
       "  0.0000  0.0000\n",
       "\n",
       "(10,2 ,12,.,.) = \n",
       "  0.0000  0.0000\n",
       "  0.0000  0.0000\n",
       "  0.0000  0.0000\n",
       "  0.0000  0.0000\n",
       "  0.0000  0.0000\n",
       "   ...   \n",
       "        ⋮ \n",
       "\n",
       "(10,10,0 ,.,.) = \n",
       "  0.0000  0.0000\n",
       "  0.0000  0.0000\n",
       "  0.0000  0.0000\n",
       "  0.0000  0.0000\n",
       "  0.0000  0.0000\n",
       "\n",
       "(10,10,1 ,.,.) = \n",
       "  0.0000  0.0000\n",
       "  0.0000  0.0000\n",
       "  0.0000  0.0000\n",
       "  0.0000  0.0000\n",
       "  0.0000  0.0000\n",
       "\n",
       "(10,10,2 ,.,.) = \n",
       "  0.0000  0.0000\n",
       "  0.0000  0.0000\n",
       "  0.0000  0.0000\n",
       "  0.0000  0.0000\n",
       "  0.0000  0.0000\n",
       "      ...\n",
       "\n",
       "(10,10,10,.,.) = \n",
       "  0.0000  0.0000\n",
       "  0.0000  0.0000\n",
       "  0.0000  0.0000\n",
       "  0.0000  0.0000\n",
       "  0.0000  0.0000\n",
       "\n",
       "(10,10,11,.,.) = \n",
       "  0.0000  0.0000\n",
       "  0.0000  0.0000\n",
       "  0.0000  0.0000\n",
       "  0.0000  0.0000\n",
       "  0.0000  0.0000\n",
       "\n",
       "(10,10,12,.,.) = \n",
       "  0.0000  0.0000\n",
       "  0.0000  0.0000\n",
       "  0.0000  0.0000\n",
       "  0.0000  0.0000\n",
       "  0.0000  0.0000\n",
       "        ⋮ \n",
       "\n",
       "(10,11,0 ,.,.) = \n",
       "  0.0000  0.0000\n",
       "  0.0000  0.0000\n",
       "  0.0000  0.0000\n",
       "  0.0000  0.0000\n",
       "  0.0000  0.0000\n",
       "\n",
       "(10,11,1 ,.,.) = \n",
       "  0.0000  0.0000\n",
       "  0.0000  0.0000\n",
       "  0.0000  0.0000\n",
       "  0.0000  0.0000\n",
       "  0.0000  0.0000\n",
       "\n",
       "(10,11,2 ,.,.) = \n",
       "  0.0000  0.0000\n",
       "  0.0000  0.0000\n",
       "  0.0000  0.0000\n",
       "  0.0000  0.0000\n",
       "  0.0000  0.0000\n",
       "      ...\n",
       "\n",
       "(10,11,10,.,.) = \n",
       "  0.0000  0.0000\n",
       "  0.0000  0.0000\n",
       "  0.0000  0.0000\n",
       "  0.0000  0.0000\n",
       "  0.0000  0.0000\n",
       "\n",
       "(10,11,11,.,.) = \n",
       "  0.0000  0.0000\n",
       "  0.0000  0.0000\n",
       "  0.0000  0.0000\n",
       "  0.0000  0.0000\n",
       "  0.0000  0.0000\n",
       "\n",
       "(10,11,12,.,.) = \n",
       "  0.0000  0.0000\n",
       "  0.0000  0.0000\n",
       "  0.0000  0.0000\n",
       "  0.0000  0.0000\n",
       "  0.0000  0.0000\n",
       "        ⋮ \n",
       "\n",
       "(10,12,0 ,.,.) = \n",
       "  0.0000  0.0000\n",
       "  0.0000  0.0000\n",
       "  0.0000  0.0000\n",
       "  0.0000  0.0000\n",
       "  0.0000  0.0000\n",
       "\n",
       "(10,12,1 ,.,.) = \n",
       "  0.0000  0.0000\n",
       "  0.0000  0.0000\n",
       "  0.0000  0.0000\n",
       "  0.0000  0.0000\n",
       "  0.0000  0.0000\n",
       "\n",
       "(10,12,2 ,.,.) = \n",
       "  0.0000  0.0000\n",
       "  0.0000  0.0000\n",
       "  0.0000  0.0000\n",
       "  0.0000  0.0000\n",
       "  0.0000  0.0000\n",
       "      ...\n",
       "\n",
       "(10,12,10,.,.) = \n",
       "  0.0000  0.0000\n",
       "  0.0000  0.0000\n",
       "  0.0000  0.0000\n",
       "  0.0000  0.0000\n",
       "  0.0000  0.0000\n",
       "\n",
       "(10,12,11,.,.) = \n",
       "  0.0000  0.0000\n",
       "  0.0000  0.0000\n",
       "  0.0000  0.0000\n",
       "  0.0000  0.0000\n",
       "  0.0000  0.0000\n",
       "\n",
       "(10,12,12,.,.) = \n",
       "  0.0000  0.0000\n",
       "  0.0000  0.0000\n",
       "  0.0000  0.0000\n",
       "  0.0000  0.0000\n",
       "  0.0000  0.0000\n",
       "     ⋮  ⋮ \n",
       "\n",
       "(11,0 ,0 ,.,.) = \n",
       "  0.0000  0.0000\n",
       "  0.0000  0.0000\n",
       "  0.0000  0.0000\n",
       "  0.0000  0.0000\n",
       "  0.0000  0.0000\n",
       "\n",
       "(11,0 ,1 ,.,.) = \n",
       "  0.0000  0.0000\n",
       "  0.0000  0.0000\n",
       "  0.0000  0.0000\n",
       "  0.0000  0.0000\n",
       "  0.0000  0.0000\n",
       "\n",
       "(11,0 ,2 ,.,.) = \n",
       "  0.0000  0.0000\n",
       "  0.0000  0.0000\n",
       "  0.0000  0.0000\n",
       "  0.0000  0.0000\n",
       "  0.0000  0.0000\n",
       "      ...\n",
       "\n",
       "(11,0 ,10,.,.) = \n",
       "  0.0000  0.0000\n",
       "  0.0000  0.0000\n",
       "  0.0000  0.0000\n",
       "  0.0000  0.0000\n",
       "  0.0000  0.0000\n",
       "\n",
       "(11,0 ,11,.,.) = \n",
       "  0.0000  0.0000\n",
       "  0.0000  0.0000\n",
       "  0.0000  0.0000\n",
       "  0.0000  0.0000\n",
       "  0.0000  0.0000\n",
       "\n",
       "(11,0 ,12,.,.) = \n",
       "  0.0000  0.0000\n",
       "  0.0000  0.0000\n",
       "  0.0000  0.0000\n",
       "  0.0000  0.0000\n",
       "  0.0000  0.0000\n",
       "        ⋮ \n",
       "\n",
       "(11,1 ,0 ,.,.) = \n",
       "  0.0000  0.0000\n",
       "  0.0000  0.0000\n",
       "  0.0000  0.0000\n",
       "  0.0000  0.0000\n",
       "  0.0000  0.0000\n",
       "\n",
       "(11,1 ,1 ,.,.) = \n",
       "  0.0000  0.0000\n",
       "  0.0000  0.0000\n",
       "  0.0000  0.0000\n",
       "  0.0000  0.0000\n",
       "  0.0000  0.0000\n",
       "\n",
       "(11,1 ,2 ,.,.) = \n",
       "  0.0000  0.0000\n",
       "  0.0000  0.0000\n",
       "  0.0000  0.0000\n",
       "  0.0000  0.0000\n",
       "  0.0000  0.0000\n",
       "      ...\n",
       "\n",
       "(11,1 ,10,.,.) = \n",
       "  0.0000  0.0000\n",
       "  0.0000  0.0000\n",
       "  0.0000  0.0000\n",
       "  0.0000  0.0000\n",
       "  0.0000  0.0000\n",
       "\n",
       "(11,1 ,11,.,.) = \n",
       "  0.0000  0.0000\n",
       "  0.0000  0.0000\n",
       "  0.0000  0.0000\n",
       "  0.0000  0.0000\n",
       "  0.0000  0.0000\n",
       "\n",
       "(11,1 ,12,.,.) = \n",
       "  0.0000  0.0000\n",
       "  0.0000  0.0000\n",
       "  0.0000  0.0000\n",
       "  0.0000  0.0000\n",
       "  0.0000  0.0000\n",
       "        ⋮ \n",
       "\n",
       "(11,2 ,0 ,.,.) = \n",
       "  0.0000  0.0000\n",
       "  0.0000  0.0000\n",
       "  0.0000  0.0000\n",
       "  0.0000  0.0000\n",
       "  0.0000  0.0000\n",
       "\n",
       "(11,2 ,1 ,.,.) = \n",
       "  0.0000  0.0000\n",
       "  0.0000  0.0000\n",
       "  0.0000  0.0000\n",
       "  0.0000  0.0000\n",
       "  0.0000  0.0000\n",
       "\n",
       "(11,2 ,2 ,.,.) = \n",
       "  0.0000  0.0000\n",
       "  0.0000  0.0000\n",
       "  0.0000  0.0000\n",
       "  0.0000  0.0000\n",
       "  0.0000  0.0000\n",
       "      ...\n",
       "\n",
       "(11,2 ,10,.,.) = \n",
       "  0.0000  0.0000\n",
       "  0.0000  0.0000\n",
       "  0.0000  0.0000\n",
       "  0.0000  0.0000\n",
       "  0.0000  0.0000\n",
       "\n",
       "(11,2 ,11,.,.) = \n",
       "  0.0000  0.0000\n",
       "  0.0000  0.0000\n",
       "  0.0000  0.0000\n",
       "  0.0000  0.0000\n",
       "  0.0000  0.0000\n",
       "\n",
       "(11,2 ,12,.,.) = \n",
       "  0.0000  0.0000\n",
       "  0.0000  0.0000\n",
       "  0.0000  0.0000\n",
       "  0.0000  0.0000\n",
       "  0.0000  0.0000\n",
       "   ...   \n",
       "        ⋮ \n",
       "\n",
       "(11,10,0 ,.,.) = \n",
       "  0.0000  0.0000\n",
       "  0.0000  0.0000\n",
       "  0.0000  0.0000\n",
       "  0.0000  0.0000\n",
       "  0.0000  0.0000\n",
       "\n",
       "(11,10,1 ,.,.) = \n",
       "  0.0000  0.0000\n",
       "  0.0000  0.0000\n",
       "  0.0000  0.0000\n",
       "  0.0000  0.0000\n",
       "  0.0000  0.0000\n",
       "\n",
       "(11,10,2 ,.,.) = \n",
       "  0.0000  0.0000\n",
       "  0.0000  0.0000\n",
       "  0.0000  0.0000\n",
       "  0.0000  0.0000\n",
       "  0.0000  0.0000\n",
       "      ...\n",
       "\n",
       "(11,10,10,.,.) = \n",
       "  0.0000  0.0000\n",
       "  0.0000  0.0000\n",
       "  0.0000  0.0000\n",
       "  0.0000  0.0000\n",
       "  0.0000  0.0000\n",
       "\n",
       "(11,10,11,.,.) = \n",
       "  0.0000  0.0000\n",
       "  0.0000  0.0000\n",
       "  0.0000  0.0000\n",
       "  0.0000  0.0000\n",
       "  0.0000  0.0000\n",
       "\n",
       "(11,10,12,.,.) = \n",
       "  0.0000  0.0000\n",
       "  0.0000  0.0000\n",
       "  0.0000  0.0000\n",
       "  0.0000  0.0000\n",
       "  0.0000  0.0000\n",
       "        ⋮ \n",
       "\n",
       "(11,11,0 ,.,.) = \n",
       "  0.0000  0.0000\n",
       "  0.0000  0.0000\n",
       "  0.0000  0.0000\n",
       "  0.0000  0.0000\n",
       "  0.0000  0.0000\n",
       "\n",
       "(11,11,1 ,.,.) = \n",
       "  0.0000  0.0000\n",
       "  0.0000  0.0000\n",
       "  0.0000  0.0000\n",
       "  0.0000  0.0000\n",
       "  0.0000  0.0000\n",
       "\n",
       "(11,11,2 ,.,.) = \n",
       "  0.0000  0.0000\n",
       "  0.0000  0.0000\n",
       "  0.0000  0.0000\n",
       "  0.0000  0.0000\n",
       "  0.0000  0.0000\n",
       "      ...\n",
       "\n",
       "(11,11,10,.,.) = \n",
       "  0.0000  0.0000\n",
       "  0.0000  0.0000\n",
       "  0.0000  0.0000\n",
       "  0.0000  0.0000\n",
       "  0.0000  0.0000\n",
       "\n",
       "(11,11,11,.,.) = \n",
       "  0.0000  0.0000\n",
       "  0.0000  0.0000\n",
       "  0.0000  0.0000\n",
       "  0.0000  0.0000\n",
       "  0.0000  0.0000\n",
       "\n",
       "(11,11,12,.,.) = \n",
       "  0.0000  0.0000\n",
       "  0.0000  0.0000\n",
       "  0.0000  0.0000\n",
       "  0.0000  0.0000\n",
       "  0.0000  0.0000\n",
       "        ⋮ \n",
       "\n",
       "(11,12,0 ,.,.) = \n",
       "  0.0000  0.0000\n",
       "  0.0000  0.0000\n",
       "  0.0000  0.0000\n",
       "  0.0000  0.0000\n",
       "  0.0000  0.0000\n",
       "\n",
       "(11,12,1 ,.,.) = \n",
       "  0.0000  0.0000\n",
       "  0.0000  0.0000\n",
       "  0.0000  0.0000\n",
       "  0.0000  0.0000\n",
       "  0.0000  0.0000\n",
       "\n",
       "(11,12,2 ,.,.) = \n",
       "  0.0000  0.0000\n",
       "  0.0000  0.0000\n",
       "  0.0000  0.0000\n",
       "  0.0000  0.0000\n",
       "  0.0000  0.0000\n",
       "      ...\n",
       "\n",
       "(11,12,10,.,.) = \n",
       "  0.0000  0.0000\n",
       "  0.0000  0.0000\n",
       "  0.0000  0.0000\n",
       "  0.0000  0.0000\n",
       "  0.0000  0.0000\n",
       "\n",
       "(11,12,11,.,.) = \n",
       "  0.0000  0.0000\n",
       "  0.0000  0.0000\n",
       "  0.0000  0.0000\n",
       "  0.0000  0.0000\n",
       "  0.0000  0.0000\n",
       "\n",
       "(11,12,12,.,.) = \n",
       "  0.0000  0.0000\n",
       "  0.0000  0.0000\n",
       "  0.0000  0.0000\n",
       "  0.0000  0.0000\n",
       "  0.0000  0.0000\n",
       "[torch.DoubleTensor of size 12x13x13x5x2]"
      ]
     },
     "execution_count": 44,
     "metadata": {},
     "output_type": "execute_result"
    }
   ],
   "source": [
    "a = next(dl)\n",
    "a[-1]"
   ]
  },
  {
   "cell_type": "code",
   "execution_count": 43,
   "metadata": {},
   "outputs": [
    {
     "data": {
      "text/plain": [
       "13.0"
      ]
     },
     "execution_count": 43,
     "metadata": {},
     "output_type": "execute_result"
    }
   ],
   "source": [
    "true_adj[...,2:4].max()"
   ]
  },
  {
   "cell_type": "code",
   "execution_count": null,
   "metadata": {
    "collapsed": true
   },
   "outputs": [],
   "source": []
  }
 ],
 "metadata": {
  "kernelspec": {
   "display_name": "Python 3",
   "language": "python",
   "name": "python3"
  }
 },
 "nbformat": 4,
 "nbformat_minor": 2
}
